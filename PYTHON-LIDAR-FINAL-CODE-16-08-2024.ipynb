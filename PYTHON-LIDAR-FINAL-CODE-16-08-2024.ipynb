{
 "cells": [
  {
   "cell_type": "markdown",
   "id": "d628bb2f-b937-4c0d-9b02-6b1affb77a65",
   "metadata": {},
   "source": [
    "### Summary of the Code:\n",
    "\n",
    "- **Data Initialization:**\n",
    "  - Loads LiDAR data points with x and y coordinates from a dataset.\n",
    "  - Generates corresponding angles based on a specified range and step size.\n",
    "\n",
    "- **Flat Surface Detection:**\n",
    "  - The function `detect_flat_surface` identifies potential flat regions by scanning through the data points.\n",
    "  - It calculates the variance of y-coordinates within a moving window of points.\n",
    "  - If the variance is below a specified threshold, it considers those points as part of a flat surface.\n",
    "  - The function attempts to extend the flat region by adding more points while maintaining a low variance.\n",
    "\n",
    "- **Widest Flat Region Identification:**\n",
    "  - Among all detected flat surfaces, the code calculates the width (difference in x-coordinates between the start and end of the region).\n",
    "  - The widest flat region is identified by comparing these widths.\n",
    "\n",
    "- **Plotting:**\n",
    "  - All data points are plotted using Plotly.\n",
    "  - If a widest flat region is detected, it is highlighted on the plot in red.\n",
    "  - Hover text displays the angle, x, and y coordinates of each point.\n",
    "\n",
    "- **Output:**\n",
    "  - The plot is displayed and also saved as an interactive HTML file named \"WIDEST_FLAT.html.\"\n",
    "\n",
    "This code is designed to identify and visualize the widest flat surface in a set of LiDAR data, which can be useful for detecting stable, flat regions in the scanned environment.\n"
   ]
  },
  {
   "cell_type": "code",
   "execution_count": 4,
   "id": "c2684d88-4ea3-439c-996e-4c846765a9cf",
   "metadata": {},
   "outputs": [
    {
     "name": "stdout",
     "output_type": "stream",
     "text": [
      "Window start index: 0, Angle: 205.50°, Variance: 178.64\n",
      "Window start index: 1, Angle: 206.00°, Variance: 286.64\n",
      "Window start index: 2, Angle: 206.50°, Variance: 359.6\n",
      "Window start index: 3, Angle: 207.00°, Variance: 343.75999999999993\n",
      "Window start index: 4, Angle: 207.50°, Variance: 284.23999999999995\n",
      "Window start index: 5, Angle: 208.00°, Variance: 234.95999999999995\n",
      "Window start index: 6, Angle: 208.50°, Variance: 193.35999999999999\n",
      "Window start index: 7, Angle: 209.00°, Variance: 154.95999999999998\n",
      "Window start index: 8, Angle: 209.50°, Variance: 82.0\n",
      "Window start index: 9, Angle: 210.00°, Variance: 62.0\n",
      "Window start index: 10, Angle: 210.50°, Variance: 58.639999999999986\n",
      "Window start index: 11, Angle: 211.00°, Variance: 54.160000000000004\n",
      "Window start index: 12, Angle: 211.50°, Variance: 19.6\n",
      "Window start index: 13, Angle: 212.00°, Variance: 25.839999999999996\n",
      "Window start index: 14, Angle: 212.50°, Variance: 11.76\n",
      "Extending region. Start: 14, Angle: 212.50°, End: 19, Angle: 215.00°, Extended Variance: 21.555555555555557\n",
      "Window start index: 18, Angle: 214.50°, Variance: 68.23999999999998\n",
      "Window start index: 19, Angle: 215.00°, Variance: 34.96\n",
      "Window start index: 20, Angle: 215.50°, Variance: 11.2\n",
      "Extending region. Start: 20, Angle: 215.50°, End: 25, Angle: 218.00°, Extended Variance: 12.805555555555555\n",
      "Extending region. Start: 20, Angle: 215.50°, End: 26, Angle: 218.50°, Extended Variance: 21.26530612244898\n",
      "Window start index: 25, Angle: 218.00°, Variance: 39.44\n",
      "Window start index: 26, Angle: 218.50°, Variance: 23.6\n",
      "Window start index: 27, Angle: 219.00°, Variance: 11.6\n",
      "Extending region. Start: 27, Angle: 219.00°, End: 32, Angle: 221.50°, Extended Variance: 10.916666666666666\n",
      "Extending region. Start: 27, Angle: 219.00°, End: 33, Angle: 222.00°, Extended Variance: 10.857142857142858\n",
      "Extending region. Start: 27, Angle: 219.00°, End: 34, Angle: 222.50°, Extended Variance: 12.234375\n",
      "Extending region. Start: 27, Angle: 219.00°, End: 35, Angle: 223.00°, Extended Variance: 13.728395061728397\n",
      "Extending region. Start: 27, Angle: 219.00°, End: 36, Angle: 223.50°, Extended Variance: 16.490000000000002\n",
      "Window start index: 35, Angle: 223.00°, Variance: 19.44\n",
      "Window start index: 36, Angle: 223.50°, Variance: 17.360000000000003\n",
      "Window start index: 37, Angle: 224.00°, Variance: 10.64\n",
      "Extending region. Start: 37, Angle: 224.00°, End: 42, Angle: 226.50°, Extended Variance: 11.555555555555555\n",
      "Extending region. Start: 37, Angle: 224.00°, End: 43, Angle: 227.00°, Extended Variance: 12.571428571428571\n",
      "Extending region. Start: 37, Angle: 224.00°, End: 44, Angle: 227.50°, Extended Variance: 11.984375\n",
      "Extending region. Start: 37, Angle: 224.00°, End: 45, Angle: 228.00°, Extended Variance: 11.950617283950615\n",
      "Extending region. Start: 37, Angle: 224.00°, End: 46, Angle: 228.50°, Extended Variance: 10.89\n",
      "Extending region. Start: 37, Angle: 224.00°, End: 47, Angle: 229.00°, Extended Variance: 9.900826446280991\n",
      "Extending region. Start: 37, Angle: 224.00°, End: 48, Angle: 229.50°, Extended Variance: 9.166666666666666\n",
      "Extending region. Start: 37, Angle: 224.00°, End: 49, Angle: 230.00°, Extended Variance: 8.745562130177515\n",
      "Extending region. Start: 37, Angle: 224.00°, End: 50, Angle: 230.50°, Extended Variance: 9.678571428571429\n",
      "Extending region. Start: 37, Angle: 224.00°, End: 51, Angle: 231.00°, Extended Variance: 10.915555555555557\n",
      "Extending region. Start: 37, Angle: 224.00°, End: 52, Angle: 231.50°, Extended Variance: 12.4375\n",
      "Extending region. Start: 37, Angle: 224.00°, End: 53, Angle: 232.00°, Extended Variance: 14.228373702422147\n",
      "Extending region. Start: 37, Angle: 224.00°, End: 54, Angle: 232.50°, Extended Variance: 14.432098765432102\n",
      "Extending region. Start: 37, Angle: 224.00°, End: 55, Angle: 233.00°, Extended Variance: 13.894736842105264\n",
      "Extending region. Start: 37, Angle: 224.00°, End: 56, Angle: 233.50°, Extended Variance: 17.0475\n",
      "Window start index: 55, Angle: 233.00°, Variance: 104.0\n",
      "Window start index: 56, Angle: 233.50°, Variance: 115.83999999999999\n",
      "Window start index: 57, Angle: 234.00°, Variance: 128.0\n",
      "Window start index: 58, Angle: 234.50°, Variance: 128.0\n",
      "Window start index: 59, Angle: 235.00°, Variance: 156.16\n",
      "Window start index: 60, Angle: 235.50°, Variance: 170.23999999999998\n",
      "Window start index: 61, Angle: 236.00°, Variance: 177.44\n",
      "Window start index: 62, Angle: 236.50°, Variance: 181.2\n",
      "Window start index: 63, Angle: 237.00°, Variance: 133.04\n",
      "Window start index: 64, Angle: 237.50°, Variance: 92.23999999999998\n",
      "Window start index: 65, Angle: 238.00°, Variance: 51.43999999999998\n",
      "Window start index: 66, Angle: 238.50°, Variance: 22.0\n",
      "Window start index: 67, Angle: 239.00°, Variance: 23.44\n",
      "Window start index: 68, Angle: 239.50°, Variance: 24.8\n",
      "Window start index: 69, Angle: 240.00°, Variance: 29.360000000000003\n",
      "Window start index: 70, Angle: 240.50°, Variance: 29.360000000000003\n",
      "Window start index: 71, Angle: 241.00°, Variance: 31.04\n",
      "Window start index: 72, Angle: 241.50°, Variance: 47.6\n",
      "Window start index: 73, Angle: 242.00°, Variance: 159.6\n",
      "Window start index: 74, Angle: 242.50°, Variance: 277.36\n",
      "Window start index: 75, Angle: 243.00°, Variance: 269.84\n",
      "Window start index: 76, Angle: 243.50°, Variance: 176.95999999999995\n",
      "Window start index: 77, Angle: 244.00°, Variance: 31.76\n",
      "Window start index: 78, Angle: 244.50°, Variance: 3.6\n",
      "Extending region. Start: 78, Angle: 244.50°, End: 83, Angle: 247.00°, Extended Variance: 4.25\n",
      "Extending region. Start: 78, Angle: 244.50°, End: 84, Angle: 247.50°, Extended Variance: 6.122448979591837\n",
      "Extending region. Start: 78, Angle: 244.50°, End: 85, Angle: 248.00°, Extended Variance: 10.5\n",
      "Extending region. Start: 78, Angle: 244.50°, End: 86, Angle: 248.50°, Extended Variance: 17.333333333333332\n",
      "Window start index: 85, Angle: 248.00°, Variance: 20.560000000000002\n",
      "Window start index: 86, Angle: 248.50°, Variance: 24.64\n",
      "Window start index: 87, Angle: 249.00°, Variance: 26.0\n",
      "Window start index: 88, Angle: 249.50°, Variance: 27.439999999999998\n",
      "Window start index: 89, Angle: 250.00°, Variance: 27.439999999999998\n",
      "Window start index: 90, Angle: 250.50°, Variance: 26.0\n",
      "Window start index: 91, Angle: 251.00°, Variance: 24.64\n",
      "Window start index: 92, Angle: 251.50°, Variance: 23.2\n",
      "Window start index: 93, Angle: 252.00°, Variance: 19.360000000000003\n",
      "Window start index: 94, Angle: 252.50°, Variance: 20.64\n",
      "Window start index: 95, Angle: 253.00°, Variance: 23.360000000000003\n",
      "Window start index: 96, Angle: 253.50°, Variance: 29.439999999999998\n",
      "Window start index: 97, Angle: 254.00°, Variance: 33.760000000000005\n",
      "Window start index: 98, Angle: 254.50°, Variance: 51.760000000000005\n",
      "Window start index: 99, Angle: 255.00°, Variance: 91.43999999999998\n",
      "Window start index: 100, Angle: 255.50°, Variance: 149.2\n",
      "Window start index: 101, Angle: 256.00°, Variance: 204.23999999999998\n",
      "Window start index: 102, Angle: 256.50°, Variance: 266.96\n",
      "Window start index: 103, Angle: 257.00°, Variance: 309.43999999999994\n",
      "Window start index: 104, Angle: 257.50°, Variance: 319.03999999999996\n",
      "Window start index: 105, Angle: 258.00°, Variance: 510.0\n",
      "Window start index: 106, Angle: 258.50°, Variance: 814.0\n",
      "Window start index: 107, Angle: 259.00°, Variance: 1004.0\n",
      "Window start index: 108, Angle: 259.50°, Variance: 1219.0400000000002\n",
      "Window start index: 109, Angle: 260.00°, Variance: 1405.36\n",
      "Window start index: 110, Angle: 260.50°, Variance: 1365.36\n",
      "Window start index: 111, Angle: 261.00°, Variance: 1300.4\n",
      "Window start index: 112, Angle: 261.50°, Variance: 843.4399999999999\n",
      "Window start index: 113, Angle: 262.00°, Variance: 426.8\n",
      "Window start index: 114, Angle: 262.50°, Variance: 288.55999999999995\n",
      "Window start index: 115, Angle: 263.00°, Variance: 223.03999999999996\n",
      "Window start index: 116, Angle: 263.50°, Variance: 769.0400000000001\n",
      "Window start index: 117, Angle: 264.00°, Variance: 2130.96\n",
      "Window start index: 118, Angle: 264.50°, Variance: 6641.039999999999\n",
      "Window start index: 119, Angle: 265.00°, Variance: 8142.8\n",
      "Window start index: 120, Angle: 265.50°, Variance: 6121.04\n",
      "Window start index: 121, Angle: 266.00°, Variance: 3634.0\n",
      "Window start index: 122, Angle: 266.50°, Variance: 2098.0\n",
      "Window start index: 123, Angle: 267.00°, Variance: 2329.8399999999997\n",
      "Window start index: 124, Angle: 267.50°, Variance: 1965.7599999999998\n",
      "Window start index: 125, Angle: 268.00°, Variance: 870.6399999999998\n",
      "Window start index: 126, Angle: 268.50°, Variance: 64.24000000000001\n",
      "Window start index: 127, Angle: 269.00°, Variance: 37.36\n",
      "Window start index: 128, Angle: 269.50°, Variance: 17.6\n",
      "Window start index: 129, Angle: 270.00°, Variance: 9.76\n",
      "Extending region. Start: 129, Angle: 270.00°, End: 134, Angle: 272.50°, Extended Variance: 11.888888888888886\n",
      "Extending region. Start: 129, Angle: 270.00°, End: 135, Angle: 273.00°, Extended Variance: 11.551020408163264\n",
      "Extending region. Start: 129, Angle: 270.00°, End: 136, Angle: 273.50°, Extended Variance: 11.0\n",
      "Extending region. Start: 129, Angle: 270.00°, End: 137, Angle: 274.00°, Extended Variance: 10.395061728395062\n",
      "Extending region. Start: 129, Angle: 270.00°, End: 138, Angle: 274.50°, Extended Variance: 17.009999999999998\n",
      "Window start index: 137, Angle: 274.00°, Variance: 82.8\n",
      "Window start index: 138, Angle: 274.50°, Variance: 62.64000000000001\n",
      "Window start index: 139, Angle: 275.00°, Variance: 46.64000000000001\n",
      "Window start index: 140, Angle: 275.50°, Variance: 24.560000000000002\n",
      "Window start index: 141, Angle: 276.00°, Variance: 19.44\n",
      "Window start index: 142, Angle: 276.50°, Variance: 17.04\n",
      "Window start index: 143, Angle: 277.00°, Variance: 17.04\n",
      "Window start index: 144, Angle: 277.50°, Variance: 25.2\n",
      "Window start index: 145, Angle: 278.00°, Variance: 27.76\n",
      "Window start index: 146, Angle: 278.50°, Variance: 27.76\n",
      "Window start index: 147, Angle: 279.00°, Variance: 32.8\n",
      "Window start index: 148, Angle: 279.50°, Variance: 36.160000000000004\n",
      "Window start index: 149, Angle: 280.00°, Variance: 50.239999999999995\n",
      "Window start index: 150, Angle: 280.50°, Variance: 58.56\n",
      "Window start index: 151, Angle: 281.00°, Variance: 110.4\n",
      "Window start index: 152, Angle: 281.50°, Variance: 281.76\n",
      "Window start index: 153, Angle: 282.00°, Variance: 602.9599999999999\n",
      "Window start index: 154, Angle: 282.50°, Variance: 916.24\n",
      "Window start index: 155, Angle: 283.00°, Variance: 1059.0399999999997\n",
      "Window start index: 156, Angle: 283.50°, Variance: 1415.36\n",
      "Window start index: 157, Angle: 284.00°, Variance: 2451.2\n",
      "Window start index: 158, Angle: 284.50°, Variance: 4997.44\n",
      "Window start index: 159, Angle: 285.00°, Variance: 6616.960000000001\n",
      "Window start index: 160, Angle: 285.50°, Variance: 5540.8\n",
      "Window start index: 161, Angle: 286.00°, Variance: 3061.44\n",
      "Window start index: 162, Angle: 286.50°, Variance: 923.3599999999999\n",
      "Window start index: 163, Angle: 287.00°, Variance: 427.75999999999993\n",
      "Window start index: 164, Angle: 287.50°, Variance: 421.84\n",
      "Window start index: 165, Angle: 288.00°, Variance: 444.55999999999995\n",
      "Window start index: 166, Angle: 288.50°, Variance: 404.8\n",
      "Window start index: 167, Angle: 289.00°, Variance: 319.03999999999996\n",
      "Window start index: 168, Angle: 289.50°, Variance: 236.95999999999995\n",
      "Window start index: 169, Angle: 290.00°, Variance: 181.83999999999997\n",
      "Window start index: 170, Angle: 290.50°, Variance: 151.76\n",
      "Window start index: 171, Angle: 291.00°, Variance: 162.8\n",
      "Window start index: 172, Angle: 291.50°, Variance: 180.8\n",
      "Window start index: 173, Angle: 292.00°, Variance: 177.04\n",
      "Window start index: 174, Angle: 292.50°, Variance: 200.56\n",
      "Window start index: 175, Angle: 293.00°, Variance: 174.23999999999998\n",
      "Window start index: 176, Angle: 293.50°, Variance: 156.64\n",
      "Window start index: 177, Angle: 294.00°, Variance: 142.56\n",
      "Window start index: 178, Angle: 294.50°, Variance: 113.03999999999999\n",
      "Window start index: 179, Angle: 295.00°, Variance: 118.96\n",
      "Window start index: 180, Angle: 295.50°, Variance: 104.16\n",
      "Window start index: 181, Angle: 296.00°, Variance: 98.23999999999998\n",
      "Window start index: 182, Angle: 296.50°, Variance: 103.83999999999999\n",
      "Window start index: 183, Angle: 297.00°, Variance: 100.96000000000001\n",
      "Window start index: 184, Angle: 297.50°, Variance: 103.75999999999999\n",
      "Window start index: 185, Angle: 298.00°, Variance: 92.56\n",
      "Window start index: 186, Angle: 298.50°, Variance: 84.63999999999999\n",
      "Window start index: 187, Angle: 299.00°, Variance: 82.0\n",
      "Window start index: 188, Angle: 299.50°, Variance: 84.63999999999999\n",
      "Window start index: 189, Angle: 300.00°, Variance: 92.56\n",
      "Window start index: 190, Angle: 300.50°, Variance: 98.0\n",
      "Window start index: 191, Angle: 301.00°, Variance: 98.0\n",
      "Window start index: 192, Angle: 301.50°, Variance: 98.0\n",
      "Window start index: 193, Angle: 302.00°, Variance: 92.56\n",
      "Window start index: 194, Angle: 302.50°, Variance: 89.83999999999999\n",
      "Window start index: 195, Angle: 303.00°, Variance: 79.6\n",
      "Window start index: 196, Angle: 303.50°, Variance: 67.6\n",
      "Window start index: 197, Angle: 304.00°, Variance: 58.639999999999986\n",
      "Window start index: 198, Angle: 304.50°, Variance: 50.0\n",
      "Window start index: 199, Angle: 305.00°, Variance: 50.0\n",
      "Window start index: 200, Angle: 305.50°, Variance: 46.160000000000004\n",
      "Window start index: 201, Angle: 306.00°, Variance: 40.64\n",
      "Window start index: 202, Angle: 306.50°, Variance: 29.439999999999998\n",
      "Window start index: 203, Angle: 307.00°, Variance: 15.040000000000001\n",
      "Window start index: 204, Angle: 307.50°, Variance: 6.24\n",
      "Extending region. Start: 204, Angle: 307.50°, End: 209, Angle: 310.00°, Extended Variance: 5.25\n",
      "Extending region. Start: 204, Angle: 307.50°, End: 210, Angle: 310.50°, Extended Variance: 9.673469387755103\n",
      "Extending region. Start: 204, Angle: 307.50°, End: 211, Angle: 311.00°, Extended Variance: 11.859375\n",
      "Extending region. Start: 204, Angle: 307.50°, End: 212, Angle: 311.50°, Extended Variance: 24.469135802469136\n",
      "Window start index: 211, Angle: 311.00°, Variance: 45.2\n",
      "Window start index: 212, Angle: 311.50°, Variance: 38.96\n",
      "Window start index: 213, Angle: 312.00°, Variance: 46.96\n",
      "Window start index: 214, Angle: 312.50°, Variance: 57.04\n",
      "Window start index: 215, Angle: 313.00°, Variance: 70.96000000000001\n",
      "Window start index: 216, Angle: 313.50°, Variance: 73.43999999999998\n",
      "Window start index: 217, Angle: 314.00°, Variance: 63.04\n",
      "Window start index: 218, Angle: 314.50°, Variance: 69.76\n",
      "Window start index: 219, Angle: 315.00°, Variance: 59.839999999999996\n",
      "Window start index: 220, Angle: 315.50°, Variance: 59.839999999999996\n",
      "Window start index: 221, Angle: 316.00°, Variance: 52.8\n",
      "Window start index: 222, Angle: 316.50°, Variance: 27.04\n",
      "Window start index: 223, Angle: 317.00°, Variance: 12.960000000000003\n",
      "Extending region. Start: 223, Angle: 317.00°, End: 228, Angle: 319.50°, Extended Variance: 13.25\n",
      "Extending region. Start: 223, Angle: 317.00°, End: 229, Angle: 320.00°, Extended Variance: 12.122448979591837\n",
      "Extending region. Start: 223, Angle: 317.00°, End: 230, Angle: 320.50°, Extended Variance: 10.609375\n",
      "Extending region. Start: 223, Angle: 317.00°, End: 231, Angle: 321.00°, Extended Variance: 9.777777777777779\n",
      "Extending region. Start: 223, Angle: 317.00°, End: 232, Angle: 321.50°, Extended Variance: 11.690000000000001\n",
      "Extending region. Start: 223, Angle: 317.00°, End: 233, Angle: 322.00°, Extended Variance: 16.049586776859506\n",
      "Window start index: 232, Angle: 321.50°, Variance: 26.160000000000004\n",
      "Window start index: 233, Angle: 322.00°, Variance: 29.04\n",
      "Window start index: 234, Angle: 322.50°, Variance: 33.839999999999996\n",
      "Window start index: 235, Angle: 323.00°, Variance: 33.839999999999996\n",
      "Window start index: 236, Angle: 323.50°, Variance: 40.56\n",
      "Window start index: 237, Angle: 324.00°, Variance: 37.2\n",
      "Window start index: 238, Angle: 324.50°, Variance: 35.44\n",
      "Window start index: 239, Angle: 325.00°, Variance: 35.44\n",
      "Window start index: 240, Angle: 325.50°, Variance: 30.639999999999997\n",
      "Window start index: 241, Angle: 326.00°, Variance: 25.2\n",
      "Window start index: 242, Angle: 326.50°, Variance: 10.64\n",
      "Extending region. Start: 242, Angle: 326.50°, End: 247, Angle: 329.00°, Extended Variance: 12.916666666666666\n",
      "Extending region. Start: 242, Angle: 326.50°, End: 248, Angle: 329.50°, Extended Variance: 17.95918367346939\n",
      "Window start index: 247, Angle: 329.00°, Variance: 9.040000000000001\n",
      "Extending region. Start: 247, Angle: 329.00°, End: 252, Angle: 331.50°, Extended Variance: 11.888888888888888\n",
      "Extending region. Start: 247, Angle: 329.00°, End: 253, Angle: 332.00°, Extended Variance: 12.857142857142858\n",
      "Extending region. Start: 247, Angle: 329.00°, End: 254, Angle: 332.50°, Extended Variance: 20.109375\n",
      "Window start index: 253, Angle: 332.00°, Variance: 37.44\n",
      "Window start index: 254, Angle: 332.50°, Variance: 47.04\n",
      "Window start index: 255, Angle: 333.00°, Variance: 58.56\n",
      "Window start index: 256, Angle: 333.50°, Variance: 65.03999999999999\n",
      "Window start index: 257, Angle: 334.00°, Variance: 60.56\n",
      "Window start index: 258, Angle: 334.50°, Variance: 31.76\n",
      "Window start index: 259, Angle: 335.00°, Variance: 153.35999999999999\n",
      "Window start index: 260, Angle: 335.50°, Variance: 324.15999999999997\n",
      "Window start index: 261, Angle: 336.00°, Variance: 798.4\n",
      "Window start index: 262, Angle: 336.50°, Variance: 5518.960000000001\n",
      "Window start index: 263, Angle: 337.00°, Variance: 8589.039999999999\n",
      "Window start index: 264, Angle: 337.50°, Variance: 8894.960000000001\n",
      "Window start index: 265, Angle: 338.00°, Variance: 5110.640000000001\n",
      "Window start index: 266, Angle: 338.50°, Variance: 324.55999999999995\n",
      "Window start index: 267, Angle: 339.00°, Variance: 484.16\n",
      "Window start index: 268, Angle: 339.50°, Variance: 910.1599999999999\n",
      "Window start index: 269, Angle: 340.00°, Variance: 1141.44\n",
      "Window start index: 270, Angle: 340.50°, Variance: 831.36\n",
      "Window start index: 271, Angle: 341.00°, Variance: 54.0\n",
      "Window start index: 272, Angle: 341.50°, Variance: 19.44\n",
      "Window start index: 273, Angle: 342.00°, Variance: 18.0\n",
      "Window start index: 274, Angle: 342.50°, Variance: 20.240000000000002\n",
      "Window start index: 275, Angle: 343.00°, Variance: 13.84\n",
      "Extending region. Start: 275, Angle: 343.00°, End: 280, Angle: 345.50°, Extended Variance: 12.472222222222223\n",
      "Widest flat region found from index 275 to 280 with width 304.00 units.\n"
     ]
    },
    {
     "data": {
      "application/vnd.plotly.v1+json": {
       "config": {
        "plotlyServerURL": "https://plot.ly"
       },
       "data": [
        {
         "hoverinfo": "text",
         "marker": {
          "color": "blue",
          "size": 10
         },
         "mode": "markers",
         "name": "All Points",
         "text": [
          "Angle: 205.50°, X: -1800, Y: 647",
          "Angle: 206.00°, X: -1767, Y: 652",
          "Angle: 206.50°, X: -1732, Y: 656",
          "Angle: 207.00°, X: -1720, Y: 669",
          "Angle: 207.50°, X: -1713, Y: 684",
          "Angle: 208.00°, X: -1703, Y: 697",
          "Angle: 208.50°, X: -1691, Y: 709",
          "Angle: 209.00°, X: -1680, Y: 722",
          "Angle: 209.50°, X: -1661, Y: 731",
          "Angle: 210.00°, X: -1642, Y: 740",
          "Angle: 210.50°, X: -1623, Y: 749",
          "Angle: 211.00°, X: -1605, Y: 757",
          "Angle: 211.50°, X: -1530, Y: 738",
          "Angle: 212.00°, X: -1492, Y: 736",
          "Angle: 212.50°, X: -1474, Y: 743",
          "Angle: 213.00°, X: -1447, Y: 745",
          "Angle: 213.50°, X: -1420, Y: 748",
          "Angle: 214.00°, X: -1397, Y: 751",
          "Angle: 214.50°, X: -1371, Y: 752",
          "Angle: 215.00°, X: -1352, Y: 757",
          "Angle: 215.50°, X: -1336, Y: 764",
          "Angle: 216.00°, X: -1327, Y: 774",
          "Angle: 216.50°, X: -1295, Y: 771",
          "Angle: 217.00°, X: -1265, Y: 768",
          "Angle: 217.50°, X: -1241, Y: 768",
          "Angle: 218.00°, X: -1226, Y: 774",
          "Angle: 218.50°, X: -1211, Y: 779",
          "Angle: 219.00°, X: -1196, Y: 784",
          "Angle: 219.50°, X: -1180, Y: 789",
          "Angle: 220.00°, X: -1161, Y: 791",
          "Angle: 220.50°, X: -1141, Y: 792",
          "Angle: 221.00°, X: -1123, Y: 794",
          "Angle: 221.50°, X: -1101, Y: 793",
          "Angle: 222.00°, X: -1082, Y: 794",
          "Angle: 222.50°, X: -1065, Y: 796",
          "Angle: 223.00°, X: -1048, Y: 797",
          "Angle: 223.50°, X: -1031, Y: 799",
          "Angle: 224.00°, X: -1017, Y: 802",
          "Angle: 224.50°, X: -1004, Y: 806",
          "Angle: 225.00°, X: -989, Y: 809",
          "Angle: 225.50°, X: -974, Y: 810",
          "Angle: 226.00°, X: -958, Y: 811",
          "Angle: 226.50°, X: -942, Y: 812",
          "Angle: 227.00°, X: -926, Y: 813",
          "Angle: 227.50°, X: -910, Y: 812",
          "Angle: 228.00°, X: -895, Y: 813",
          "Angle: 228.50°, X: -877, Y: 811",
          "Angle: 229.00°, X: -860, Y: 810",
          "Angle: 229.50°, X: -847, Y: 811",
          "Angle: 230.00°, X: -829, Y: 808",
          "Angle: 230.50°, X: -811, Y: 805",
          "Angle: 231.00°, X: -797, Y: 804",
          "Angle: 231.50°, X: -782, Y: 803",
          "Angle: 232.00°, X: -768, Y: 802",
          "Angle: 232.50°, X: -756, Y: 804",
          "Angle: 233.00°, X: -745, Y: 806",
          "Angle: 233.50°, X: -726, Y: 799",
          "Angle: 234.00°, X: -707, Y: 793",
          "Angle: 234.50°, X: -688, Y: 785",
          "Angle: 235.00°, X: -669, Y: 777",
          "Angle: 235.50°, X: -651, Y: 769",
          "Angle: 236.00°, X: -633, Y: 761",
          "Angle: 236.50°, X: -615, Y: 753",
          "Angle: 237.00°, X: -595, Y: 741",
          "Angle: 237.50°, X: -578, Y: 733",
          "Angle: 238.00°, X: -560, Y: 724",
          "Angle: 238.50°, X: -543, Y: 714",
          "Angle: 239.00°, X: -530, Y: 710",
          "Angle: 239.50°, X: -518, Y: 707",
          "Angle: 240.00°, X: -506, Y: 703",
          "Angle: 240.50°, X: -495, Y: 701",
          "Angle: 241.00°, X: -482, Y: 696",
          "Angle: 241.50°, X: -471, Y: 693",
          "Angle: 242.00°, X: -459, Y: 688",
          "Angle: 242.50°, X: -450, Y: 686",
          "Angle: 243.00°, X: -437, Y: 680",
          "Angle: 243.50°, X: -424, Y: 673",
          "Angle: 244.00°, X: -403, Y: 653",
          "Angle: 244.50°, X: -389, Y: 642",
          "Angle: 245.00°, X: -380, Y: 639",
          "Angle: 245.50°, X: -371, Y: 637",
          "Angle: 246.00°, X: -365, Y: 640",
          "Angle: 246.50°, X: -359, Y: 642",
          "Angle: 247.00°, X: -352, Y: 643",
          "Angle: 247.50°, X: -346, Y: 645",
          "Angle: 248.00°, X: -341, Y: 648",
          "Angle: 248.50°, X: -335, Y: 651",
          "Angle: 249.00°, X: -329, Y: 654",
          "Angle: 249.50°, X: -324, Y: 657",
          "Angle: 250.00°, X: -318, Y: 661",
          "Angle: 250.50°, X: -313, Y: 665",
          "Angle: 251.00°, X: -307, Y: 668",
          "Angle: 251.50°, X: -302, Y: 672",
          "Angle: 252.00°, X: -297, Y: 676",
          "Angle: 252.50°, X: -291, Y: 679",
          "Angle: 253.00°, X: -286, Y: 682",
          "Angle: 253.50°, X: -280, Y: 686",
          "Angle: 254.00°, X: -274, Y: 688",
          "Angle: 254.50°, X: -268, Y: 692",
          "Angle: 255.00°, X: -263, Y: 696",
          "Angle: 255.50°, X: -258, Y: 701",
          "Angle: 256.00°, X: -252, Y: 704",
          "Angle: 256.50°, X: -249, Y: 713",
          "Angle: 257.00°, X: -245, Y: 723",
          "Angle: 257.50°, X: -241, Y: 734",
          "Angle: 258.00°, X: -238, Y: 744",
          "Angle: 258.50°, X: -235, Y: 760",
          "Angle: 259.00°, X: -232, Y: 772",
          "Angle: 259.50°, X: -228, Y: 783",
          "Angle: 260.00°, X: -228, Y: 811",
          "Angle: 260.50°, X: -228, Y: 839",
          "Angle: 261.00°, X: -224, Y: 855",
          "Angle: 261.50°, X: -224, Y: 884",
          "Angle: 262.00°, X: -224, Y: 920",
          "Angle: 262.50°, X: -220, Y: 936",
          "Angle: 263.00°, X: -215, Y: 955",
          "Angle: 263.50°, X: -209, Y: 967",
          "Angle: 264.00°, X: -202, Y: 977",
          "Angle: 264.50°, X: -195, Y: 984",
          "Angle: 265.00°, X: -189, Y: 999",
          "Angle: 265.50°, X: -188, Y: 1046",
          "Angle: 266.00°, X: -188, Y: 1100",
          "Angle: 266.50°, X: -196, Y: 1209",
          "Angle: 267.00°, X: -189, Y: 1231",
          "Angle: 267.50°, X: -179, Y: 1242",
          "Angle: 268.00°, X: -173, Y: 1278",
          "Angle: 268.50°, X: -170, Y: 1340",
          "Angle: 269.00°, X: -159, Y: 1347",
          "Angle: 269.50°, X: -147, Y: 1354",
          "Angle: 270.00°, X: -136, Y: 1359",
          "Angle: 270.50°, X: -124, Y: 1362",
          "Angle: 271.00°, X: -113, Y: 1364",
          "Angle: 271.50°, X: -101, Y: 1366",
          "Angle: 272.00°, X: -89, Y: 1368",
          "Angle: 272.50°, X: -77, Y: 1369",
          "Angle: 273.00°, X: -65, Y: 1368",
          "Angle: 273.50°, X: -53, Y: 1368",
          "Angle: 274.00°, X: -41, Y: 1363",
          "Angle: 274.50°, X: -29, Y: 1356",
          "Angle: 275.00°, X: -17, Y: 1351",
          "Angle: 275.50°, X: -5, Y: 1342",
          "Angle: 276.00°, X: 6, Y: 1338",
          "Angle: 276.50°, X: 17, Y: 1335",
          "Angle: 277.00°, X: 29, Y: 1331",
          "Angle: 277.50°, X: 40, Y: 1328",
          "Angle: 278.00°, X: 52, Y: 1326",
          "Angle: 278.50°, X: 63, Y: 1323",
          "Angle: 279.00°, X: 75, Y: 1319",
          "Angle: 279.50°, X: 86, Y: 1314",
          "Angle: 280.00°, X: 97, Y: 1312",
          "Angle: 280.50°, X: 109, Y: 1308",
          "Angle: 281.00°, X: 120, Y: 1302",
          "Angle: 281.50°, X: 131, Y: 1298",
          "Angle: 282.00°, X: 141, Y: 1292",
          "Angle: 282.50°, X: 152, Y: 1286",
          "Angle: 283.00°, X: 162, Y: 1272",
          "Angle: 283.50°, X: 170, Y: 1251",
          "Angle: 284.00°, X: 178, Y: 1225",
          "Angle: 284.50°, X: 185, Y: 1203",
          "Angle: 285.00°, X: 192, Y: 1181",
          "Angle: 285.50°, X: 196, Y: 1141",
          "Angle: 286.00°, X: 196, Y: 1085",
          "Angle: 286.50°, X: 191, Y: 1007",
          "Angle: 287.00°, X: 191, Y: 962",
          "Angle: 287.50°, X: 196, Y: 945",
          "Angle: 288.00°, X: 203, Y: 933",
          "Angle: 288.50°, X: 208, Y: 919",
          "Angle: 289.00°, X: 212, Y: 902",
          "Angle: 289.50°, X: 217, Y: 888",
          "Angle: 290.00°, X: 222, Y: 874",
          "Angle: 290.50°, X: 227, Y: 862",
          "Angle: 291.00°, X: 232, Y: 852",
          "Angle: 291.50°, X: 238, Y: 845",
          "Angle: 292.00°, X: 243, Y: 835",
          "Angle: 292.50°, X: 249, Y: 827",
          "Angle: 293.00°, X: 253, Y: 816",
          "Angle: 293.50°, X: 258, Y: 807",
          "Angle: 294.00°, X: 263, Y: 798",
          "Angle: 294.50°, X: 267, Y: 786",
          "Angle: 295.00°, X: 272, Y: 780",
          "Angle: 295.50°, X: 277, Y: 772",
          "Angle: 296.00°, X: 282, Y: 763",
          "Angle: 296.50°, X: 287, Y: 757",
          "Angle: 297.00°, X: 291, Y: 749",
          "Angle: 297.50°, X: 296, Y: 743",
          "Angle: 298.00°, X: 301, Y: 735",
          "Angle: 298.50°, X: 305, Y: 728",
          "Angle: 299.00°, X: 310, Y: 721",
          "Angle: 299.50°, X: 314, Y: 714",
          "Angle: 300.00°, X: 319, Y: 708",
          "Angle: 300.50°, X: 323, Y: 702",
          "Angle: 301.00°, X: 328, Y: 695",
          "Angle: 301.50°, X: 332, Y: 688",
          "Angle: 302.00°, X: 336, Y: 681",
          "Angle: 302.50°, X: 340, Y: 674",
          "Angle: 303.00°, X: 344, Y: 667",
          "Angle: 303.50°, X: 347, Y: 660",
          "Angle: 304.00°, X: 352, Y: 654",
          "Angle: 304.50°, X: 355, Y: 647",
          "Angle: 305.00°, X: 360, Y: 642",
          "Angle: 305.50°, X: 364, Y: 637",
          "Angle: 306.00°, X: 368, Y: 632",
          "Angle: 306.50°, X: 373, Y: 627",
          "Angle: 307.00°, X: 377, Y: 622",
          "Angle: 307.50°, X: 383, Y: 618",
          "Angle: 308.00°, X: 388, Y: 614",
          "Angle: 308.50°, X: 394, Y: 612",
          "Angle: 309.00°, X: 401, Y: 612",
          "Angle: 309.50°, X: 408, Y: 611",
          "Angle: 310.00°, X: 418, Y: 614",
          "Angle: 310.50°, X: 431, Y: 620",
          "Angle: 311.00°, X: 439, Y: 620",
          "Angle: 311.50°, X: 451, Y: 627",
          "Angle: 312.00°, X: 465, Y: 634",
          "Angle: 312.50°, X: 475, Y: 635",
          "Angle: 313.00°, X: 486, Y: 639",
          "Angle: 313.50°, X: 500, Y: 646",
          "Angle: 314.00°, X: 515, Y: 652",
          "Angle: 314.50°, X: 526, Y: 655",
          "Angle: 315.00°, X: 543, Y: 664",
          "Angle: 315.50°, X: 557, Y: 670",
          "Angle: 316.00°, X: 569, Y: 672",
          "Angle: 316.50°, X: 586, Y: 680",
          "Angle: 317.00°, X: 602, Y: 686",
          "Angle: 317.50°, X: 616, Y: 690",
          "Angle: 318.00°, X: 629, Y: 692",
          "Angle: 318.50°, X: 643, Y: 695",
          "Angle: 319.00°, X: 655, Y: 696",
          "Angle: 319.50°, X: 666, Y: 696",
          "Angle: 320.00°, X: 677, Y: 695",
          "Angle: 320.50°, X: 687, Y: 693",
          "Angle: 321.00°, X: 697, Y: 691",
          "Angle: 321.50°, X: 705, Y: 687",
          "Angle: 322.00°, X: 715, Y: 684",
          "Angle: 322.50°, X: 724, Y: 681",
          "Angle: 323.00°, X: 731, Y: 676",
          "Angle: 323.50°, X: 741, Y: 673",
          "Angle: 324.00°, X: 750, Y: 669",
          "Angle: 324.50°, X: 757, Y: 664",
          "Angle: 325.00°, X: 766, Y: 660",
          "Angle: 325.50°, X: 774, Y: 655",
          "Angle: 326.00°, X: 784, Y: 652",
          "Angle: 326.50°, X: 792, Y: 647",
          "Angle: 327.00°, X: 802, Y: 643",
          "Angle: 327.50°, X: 813, Y: 640",
          "Angle: 328.00°, X: 824, Y: 638",
          "Angle: 328.50°, X: 840, Y: 639",
          "Angle: 329.00°, X: 852, Y: 636",
          "Angle: 329.50°, X: 865, Y: 633",
          "Angle: 330.00°, X: 881, Y: 634",
          "Angle: 330.50°, X: 897, Y: 633",
          "Angle: 331.00°, X: 905, Y: 627",
          "Angle: 331.50°, X: 922, Y: 627",
          "Angle: 332.00°, X: 939, Y: 627",
          "Angle: 332.50°, X: 949, Y: 622",
          "Angle: 333.00°, X: 963, Y: 619",
          "Angle: 333.50°, X: 976, Y: 615",
          "Angle: 334.00°, X: 985, Y: 609",
          "Angle: 334.50°, X: 995, Y: 603",
          "Angle: 335.00°, X: 1007, Y: 598",
          "Angle: 335.50°, X: 1015, Y: 592",
          "Angle: 336.00°, X: 1028, Y: 587",
          "Angle: 336.50°, X: 1071, Y: 599",
          "Angle: 337.00°, X: 1136, Y: 623",
          "Angle: 337.50°, X: 1179, Y: 633",
          "Angle: 338.00°, X: 1271, Y: 668",
          "Angle: 338.50°, X: 1570, Y: 808",
          "Angle: 339.00°, X: 1678, Y: 845",
          "Angle: 339.50°, X: 1750, Y: 862",
          "Angle: 340.00°, X: 1762, Y: 849",
          "Angle: 340.50°, X: 1793, Y: 845",
          "Angle: 341.00°, X: 1960, Y: 903",
          "Angle: 341.50°, X: 2044, Y: 920",
          "Angle: 342.00°, X: 2095, Y: 921",
          "Angle: 342.50°, X: 2137, Y: 917",
          "Angle: 343.00°, X: 2207, Y: 924",
          "Angle: 343.50°, X: 2275, Y: 930",
          "Angle: 344.00°, X: 2316, Y: 923",
          "Angle: 344.50°, X: 2390, Y: 928",
          "Angle: 345.00°, X: 2465, Y: 933",
          "Angle: 345.50°, X: 2511, Y: 925"
         ],
         "type": "scatter",
         "x": [
          -1800,
          -1767,
          -1732,
          -1720,
          -1713,
          -1703,
          -1691,
          -1680,
          -1661,
          -1642,
          -1623,
          -1605,
          -1530,
          -1492,
          -1474,
          -1447,
          -1420,
          -1397,
          -1371,
          -1352,
          -1336,
          -1327,
          -1295,
          -1265,
          -1241,
          -1226,
          -1211,
          -1196,
          -1180,
          -1161,
          -1141,
          -1123,
          -1101,
          -1082,
          -1065,
          -1048,
          -1031,
          -1017,
          -1004,
          -989,
          -974,
          -958,
          -942,
          -926,
          -910,
          -895,
          -877,
          -860,
          -847,
          -829,
          -811,
          -797,
          -782,
          -768,
          -756,
          -745,
          -726,
          -707,
          -688,
          -669,
          -651,
          -633,
          -615,
          -595,
          -578,
          -560,
          -543,
          -530,
          -518,
          -506,
          -495,
          -482,
          -471,
          -459,
          -450,
          -437,
          -424,
          -403,
          -389,
          -380,
          -371,
          -365,
          -359,
          -352,
          -346,
          -341,
          -335,
          -329,
          -324,
          -318,
          -313,
          -307,
          -302,
          -297,
          -291,
          -286,
          -280,
          -274,
          -268,
          -263,
          -258,
          -252,
          -249,
          -245,
          -241,
          -238,
          -235,
          -232,
          -228,
          -228,
          -228,
          -224,
          -224,
          -224,
          -220,
          -215,
          -209,
          -202,
          -195,
          -189,
          -188,
          -188,
          -196,
          -189,
          -179,
          -173,
          -170,
          -159,
          -147,
          -136,
          -124,
          -113,
          -101,
          -89,
          -77,
          -65,
          -53,
          -41,
          -29,
          -17,
          -5,
          6,
          17,
          29,
          40,
          52,
          63,
          75,
          86,
          97,
          109,
          120,
          131,
          141,
          152,
          162,
          170,
          178,
          185,
          192,
          196,
          196,
          191,
          191,
          196,
          203,
          208,
          212,
          217,
          222,
          227,
          232,
          238,
          243,
          249,
          253,
          258,
          263,
          267,
          272,
          277,
          282,
          287,
          291,
          296,
          301,
          305,
          310,
          314,
          319,
          323,
          328,
          332,
          336,
          340,
          344,
          347,
          352,
          355,
          360,
          364,
          368,
          373,
          377,
          383,
          388,
          394,
          401,
          408,
          418,
          431,
          439,
          451,
          465,
          475,
          486,
          500,
          515,
          526,
          543,
          557,
          569,
          586,
          602,
          616,
          629,
          643,
          655,
          666,
          677,
          687,
          697,
          705,
          715,
          724,
          731,
          741,
          750,
          757,
          766,
          774,
          784,
          792,
          802,
          813,
          824,
          840,
          852,
          865,
          881,
          897,
          905,
          922,
          939,
          949,
          963,
          976,
          985,
          995,
          1007,
          1015,
          1028,
          1071,
          1136,
          1179,
          1271,
          1570,
          1678,
          1750,
          1762,
          1793,
          1960,
          2044,
          2095,
          2137,
          2207,
          2275,
          2316,
          2390,
          2465,
          2511
         ],
         "y": [
          647,
          652,
          656,
          669,
          684,
          697,
          709,
          722,
          731,
          740,
          749,
          757,
          738,
          736,
          743,
          745,
          748,
          751,
          752,
          757,
          764,
          774,
          771,
          768,
          768,
          774,
          779,
          784,
          789,
          791,
          792,
          794,
          793,
          794,
          796,
          797,
          799,
          802,
          806,
          809,
          810,
          811,
          812,
          813,
          812,
          813,
          811,
          810,
          811,
          808,
          805,
          804,
          803,
          802,
          804,
          806,
          799,
          793,
          785,
          777,
          769,
          761,
          753,
          741,
          733,
          724,
          714,
          710,
          707,
          703,
          701,
          696,
          693,
          688,
          686,
          680,
          673,
          653,
          642,
          639,
          637,
          640,
          642,
          643,
          645,
          648,
          651,
          654,
          657,
          661,
          665,
          668,
          672,
          676,
          679,
          682,
          686,
          688,
          692,
          696,
          701,
          704,
          713,
          723,
          734,
          744,
          760,
          772,
          783,
          811,
          839,
          855,
          884,
          920,
          936,
          955,
          967,
          977,
          984,
          999,
          1046,
          1100,
          1209,
          1231,
          1242,
          1278,
          1340,
          1347,
          1354,
          1359,
          1362,
          1364,
          1366,
          1368,
          1369,
          1368,
          1368,
          1363,
          1356,
          1351,
          1342,
          1338,
          1335,
          1331,
          1328,
          1326,
          1323,
          1319,
          1314,
          1312,
          1308,
          1302,
          1298,
          1292,
          1286,
          1272,
          1251,
          1225,
          1203,
          1181,
          1141,
          1085,
          1007,
          962,
          945,
          933,
          919,
          902,
          888,
          874,
          862,
          852,
          845,
          835,
          827,
          816,
          807,
          798,
          786,
          780,
          772,
          763,
          757,
          749,
          743,
          735,
          728,
          721,
          714,
          708,
          702,
          695,
          688,
          681,
          674,
          667,
          660,
          654,
          647,
          642,
          637,
          632,
          627,
          622,
          618,
          614,
          612,
          612,
          611,
          614,
          620,
          620,
          627,
          634,
          635,
          639,
          646,
          652,
          655,
          664,
          670,
          672,
          680,
          686,
          690,
          692,
          695,
          696,
          696,
          695,
          693,
          691,
          687,
          684,
          681,
          676,
          673,
          669,
          664,
          660,
          655,
          652,
          647,
          643,
          640,
          638,
          639,
          636,
          633,
          634,
          633,
          627,
          627,
          627,
          622,
          619,
          615,
          609,
          603,
          598,
          592,
          587,
          599,
          623,
          633,
          668,
          808,
          845,
          862,
          849,
          845,
          903,
          920,
          921,
          917,
          924,
          930,
          923,
          928,
          933,
          925
         ]
        },
        {
         "hoverinfo": "text",
         "line": {
          "color": "red",
          "width": 2
         },
         "marker": {
          "color": "red",
          "size": 10
         },
         "mode": "markers+lines",
         "name": "Widest Flat Region",
         "text": [
          "Widest Flat Region: Angle: 343.00°, X: 2207, Y: 924",
          "Widest Flat Region: Angle: 343.50°, X: 2275, Y: 930",
          "Widest Flat Region: Angle: 344.00°, X: 2316, Y: 923",
          "Widest Flat Region: Angle: 344.50°, X: 2390, Y: 928",
          "Widest Flat Region: Angle: 345.00°, X: 2465, Y: 933",
          "Widest Flat Region: Angle: 345.50°, X: 2511, Y: 925"
         ],
         "type": "scatter",
         "x": [
          2207,
          2275,
          2316,
          2390,
          2465,
          2511
         ],
         "y": [
          924,
          930,
          923,
          928,
          933,
          925
         ]
        }
       ],
       "layout": {
        "autosize": true,
        "showlegend": true,
        "template": {
         "data": {
          "bar": [
           {
            "error_x": {
             "color": "#2a3f5f"
            },
            "error_y": {
             "color": "#2a3f5f"
            },
            "marker": {
             "line": {
              "color": "#E5ECF6",
              "width": 0.5
             },
             "pattern": {
              "fillmode": "overlay",
              "size": 10,
              "solidity": 0.2
             }
            },
            "type": "bar"
           }
          ],
          "barpolar": [
           {
            "marker": {
             "line": {
              "color": "#E5ECF6",
              "width": 0.5
             },
             "pattern": {
              "fillmode": "overlay",
              "size": 10,
              "solidity": 0.2
             }
            },
            "type": "barpolar"
           }
          ],
          "carpet": [
           {
            "aaxis": {
             "endlinecolor": "#2a3f5f",
             "gridcolor": "white",
             "linecolor": "white",
             "minorgridcolor": "white",
             "startlinecolor": "#2a3f5f"
            },
            "baxis": {
             "endlinecolor": "#2a3f5f",
             "gridcolor": "white",
             "linecolor": "white",
             "minorgridcolor": "white",
             "startlinecolor": "#2a3f5f"
            },
            "type": "carpet"
           }
          ],
          "choropleth": [
           {
            "colorbar": {
             "outlinewidth": 0,
             "ticks": ""
            },
            "type": "choropleth"
           }
          ],
          "contour": [
           {
            "colorbar": {
             "outlinewidth": 0,
             "ticks": ""
            },
            "colorscale": [
             [
              0,
              "#0d0887"
             ],
             [
              0.1111111111111111,
              "#46039f"
             ],
             [
              0.2222222222222222,
              "#7201a8"
             ],
             [
              0.3333333333333333,
              "#9c179e"
             ],
             [
              0.4444444444444444,
              "#bd3786"
             ],
             [
              0.5555555555555556,
              "#d8576b"
             ],
             [
              0.6666666666666666,
              "#ed7953"
             ],
             [
              0.7777777777777778,
              "#fb9f3a"
             ],
             [
              0.8888888888888888,
              "#fdca26"
             ],
             [
              1,
              "#f0f921"
             ]
            ],
            "type": "contour"
           }
          ],
          "contourcarpet": [
           {
            "colorbar": {
             "outlinewidth": 0,
             "ticks": ""
            },
            "type": "contourcarpet"
           }
          ],
          "heatmap": [
           {
            "colorbar": {
             "outlinewidth": 0,
             "ticks": ""
            },
            "colorscale": [
             [
              0,
              "#0d0887"
             ],
             [
              0.1111111111111111,
              "#46039f"
             ],
             [
              0.2222222222222222,
              "#7201a8"
             ],
             [
              0.3333333333333333,
              "#9c179e"
             ],
             [
              0.4444444444444444,
              "#bd3786"
             ],
             [
              0.5555555555555556,
              "#d8576b"
             ],
             [
              0.6666666666666666,
              "#ed7953"
             ],
             [
              0.7777777777777778,
              "#fb9f3a"
             ],
             [
              0.8888888888888888,
              "#fdca26"
             ],
             [
              1,
              "#f0f921"
             ]
            ],
            "type": "heatmap"
           }
          ],
          "heatmapgl": [
           {
            "colorbar": {
             "outlinewidth": 0,
             "ticks": ""
            },
            "colorscale": [
             [
              0,
              "#0d0887"
             ],
             [
              0.1111111111111111,
              "#46039f"
             ],
             [
              0.2222222222222222,
              "#7201a8"
             ],
             [
              0.3333333333333333,
              "#9c179e"
             ],
             [
              0.4444444444444444,
              "#bd3786"
             ],
             [
              0.5555555555555556,
              "#d8576b"
             ],
             [
              0.6666666666666666,
              "#ed7953"
             ],
             [
              0.7777777777777778,
              "#fb9f3a"
             ],
             [
              0.8888888888888888,
              "#fdca26"
             ],
             [
              1,
              "#f0f921"
             ]
            ],
            "type": "heatmapgl"
           }
          ],
          "histogram": [
           {
            "marker": {
             "pattern": {
              "fillmode": "overlay",
              "size": 10,
              "solidity": 0.2
             }
            },
            "type": "histogram"
           }
          ],
          "histogram2d": [
           {
            "colorbar": {
             "outlinewidth": 0,
             "ticks": ""
            },
            "colorscale": [
             [
              0,
              "#0d0887"
             ],
             [
              0.1111111111111111,
              "#46039f"
             ],
             [
              0.2222222222222222,
              "#7201a8"
             ],
             [
              0.3333333333333333,
              "#9c179e"
             ],
             [
              0.4444444444444444,
              "#bd3786"
             ],
             [
              0.5555555555555556,
              "#d8576b"
             ],
             [
              0.6666666666666666,
              "#ed7953"
             ],
             [
              0.7777777777777778,
              "#fb9f3a"
             ],
             [
              0.8888888888888888,
              "#fdca26"
             ],
             [
              1,
              "#f0f921"
             ]
            ],
            "type": "histogram2d"
           }
          ],
          "histogram2dcontour": [
           {
            "colorbar": {
             "outlinewidth": 0,
             "ticks": ""
            },
            "colorscale": [
             [
              0,
              "#0d0887"
             ],
             [
              0.1111111111111111,
              "#46039f"
             ],
             [
              0.2222222222222222,
              "#7201a8"
             ],
             [
              0.3333333333333333,
              "#9c179e"
             ],
             [
              0.4444444444444444,
              "#bd3786"
             ],
             [
              0.5555555555555556,
              "#d8576b"
             ],
             [
              0.6666666666666666,
              "#ed7953"
             ],
             [
              0.7777777777777778,
              "#fb9f3a"
             ],
             [
              0.8888888888888888,
              "#fdca26"
             ],
             [
              1,
              "#f0f921"
             ]
            ],
            "type": "histogram2dcontour"
           }
          ],
          "mesh3d": [
           {
            "colorbar": {
             "outlinewidth": 0,
             "ticks": ""
            },
            "type": "mesh3d"
           }
          ],
          "parcoords": [
           {
            "line": {
             "colorbar": {
              "outlinewidth": 0,
              "ticks": ""
             }
            },
            "type": "parcoords"
           }
          ],
          "pie": [
           {
            "automargin": true,
            "type": "pie"
           }
          ],
          "scatter": [
           {
            "fillpattern": {
             "fillmode": "overlay",
             "size": 10,
             "solidity": 0.2
            },
            "type": "scatter"
           }
          ],
          "scatter3d": [
           {
            "line": {
             "colorbar": {
              "outlinewidth": 0,
              "ticks": ""
             }
            },
            "marker": {
             "colorbar": {
              "outlinewidth": 0,
              "ticks": ""
             }
            },
            "type": "scatter3d"
           }
          ],
          "scattercarpet": [
           {
            "marker": {
             "colorbar": {
              "outlinewidth": 0,
              "ticks": ""
             }
            },
            "type": "scattercarpet"
           }
          ],
          "scattergeo": [
           {
            "marker": {
             "colorbar": {
              "outlinewidth": 0,
              "ticks": ""
             }
            },
            "type": "scattergeo"
           }
          ],
          "scattergl": [
           {
            "marker": {
             "colorbar": {
              "outlinewidth": 0,
              "ticks": ""
             }
            },
            "type": "scattergl"
           }
          ],
          "scattermapbox": [
           {
            "marker": {
             "colorbar": {
              "outlinewidth": 0,
              "ticks": ""
             }
            },
            "type": "scattermapbox"
           }
          ],
          "scatterpolar": [
           {
            "marker": {
             "colorbar": {
              "outlinewidth": 0,
              "ticks": ""
             }
            },
            "type": "scatterpolar"
           }
          ],
          "scatterpolargl": [
           {
            "marker": {
             "colorbar": {
              "outlinewidth": 0,
              "ticks": ""
             }
            },
            "type": "scatterpolargl"
           }
          ],
          "scatterternary": [
           {
            "marker": {
             "colorbar": {
              "outlinewidth": 0,
              "ticks": ""
             }
            },
            "type": "scatterternary"
           }
          ],
          "surface": [
           {
            "colorbar": {
             "outlinewidth": 0,
             "ticks": ""
            },
            "colorscale": [
             [
              0,
              "#0d0887"
             ],
             [
              0.1111111111111111,
              "#46039f"
             ],
             [
              0.2222222222222222,
              "#7201a8"
             ],
             [
              0.3333333333333333,
              "#9c179e"
             ],
             [
              0.4444444444444444,
              "#bd3786"
             ],
             [
              0.5555555555555556,
              "#d8576b"
             ],
             [
              0.6666666666666666,
              "#ed7953"
             ],
             [
              0.7777777777777778,
              "#fb9f3a"
             ],
             [
              0.8888888888888888,
              "#fdca26"
             ],
             [
              1,
              "#f0f921"
             ]
            ],
            "type": "surface"
           }
          ],
          "table": [
           {
            "cells": {
             "fill": {
              "color": "#EBF0F8"
             },
             "line": {
              "color": "white"
             }
            },
            "header": {
             "fill": {
              "color": "#C8D4E3"
             },
             "line": {
              "color": "white"
             }
            },
            "type": "table"
           }
          ]
         },
         "layout": {
          "annotationdefaults": {
           "arrowcolor": "#2a3f5f",
           "arrowhead": 0,
           "arrowwidth": 1
          },
          "autotypenumbers": "strict",
          "coloraxis": {
           "colorbar": {
            "outlinewidth": 0,
            "ticks": ""
           }
          },
          "colorscale": {
           "diverging": [
            [
             0,
             "#8e0152"
            ],
            [
             0.1,
             "#c51b7d"
            ],
            [
             0.2,
             "#de77ae"
            ],
            [
             0.3,
             "#f1b6da"
            ],
            [
             0.4,
             "#fde0ef"
            ],
            [
             0.5,
             "#f7f7f7"
            ],
            [
             0.6,
             "#e6f5d0"
            ],
            [
             0.7,
             "#b8e186"
            ],
            [
             0.8,
             "#7fbc41"
            ],
            [
             0.9,
             "#4d9221"
            ],
            [
             1,
             "#276419"
            ]
           ],
           "sequential": [
            [
             0,
             "#0d0887"
            ],
            [
             0.1111111111111111,
             "#46039f"
            ],
            [
             0.2222222222222222,
             "#7201a8"
            ],
            [
             0.3333333333333333,
             "#9c179e"
            ],
            [
             0.4444444444444444,
             "#bd3786"
            ],
            [
             0.5555555555555556,
             "#d8576b"
            ],
            [
             0.6666666666666666,
             "#ed7953"
            ],
            [
             0.7777777777777778,
             "#fb9f3a"
            ],
            [
             0.8888888888888888,
             "#fdca26"
            ],
            [
             1,
             "#f0f921"
            ]
           ],
           "sequentialminus": [
            [
             0,
             "#0d0887"
            ],
            [
             0.1111111111111111,
             "#46039f"
            ],
            [
             0.2222222222222222,
             "#7201a8"
            ],
            [
             0.3333333333333333,
             "#9c179e"
            ],
            [
             0.4444444444444444,
             "#bd3786"
            ],
            [
             0.5555555555555556,
             "#d8576b"
            ],
            [
             0.6666666666666666,
             "#ed7953"
            ],
            [
             0.7777777777777778,
             "#fb9f3a"
            ],
            [
             0.8888888888888888,
             "#fdca26"
            ],
            [
             1,
             "#f0f921"
            ]
           ]
          },
          "colorway": [
           "#636efa",
           "#EF553B",
           "#00cc96",
           "#ab63fa",
           "#FFA15A",
           "#19d3f3",
           "#FF6692",
           "#B6E880",
           "#FF97FF",
           "#FECB52"
          ],
          "font": {
           "color": "#2a3f5f"
          },
          "geo": {
           "bgcolor": "white",
           "lakecolor": "white",
           "landcolor": "#E5ECF6",
           "showlakes": true,
           "showland": true,
           "subunitcolor": "white"
          },
          "hoverlabel": {
           "align": "left"
          },
          "hovermode": "closest",
          "mapbox": {
           "style": "light"
          },
          "paper_bgcolor": "white",
          "plot_bgcolor": "#E5ECF6",
          "polar": {
           "angularaxis": {
            "gridcolor": "white",
            "linecolor": "white",
            "ticks": ""
           },
           "bgcolor": "#E5ECF6",
           "radialaxis": {
            "gridcolor": "white",
            "linecolor": "white",
            "ticks": ""
           }
          },
          "scene": {
           "xaxis": {
            "backgroundcolor": "#E5ECF6",
            "gridcolor": "white",
            "gridwidth": 2,
            "linecolor": "white",
            "showbackground": true,
            "ticks": "",
            "zerolinecolor": "white"
           },
           "yaxis": {
            "backgroundcolor": "#E5ECF6",
            "gridcolor": "white",
            "gridwidth": 2,
            "linecolor": "white",
            "showbackground": true,
            "ticks": "",
            "zerolinecolor": "white"
           },
           "zaxis": {
            "backgroundcolor": "#E5ECF6",
            "gridcolor": "white",
            "gridwidth": 2,
            "linecolor": "white",
            "showbackground": true,
            "ticks": "",
            "zerolinecolor": "white"
           }
          },
          "shapedefaults": {
           "line": {
            "color": "#2a3f5f"
           }
          },
          "ternary": {
           "aaxis": {
            "gridcolor": "white",
            "linecolor": "white",
            "ticks": ""
           },
           "baxis": {
            "gridcolor": "white",
            "linecolor": "white",
            "ticks": ""
           },
           "bgcolor": "#E5ECF6",
           "caxis": {
            "gridcolor": "white",
            "linecolor": "white",
            "ticks": ""
           }
          },
          "title": {
           "x": 0.05
          },
          "xaxis": {
           "automargin": true,
           "gridcolor": "white",
           "linecolor": "white",
           "ticks": "",
           "title": {
            "standoff": 15
           },
           "zerolinecolor": "white",
           "zerolinewidth": 2
          },
          "yaxis": {
           "automargin": true,
           "gridcolor": "white",
           "linecolor": "white",
           "ticks": "",
           "title": {
            "standoff": 15
           },
           "zerolinecolor": "white",
           "zerolinewidth": 2
          }
         }
        },
        "title": {
         "text": "LiDAR Points with Widest Flat Region Identified"
        },
        "xaxis": {
         "autorange": true,
         "range": [
          -2081.282972784368,
          2792.282972784368
         ],
         "title": {
          "text": "X Coordinate"
         },
         "type": "linear"
        },
        "yaxis": {
         "autorange": true,
         "range": [
          1448.7692307692307,
          507.2307692307692
         ],
         "title": {
          "text": "Y Coordinate"
         },
         "type": "linear"
        }
       }
      },
      "image/png": "[encoded data removed]",
      "text/html": [
       "<div>                            <div id=\"86ccc92a-d6be-4b53-bbb1-ab67ffb222d8\" class=\"plotly-graph-div\" style=\"height:525px; width:100%;\"></div>            <script type=\"text/javascript\">                require([\"plotly\"], function(Plotly) {                    window.PLOTLYENV=window.PLOTLYENV || {};                                    if (document.getElementById(\"86ccc92a-d6be-4b53-bbb1-ab67ffb222d8\")) {                    Plotly.newPlot(                        \"86ccc92a-d6be-4b53-bbb1-ab67ffb222d8\",                        [{\"hoverinfo\":\"text\",\"marker\":{\"color\":\"blue\",\"size\":10},\"mode\":\"markers\",\"name\":\"All Points\",\"text\":[\"Angle: 205.50\\u00b0, X: -1800, Y: 647\",\"Angle: 206.00\\u00b0, X: -1767, Y: 652\",\"Angle: 206.50\\u00b0, X: -1732, Y: 656\",\"Angle: 207.00\\u00b0, X: -1720, Y: 669\",\"Angle: 207.50\\u00b0, X: -1713, Y: 684\",\"Angle: 208.00\\u00b0, X: -1703, Y: 697\",\"Angle: 208.50\\u00b0, X: -1691, Y: 709\",\"Angle: 209.00\\u00b0, X: -1680, Y: 722\",\"Angle: 209.50\\u00b0, X: -1661, Y: 731\",\"Angle: 210.00\\u00b0, X: -1642, Y: 740\",\"Angle: 210.50\\u00b0, X: -1623, Y: 749\",\"Angle: 211.00\\u00b0, X: -1605, Y: 757\",\"Angle: 211.50\\u00b0, X: -1530, Y: 738\",\"Angle: 212.00\\u00b0, X: -1492, Y: 736\",\"Angle: 212.50\\u00b0, X: -1474, Y: 743\",\"Angle: 213.00\\u00b0, X: -1447, Y: 745\",\"Angle: 213.50\\u00b0, X: -1420, Y: 748\",\"Angle: 214.00\\u00b0, X: -1397, Y: 751\",\"Angle: 214.50\\u00b0, X: -1371, Y: 752\",\"Angle: 215.00\\u00b0, X: -1352, Y: 757\",\"Angle: 215.50\\u00b0, X: -1336, Y: 764\",\"Angle: 216.00\\u00b0, X: -1327, Y: 774\",\"Angle: 216.50\\u00b0, X: -1295, Y: 771\",\"Angle: 217.00\\u00b0, X: -1265, Y: 768\",\"Angle: 217.50\\u00b0, X: -1241, Y: 768\",\"Angle: 218.00\\u00b0, X: -1226, Y: 774\",\"Angle: 218.50\\u00b0, X: -1211, Y: 779\",\"Angle: 219.00\\u00b0, X: -1196, Y: 784\",\"Angle: 219.50\\u00b0, X: -1180, Y: 789\",\"Angle: 220.00\\u00b0, X: -1161, Y: 791\",\"Angle: 220.50\\u00b0, X: -1141, Y: 792\",\"Angle: 221.00\\u00b0, X: -1123, Y: 794\",\"Angle: 221.50\\u00b0, X: -1101, Y: 793\",\"Angle: 222.00\\u00b0, X: -1082, Y: 794\",\"Angle: 222.50\\u00b0, X: -1065, Y: 796\",\"Angle: 223.00\\u00b0, X: -1048, Y: 797\",\"Angle: 223.50\\u00b0, X: -1031, Y: 799\",\"Angle: 224.00\\u00b0, X: -1017, Y: 802\",\"Angle: 224.50\\u00b0, X: -1004, Y: 806\",\"Angle: 225.00\\u00b0, X: -989, Y: 809\",\"Angle: 225.50\\u00b0, X: -974, Y: 810\",\"Angle: 226.00\\u00b0, X: -958, Y: 811\",\"Angle: 226.50\\u00b0, X: -942, Y: 812\",\"Angle: 227.00\\u00b0, X: -926, Y: 813\",\"Angle: 227.50\\u00b0, X: -910, Y: 812\",\"Angle: 228.00\\u00b0, X: -895, Y: 813\",\"Angle: 228.50\\u00b0, X: -877, Y: 811\",\"Angle: 229.00\\u00b0, X: -860, Y: 810\",\"Angle: 229.50\\u00b0, X: -847, Y: 811\",\"Angle: 230.00\\u00b0, X: -829, Y: 808\",\"Angle: 230.50\\u00b0, X: -811, Y: 805\",\"Angle: 231.00\\u00b0, X: -797, Y: 804\",\"Angle: 231.50\\u00b0, X: -782, Y: 803\",\"Angle: 232.00\\u00b0, X: -768, Y: 802\",\"Angle: 232.50\\u00b0, X: -756, Y: 804\",\"Angle: 233.00\\u00b0, X: -745, Y: 806\",\"Angle: 233.50\\u00b0, X: -726, Y: 799\",\"Angle: 234.00\\u00b0, X: -707, Y: 793\",\"Angle: 234.50\\u00b0, X: -688, Y: 785\",\"Angle: 235.00\\u00b0, X: -669, Y: 777\",\"Angle: 235.50\\u00b0, X: -651, Y: 769\",\"Angle: 236.00\\u00b0, X: -633, Y: 761\",\"Angle: 236.50\\u00b0, X: -615, Y: 753\",\"Angle: 237.00\\u00b0, X: -595, Y: 741\",\"Angle: 237.50\\u00b0, X: -578, Y: 733\",\"Angle: 238.00\\u00b0, X: -560, Y: 724\",\"Angle: 238.50\\u00b0, X: -543, Y: 714\",\"Angle: 239.00\\u00b0, X: -530, Y: 710\",\"Angle: 239.50\\u00b0, X: -518, Y: 707\",\"Angle: 240.00\\u00b0, X: -506, Y: 703\",\"Angle: 240.50\\u00b0, X: -495, Y: 701\",\"Angle: 241.00\\u00b0, X: -482, Y: 696\",\"Angle: 241.50\\u00b0, X: -471, Y: 693\",\"Angle: 242.00\\u00b0, X: -459, Y: 688\",\"Angle: 242.50\\u00b0, X: -450, Y: 686\",\"Angle: 243.00\\u00b0, X: -437, Y: 680\",\"Angle: 243.50\\u00b0, X: -424, Y: 673\",\"Angle: 244.00\\u00b0, X: -403, Y: 653\",\"Angle: 244.50\\u00b0, X: -389, Y: 642\",\"Angle: 245.00\\u00b0, X: -380, Y: 639\",\"Angle: 245.50\\u00b0, X: -371, Y: 637\",\"Angle: 246.00\\u00b0, X: -365, Y: 640\",\"Angle: 246.50\\u00b0, X: -359, Y: 642\",\"Angle: 247.00\\u00b0, X: -352, Y: 643\",\"Angle: 247.50\\u00b0, X: -346, Y: 645\",\"Angle: 248.00\\u00b0, X: -341, Y: 648\",\"Angle: 248.50\\u00b0, X: -335, Y: 651\",\"Angle: 249.00\\u00b0, X: -329, Y: 654\",\"Angle: 249.50\\u00b0, X: -324, Y: 657\",\"Angle: 250.00\\u00b0, X: -318, Y: 661\",\"Angle: 250.50\\u00b0, X: -313, Y: 665\",\"Angle: 251.00\\u00b0, X: -307, Y: 668\",\"Angle: 251.50\\u00b0, X: -302, Y: 672\",\"Angle: 252.00\\u00b0, X: -297, Y: 676\",\"Angle: 252.50\\u00b0, X: -291, Y: 679\",\"Angle: 253.00\\u00b0, X: -286, Y: 682\",\"Angle: 253.50\\u00b0, X: -280, Y: 686\",\"Angle: 254.00\\u00b0, X: -274, Y: 688\",\"Angle: 254.50\\u00b0, X: -268, Y: 692\",\"Angle: 255.00\\u00b0, X: -263, Y: 696\",\"Angle: 255.50\\u00b0, X: -258, Y: 701\",\"Angle: 256.00\\u00b0, X: -252, Y: 704\",\"Angle: 256.50\\u00b0, X: -249, Y: 713\",\"Angle: 257.00\\u00b0, X: -245, Y: 723\",\"Angle: 257.50\\u00b0, X: -241, Y: 734\",\"Angle: 258.00\\u00b0, X: -238, Y: 744\",\"Angle: 258.50\\u00b0, X: -235, Y: 760\",\"Angle: 259.00\\u00b0, X: -232, Y: 772\",\"Angle: 259.50\\u00b0, X: -228, Y: 783\",\"Angle: 260.00\\u00b0, X: -228, Y: 811\",\"Angle: 260.50\\u00b0, X: -228, Y: 839\",\"Angle: 261.00\\u00b0, X: -224, Y: 855\",\"Angle: 261.50\\u00b0, X: -224, Y: 884\",\"Angle: 262.00\\u00b0, X: -224, Y: 920\",\"Angle: 262.50\\u00b0, X: -220, Y: 936\",\"Angle: 263.00\\u00b0, X: -215, Y: 955\",\"Angle: 263.50\\u00b0, X: -209, Y: 967\",\"Angle: 264.00\\u00b0, X: -202, Y: 977\",\"Angle: 264.50\\u00b0, X: -195, Y: 984\",\"Angle: 265.00\\u00b0, X: -189, Y: 999\",\"Angle: 265.50\\u00b0, X: -188, Y: 1046\",\"Angle: 266.00\\u00b0, X: -188, Y: 1100\",\"Angle: 266.50\\u00b0, X: -196, Y: 1209\",\"Angle: 267.00\\u00b0, X: -189, Y: 1231\",\"Angle: 267.50\\u00b0, X: -179, Y: 1242\",\"Angle: 268.00\\u00b0, X: -173, Y: 1278\",\"Angle: 268.50\\u00b0, X: -170, Y: 1340\",\"Angle: 269.00\\u00b0, X: -159, Y: 1347\",\"Angle: 269.50\\u00b0, X: -147, Y: 1354\",\"Angle: 270.00\\u00b0, X: -136, Y: 1359\",\"Angle: 270.50\\u00b0, X: -124, Y: 1362\",\"Angle: 271.00\\u00b0, X: -113, Y: 1364\",\"Angle: 271.50\\u00b0, X: -101, Y: 1366\",\"Angle: 272.00\\u00b0, X: -89, Y: 1368\",\"Angle: 272.50\\u00b0, X: -77, Y: 1369\",\"Angle: 273.00\\u00b0, X: -65, Y: 1368\",\"Angle: 273.50\\u00b0, X: -53, Y: 1368\",\"Angle: 274.00\\u00b0, X: -41, Y: 1363\",\"Angle: 274.50\\u00b0, X: -29, Y: 1356\",\"Angle: 275.00\\u00b0, X: -17, Y: 1351\",\"Angle: 275.50\\u00b0, X: -5, Y: 1342\",\"Angle: 276.00\\u00b0, X: 6, Y: 1338\",\"Angle: 276.50\\u00b0, X: 17, Y: 1335\",\"Angle: 277.00\\u00b0, X: 29, Y: 1331\",\"Angle: 277.50\\u00b0, X: 40, Y: 1328\",\"Angle: 278.00\\u00b0, X: 52, Y: 1326\",\"Angle: 278.50\\u00b0, X: 63, Y: 1323\",\"Angle: 279.00\\u00b0, X: 75, Y: 1319\",\"Angle: 279.50\\u00b0, X: 86, Y: 1314\",\"Angle: 280.00\\u00b0, X: 97, Y: 1312\",\"Angle: 280.50\\u00b0, X: 109, Y: 1308\",\"Angle: 281.00\\u00b0, X: 120, Y: 1302\",\"Angle: 281.50\\u00b0, X: 131, Y: 1298\",\"Angle: 282.00\\u00b0, X: 141, Y: 1292\",\"Angle: 282.50\\u00b0, X: 152, Y: 1286\",\"Angle: 283.00\\u00b0, X: 162, Y: 1272\",\"Angle: 283.50\\u00b0, X: 170, Y: 1251\",\"Angle: 284.00\\u00b0, X: 178, Y: 1225\",\"Angle: 284.50\\u00b0, X: 185, Y: 1203\",\"Angle: 285.00\\u00b0, X: 192, Y: 1181\",\"Angle: 285.50\\u00b0, X: 196, Y: 1141\",\"Angle: 286.00\\u00b0, X: 196, Y: 1085\",\"Angle: 286.50\\u00b0, X: 191, Y: 1007\",\"Angle: 287.00\\u00b0, X: 191, Y: 962\",\"Angle: 287.50\\u00b0, X: 196, Y: 945\",\"Angle: 288.00\\u00b0, X: 203, Y: 933\",\"Angle: 288.50\\u00b0, X: 208, Y: 919\",\"Angle: 289.00\\u00b0, X: 212, Y: 902\",\"Angle: 289.50\\u00b0, X: 217, Y: 888\",\"Angle: 290.00\\u00b0, X: 222, Y: 874\",\"Angle: 290.50\\u00b0, X: 227, Y: 862\",\"Angle: 291.00\\u00b0, X: 232, Y: 852\",\"Angle: 291.50\\u00b0, X: 238, Y: 845\",\"Angle: 292.00\\u00b0, X: 243, Y: 835\",\"Angle: 292.50\\u00b0, X: 249, Y: 827\",\"Angle: 293.00\\u00b0, X: 253, Y: 816\",\"Angle: 293.50\\u00b0, X: 258, Y: 807\",\"Angle: 294.00\\u00b0, X: 263, Y: 798\",\"Angle: 294.50\\u00b0, X: 267, Y: 786\",\"Angle: 295.00\\u00b0, X: 272, Y: 780\",\"Angle: 295.50\\u00b0, X: 277, Y: 772\",\"Angle: 296.00\\u00b0, X: 282, Y: 763\",\"Angle: 296.50\\u00b0, X: 287, Y: 757\",\"Angle: 297.00\\u00b0, X: 291, Y: 749\",\"Angle: 297.50\\u00b0, X: 296, Y: 743\",\"Angle: 298.00\\u00b0, X: 301, Y: 735\",\"Angle: 298.50\\u00b0, X: 305, Y: 728\",\"Angle: 299.00\\u00b0, X: 310, Y: 721\",\"Angle: 299.50\\u00b0, X: 314, Y: 714\",\"Angle: 300.00\\u00b0, X: 319, Y: 708\",\"Angle: 300.50\\u00b0, X: 323, Y: 702\",\"Angle: 301.00\\u00b0, X: 328, Y: 695\",\"Angle: 301.50\\u00b0, X: 332, Y: 688\",\"Angle: 302.00\\u00b0, X: 336, Y: 681\",\"Angle: 302.50\\u00b0, X: 340, Y: 674\",\"Angle: 303.00\\u00b0, X: 344, Y: 667\",\"Angle: 303.50\\u00b0, X: 347, Y: 660\",\"Angle: 304.00\\u00b0, X: 352, Y: 654\",\"Angle: 304.50\\u00b0, X: 355, Y: 647\",\"Angle: 305.00\\u00b0, X: 360, Y: 642\",\"Angle: 305.50\\u00b0, X: 364, Y: 637\",\"Angle: 306.00\\u00b0, X: 368, Y: 632\",\"Angle: 306.50\\u00b0, X: 373, Y: 627\",\"Angle: 307.00\\u00b0, X: 377, Y: 622\",\"Angle: 307.50\\u00b0, X: 383, Y: 618\",\"Angle: 308.00\\u00b0, X: 388, Y: 614\",\"Angle: 308.50\\u00b0, X: 394, Y: 612\",\"Angle: 309.00\\u00b0, X: 401, Y: 612\",\"Angle: 309.50\\u00b0, X: 408, Y: 611\",\"Angle: 310.00\\u00b0, X: 418, Y: 614\",\"Angle: 310.50\\u00b0, X: 431, Y: 620\",\"Angle: 311.00\\u00b0, X: 439, Y: 620\",\"Angle: 311.50\\u00b0, X: 451, Y: 627\",\"Angle: 312.00\\u00b0, X: 465, Y: 634\",\"Angle: 312.50\\u00b0, X: 475, Y: 635\",\"Angle: 313.00\\u00b0, X: 486, Y: 639\",\"Angle: 313.50\\u00b0, X: 500, Y: 646\",\"Angle: 314.00\\u00b0, X: 515, Y: 652\",\"Angle: 314.50\\u00b0, X: 526, Y: 655\",\"Angle: 315.00\\u00b0, X: 543, Y: 664\",\"Angle: 315.50\\u00b0, X: 557, Y: 670\",\"Angle: 316.00\\u00b0, X: 569, Y: 672\",\"Angle: 316.50\\u00b0, X: 586, Y: 680\",\"Angle: 317.00\\u00b0, X: 602, Y: 686\",\"Angle: 317.50\\u00b0, X: 616, Y: 690\",\"Angle: 318.00\\u00b0, X: 629, Y: 692\",\"Angle: 318.50\\u00b0, X: 643, Y: 695\",\"Angle: 319.00\\u00b0, X: 655, Y: 696\",\"Angle: 319.50\\u00b0, X: 666, Y: 696\",\"Angle: 320.00\\u00b0, X: 677, Y: 695\",\"Angle: 320.50\\u00b0, X: 687, Y: 693\",\"Angle: 321.00\\u00b0, X: 697, Y: 691\",\"Angle: 321.50\\u00b0, X: 705, Y: 687\",\"Angle: 322.00\\u00b0, X: 715, Y: 684\",\"Angle: 322.50\\u00b0, X: 724, Y: 681\",\"Angle: 323.00\\u00b0, X: 731, Y: 676\",\"Angle: 323.50\\u00b0, X: 741, Y: 673\",\"Angle: 324.00\\u00b0, X: 750, Y: 669\",\"Angle: 324.50\\u00b0, X: 757, Y: 664\",\"Angle: 325.00\\u00b0, X: 766, Y: 660\",\"Angle: 325.50\\u00b0, X: 774, Y: 655\",\"Angle: 326.00\\u00b0, X: 784, Y: 652\",\"Angle: 326.50\\u00b0, X: 792, Y: 647\",\"Angle: 327.00\\u00b0, X: 802, Y: 643\",\"Angle: 327.50\\u00b0, X: 813, Y: 640\",\"Angle: 328.00\\u00b0, X: 824, Y: 638\",\"Angle: 328.50\\u00b0, X: 840, Y: 639\",\"Angle: 329.00\\u00b0, X: 852, Y: 636\",\"Angle: 329.50\\u00b0, X: 865, Y: 633\",\"Angle: 330.00\\u00b0, X: 881, Y: 634\",\"Angle: 330.50\\u00b0, X: 897, Y: 633\",\"Angle: 331.00\\u00b0, X: 905, Y: 627\",\"Angle: 331.50\\u00b0, X: 922, Y: 627\",\"Angle: 332.00\\u00b0, X: 939, Y: 627\",\"Angle: 332.50\\u00b0, X: 949, Y: 622\",\"Angle: 333.00\\u00b0, X: 963, Y: 619\",\"Angle: 333.50\\u00b0, X: 976, Y: 615\",\"Angle: 334.00\\u00b0, X: 985, Y: 609\",\"Angle: 334.50\\u00b0, X: 995, Y: 603\",\"Angle: 335.00\\u00b0, X: 1007, Y: 598\",\"Angle: 335.50\\u00b0, X: 1015, Y: 592\",\"Angle: 336.00\\u00b0, X: 1028, Y: 587\",\"Angle: 336.50\\u00b0, X: 1071, Y: 599\",\"Angle: 337.00\\u00b0, X: 1136, Y: 623\",\"Angle: 337.50\\u00b0, X: 1179, Y: 633\",\"Angle: 338.00\\u00b0, X: 1271, Y: 668\",\"Angle: 338.50\\u00b0, X: 1570, Y: 808\",\"Angle: 339.00\\u00b0, X: 1678, Y: 845\",\"Angle: 339.50\\u00b0, X: 1750, Y: 862\",\"Angle: 340.00\\u00b0, X: 1762, Y: 849\",\"Angle: 340.50\\u00b0, X: 1793, Y: 845\",\"Angle: 341.00\\u00b0, X: 1960, Y: 903\",\"Angle: 341.50\\u00b0, X: 2044, Y: 920\",\"Angle: 342.00\\u00b0, X: 2095, Y: 921\",\"Angle: 342.50\\u00b0, X: 2137, Y: 917\",\"Angle: 343.00\\u00b0, X: 2207, Y: 924\",\"Angle: 343.50\\u00b0, X: 2275, Y: 930\",\"Angle: 344.00\\u00b0, X: 2316, Y: 923\",\"Angle: 344.50\\u00b0, X: 2390, Y: 928\",\"Angle: 345.00\\u00b0, X: 2465, Y: 933\",\"Angle: 345.50\\u00b0, X: 2511, Y: 925\"],\"x\":[-1800,-1767,-1732,-1720,-1713,-1703,-1691,-1680,-1661,-1642,-1623,-1605,-1530,-1492,-1474,-1447,-1420,-1397,-1371,-1352,-1336,-1327,-1295,-1265,-1241,-1226,-1211,-1196,-1180,-1161,-1141,-1123,-1101,-1082,-1065,-1048,-1031,-1017,-1004,-989,-974,-958,-942,-926,-910,-895,-877,-860,-847,-829,-811,-797,-782,-768,-756,-745,-726,-707,-688,-669,-651,-633,-615,-595,-578,-560,-543,-530,-518,-506,-495,-482,-471,-459,-450,-437,-424,-403,-389,-380,-371,-365,-359,-352,-346,-341,-335,-329,-324,-318,-313,-307,-302,-297,-291,-286,-280,-274,-268,-263,-258,-252,-249,-245,-241,-238,-235,-232,-228,-228,-228,-224,-224,-224,-220,-215,-209,-202,-195,-189,-188,-188,-196,-189,-179,-173,-170,-159,-147,-136,-124,-113,-101,-89,-77,-65,-53,-41,-29,-17,-5,6,17,29,40,52,63,75,86,97,109,120,131,141,152,162,170,178,185,192,196,196,191,191,196,203,208,212,217,222,227,232,238,243,249,253,258,263,267,272,277,282,287,291,296,301,305,310,314,319,323,328,332,336,340,344,347,352,355,360,364,368,373,377,383,388,394,401,408,418,431,439,451,465,475,486,500,515,526,543,557,569,586,602,616,629,643,655,666,677,687,697,705,715,724,731,741,750,757,766,774,784,792,802,813,824,840,852,865,881,897,905,922,939,949,963,976,985,995,1007,1015,1028,1071,1136,1179,1271,1570,1678,1750,1762,1793,1960,2044,2095,2137,2207,2275,2316,2390,2465,2511],\"y\":[647,652,656,669,684,697,709,722,731,740,749,757,738,736,743,745,748,751,752,757,764,774,771,768,768,774,779,784,789,791,792,794,793,794,796,797,799,802,806,809,810,811,812,813,812,813,811,810,811,808,805,804,803,802,804,806,799,793,785,777,769,761,753,741,733,724,714,710,707,703,701,696,693,688,686,680,673,653,642,639,637,640,642,643,645,648,651,654,657,661,665,668,672,676,679,682,686,688,692,696,701,704,713,723,734,744,760,772,783,811,839,855,884,920,936,955,967,977,984,999,1046,1100,1209,1231,1242,1278,1340,1347,1354,1359,1362,1364,1366,1368,1369,1368,1368,1363,1356,1351,1342,1338,1335,1331,1328,1326,1323,1319,1314,1312,1308,1302,1298,1292,1286,1272,1251,1225,1203,1181,1141,1085,1007,962,945,933,919,902,888,874,862,852,845,835,827,816,807,798,786,780,772,763,757,749,743,735,728,721,714,708,702,695,688,681,674,667,660,654,647,642,637,632,627,622,618,614,612,612,611,614,620,620,627,634,635,639,646,652,655,664,670,672,680,686,690,692,695,696,696,695,693,691,687,684,681,676,673,669,664,660,655,652,647,643,640,638,639,636,633,634,633,627,627,627,622,619,615,609,603,598,592,587,599,623,633,668,808,845,862,849,845,903,920,921,917,924,930,923,928,933,925],\"type\":\"scatter\"},{\"hoverinfo\":\"text\",\"line\":{\"color\":\"red\",\"width\":2},\"marker\":{\"color\":\"red\",\"size\":10},\"mode\":\"markers+lines\",\"name\":\"Widest Flat Region\",\"text\":[\"Widest Flat Region: Angle: 343.00\\u00b0, X: 2207, Y: 924\",\"Widest Flat Region: Angle: 343.50\\u00b0, X: 2275, Y: 930\",\"Widest Flat Region: Angle: 344.00\\u00b0, X: 2316, Y: 923\",\"Widest Flat Region: Angle: 344.50\\u00b0, X: 2390, Y: 928\",\"Widest Flat Region: Angle: 345.00\\u00b0, X: 2465, Y: 933\",\"Widest Flat Region: Angle: 345.50\\u00b0, X: 2511, Y: 925\"],\"x\":[2207,2275,2316,2390,2465,2511],\"y\":[924,930,923,928,933,925],\"type\":\"scatter\"}],                        {\"template\":{\"data\":{\"histogram2dcontour\":[{\"type\":\"histogram2dcontour\",\"colorbar\":{\"outlinewidth\":0,\"ticks\":\"\"},\"colorscale\":[[0.0,\"#0d0887\"],[0.1111111111111111,\"#46039f\"],[0.2222222222222222,\"#7201a8\"],[0.3333333333333333,\"#9c179e\"],[0.4444444444444444,\"#bd3786\"],[0.5555555555555556,\"#d8576b\"],[0.6666666666666666,\"#ed7953\"],[0.7777777777777778,\"#fb9f3a\"],[0.8888888888888888,\"#fdca26\"],[1.0,\"#f0f921\"]]}],\"choropleth\":[{\"type\":\"choropleth\",\"colorbar\":{\"outlinewidth\":0,\"ticks\":\"\"}}],\"histogram2d\":[{\"type\":\"histogram2d\",\"colorbar\":{\"outlinewidth\":0,\"ticks\":\"\"},\"colorscale\":[[0.0,\"#0d0887\"],[0.1111111111111111,\"#46039f\"],[0.2222222222222222,\"#7201a8\"],[0.3333333333333333,\"#9c179e\"],[0.4444444444444444,\"#bd3786\"],[0.5555555555555556,\"#d8576b\"],[0.6666666666666666,\"#ed7953\"],[0.7777777777777778,\"#fb9f3a\"],[0.8888888888888888,\"#fdca26\"],[1.0,\"#f0f921\"]]}],\"heatmap\":[{\"type\":\"heatmap\",\"colorbar\":{\"outlinewidth\":0,\"ticks\":\"\"},\"colorscale\":[[0.0,\"#0d0887\"],[0.1111111111111111,\"#46039f\"],[0.2222222222222222,\"#7201a8\"],[0.3333333333333333,\"#9c179e\"],[0.4444444444444444,\"#bd3786\"],[0.5555555555555556,\"#d8576b\"],[0.6666666666666666,\"#ed7953\"],[0.7777777777777778,\"#fb9f3a\"],[0.8888888888888888,\"#fdca26\"],[1.0,\"#f0f921\"]]}],\"heatmapgl\":[{\"type\":\"heatmapgl\",\"colorbar\":{\"outlinewidth\":0,\"ticks\":\"\"},\"colorscale\":[[0.0,\"#0d0887\"],[0.1111111111111111,\"#46039f\"],[0.2222222222222222,\"#7201a8\"],[0.3333333333333333,\"#9c179e\"],[0.4444444444444444,\"#bd3786\"],[0.5555555555555556,\"#d8576b\"],[0.6666666666666666,\"#ed7953\"],[0.7777777777777778,\"#fb9f3a\"],[0.8888888888888888,\"#fdca26\"],[1.0,\"#f0f921\"]]}],\"contourcarpet\":[{\"type\":\"contourcarpet\",\"colorbar\":{\"outlinewidth\":0,\"ticks\":\"\"}}],\"contour\":[{\"type\":\"contour\",\"colorbar\":{\"outlinewidth\":0,\"ticks\":\"\"},\"colorscale\":[[0.0,\"#0d0887\"],[0.1111111111111111,\"#46039f\"],[0.2222222222222222,\"#7201a8\"],[0.3333333333333333,\"#9c179e\"],[0.4444444444444444,\"#bd3786\"],[0.5555555555555556,\"#d8576b\"],[0.6666666666666666,\"#ed7953\"],[0.7777777777777778,\"#fb9f3a\"],[0.8888888888888888,\"#fdca26\"],[1.0,\"#f0f921\"]]}],\"surface\":[{\"type\":\"surface\",\"colorbar\":{\"outlinewidth\":0,\"ticks\":\"\"},\"colorscale\":[[0.0,\"#0d0887\"],[0.1111111111111111,\"#46039f\"],[0.2222222222222222,\"#7201a8\"],[0.3333333333333333,\"#9c179e\"],[0.4444444444444444,\"#bd3786\"],[0.5555555555555556,\"#d8576b\"],[0.6666666666666666,\"#ed7953\"],[0.7777777777777778,\"#fb9f3a\"],[0.8888888888888888,\"#fdca26\"],[1.0,\"#f0f921\"]]}],\"mesh3d\":[{\"type\":\"mesh3d\",\"colorbar\":{\"outlinewidth\":0,\"ticks\":\"\"}}],\"scatter\":[{\"fillpattern\":{\"fillmode\":\"overlay\",\"size\":10,\"solidity\":0.2},\"type\":\"scatter\"}],\"parcoords\":[{\"type\":\"parcoords\",\"line\":{\"colorbar\":{\"outlinewidth\":0,\"ticks\":\"\"}}}],\"scatterpolargl\":[{\"type\":\"scatterpolargl\",\"marker\":{\"colorbar\":{\"outlinewidth\":0,\"ticks\":\"\"}}}],\"bar\":[{\"error_x\":{\"color\":\"#2a3f5f\"},\"error_y\":{\"color\":\"#2a3f5f\"},\"marker\":{\"line\":{\"color\":\"#E5ECF6\",\"width\":0.5},\"pattern\":{\"fillmode\":\"overlay\",\"size\":10,\"solidity\":0.2}},\"type\":\"bar\"}],\"scattergeo\":[{\"type\":\"scattergeo\",\"marker\":{\"colorbar\":{\"outlinewidth\":0,\"ticks\":\"\"}}}],\"scatterpolar\":[{\"type\":\"scatterpolar\",\"marker\":{\"colorbar\":{\"outlinewidth\":0,\"ticks\":\"\"}}}],\"histogram\":[{\"marker\":{\"pattern\":{\"fillmode\":\"overlay\",\"size\":10,\"solidity\":0.2}},\"type\":\"histogram\"}],\"scattergl\":[{\"type\":\"scattergl\",\"marker\":{\"colorbar\":{\"outlinewidth\":0,\"ticks\":\"\"}}}],\"scatter3d\":[{\"type\":\"scatter3d\",\"line\":{\"colorbar\":{\"outlinewidth\":0,\"ticks\":\"\"}},\"marker\":{\"colorbar\":{\"outlinewidth\":0,\"ticks\":\"\"}}}],\"scattermapbox\":[{\"type\":\"scattermapbox\",\"marker\":{\"colorbar\":{\"outlinewidth\":0,\"ticks\":\"\"}}}],\"scatterternary\":[{\"type\":\"scatterternary\",\"marker\":{\"colorbar\":{\"outlinewidth\":0,\"ticks\":\"\"}}}],\"scattercarpet\":[{\"type\":\"scattercarpet\",\"marker\":{\"colorbar\":{\"outlinewidth\":0,\"ticks\":\"\"}}}],\"carpet\":[{\"aaxis\":{\"endlinecolor\":\"#2a3f5f\",\"gridcolor\":\"white\",\"linecolor\":\"white\",\"minorgridcolor\":\"white\",\"startlinecolor\":\"#2a3f5f\"},\"baxis\":{\"endlinecolor\":\"#2a3f5f\",\"gridcolor\":\"white\",\"linecolor\":\"white\",\"minorgridcolor\":\"white\",\"startlinecolor\":\"#2a3f5f\"},\"type\":\"carpet\"}],\"table\":[{\"cells\":{\"fill\":{\"color\":\"#EBF0F8\"},\"line\":{\"color\":\"white\"}},\"header\":{\"fill\":{\"color\":\"#C8D4E3\"},\"line\":{\"color\":\"white\"}},\"type\":\"table\"}],\"barpolar\":[{\"marker\":{\"line\":{\"color\":\"#E5ECF6\",\"width\":0.5},\"pattern\":{\"fillmode\":\"overlay\",\"size\":10,\"solidity\":0.2}},\"type\":\"barpolar\"}],\"pie\":[{\"automargin\":true,\"type\":\"pie\"}]},\"layout\":{\"autotypenumbers\":\"strict\",\"colorway\":[\"#636efa\",\"#EF553B\",\"#00cc96\",\"#ab63fa\",\"#FFA15A\",\"#19d3f3\",\"#FF6692\",\"#B6E880\",\"#FF97FF\",\"#FECB52\"],\"font\":{\"color\":\"#2a3f5f\"},\"hovermode\":\"closest\",\"hoverlabel\":{\"align\":\"left\"},\"paper_bgcolor\":\"white\",\"plot_bgcolor\":\"#E5ECF6\",\"polar\":{\"bgcolor\":\"#E5ECF6\",\"angularaxis\":{\"gridcolor\":\"white\",\"linecolor\":\"white\",\"ticks\":\"\"},\"radialaxis\":{\"gridcolor\":\"white\",\"linecolor\":\"white\",\"ticks\":\"\"}},\"ternary\":{\"bgcolor\":\"#E5ECF6\",\"aaxis\":{\"gridcolor\":\"white\",\"linecolor\":\"white\",\"ticks\":\"\"},\"baxis\":{\"gridcolor\":\"white\",\"linecolor\":\"white\",\"ticks\":\"\"},\"caxis\":{\"gridcolor\":\"white\",\"linecolor\":\"white\",\"ticks\":\"\"}},\"coloraxis\":{\"colorbar\":{\"outlinewidth\":0,\"ticks\":\"\"}},\"colorscale\":{\"sequential\":[[0.0,\"#0d0887\"],[0.1111111111111111,\"#46039f\"],[0.2222222222222222,\"#7201a8\"],[0.3333333333333333,\"#9c179e\"],[0.4444444444444444,\"#bd3786\"],[0.5555555555555556,\"#d8576b\"],[0.6666666666666666,\"#ed7953\"],[0.7777777777777778,\"#fb9f3a\"],[0.8888888888888888,\"#fdca26\"],[1.0,\"#f0f921\"]],\"sequentialminus\":[[0.0,\"#0d0887\"],[0.1111111111111111,\"#46039f\"],[0.2222222222222222,\"#7201a8\"],[0.3333333333333333,\"#9c179e\"],[0.4444444444444444,\"#bd3786\"],[0.5555555555555556,\"#d8576b\"],[0.6666666666666666,\"#ed7953\"],[0.7777777777777778,\"#fb9f3a\"],[0.8888888888888888,\"#fdca26\"],[1.0,\"#f0f921\"]],\"diverging\":[[0,\"#8e0152\"],[0.1,\"#c51b7d\"],[0.2,\"#de77ae\"],[0.3,\"#f1b6da\"],[0.4,\"#fde0ef\"],[0.5,\"#f7f7f7\"],[0.6,\"#e6f5d0\"],[0.7,\"#b8e186\"],[0.8,\"#7fbc41\"],[0.9,\"#4d9221\"],[1,\"#276419\"]]},\"xaxis\":{\"gridcolor\":\"white\",\"linecolor\":\"white\",\"ticks\":\"\",\"title\":{\"standoff\":15},\"zerolinecolor\":\"white\",\"automargin\":true,\"zerolinewidth\":2},\"yaxis\":{\"gridcolor\":\"white\",\"linecolor\":\"white\",\"ticks\":\"\",\"title\":{\"standoff\":15},\"zerolinecolor\":\"white\",\"automargin\":true,\"zerolinewidth\":2},\"scene\":{\"xaxis\":{\"backgroundcolor\":\"#E5ECF6\",\"gridcolor\":\"white\",\"linecolor\":\"white\",\"showbackground\":true,\"ticks\":\"\",\"zerolinecolor\":\"white\",\"gridwidth\":2},\"yaxis\":{\"backgroundcolor\":\"#E5ECF6\",\"gridcolor\":\"white\",\"linecolor\":\"white\",\"showbackground\":true,\"ticks\":\"\",\"zerolinecolor\":\"white\",\"gridwidth\":2},\"zaxis\":{\"backgroundcolor\":\"#E5ECF6\",\"gridcolor\":\"white\",\"linecolor\":\"white\",\"showbackground\":true,\"ticks\":\"\",\"zerolinecolor\":\"white\",\"gridwidth\":2}},\"shapedefaults\":{\"line\":{\"color\":\"#2a3f5f\"}},\"annotationdefaults\":{\"arrowcolor\":\"#2a3f5f\",\"arrowhead\":0,\"arrowwidth\":1},\"geo\":{\"bgcolor\":\"white\",\"landcolor\":\"#E5ECF6\",\"subunitcolor\":\"white\",\"showland\":true,\"showlakes\":true,\"lakecolor\":\"white\"},\"title\":{\"x\":0.05},\"mapbox\":{\"style\":\"light\"}}},\"yaxis\":{\"title\":{\"text\":\"Y Coordinate\"},\"autorange\":\"reversed\"},\"title\":{\"text\":\"LiDAR Points with Widest Flat Region Identified\"},\"xaxis\":{\"title\":{\"text\":\"X Coordinate\"}},\"showlegend\":true},                        {\"responsive\": true}                    ).then(function(){\n",
       "                            \n",
       "var gd = document.getElementById('86ccc92a-d6be-4b53-bbb1-ab67ffb222d8');\n",
       "var x = new MutationObserver(function (mutations, observer) {{\n",
       "        var display = window.getComputedStyle(gd).display;\n",
       "        if (!display || display === 'none') {{\n",
       "            console.log([gd, 'removed!']);\n",
       "            Plotly.purge(gd);\n",
       "            observer.disconnect();\n",
       "        }}\n",
       "}});\n",
       "\n",
       "// Listen for the removal of the full notebook cells\n",
       "var notebookContainer = gd.closest('#notebook-container');\n",
       "if (notebookContainer) {{\n",
       "    x.observe(notebookContainer, {childList: true});\n",
       "}}\n",
       "\n",
       "// Listen for the clearing of the current output cell\n",
       "var outputEl = gd.closest('.output');\n",
       "if (outputEl) {{\n",
       "    x.observe(outputEl, {childList: true});\n",
       "}}\n",
       "\n",
       "                        })                };                });            </script>        </div>"
      ]
     },
     "metadata": {},
     "output_type": "display_data"
    }
   ],
   "source": [
    "\"\"\"\n",
    "### Summary of the Code:\n",
    "\n",
    "- **Data Initialization:**\n",
    "  - Loads LiDAR data points with x and y coordinates from a dataset.\n",
    "  - Generates corresponding angles based on a specified range and step size.\n",
    "\n",
    "- **Flat Surface Detection:**\n",
    "  - The function `detect_flat_surface` identifies potential flat regions by scanning through the data points.\n",
    "  - It calculates the variance of y-coordinates within a moving window of points.\n",
    "  - If the variance is below a specified threshold, it considers those points as part of a flat surface.\n",
    "  - The function attempts to extend the flat region by adding more points while maintaining a low variance.\n",
    "\n",
    "- **Widest Flat Region Identification:**\n",
    "  - Among all detected flat surfaces, the code calculates the width (difference in x-coordinates between the start and end of the region).\n",
    "  - The widest flat region is identified by comparing these widths.\n",
    "\n",
    "- **Plotting:**\n",
    "  - All data points are plotted using Plotly.\n",
    "  - If a widest flat region is detected, it is highlighted on the plot in red.\n",
    "  - Hover text displays the angle, x, and y coordinates of each point.\n",
    "\n",
    "- **Output:**\n",
    "  - The plot is displayed and also saved as an interactive HTML file named \"WIDEST_FLAT.html.\"\n",
    "\n",
    "This code is designed to identify and visualize the widest flat surface in a set of LiDAR data, which can be useful for detecting stable, flat regions in the scanned environment.\n",
    "\n",
    "\"\"\"\n",
    "\n",
    "\n",
    "\n",
    "import numpy as np\n",
    "import plotly.graph_objects as go\n",
    "\n",
    "# Example data (replace with your full dataset)\n",
    "data = {\n",
    "    \"angles\": [\n",
    "            [-1800,647],[-1767,652],[-1732,656],[-1720,669],[-1713,684],[-1703,697],[-1691,709],[-1680,722],[-1661,731],[-1642,740],[-1623,749],[-1605,757],[-1530,738],[-1492,736],[-1474,743],[-1447,745],[-1420,748],[-1397,751],[-1371,752],[-1352,757],[-1336,764],[-1327,774],[-1295,771],[-1265,768],[-1241,768],[-1226,774],[-1211,779],[-1196,784],[-1180,789],[-1161,791],[-1141,792],[-1123,794],[-1101,793],[-1082,794],[-1065,796],[-1048,797],[-1031,799],[-1017,802],[-1004,806],[-989,809],[-974,810],[-958,811],[-942,812],[-926,813],[-910,812],[-895,813],[-877,811],[-860,810],[-847,811],[-829,808],[-811,805],[-797,804],[-782,803],[-768,802],[-756,804],[-745,806],[-726,799],[-707,793],[-688,785],[-669,777],[-651,769],[-633,761],[-615,753],[-595,741],[-578,733],[-560,724],[-543,714],[-530,710],[-518,707],[-506,703],[-495,701],[-482,696],[-471,693],[-459,688],[-450,686],[-437,680],[-424,673],[-403,653],[-389,642],[-380,639],[-371,637],[-365,640],[-359,642],[-352,643],[-346,645],[-341,648],[-335,651],[-329,654],[-324,657],[-318,661],[-313,665],[-307,668],[-302,672],[-297,676],[-291,679],[-286,682],[-280,686],[-274,688],[-268,692],[-263,696],[-258,701],[-252,704],[-249,713],[-245,723],[-241,734],[-238,744],[-235,760],[-232,772],[-228,783],[-228,811],[-228,839],[-224,855],[-224,884],[-224,920],[-220,936],[-215,955],[-209,967],[-202,977],[-195,984],[-189,999],[-188,1046],[-188,1100],[-196,1209],[-189,1231],[-179,1242],[-173,1278],[-170,1340],[-159,1347],[-147,1354],[-136,1359],[-124,1362],[-113,1364],[-101,1366],[-89,1368],[-77,1369],[-65,1368],[-53,1368],[-41,1363],[-29,1356],[-17,1351],[-5,1342],[6,1338],[17,1335],[29,1331],[40,1328],[52,1326],[63,1323],[75,1319],[86,1314],[97,1312],[109,1308],[120,1302],[131,1298],[141,1292],[152,1286],[162,1272],[170,1251],[178,1225],[185,1203],[192,1181],[196,1141],[196,1085],[191,1007],[191,962],[196,945],[203,933],[208,919],[212,902],[217,888],[222,874],[227,862],[232,852],[238,845],[243,835],[249,827],[253,816],[258,807],[263,798],[267,786],[272,780],[277,772],[282,763],[287,757],[291,749],[296,743],[301,735],[305,728],[310,721],[314,714],[319,708],[323,702],[328,695],[332,688],[336,681],[340,674],[344,667],[347,660],[352,654],[355,647],[360,642],[364,637],[368,632],[373,627],[377,622],[383,618],[388,614],[394,612],[401,612],[408,611],[418,614],[431,620],[439,620],[451,627],[465,634],[475,635],[486,639],[500,646],[515,652],[526,655],[543,664],[557,670],[569,672],[586,680],[602,686],[616,690],[629,692],[643,695],[655,696],[666,696],[677,695],[687,693],[697,691],[705,687],[715,684],[724,681],[731,676],[741,673],[750,669],[757,664],[766,660],[774,655],[784,652],[792,647],[802,643],[813,640],[824,638],[840,639],[852,636],[865,633],[881,634],[897,633],[905,627],[922,627],[939,627],[949,622],[963,619],[976,615],[985,609],[995,603],[1007,598],[1015,592],[1028,587],[1071,599],[1136,623],[1179,633],[1271,668],[1570,808],[1678,845],[1750,862],[1762,849],[1793,845],[1960,903],[2044,920],[2095,921],[2137,917],[2207,924],[2275,930],[2316,923],[2390,928],[2465,933],[2511,925]  \n",
    "    ]\n",
    "}\n",
    "\n",
    "# Parameters for angle calculation\n",
    "angle_step = 0.5  # Step size between angles\n",
    "range_start = 205.50  # Starting angle\n",
    "range_end = 345.50  # Ending angle\n",
    "\n",
    "# Extract x and y coordinates\n",
    "x_coords = [point[0] for point in data[\"angles\"]]\n",
    "y_coords = [point[1] for point in data[\"angles\"]]\n",
    "\n",
    "# Generate angles corresponding to the points\n",
    "angles = np.arange(range_start, range_start + len(x_coords) * angle_step, angle_step)\n",
    "\n",
    "# Define thresholds and minimum points for flat surface detection\n",
    "y_variance_threshold = 15  # Example threshold for y-variance\n",
    "min_consecutive_points = 5    # Minimum number of consecutive points to consider a flat region\n",
    "\n",
    "def detect_flat_surface(x_coords, y_coords, angles, y_variance_threshold, min_consecutive_points):\n",
    "    flat_regions = []\n",
    "    i = 0\n",
    "    while i < len(x_coords) - min_consecutive_points:\n",
    "        # Calculate the variance of y-coordinates in the current window\n",
    "        y_variance = np.var(y_coords[i:i + min_consecutive_points])\n",
    "        \n",
    "        # Debugging: Print the variance value and corresponding angle\n",
    "        print(f\"Window start index: {i}, Angle: {angles[i]:.2f}°, Variance: {y_variance}\")\n",
    "\n",
    "        # If the variance is below the threshold, it's a potential flat region\n",
    "        if y_variance < y_variance_threshold:\n",
    "            start = i\n",
    "            end = i + min_consecutive_points - 1\n",
    "\n",
    "            # Try to extend the flat region by adding more points while variance is low\n",
    "            while end < len(x_coords) - 1:\n",
    "                extended_variance = np.var(y_coords[start:end + 2])\n",
    "                print(f\"Extending region. Start: {start}, Angle: {angles[start]:.2f}°, End: {end+1}, Angle: {angles[end+1]:.2f}°, Extended Variance: {extended_variance}\")\n",
    "                \n",
    "                if extended_variance < y_variance_threshold:\n",
    "                    end += 1\n",
    "                else:\n",
    "                    break\n",
    "\n",
    "            # If a sufficiently large flat region is found, store it\n",
    "            if end - start + 1 >= min_consecutive_points:\n",
    "                flat_regions.append((start, end))\n",
    "            i = end\n",
    "        else:\n",
    "            i += 1\n",
    "\n",
    "    return flat_regions\n",
    "\n",
    "# Detect flat surfaces in the dataset\n",
    "flat_regions = detect_flat_surface(x_coords, y_coords, angles, y_variance_threshold, min_consecutive_points)\n",
    "\n",
    "# Calculate widths of detected flat surfaces and select the one with the largest width\n",
    "max_width = 0\n",
    "widest_flat_region = None\n",
    "\n",
    "for start, end in flat_regions:\n",
    "    # Calculate the width as the absolute difference between the starting and ending x-coordinates\n",
    "    width = abs(x_coords[end] - x_coords[start])\n",
    "    \n",
    "    # Check if this width is the largest we've found so far\n",
    "    if width > max_width:\n",
    "        max_width = width\n",
    "        widest_flat_region = (start, end)\n",
    "\n",
    "# Now `widest_flat_region` contains the start and end indices of the widest flat surface\n",
    "if widest_flat_region is not None:\n",
    "    start, end = widest_flat_region\n",
    "    print(f\"Widest flat region found from index {start} to {end} with width {max_width:.2f} units.\")\n",
    "else:\n",
    "    print(\"No flat regions detected.\")\n",
    "\n",
    "# Plotting the points and the identified flat regions\n",
    "fig = go.Figure()\n",
    "\n",
    "# Plot all points\n",
    "fig.add_trace(go.Scatter(\n",
    "    x=x_coords,\n",
    "    y=y_coords,\n",
    "    mode='markers',\n",
    "    marker=dict(size=10, color='blue'),\n",
    "    text=[f\"Angle: {angle:.2f}°, X: {x}, Y: {y}\" for angle, x, y in zip(angles, x_coords, y_coords)],  # Display coordinates and angles on hover\n",
    "    hoverinfo='text',\n",
    "    name='All Points'\n",
    "))\n",
    "\n",
    "# Highlight the widest flat region if detected\n",
    "if widest_flat_region is not None:\n",
    "    start, end = widest_flat_region\n",
    "    fig.add_trace(go.Scatter(\n",
    "        x=x_coords[start:end+1],\n",
    "        y=y_coords[start:end+1],\n",
    "        mode='markers+lines',\n",
    "        marker=dict(size=10, color='red'),\n",
    "        line=dict(color='red', width=2),\n",
    "        text=[f\"Widest Flat Region: Angle: {angle:.2f}°, X: {x}, Y: {y}\" for angle, x, y in zip(angles[start:end+1], x_coords[start:end+1], y_coords[start:end+1])],\n",
    "        hoverinfo='text',\n",
    "        name='Widest Flat Region'\n",
    "    ))\n",
    "\n",
    "# Invert the y-axis and set the title and labels\n",
    "fig.update_layout(\n",
    "    title='LiDAR Points with Widest Flat Region Identified',\n",
    "    xaxis_title='X Coordinate',\n",
    "    yaxis_title='Y Coordinate',\n",
    "    yaxis=dict(autorange='reversed'),  # This inverts the y-axis\n",
    "    showlegend=True\n",
    ")\n",
    "\n",
    "# Show the plot\n",
    "fig.show()\n",
    "# Save plot as an interactive HTML file\n",
    "fig.write_html(\"WIDEST_FLAT.html\")\n"
   ]
  },
  {
   "cell_type": "markdown",
   "id": "514ab3e2-9450-4fe5-bce2-50ed6625a537",
   "metadata": {},
   "source": [
    "###\n",
    "###\n",
    "###\n",
    "###\n",
    "###\n",
    "###\n",
    "###\n",
    "###\n",
    "###\n",
    "###\n",
    "###\n",
    "###\n",
    "\n",
    "\n",
    "### Summary of the Code:\n",
    "\n",
    "- **Data Loading and Initialization:**\n",
    "  - Loads LiDAR data from a JSON file, which contains angles and distances.\n",
    "  - Converts angles from degrees to radians.\n",
    "  - Converts polar coordinates (angle, distance) to Cartesian coordinates (x, y).\n",
    "\n",
    "- **Coordinate Rotation:**\n",
    "  - Rotates the Cartesian coordinates based on a specified tilt angle.\n",
    "  - Defines specific angle ranges to identify different regions (e.g., the earth's surface, max y-coordinate range).\n",
    "\n",
    "- **Ground Level Detection:**\n",
    "  - Identifies the highest y-coordinate within a defined angle range to determine the ground level (`y_surface_level_rotated`).\n",
    "\n",
    "- **Depth Calculation:**\n",
    "  - Calculates the depth of each point relative to the identified ground level.\n",
    "\n",
    "- **Flat Surface Detection:**\n",
    "  - **Variance Calculation:**\n",
    "    - Scans through the data to identify flat surfaces by calculating the variance of y-coordinates over a moving window of points.\n",
    "    - Points with low variance in y-coordinates are considered part of a flat surface.\n",
    "  - **Flat Surface Detection Logic:**\n",
    "    - The function `detect_flat_surface` identifies potential flat regions on both sides of the trench by checking if the variance within a window is below a certain threshold.\n",
    "    - It stores the indices of the start and end of each detected flat region.\n",
    "\n",
    "- **Widest Flat Surface Identification:**\n",
    "  - **Determine the Widest Flat Region:**\n",
    "    - The function `get_widest_flat_region` calculates the width (in x-coordinates) of each detected flat region.\n",
    "    - The widest flat region on each side (left and right) is identified by calculating the width in x-coordinates.\n",
    "\n",
    "- **Final Depth Calculation Based on Widest Flat Surface:**\n",
    "  - **Comparison of Widths:**\n",
    "    - If both sides have detected flat regions, the code compares the widths of these regions.\n",
    "    - The side with the widest flat region is selected.\n",
    "  - **Average Y-Value Calculation:**\n",
    "    - The average y-value of the selected widest flat region is calculated.\n",
    "  - **Final Depth Calculation:**\n",
    "    - The final depth is determined by subtracting this average y-value from the ground level (`y_surface_level_rotated`).\n",
    "\n",
    "- **Fallback Depth Calculation (if no flat surfaces are detected):**\n",
    "  - **Depth Sorting Method:**\n",
    "    - If no flat regions are detected, the code sorts the depths within specified angle ranges and selects the top 30 highest values.\n",
    "    - The lowest value among these top 30 depths is used to calculate the final depth.\n",
    "\n",
    "- **Threshold and Bump Point Detection:**\n",
    "  - Calculates a threshold as 5% of the final depth and identifies points above this threshold.\n",
    "  - Attempts to identify and fit a circle to the lowest points around the trench bottom, which could represent a pipe.\n",
    "\n",
    "- **Plotting:**\n",
    "  - Generates a plot visualizing the LiDAR points, highlighting the detected flat surfaces, and the trench-bottom.\n",
    "  - Annotates the plot with key information, such as the final depth, the detected trench-bottom, and whether a pipe was detected.\n",
    "\n",
    "- **Output:**\n",
    "  - The final plot is saved as an interactive HTML file.\n",
    "\n",
    "### Key Logical Parts:\n",
    "\n",
    "1. **Detection of the Widest Flat Surface:**\n",
    "   - Both sides of the trench are scanned for flat surfaces based on the variance in y-coordinates.\n",
    "   - The widest flat region on each side is identified by calculating the width in x-coordinates.\n",
    "\n",
    "2. **Final Depth Calculation:**\n",
    "   - The side with the widest flat surface is selected.\n",
    "   - The final depth is calculated by subtracting the average y-value of this selected widest flat surface from the ground level (`y_surface_level_rotated`).\n",
    "\n",
    "This approach ensures that the final depth is based on the widest flat surface, which is likely to provide a stable reference point for the trench's depth relative to the ground level.\n"
   ]
  },
  {
   "cell_type": "code",
   "execution_count": 2,
   "id": "4206ccae-e2dd-46f0-9abc-0632d2083fbd",
   "metadata": {},
   "outputs": [
    {
     "name": "stdout",
     "output_type": "stream",
     "text": [
      "Window start index: 0, Angle: 290.00°, Variance: 5441.546046651997\n",
      "Window start index: 1, Angle: 291.00°, Variance: 3106.840634831389\n",
      "Window start index: 2, Angle: 292.00°, Variance: 12.837979541555944\n",
      "Window start index: 3, Angle: 293.00°, Variance: 7.552709338720189\n",
      "Window start index: 4, Angle: 294.00°, Variance: 3.8779907185451608\n",
      "Window start index: 5, Angle: 295.00°, Variance: 1.8570102231717684\n",
      "Extending region. Start: 5, Angle: 295.00°, End: 20, Angle: 310.00°, Extended Variance: 1.8098287956956374\n",
      "Extending region. Start: 5, Angle: 295.00°, End: 21, Angle: 311.00°, Extended Variance: 1.8138449230379114\n",
      "Extending region. Start: 5, Angle: 295.00°, End: 22, Angle: 312.00°, Extended Variance: 1.8586476745539007\n",
      "Extending region. Start: 5, Angle: 295.00°, End: 23, Angle: 313.00°, Extended Variance: 1.8743283935199966\n",
      "Extending region. Start: 5, Angle: 295.00°, End: 24, Angle: 314.00°, Extended Variance: 1.908479541298022\n",
      "Extending region. Start: 5, Angle: 295.00°, End: 25, Angle: 315.00°, Extended Variance: 1.9504818252332405\n",
      "Extending region. Start: 5, Angle: 295.00°, End: 26, Angle: 316.00°, Extended Variance: 1.9910193978922521\n",
      "Extending region. Start: 5, Angle: 295.00°, End: 27, Angle: 317.00°, Extended Variance: 1.9423096818079375\n",
      "Extending region. Start: 5, Angle: 295.00°, End: 28, Angle: 318.00°, Extended Variance: 1.8718106626926667\n",
      "Extending region. Start: 5, Angle: 295.00°, End: 29, Angle: 319.00°, Extended Variance: 1.8030381451381856\n",
      "Extending region. Start: 5, Angle: 295.00°, End: 30, Angle: 320.00°, Extended Variance: 1.7543480978741168\n",
      "Extending region. Start: 5, Angle: 295.00°, End: 31, Angle: 321.00°, Extended Variance: 1.7853047565899405\n",
      "Extending region. Start: 5, Angle: 295.00°, End: 32, Angle: 322.00°, Extended Variance: 30.38697249079566\n",
      "Window start index: 31, Angle: 321.00°, Variance: 74.67909304997501\n",
      "Window start index: 32, Angle: 322.00°, Variance: 55.73340194200268\n",
      "Window start index: 33, Angle: 323.00°, Variance: 63.17962707461299\n",
      "Window start index: 34, Angle: 324.00°, Variance: 75.80417170242227\n",
      "Window start index: 35, Angle: 325.00°, Variance: 85.458510342256\n",
      "Window start index: 36, Angle: 326.00°, Variance: 102.77194806535681\n",
      "Window start index: 37, Angle: 327.00°, Variance: 125.9020345423942\n",
      "Window start index: 38, Angle: 328.00°, Variance: 133.98871763238768\n",
      "Window start index: 39, Angle: 329.00°, Variance: 146.73438127407593\n",
      "Window start index: 40, Angle: 330.00°, Variance: 161.40497610646474\n",
      "Window start index: 41, Angle: 331.00°, Variance: 183.64214812806492\n",
      "Window start index: 42, Angle: 332.00°, Variance: 212.25231691088163\n",
      "Window start index: 43, Angle: 333.00°, Variance: 242.1156269525704\n",
      "Window start index: 0, Angle: 12.00°, Variance: 166.22409160563845\n",
      "Window start index: 1, Angle: 13.00°, Variance: 206.45252844096512\n",
      "Window start index: 2, Angle: 14.00°, Variance: 246.60689913266776\n",
      "Window start index: 3, Angle: 15.00°, Variance: 285.9444166799703\n",
      "Window start index: 4, Angle: 16.00°, Variance: 319.7108603226719\n",
      "Window start index: 5, Angle: 17.00°, Variance: 344.734929724196\n",
      "Window start index: 6, Angle: 18.00°, Variance: 361.4368006348222\n",
      "Window start index: 7, Angle: 19.00°, Variance: 364.09879471253583\n",
      "Window start index: 8, Angle: 20.00°, Variance: 329.2679355190518\n",
      "Window start index: 9, Angle: 21.00°, Variance: 295.6376325406958\n",
      "Window start index: 10, Angle: 22.00°, Variance: 265.03330966679573\n",
      "Window start index: 11, Angle: 23.00°, Variance: 221.3581387336227\n",
      "Window start index: 12, Angle: 24.00°, Variance: 178.60365873212157\n",
      "Window start index: 13, Angle: 25.00°, Variance: 177.50309312497245\n",
      "Window start index: 14, Angle: 26.00°, Variance: 168.2447806247541\n",
      "Window start index: 15, Angle: 27.00°, Variance: 152.98171005417487\n",
      "Window start index: 16, Angle: 28.00°, Variance: 137.98024280652322\n",
      "Window start index: 17, Angle: 29.00°, Variance: 122.65510423276413\n",
      "Window start index: 18, Angle: 30.00°, Variance: 109.36401490977636\n",
      "Window start index: 19, Angle: 31.00°, Variance: 97.52424923974901\n",
      "Window start index: 20, Angle: 32.00°, Variance: 85.9943131161579\n",
      "Window start index: 21, Angle: 33.00°, Variance: 77.60902525777107\n",
      "Window start index: 22, Angle: 34.00°, Variance: 71.7780506723388\n",
      "Window start index: 23, Angle: 35.00°, Variance: 55.716472704667574\n",
      "Window start index: 24, Angle: 36.00°, Variance: 47.57707665544297\n",
      "Window start index: 25, Angle: 37.00°, Variance: 41.31518708889027\n",
      "Window start index: 26, Angle: 38.00°, Variance: 24.594599438719648\n",
      "Window start index: 27, Angle: 39.00°, Variance: 1.2139141041492099\n",
      "Extending region. Start: 27, Angle: 39.00°, End: 42, Angle: 54.00°, Extended Variance: 1.2334963285899077\n",
      "Extending region. Start: 27, Angle: 39.00°, End: 43, Angle: 55.00°, Extended Variance: 1.295683099939175\n",
      "Extending region. Start: 27, Angle: 39.00°, End: 44, Angle: 56.00°, Extended Variance: 1.4575570849626311\n",
      "Extending region. Start: 27, Angle: 39.00°, End: 45, Angle: 57.00°, Extended Variance: 1.7205451666320812\n",
      "Extending region. Start: 27, Angle: 39.00°, End: 46, Angle: 58.00°, Extended Variance: 2.115974364692023\n",
      "Extending region. Start: 27, Angle: 39.00°, End: 47, Angle: 59.00°, Extended Variance: 2.5039011416918133\n",
      "Selected widest flat region for final depth calculation. Final Depth: 86.56 mm\n",
      "Pipe Diameter Limit: 6.956656677527212\n",
      "Max Residual: 2.2001778177127562e-10\n",
      "Mean Residual: 1.4667733694295748e-10\n",
      "The points do not form a good part of a circle within the specified radius limit.\n",
      "New Final Depth: 79.63 mm\n"
     ]
    },
    {
     "data": {
      "application/vnd.plotly.v1+json": {
       "config": {
        "plotlyServerURL": "https://plot.ly"
       },
       "data": [
        {
         "marker": {
          "color": "red",
          "size": 10,
          "symbol": "circle"
         },
         "mode": "markers",
         "name": "LiDAR Position",
         "type": "scatter",
         "x": [
          0
         ],
         "y": [
          0
         ]
        },
        {
         "hoverinfo": "text",
         "marker": {
          "color": [
           -0.11140243064815536,
           0,
           -0.5091321284656942,
           -2.424751093203099,
           -4.197055959115659,
           -5.065075213386791,
           -5.8114735378062505,
           -5.0540794787429775,
           -4.4443162669916205,
           -3.4671936079324155,
           -2.65433892246557,
           -2.110658274492067,
           -1.94927451032882,
           -1.1019130312859318,
           0.457941213422572,
           1.7307651093101128,
           2.523249299160284,
           4.021338510595399,
           6.745049521512698,
           12.16399205738,
           17.87235498963676,
           23.194244835684415,
           28.004327681334516,
           31.59813667297182,
           35.09086295961275,
           40.308620892873535,
           44.593810080951855,
           49.541969352521434,
           53.576318230266565,
           56.81595309807025,
           60.81914648248819,
           64.50217907658566,
           61.15643207283668,
           67.03910135571618,
           69.9054052229764,
           65.37076730619597,
           64.0220650979403,
           80.8525224973429,
           81.65737800666632,
           82.62936071038499,
           82.96547309414994,
           83.48015143796272,
           83.40635482821747,
           83.60433893367203,
           83.6135299184187,
           83.95726791935964,
           84.09481618128925,
           84.3903365356145,
           84.68228905927052,
           84.39645415638017,
           84.66924433128631,
           84.85707049846894,
           84.82677968226776,
           85.19028689742981,
           85.83314701095185,
           86.44942088696098,
           87.16034010710085,
           87.41844271998228,
           87.63278325972844,
           88.03642914071673,
           88.2597429966884,
           88.51382354509231,
           88.586610451207,
           89.1732359584224,
           89.72153989011015,
           91.67463222653593,
           93.84840682766742,
           95.81792529377599,
           97.52791933925785,
           -127.62013740601617,
           -140.7407603512845,
           90.81587430074362,
           88.63018343315768,
           86.09845230132055,
           84.57138754553581,
           82.6566398895566,
           80.98514654710351,
           79.78080488983761,
           79.51994434673944,
           79.88278325972844,
           80.00189753150596,
           79.89287523057787,
           79.6868209878952,
           79.58882774670955,
           79.59791664300711,
           79.71304975067902,
           79.93313071300318,
           79.64134392455733,
           80.05414219949552,
           79.28287185232837,
           78.88673278820148,
           78.55059201748382,
           78.6149456135411,
           78.40359213997623,
           78.25053226581991,
           78.15517212772595,
           78.84824271076475,
           79.24974896676298,
           79.34098541001315,
           78.97622245574992,
           78.05479859038975,
           50.783482073315085,
           58.28287715452625,
           64.0984584120748,
           47.62974993397722,
           46.64827455312343,
           69.64602997911749,
           67.26431031718086,
           65.04475832764325,
           62.41699653663383,
           60.59497327763641,
           57.83802397383576,
           55.02736616146785,
           52.27300268501649,
           49.70163290641331,
           47.1044538241796,
           44.61424917676557,
           42.05639558460658,
           39.33118060128774,
           36.30620820537541,
           33.04876350908731,
           28.962623305335086,
           24.29955543742824,
           20.20750109180868,
           14.591242386975978,
           8.489399783922664,
           4.091287086211281,
           -0.8688341609716304,
           -4.056175807764134,
           -5.746463546295729,
           -5.641997012728865,
           -6.22703656204942,
           -5.974914479304147,
           -6.526327679301488,
           -6.484241499342858,
           -6.922046445300708,
           -6.6575355577213315,
           -5.774622447174096,
           -3.844371013730239
          ],
          "colorbar": {
           "title": {
            "text": "Depth (mm)"
           }
          },
          "colorscale": [
           [
            0,
            "#440154"
           ],
           [
            0.1111111111111111,
            "#482878"
           ],
           [
            0.2222222222222222,
            "#3e4989"
           ],
           [
            0.3333333333333333,
            "#31688e"
           ],
           [
            0.4444444444444444,
            "#26828e"
           ],
           [
            0.5555555555555556,
            "#1f9e89"
           ],
           [
            0.6666666666666666,
            "#35b779"
           ],
           [
            0.7777777777777778,
            "#6ece58"
           ],
           [
            0.8888888888888888,
            "#b5de2b"
           ],
           [
            1,
            "#fde725"
           ]
          ],
          "size": 5
         },
         "mode": "markers",
         "name": "LIDAR Points",
         "text": [
          "Angle: 2°<br>X: 5.11mm<br>Y: 146.24mm<br>Initial Depth: 6.81mm<br>New Depth: -0.11mm",
          "Angle: 3°<br>X: 7.66mm<br>Y: 146.13mm<br>Initial Depth: 6.92mm<br>New Depth: 0.00mm",
          "Angle: 4°<br>X: 10.25mm<br>Y: 146.64mm<br>Initial Depth: 6.41mm<br>New Depth: -0.51mm",
          "Angle: 5°<br>X: 13.00mm<br>Y: 148.56mm<br>Initial Depth: 4.50mm<br>New Depth: -2.42mm",
          "Angle: 6°<br>X: 15.80mm<br>Y: 150.33mm<br>Initial Depth: 2.72mm<br>New Depth: -4.20mm",
          "Angle: 7°<br>X: 18.56mm<br>Y: 151.20mm<br>Initial Depth: 1.86mm<br>New Depth: -5.07mm",
          "Angle: 8°<br>X: 21.35mm<br>Y: 151.94mm<br>Initial Depth: 1.11mm<br>New Depth: -5.81mm",
          "Angle: 9°<br>X: 23.95mm<br>Y: 151.19mm<br>Initial Depth: 1.87mm<br>New Depth: -5.05mm",
          "Angle: 10°<br>X: 26.55mm<br>Y: 150.58mm<br>Initial Depth: 2.48mm<br>New Depth: -4.44mm",
          "Angle: 11°<br>X: 29.08mm<br>Y: 149.60mm<br>Initial Depth: 3.45mm<br>New Depth: -3.47mm",
          "Angle: 12°<br>X: 31.63mm<br>Y: 148.79mm<br>Initial Depth: 4.27mm<br>New Depth: -2.65mm",
          "Angle: 13°<br>X: 34.22mm<br>Y: 148.24mm<br>Initial Depth: 4.81mm<br>New Depth: -2.11mm",
          "Angle: 14°<br>X: 36.92mm<br>Y: 148.08mm<br>Initial Depth: 4.97mm<br>New Depth: -1.95mm",
          "Angle: 15°<br>X: 39.45mm<br>Y: 147.23mm<br>Initial Depth: 5.82mm<br>New Depth: -1.10mm",
          "Angle: 16°<br>X: 41.77mm<br>Y: 145.67mm<br>Initial Depth: 7.38mm<br>New Depth: 0.46mm",
          "Angle: 17°<br>X: 44.15mm<br>Y: 144.40mm<br>Initial Depth: 8.65mm<br>New Depth: 1.73mm",
          "Angle: 18°<br>X: 46.66mm<br>Y: 143.61mm<br>Initial Depth: 9.45mm<br>New Depth: 2.52mm",
          "Angle: 19°<br>X: 48.93mm<br>Y: 142.11mm<br>Initial Depth: 10.94mm<br>New Depth: 4.02mm",
          "Angle: 20°<br>X: 50.73mm<br>Y: 139.39mm<br>Initial Depth: 13.67mm<br>New Depth: 6.75mm",
          "Angle: 21°<br>X: 51.43mm<br>Y: 133.97mm<br>Initial Depth: 19.09mm<br>New Depth: 12.16mm",
          "Angle: 22°<br>X: 51.82mm<br>Y: 128.26mm<br>Initial Depth: 24.79mm<br>New Depth: 17.87mm",
          "Angle: 23°<br>X: 52.18mm<br>Y: 122.94mm<br>Initial Depth: 30.12mm<br>New Depth: 23.19mm",
          "Angle: 24°<br>X: 52.59mm<br>Y: 118.13mm<br>Initial Depth: 34.93mm<br>New Depth: 28.00mm",
          "Angle: 25°<br>X: 53.41mm<br>Y: 114.53mm<br>Initial Depth: 38.52mm<br>New Depth: 31.60mm",
          "Angle: 26°<br>X: 54.16mm<br>Y: 111.04mm<br>Initial Depth: 42.01mm<br>New Depth: 35.09mm",
          "Angle: 27°<br>X: 53.92mm<br>Y: 105.82mm<br>Initial Depth: 47.23mm<br>New Depth: 40.31mm",
          "Angle: 28°<br>X: 53.99mm<br>Y: 101.54mm<br>Initial Depth: 51.52mm<br>New Depth: 44.59mm",
          "Angle: 29°<br>X: 53.54mm<br>Y: 96.59mm<br>Initial Depth: 56.46mm<br>New Depth: 49.54mm",
          "Angle: 30°<br>X: 53.44mm<br>Y: 92.56mm<br>Initial Depth: 60.50mm<br>New Depth: 53.58mm",
          "Angle: 31°<br>X: 53.67mm<br>Y: 89.32mm<br>Initial Depth: 63.74mm<br>New Depth: 56.82mm",
          "Angle: 32°<br>X: 53.31mm<br>Y: 85.31mm<br>Initial Depth: 67.74mm<br>New Depth: 60.82mm",
          "Angle: 33°<br>X: 53.01mm<br>Y: 81.63mm<br>Initial Depth: 71.42mm<br>New Depth: 64.50mm",
          "Angle: 34°<br>X: 57.32mm<br>Y: 84.98mm<br>Initial Depth: 68.08mm<br>New Depth: 61.16mm",
          "Angle: 35°<br>X: 55.38mm<br>Y: 79.09mm<br>Initial Depth: 73.96mm<br>New Depth: 67.04mm",
          "Angle: 36°<br>X: 55.38mm<br>Y: 76.23mm<br>Initial Depth: 76.83mm<br>New Depth: 69.91mm",
          "Angle: 37°<br>X: 60.86mm<br>Y: 80.76mm<br>Initial Depth: 72.29mm<br>New Depth: 65.37mm",
          "Angle: 38°<br>X: 64.15mm<br>Y: 82.11mm<br>Initial Depth: 70.94mm<br>New Depth: 64.02mm",
          "Angle: 39°<br>X: 52.86mm<br>Y: 65.28mm<br>Initial Depth: 87.77mm<br>New Depth: 80.85mm",
          "Angle: 40°<br>X: 54.10mm<br>Y: 64.48mm<br>Initial Depth: 88.58mm<br>New Depth: 81.66mm",
          "Angle: 41°<br>X: 55.20mm<br>Y: 63.50mm<br>Initial Depth: 89.55mm<br>New Depth: 82.63mm",
          "Angle: 42°<br>X: 56.88mm<br>Y: 63.17mm<br>Initial Depth: 89.89mm<br>New Depth: 82.97mm",
          "Angle: 43°<br>X: 58.42mm<br>Y: 62.65mm<br>Initial Depth: 90.40mm<br>New Depth: 83.48mm",
          "Angle: 44°<br>X: 60.57mm<br>Y: 62.73mm<br>Initial Depth: 90.33mm<br>New Depth: 83.41mm",
          "Angle: 45°<br>X: 62.53mm<br>Y: 62.53mm<br>Initial Depth: 90.53mm<br>New Depth: 83.60mm",
          "Angle: 46°<br>X: 64.74mm<br>Y: 62.52mm<br>Initial Depth: 90.54mm<br>New Depth: 83.61mm",
          "Angle: 47°<br>X: 66.68mm<br>Y: 62.18mm<br>Initial Depth: 90.88mm<br>New Depth: 83.96mm",
          "Angle: 48°<br>X: 68.90mm<br>Y: 62.04mm<br>Initial Depth: 91.02mm<br>New Depth: 84.09mm",
          "Angle: 49°<br>X: 71.03mm<br>Y: 61.74mm<br>Initial Depth: 91.31mm<br>New Depth: 84.39mm",
          "Angle: 50°<br>X: 73.23mm<br>Y: 61.45mm<br>Initial Depth: 91.60mm<br>New Depth: 84.68mm",
          "Angle: 51°<br>X: 76.24mm<br>Y: 61.74mm<br>Initial Depth: 91.32mm<br>New Depth: 84.40mm",
          "Angle: 52°<br>X: 78.67mm<br>Y: 61.46mm<br>Initial Depth: 91.59mm<br>New Depth: 84.67mm",
          "Angle: 53°<br>X: 81.32mm<br>Y: 61.28mm<br>Initial Depth: 91.78mm<br>New Depth: 84.86mm",
          "Angle: 54°<br>X: 84.38mm<br>Y: 61.31mm<br>Initial Depth: 91.75mm<br>New Depth: 84.83mm",
          "Angle: 55°<br>X: 87.03mm<br>Y: 60.94mm<br>Initial Depth: 92.11mm<br>New Depth: 85.19mm",
          "Angle: 56°<br>X: 89.40mm<br>Y: 60.30mm<br>Initial Depth: 92.76mm<br>New Depth: 85.83mm",
          "Angle: 57°<br>X: 91.90mm<br>Y: 59.68mm<br>Initial Depth: 93.37mm<br>New Depth: 86.45mm",
          "Angle: 58°<br>X: 94.38mm<br>Y: 58.97mm<br>Initial Depth: 94.08mm<br>New Depth: 87.16mm",
          "Angle: 59°<br>X: 97.72mm<br>Y: 58.71mm<br>Initial Depth: 94.34mm<br>New Depth: 87.42mm",
          "Angle: 60°<br>X: 101.32mm<br>Y: 58.50mm<br>Initial Depth: 94.55mm<br>New Depth: 87.63mm",
          "Angle: 61°<br>X: 104.81mm<br>Y: 58.10mm<br>Initial Depth: 94.96mm<br>New Depth: 88.04mm",
          "Angle: 62°<br>X: 108.84mm<br>Y: 57.87mm<br>Initial Depth: 95.18mm<br>New Depth: 88.26mm",
          "Angle: 63°<br>X: 113.08mm<br>Y: 57.62mm<br>Initial Depth: 95.44mm<br>New Depth: 88.51mm",
          "Angle: 64°<br>X: 117.99mm<br>Y: 57.55mm<br>Initial Depth: 95.51mm<br>New Depth: 88.59mm",
          "Angle: 65°<br>X: 122.15mm<br>Y: 56.96mm<br>Initial Depth: 96.10mm<br>New Depth: 89.17mm",
          "Angle: 66°<br>X: 126.70mm<br>Y: 56.41mm<br>Initial Depth: 96.64mm<br>New Depth: 89.72mm",
          "Angle: 67°<br>X: 128.30mm<br>Y: 54.46mm<br>Initial Depth: 98.60mm<br>New Depth: 91.67mm",
          "Angle: 68°<br>X: 129.41mm<br>Y: 52.28mm<br>Initial Depth: 100.77mm<br>New Depth: 93.85mm",
          "Angle: 69°<br>X: 131.07mm<br>Y: 50.31mm<br>Initial Depth: 102.74mm<br>New Depth: 95.82mm",
          "Angle: 70°<br>X: 133.54mm<br>Y: 48.60mm<br>Initial Depth: 104.45mm<br>New Depth: 97.53mm",
          "Angle: 290°<br>X: -752.13mm<br>Y: 273.75mm<br>Initial Depth: -120.70mm<br>New Depth: -127.62mm",
          "Angle: 291°<br>X: -747.33mm<br>Y: 286.87mm<br>Initial Depth: -133.82mm<br>New Depth: -140.74mm",
          "Angle: 292°<br>X: -136.91mm<br>Y: 55.32mm<br>Initial Depth: 97.74mm<br>New Depth: 90.82mm",
          "Angle: 293°<br>X: -135.47mm<br>Y: 57.50mm<br>Initial Depth: 95.55mm<br>New Depth: 88.63mm",
          "Angle: 294°<br>X: -134.84mm<br>Y: 60.03mm<br>Initial Depth: 93.02mm<br>New Depth: 86.10mm",
          "Angle: 295°<br>X: -132.02mm<br>Y: 61.56mm<br>Initial Depth: 91.49mm<br>New Depth: 84.57mm",
          "Angle: 296°<br>X: -130.15mm<br>Y: 63.48mm<br>Initial Depth: 89.58mm<br>New Depth: 82.66mm",
          "Angle: 297°<br>X: -127.86mm<br>Y: 65.15mm<br>Initial Depth: 87.91mm<br>New Depth: 80.99mm",
          "Angle: 298°<br>X: -124.79mm<br>Y: 66.35mm<br>Initial Depth: 86.70mm<br>New Depth: 79.78mm",
          "Angle: 299°<br>X: -120.17mm<br>Y: 66.61mm<br>Initial Depth: 86.44mm<br>New Depth: 79.52mm",
          "Angle: 300°<br>X: -114.75mm<br>Y: 66.25mm<br>Initial Depth: 86.80mm<br>New Depth: 79.88mm",
          "Angle: 301°<br>X: -110.06mm<br>Y: 66.13mm<br>Initial Depth: 86.92mm<br>New Depth: 80.00mm",
          "Angle: 302°<br>X: -106.01mm<br>Y: 66.24mm<br>Initial Depth: 86.81mm<br>New Depth: 79.89mm",
          "Angle: 303°<br>X: -102.32mm<br>Y: 66.45mm<br>Initial Depth: 86.61mm<br>New Depth: 79.69mm",
          "Angle: 304°<br>X: -98.66mm<br>Y: 66.54mm<br>Initial Depth: 86.51mm<br>New Depth: 79.59mm",
          "Angle: 305°<br>X: -95.02mm<br>Y: 66.53mm<br>Initial Depth: 86.52mm<br>New Depth: 79.60mm",
          "Angle: 306°<br>X: -91.42mm<br>Y: 66.42mm<br>Initial Depth: 86.64mm<br>New Depth: 79.71mm",
          "Angle: 307°<br>X: -87.85mm<br>Y: 66.20mm<br>Initial Depth: 86.86mm<br>New Depth: 79.93mm",
          "Angle: 308°<br>X: -85.11mm<br>Y: 66.49mm<br>Initial Depth: 86.56mm<br>New Depth: 79.64mm",
          "Angle: 309°<br>X: -81.60mm<br>Y: 66.08mm<br>Initial Depth: 86.98mm<br>New Depth: 80.05mm",
          "Angle: 310°<br>X: -79.67mm<br>Y: 66.85mm<br>Initial Depth: 86.20mm<br>New Depth: 79.28mm",
          "Angle: 311°<br>X: -77.36mm<br>Y: 67.25mm<br>Initial Depth: 85.81mm<br>New Depth: 78.89mm",
          "Angle: 312°<br>X: -75.06mm<br>Y: 67.58mm<br>Initial Depth: 85.47mm<br>New Depth: 78.55mm",
          "Angle: 313°<br>X: -72.40mm<br>Y: 67.52mm<br>Initial Depth: 85.54mm<br>New Depth: 78.61mm",
          "Angle: 314°<br>X: -70.14mm<br>Y: 67.73mm<br>Initial Depth: 85.33mm<br>New Depth: 78.40mm",
          "Angle: 315°<br>X: -67.88mm<br>Y: 67.88mm<br>Initial Depth: 85.17mm<br>New Depth: 78.25mm",
          "Angle: 316°<br>X: -65.65mm<br>Y: 67.98mm<br>Initial Depth: 85.08mm<br>New Depth: 78.16mm",
          "Angle: 317°<br>X: -62.74mm<br>Y: 67.28mm<br>Initial Depth: 85.77mm<br>New Depth: 78.85mm",
          "Angle: 318°<br>X: -60.22mm<br>Y: 66.88mm<br>Initial Depth: 86.17mm<br>New Depth: 79.25mm",
          "Angle: 319°<br>X: -58.06mm<br>Y: 66.79mm<br>Initial Depth: 86.26mm<br>New Depth: 79.34mm",
          "Angle: 320°<br>X: -56.35mm<br>Y: 67.16mm<br>Initial Depth: 85.90mm<br>New Depth: 78.98mm",
          "Angle: 321°<br>X: -55.13mm<br>Y: 68.08mm<br>Initial Depth: 84.98mm<br>New Depth: 78.05mm",
          "Angle: 322°<br>X: -74.50mm<br>Y: 95.35mm<br>Initial Depth: 57.71mm<br>New Depth: 50.78mm",
          "Angle: 323°<br>X: -66.20mm<br>Y: 87.85mm<br>Initial Depth: 65.20mm<br>New Depth: 58.28mm",
          "Angle: 324°<br>X: -59.60mm<br>Y: 82.03mm<br>Initial Depth: 71.02mm<br>New Depth: 64.10mm",
          "Angle: 325°<br>X: -68.97mm<br>Y: 98.50mm<br>Initial Depth: 54.55mm<br>New Depth: 47.63mm",
          "Angle: 326°<br>X: -67.10mm<br>Y: 99.48mm<br>Initial Depth: 53.57mm<br>New Depth: 46.65mm",
          "Angle: 327°<br>X: -49.67mm<br>Y: 76.49mm<br>Initial Depth: 76.57mm<br>New Depth: 69.65mm",
          "Angle: 328°<br>X: -49.28mm<br>Y: 78.87mm<br>Initial Depth: 74.19mm<br>New Depth: 67.26mm",
          "Angle: 329°<br>X: -48.72mm<br>Y: 81.09mm<br>Initial Depth: 71.97mm<br>New Depth: 65.04mm",
          "Angle: 330°<br>X: -48.33mm<br>Y: 83.72mm<br>Initial Depth: 69.34mm<br>New Depth: 62.42mm",
          "Angle: 331°<br>X: -47.41mm<br>Y: 85.54mm<br>Initial Depth: 67.52mm<br>New Depth: 60.59mm",
          "Angle: 332°<br>X: -46.95mm<br>Y: 88.29mm<br>Initial Depth: 64.76mm<br>New Depth: 57.84mm",
          "Angle: 333°<br>X: -46.42mm<br>Y: 91.11mm<br>Initial Depth: 61.95mm<br>New Depth: 55.03mm",
          "Angle: 334°<br>X: -45.78mm<br>Y: 93.86mm<br>Initial Depth: 59.20mm<br>New Depth: 52.27mm",
          "Angle: 335°<br>X: -44.97mm<br>Y: 96.43mm<br>Initial Depth: 56.62mm<br>New Depth: 49.70mm",
          "Angle: 336°<br>X: -44.09mm<br>Y: 99.03mm<br>Initial Depth: 54.03mm<br>New Depth: 47.10mm",
          "Angle: 337°<br>X: -43.09mm<br>Y: 101.52mm<br>Initial Depth: 51.54mm<br>New Depth: 44.61mm",
          "Angle: 338°<br>X: -42.05mm<br>Y: 104.08mm<br>Initial Depth: 48.98mm<br>New Depth: 42.06mm",
          "Angle: 339°<br>X: -41.00mm<br>Y: 106.80mm<br>Initial Depth: 46.25mm<br>New Depth: 39.33mm",
          "Angle: 340°<br>X: -39.97mm<br>Y: 109.83mm<br>Initial Depth: 43.23mm<br>New Depth: 36.31mm",
          "Angle: 341°<br>X: -38.94mm<br>Y: 113.08mm<br>Initial Depth: 39.97mm<br>New Depth: 33.05mm",
          "Angle: 342°<br>X: -38.07mm<br>Y: 117.17mm<br>Initial Depth: 35.88mm<br>New Depth: 28.96mm",
          "Angle: 343°<br>X: -37.25mm<br>Y: 121.83mm<br>Initial Depth: 31.22mm<br>New Depth: 24.30mm",
          "Angle: 344°<br>X: -36.11mm<br>Y: 125.93mm<br>Initial Depth: 27.13mm<br>New Depth: 20.21mm",
          "Angle: 345°<br>X: -35.25mm<br>Y: 131.54mm<br>Initial Depth: 21.51mm<br>New Depth: 14.59mm",
          "Angle: 346°<br>X: -34.32mm<br>Y: 137.64mm<br>Initial Depth: 15.41mm<br>New Depth: 8.49mm",
          "Angle: 347°<br>X: -32.79mm<br>Y: 142.04mm<br>Initial Depth: 11.01mm<br>New Depth: 4.09mm",
          "Angle: 348°<br>X: -31.25mm<br>Y: 147.00mm<br>Initial Depth: 6.05mm<br>New Depth: -0.87mm",
          "Angle: 349°<br>X: -29.19mm<br>Y: 150.19mm<br>Initial Depth: 2.87mm<br>New Depth: -4.06mm",
          "Angle: 350°<br>X: -26.78mm<br>Y: 151.88mm<br>Initial Depth: 1.18mm<br>New Depth: -5.75mm",
          "Angle: 351°<br>X: -24.04mm<br>Y: 151.77mm<br>Initial Depth: 1.28mm<br>New Depth: -5.64mm",
          "Angle: 352°<br>X: -21.41mm<br>Y: 152.36mm<br>Initial Depth: 0.70mm<br>New Depth: -6.23mm",
          "Angle: 353°<br>X: -18.68mm<br>Y: 152.11mm<br>Initial Depth: 0.95mm<br>New Depth: -5.97mm",
          "Angle: 354°<br>X: -16.05mm<br>Y: 152.66mm<br>Initial Depth: 0.40mm<br>New Depth: -6.53mm",
          "Angle: 355°<br>X: -13.35mm<br>Y: 152.62mm<br>Initial Depth: 0.44mm<br>New Depth: -6.48mm",
          "Angle: 356°<br>X: -10.70mm<br>Y: 153.05mm<br>Initial Depth: 0.00mm<br>New Depth: -6.92mm",
          "Angle: 357°<br>X: -8.01mm<br>Y: 152.79mm<br>Initial Depth: 0.26mm<br>New Depth: -6.66mm",
          "Angle: 358°<br>X: -5.30mm<br>Y: 151.91mm<br>Initial Depth: 1.15mm<br>New Depth: -5.77mm",
          "Angle: 359°<br>X: -2.62mm<br>Y: 149.98mm<br>Initial Depth: 3.08mm<br>New Depth: -3.84mm"
         ],
         "type": "scatter",
         "x": [
          5.106959498001992,
          7.658494651092347,
          10.25420164038642,
          12.997100137244525,
          15.80030278870871,
          18.564762662080966,
          21.35437267856004,
          23.945646639255287,
          26.55080532338458,
          29.079289750531455,
          31.62567911182464,
          34.224695193233664,
          36.92100372071689,
          39.45141796901892,
          41.771588777921394,
          44.14812741313325,
          46.661566150617055,
          48.93289459161512,
          50.732986102533424,
          51.42580075975059,
          51.820576757965995,
          52.184313502623525,
          52.59417697469615,
          53.40838282748089,
          54.1587632272995,
          53.92010389734317,
          53.989229720377445,
          53.541162435954845,
          53.43749999999999,
          53.666965860513415,
          53.309876922021886,
          53.0115341938334,
          57.317272605751555,
          55.3819922939503,
          55.38243194204216,
          60.858544216250884,
          64.15192388194916,
          52.86291284818634,
          54.10128876785009,
          55.202683028084195,
          56.87610154050295,
          58.424524360025075,
          60.574207820049445,
          62.52844432605643,
          64.7405820304786,
          66.67507718067117,
          68.90014263187604,
          71.02656009594702,
          73.23384723008542,
          76.23801726463692,
          78.66974233643309,
          81.31561731092911,
          84.380474940358,
          87.03490470570537,
          89.3978871179522,
          91.90431864047423,
          94.37563703906044,
          97.71707228004081,
          101.32497224277931,
          104.80859723785682,
          108.84335845275324,
          113.08357565222295,
          117.98713917749758,
          122.15014337674238,
          126.7017270698231,
          128.2953639499339,
          129.40837274606312,
          131.07468627872456,
          133.54076609715761,
          -752.1299680388853,
          -747.33113141101,
          -136.9141541360095,
          -135.46763584244337,
          -134.8393150293207,
          -132.01883914531354,
          -130.14538060050154,
          -127.8594362210308,
          -124.7899217483412,
          -120.17274251323471,
          -114.74836600143811,
          -110.06027626714742,
          -106.00601201955325,
          -102.31780928934177,
          -98.65547113404995,
          -95.02163713752304,
          -91.41892036436907,
          -87.84990610520224,
          -85.10516138952596,
          -81.60032595298193,
          -79.66862208437372,
          -77.35773197283416,
          -75.05762737321685,
          -72.40401646029787,
          -70.13563053301849,
          -67.88225099390857,
          -65.64521600837527,
          -62.74384912574984,
          -60.22175457229723,
          -58.06122406565991,
          -56.35104540175301,
          -55.12846499732501,
          -74.49503851440464,
          -66.1996525467253,
          -59.601425758027304,
          -68.97256647121334,
          -67.10314841648959,
          -49.671078359453354,
          -49.28249157368806,
          -48.722600856415006,
          -48.33333200000004,
          -47.41438231452061,
          -46.947156278589084,
          -46.420528598368676,
          -45.778473741928075,
          -44.96658389444692,
          -44.09025292289002,
          -43.092061096734184,
          -42.04959011093616,
          -40.99729414471831,
          -39.97360425118752,
          -38.937950621939635,
          -38.07089277994257,
          -37.248155766420126,
          -36.10849361202686,
          -35.24644964799953,
          -34.31834990660074,
          -32.792863286348556,
          -31.24615835887612,
          -29.193776292611332,
          -26.780409021582024,
          -24.03876362883266,
          -21.4127762528587,
          -18.676476876838812,
          -16.0451191115848,
          -13.352259527474025,
          -10.702636293829636,
          -8.007401305170488,
          -5.304723498780125,
          -2.6178609655925342
         ],
         "y": [
          146.2441856903766,
          146.13278325972846,
          146.64191538819415,
          148.55753435293155,
          150.3298392188441,
          151.19785847311525,
          151.9442567975347,
          151.18686273847143,
          150.57709952672008,
          149.59997686766087,
          148.78712218219403,
          148.24344153422052,
          148.08205777005728,
          147.2346962910144,
          145.67484204630588,
          144.40201815041834,
          143.60953396056817,
          142.11144474913306,
          139.38773373821576,
          133.96879120234846,
          128.2604282700917,
          122.93853842404404,
          118.12845557839394,
          114.53464658675664,
          111.0419203001157,
          105.82416236685492,
          101.5389731787766,
          96.59081390720702,
          92.55646502946189,
          89.3168301616582,
          85.31363677724026,
          81.6306041831428,
          84.97635118689178,
          79.09368190401227,
          76.22737803675206,
          80.76201595353248,
          82.11071816178816,
          65.28026076238555,
          64.47540525306214,
          63.503422549343476,
          63.16731016557851,
          62.65263182176573,
          62.72642843151098,
          62.52844432605643,
          62.51925334130975,
          62.17551534036882,
          62.03796707843921,
          61.74244672411396,
          61.450494200457946,
          61.736329103348275,
          61.463538928442155,
          61.27571276125952,
          61.30600357746071,
          60.94249636229864,
          60.29963624877661,
          59.683362372767476,
          58.972443152627605,
          58.714340539746175,
          58.500000000000014,
          58.09635411901172,
          57.873040263040046,
          57.61895971463615,
          57.54617280852146,
          56.95954730130605,
          56.411243369618305,
          54.45815103319252,
          52.284376432061045,
          50.31485796595247,
          48.604863920470606,
          273.7529206657446,
          286.87354361101296,
          55.31690895898483,
          57.50259982657077,
          60.03433095840791,
          61.56139571419264,
          63.47614337017185,
          65.14763671262494,
          66.35197836989084,
          66.61283891298902,
          66.25000000000001,
          66.1308857282225,
          66.23990802915058,
          66.44596227183325,
          66.5439555130189,
          66.53486661672135,
          66.41973350904944,
          66.19965254672528,
          66.49143933517112,
          66.07864106023294,
          66.84991140740009,
          67.24605047152697,
          67.58219124224463,
          67.51783764618736,
          67.72919111975223,
          67.88225099390854,
          67.97761113200251,
          67.2845405489637,
          66.88303429296548,
          66.79179784971531,
          67.15656080397854,
          68.0779846693387,
          95.34930118641337,
          87.84990610520221,
          82.03432484765365,
          98.50303332575123,
          99.48450870660503,
          76.48675328061097,
          78.8684729425476,
          81.0880249320852,
          83.71578672309462,
          85.53780998209204,
          88.2947592858927,
          91.1054170982606,
          93.85978057471196,
          96.43115035331515,
          99.02832943554886,
          101.51853408296289,
          104.07638767512188,
          106.80160265844071,
          109.82657505435304,
          113.08401975064115,
          117.17015995439337,
          121.83322782230022,
          125.92528216791978,
          131.54154087275248,
          137.6433834758058,
          142.04149617351717,
          147.0016174207001,
          150.1889590674926,
          151.87924680602418,
          151.77478027245732,
          152.35981982177788,
          152.1076977390326,
          152.65911093902994,
          152.6170247590713,
          153.05482970502916,
          152.7903188174498,
          151.90740570690255,
          149.9771542734587
         ]
        },
        {
         "hoverinfo": "text",
         "marker": {
          "color": "blue",
          "size": 7
         },
         "mode": "markers",
         "name": "Flat Surface (Side 1)",
         "text": [
          "Side 1 Flat Surface<br>Angle: 295.00°<br>X: -132.02mm<br>Y: 61.56mm",
          "Side 1 Flat Surface<br>Angle: 296.00°<br>X: -130.15mm<br>Y: 63.48mm",
          "Side 1 Flat Surface<br>Angle: 297.00°<br>X: -127.86mm<br>Y: 65.15mm",
          "Side 1 Flat Surface<br>Angle: 298.00°<br>X: -124.79mm<br>Y: 66.35mm",
          "Side 1 Flat Surface<br>Angle: 299.00°<br>X: -120.17mm<br>Y: 66.61mm",
          "Side 1 Flat Surface<br>Angle: 300.00°<br>X: -114.75mm<br>Y: 66.25mm",
          "Side 1 Flat Surface<br>Angle: 301.00°<br>X: -110.06mm<br>Y: 66.13mm",
          "Side 1 Flat Surface<br>Angle: 302.00°<br>X: -106.01mm<br>Y: 66.24mm",
          "Side 1 Flat Surface<br>Angle: 303.00°<br>X: -102.32mm<br>Y: 66.45mm",
          "Side 1 Flat Surface<br>Angle: 304.00°<br>X: -98.66mm<br>Y: 66.54mm",
          "Side 1 Flat Surface<br>Angle: 305.00°<br>X: -95.02mm<br>Y: 66.53mm",
          "Side 1 Flat Surface<br>Angle: 306.00°<br>X: -91.42mm<br>Y: 66.42mm",
          "Side 1 Flat Surface<br>Angle: 307.00°<br>X: -87.85mm<br>Y: 66.20mm",
          "Side 1 Flat Surface<br>Angle: 308.00°<br>X: -85.11mm<br>Y: 66.49mm",
          "Side 1 Flat Surface<br>Angle: 309.00°<br>X: -81.60mm<br>Y: 66.08mm",
          "Side 1 Flat Surface<br>Angle: 310.00°<br>X: -79.67mm<br>Y: 66.85mm",
          "Side 1 Flat Surface<br>Angle: 311.00°<br>X: -77.36mm<br>Y: 67.25mm",
          "Side 1 Flat Surface<br>Angle: 312.00°<br>X: -75.06mm<br>Y: 67.58mm",
          "Side 1 Flat Surface<br>Angle: 313.00°<br>X: -72.40mm<br>Y: 67.52mm",
          "Side 1 Flat Surface<br>Angle: 314.00°<br>X: -70.14mm<br>Y: 67.73mm",
          "Side 1 Flat Surface<br>Angle: 315.00°<br>X: -67.88mm<br>Y: 67.88mm",
          "Side 1 Flat Surface<br>Angle: 316.00°<br>X: -65.65mm<br>Y: 67.98mm",
          "Side 1 Flat Surface<br>Angle: 317.00°<br>X: -62.74mm<br>Y: 67.28mm",
          "Side 1 Flat Surface<br>Angle: 318.00°<br>X: -60.22mm<br>Y: 66.88mm",
          "Side 1 Flat Surface<br>Angle: 319.00°<br>X: -58.06mm<br>Y: 66.79mm",
          "Side 1 Flat Surface<br>Angle: 320.00°<br>X: -56.35mm<br>Y: 67.16mm",
          "Side 1 Flat Surface<br>Angle: 321.00°<br>X: -55.13mm<br>Y: 68.08mm"
         ],
         "type": "scatter",
         "x": [
          -132.01883914531354,
          -130.14538060050154,
          -127.8594362210308,
          -124.7899217483412,
          -120.17274251323471,
          -114.74836600143811,
          -110.06027626714742,
          -106.00601201955325,
          -102.31780928934177,
          -98.65547113404995,
          -95.02163713752304,
          -91.41892036436907,
          -87.84990610520224,
          -85.10516138952596,
          -81.60032595298193,
          -79.66862208437372,
          -77.35773197283416,
          -75.05762737321685,
          -72.40401646029787,
          -70.13563053301849,
          -67.88225099390857,
          -65.64521600837527,
          -62.74384912574984,
          -60.22175457229723,
          -58.06122406565991,
          -56.35104540175301,
          -55.12846499732501
         ],
         "y": [
          61.56139571419264,
          63.47614337017185,
          65.14763671262494,
          66.35197836989084,
          66.61283891298902,
          66.25000000000001,
          66.1308857282225,
          66.23990802915058,
          66.44596227183325,
          66.5439555130189,
          66.53486661672135,
          66.41973350904944,
          66.19965254672528,
          66.49143933517112,
          66.07864106023294,
          66.84991140740009,
          67.24605047152697,
          67.58219124224463,
          67.51783764618736,
          67.72919111975223,
          67.88225099390854,
          67.97761113200251,
          67.2845405489637,
          66.88303429296548,
          66.79179784971531,
          67.15656080397854,
          68.0779846693387
         ]
        },
        {
         "hoverinfo": "text",
         "marker": {
          "color": "orange",
          "size": 7
         },
         "mode": "markers",
         "name": "Flat Surface (Side 2)",
         "text": [
          "Side 2 Flat Surface<br>Angle: 39.00°<br>X: 52.86mm<br>Y: 65.28mm",
          "Side 2 Flat Surface<br>Angle: 40.00°<br>X: 54.10mm<br>Y: 64.48mm",
          "Side 2 Flat Surface<br>Angle: 41.00°<br>X: 55.20mm<br>Y: 63.50mm",
          "Side 2 Flat Surface<br>Angle: 42.00°<br>X: 56.88mm<br>Y: 63.17mm",
          "Side 2 Flat Surface<br>Angle: 43.00°<br>X: 58.42mm<br>Y: 62.65mm",
          "Side 2 Flat Surface<br>Angle: 44.00°<br>X: 60.57mm<br>Y: 62.73mm",
          "Side 2 Flat Surface<br>Angle: 45.00°<br>X: 62.53mm<br>Y: 62.53mm",
          "Side 2 Flat Surface<br>Angle: 46.00°<br>X: 64.74mm<br>Y: 62.52mm",
          "Side 2 Flat Surface<br>Angle: 47.00°<br>X: 66.68mm<br>Y: 62.18mm",
          "Side 2 Flat Surface<br>Angle: 48.00°<br>X: 68.90mm<br>Y: 62.04mm",
          "Side 2 Flat Surface<br>Angle: 49.00°<br>X: 71.03mm<br>Y: 61.74mm",
          "Side 2 Flat Surface<br>Angle: 50.00°<br>X: 73.23mm<br>Y: 61.45mm",
          "Side 2 Flat Surface<br>Angle: 51.00°<br>X: 76.24mm<br>Y: 61.74mm",
          "Side 2 Flat Surface<br>Angle: 52.00°<br>X: 78.67mm<br>Y: 61.46mm",
          "Side 2 Flat Surface<br>Angle: 53.00°<br>X: 81.32mm<br>Y: 61.28mm",
          "Side 2 Flat Surface<br>Angle: 54.00°<br>X: 84.38mm<br>Y: 61.31mm",
          "Side 2 Flat Surface<br>Angle: 55.00°<br>X: 87.03mm<br>Y: 60.94mm",
          "Side 2 Flat Surface<br>Angle: 56.00°<br>X: 89.40mm<br>Y: 60.30mm",
          "Side 2 Flat Surface<br>Angle: 57.00°<br>X: 91.90mm<br>Y: 59.68mm",
          "Side 2 Flat Surface<br>Angle: 58.00°<br>X: 94.38mm<br>Y: 58.97mm"
         ],
         "type": "scatter",
         "x": [
          52.86291284818634,
          54.10128876785009,
          55.202683028084195,
          56.87610154050295,
          58.424524360025075,
          60.574207820049445,
          62.52844432605643,
          64.7405820304786,
          66.67507718067117,
          68.90014263187604,
          71.02656009594702,
          73.23384723008542,
          76.23801726463692,
          78.66974233643309,
          81.31561731092911,
          84.380474940358,
          87.03490470570537,
          89.3978871179522,
          91.90431864047423,
          94.37563703906044
         ],
         "y": [
          65.28026076238555,
          64.47540525306214,
          63.503422549343476,
          63.16731016557851,
          62.65263182176573,
          62.72642843151098,
          62.52844432605643,
          62.51925334130975,
          62.17551534036882,
          62.03796707843921,
          61.74244672411396,
          61.450494200457946,
          61.736329103348275,
          61.463538928442155,
          61.27571276125952,
          61.30600357746071,
          60.94249636229864,
          60.29963624877661,
          59.683362372767476,
          58.972443152627605
         ]
        },
        {
         "hoverinfo": "text",
         "marker": {
          "color": "red",
          "size": 5
         },
         "mode": "markers",
         "name": "Bump Points",
         "text": [
          "Angle: 3°<br>X: 7.66mm<br>Y: 146.13mm<br>Depth: 6.92mm<br>New Depth: 0.00mm",
          "Angle: 2°<br>X: 5.11mm<br>Y: 146.24mm<br>Depth: 6.81mm<br>New Depth: -0.11mm",
          "Angle: 4°<br>X: 10.25mm<br>Y: 146.64mm<br>Depth: 6.41mm<br>New Depth: -0.51mm"
         ],
         "type": "scatter",
         "x": [
          7.658494651092347,
          5.106959498001992,
          10.25420164038642
         ],
         "y": [
          146.13278325972846,
          146.2441856903766,
          146.64191538819415
         ]
        }
       ],
       "layout": {
        "annotations": [
         {
          "font": {
           "color": "blue",
           "size": 12
          },
          "showarrow": false,
          "text": "New - Trench-Bottom",
          "x": -752.1299680388853,
          "y": 146.13278325972846,
          "yshift": 10
         },
         {
          "font": {
           "color": "green",
           "size": 12
          },
          "showarrow": false,
          "text": "Earth Surface",
          "x": -752.1299680388853,
          "y": 66.49866666177698,
          "yshift": 10
         },
         {
          "font": {
           "color": "purple",
           "size": 12
          },
          "showarrow": false,
          "text": "Initial - Trench-Bottom",
          "x": -752.1299680388853,
          "y": 153.05482970502916,
          "yshift": 10
         },
         {
          "font": {
           "color": "red",
           "size": 14
          },
          "showarrow": false,
          "text": "No Pipe Detected",
          "x": 0.5,
          "xref": "paper",
          "y": 1,
          "yref": "paper"
         }
        ],
        "autosize": true,
        "coloraxis": {
         "colorbar": {
          "len": 0.7,
          "x": 1.2,
          "y": 0.5
         }
        },
        "legend": {
         "orientation": "v",
         "x": 1.1,
         "y": 0.5
        },
        "shapes": [
         {
          "line": {
           "color": "blue",
           "dash": "dash",
           "width": 2
          },
          "name": "Lowest Point Level",
          "type": "line",
          "x0": -752.1299680388853,
          "x1": 133.54076609715761,
          "y0": 146.13278325972846,
          "y1": 146.13278325972846
         },
         {
          "line": {
           "color": "green",
           "dash": "dash",
           "width": 2
          },
          "name": "Final Depth Level",
          "type": "line",
          "x0": -752.1299680388853,
          "x1": 133.54076609715761,
          "y0": 66.49866666177698,
          "y1": 66.49866666177698
         },
         {
          "line": {
           "color": "purple",
           "dash": "dash",
           "width": 2
          },
          "name": "Initial Highest Point Level",
          "type": "line",
          "x0": -752.1299680388853,
          "x1": 133.54076609715761,
          "y0": 153.05482970502916,
          "y1": 153.05482970502916
         }
        ],
        "template": {
         "data": {
          "bar": [
           {
            "error_x": {
             "color": "#2a3f5f"
            },
            "error_y": {
             "color": "#2a3f5f"
            },
            "marker": {
             "line": {
              "color": "#E5ECF6",
              "width": 0.5
             },
             "pattern": {
              "fillmode": "overlay",
              "size": 10,
              "solidity": 0.2
             }
            },
            "type": "bar"
           }
          ],
          "barpolar": [
           {
            "marker": {
             "line": {
              "color": "#E5ECF6",
              "width": 0.5
             },
             "pattern": {
              "fillmode": "overlay",
              "size": 10,
              "solidity": 0.2
             }
            },
            "type": "barpolar"
           }
          ],
          "carpet": [
           {
            "aaxis": {
             "endlinecolor": "#2a3f5f",
             "gridcolor": "white",
             "linecolor": "white",
             "minorgridcolor": "white",
             "startlinecolor": "#2a3f5f"
            },
            "baxis": {
             "endlinecolor": "#2a3f5f",
             "gridcolor": "white",
             "linecolor": "white",
             "minorgridcolor": "white",
             "startlinecolor": "#2a3f5f"
            },
            "type": "carpet"
           }
          ],
          "choropleth": [
           {
            "colorbar": {
             "outlinewidth": 0,
             "ticks": ""
            },
            "type": "choropleth"
           }
          ],
          "contour": [
           {
            "colorbar": {
             "outlinewidth": 0,
             "ticks": ""
            },
            "colorscale": [
             [
              0,
              "#0d0887"
             ],
             [
              0.1111111111111111,
              "#46039f"
             ],
             [
              0.2222222222222222,
              "#7201a8"
             ],
             [
              0.3333333333333333,
              "#9c179e"
             ],
             [
              0.4444444444444444,
              "#bd3786"
             ],
             [
              0.5555555555555556,
              "#d8576b"
             ],
             [
              0.6666666666666666,
              "#ed7953"
             ],
             [
              0.7777777777777778,
              "#fb9f3a"
             ],
             [
              0.8888888888888888,
              "#fdca26"
             ],
             [
              1,
              "#f0f921"
             ]
            ],
            "type": "contour"
           }
          ],
          "contourcarpet": [
           {
            "colorbar": {
             "outlinewidth": 0,
             "ticks": ""
            },
            "type": "contourcarpet"
           }
          ],
          "heatmap": [
           {
            "colorbar": {
             "outlinewidth": 0,
             "ticks": ""
            },
            "colorscale": [
             [
              0,
              "#0d0887"
             ],
             [
              0.1111111111111111,
              "#46039f"
             ],
             [
              0.2222222222222222,
              "#7201a8"
             ],
             [
              0.3333333333333333,
              "#9c179e"
             ],
             [
              0.4444444444444444,
              "#bd3786"
             ],
             [
              0.5555555555555556,
              "#d8576b"
             ],
             [
              0.6666666666666666,
              "#ed7953"
             ],
             [
              0.7777777777777778,
              "#fb9f3a"
             ],
             [
              0.8888888888888888,
              "#fdca26"
             ],
             [
              1,
              "#f0f921"
             ]
            ],
            "type": "heatmap"
           }
          ],
          "heatmapgl": [
           {
            "colorbar": {
             "outlinewidth": 0,
             "ticks": ""
            },
            "colorscale": [
             [
              0,
              "#0d0887"
             ],
             [
              0.1111111111111111,
              "#46039f"
             ],
             [
              0.2222222222222222,
              "#7201a8"
             ],
             [
              0.3333333333333333,
              "#9c179e"
             ],
             [
              0.4444444444444444,
              "#bd3786"
             ],
             [
              0.5555555555555556,
              "#d8576b"
             ],
             [
              0.6666666666666666,
              "#ed7953"
             ],
             [
              0.7777777777777778,
              "#fb9f3a"
             ],
             [
              0.8888888888888888,
              "#fdca26"
             ],
             [
              1,
              "#f0f921"
             ]
            ],
            "type": "heatmapgl"
           }
          ],
          "histogram": [
           {
            "marker": {
             "pattern": {
              "fillmode": "overlay",
              "size": 10,
              "solidity": 0.2
             }
            },
            "type": "histogram"
           }
          ],
          "histogram2d": [
           {
            "colorbar": {
             "outlinewidth": 0,
             "ticks": ""
            },
            "colorscale": [
             [
              0,
              "#0d0887"
             ],
             [
              0.1111111111111111,
              "#46039f"
             ],
             [
              0.2222222222222222,
              "#7201a8"
             ],
             [
              0.3333333333333333,
              "#9c179e"
             ],
             [
              0.4444444444444444,
              "#bd3786"
             ],
             [
              0.5555555555555556,
              "#d8576b"
             ],
             [
              0.6666666666666666,
              "#ed7953"
             ],
             [
              0.7777777777777778,
              "#fb9f3a"
             ],
             [
              0.8888888888888888,
              "#fdca26"
             ],
             [
              1,
              "#f0f921"
             ]
            ],
            "type": "histogram2d"
           }
          ],
          "histogram2dcontour": [
           {
            "colorbar": {
             "outlinewidth": 0,
             "ticks": ""
            },
            "colorscale": [
             [
              0,
              "#0d0887"
             ],
             [
              0.1111111111111111,
              "#46039f"
             ],
             [
              0.2222222222222222,
              "#7201a8"
             ],
             [
              0.3333333333333333,
              "#9c179e"
             ],
             [
              0.4444444444444444,
              "#bd3786"
             ],
             [
              0.5555555555555556,
              "#d8576b"
             ],
             [
              0.6666666666666666,
              "#ed7953"
             ],
             [
              0.7777777777777778,
              "#fb9f3a"
             ],
             [
              0.8888888888888888,
              "#fdca26"
             ],
             [
              1,
              "#f0f921"
             ]
            ],
            "type": "histogram2dcontour"
           }
          ],
          "mesh3d": [
           {
            "colorbar": {
             "outlinewidth": 0,
             "ticks": ""
            },
            "type": "mesh3d"
           }
          ],
          "parcoords": [
           {
            "line": {
             "colorbar": {
              "outlinewidth": 0,
              "ticks": ""
             }
            },
            "type": "parcoords"
           }
          ],
          "pie": [
           {
            "automargin": true,
            "type": "pie"
           }
          ],
          "scatter": [
           {
            "fillpattern": {
             "fillmode": "overlay",
             "size": 10,
             "solidity": 0.2
            },
            "type": "scatter"
           }
          ],
          "scatter3d": [
           {
            "line": {
             "colorbar": {
              "outlinewidth": 0,
              "ticks": ""
             }
            },
            "marker": {
             "colorbar": {
              "outlinewidth": 0,
              "ticks": ""
             }
            },
            "type": "scatter3d"
           }
          ],
          "scattercarpet": [
           {
            "marker": {
             "colorbar": {
              "outlinewidth": 0,
              "ticks": ""
             }
            },
            "type": "scattercarpet"
           }
          ],
          "scattergeo": [
           {
            "marker": {
             "colorbar": {
              "outlinewidth": 0,
              "ticks": ""
             }
            },
            "type": "scattergeo"
           }
          ],
          "scattergl": [
           {
            "marker": {
             "colorbar": {
              "outlinewidth": 0,
              "ticks": ""
             }
            },
            "type": "scattergl"
           }
          ],
          "scattermapbox": [
           {
            "marker": {
             "colorbar": {
              "outlinewidth": 0,
              "ticks": ""
             }
            },
            "type": "scattermapbox"
           }
          ],
          "scatterpolar": [
           {
            "marker": {
             "colorbar": {
              "outlinewidth": 0,
              "ticks": ""
             }
            },
            "type": "scatterpolar"
           }
          ],
          "scatterpolargl": [
           {
            "marker": {
             "colorbar": {
              "outlinewidth": 0,
              "ticks": ""
             }
            },
            "type": "scatterpolargl"
           }
          ],
          "scatterternary": [
           {
            "marker": {
             "colorbar": {
              "outlinewidth": 0,
              "ticks": ""
             }
            },
            "type": "scatterternary"
           }
          ],
          "surface": [
           {
            "colorbar": {
             "outlinewidth": 0,
             "ticks": ""
            },
            "colorscale": [
             [
              0,
              "#0d0887"
             ],
             [
              0.1111111111111111,
              "#46039f"
             ],
             [
              0.2222222222222222,
              "#7201a8"
             ],
             [
              0.3333333333333333,
              "#9c179e"
             ],
             [
              0.4444444444444444,
              "#bd3786"
             ],
             [
              0.5555555555555556,
              "#d8576b"
             ],
             [
              0.6666666666666666,
              "#ed7953"
             ],
             [
              0.7777777777777778,
              "#fb9f3a"
             ],
             [
              0.8888888888888888,
              "#fdca26"
             ],
             [
              1,
              "#f0f921"
             ]
            ],
            "type": "surface"
           }
          ],
          "table": [
           {
            "cells": {
             "fill": {
              "color": "#EBF0F8"
             },
             "line": {
              "color": "white"
             }
            },
            "header": {
             "fill": {
              "color": "#C8D4E3"
             },
             "line": {
              "color": "white"
             }
            },
            "type": "table"
           }
          ]
         },
         "layout": {
          "annotationdefaults": {
           "arrowcolor": "#2a3f5f",
           "arrowhead": 0,
           "arrowwidth": 1
          },
          "autotypenumbers": "strict",
          "coloraxis": {
           "colorbar": {
            "outlinewidth": 0,
            "ticks": ""
           }
          },
          "colorscale": {
           "diverging": [
            [
             0,
             "#8e0152"
            ],
            [
             0.1,
             "#c51b7d"
            ],
            [
             0.2,
             "#de77ae"
            ],
            [
             0.3,
             "#f1b6da"
            ],
            [
             0.4,
             "#fde0ef"
            ],
            [
             0.5,
             "#f7f7f7"
            ],
            [
             0.6,
             "#e6f5d0"
            ],
            [
             0.7,
             "#b8e186"
            ],
            [
             0.8,
             "#7fbc41"
            ],
            [
             0.9,
             "#4d9221"
            ],
            [
             1,
             "#276419"
            ]
           ],
           "sequential": [
            [
             0,
             "#0d0887"
            ],
            [
             0.1111111111111111,
             "#46039f"
            ],
            [
             0.2222222222222222,
             "#7201a8"
            ],
            [
             0.3333333333333333,
             "#9c179e"
            ],
            [
             0.4444444444444444,
             "#bd3786"
            ],
            [
             0.5555555555555556,
             "#d8576b"
            ],
            [
             0.6666666666666666,
             "#ed7953"
            ],
            [
             0.7777777777777778,
             "#fb9f3a"
            ],
            [
             0.8888888888888888,
             "#fdca26"
            ],
            [
             1,
             "#f0f921"
            ]
           ],
           "sequentialminus": [
            [
             0,
             "#0d0887"
            ],
            [
             0.1111111111111111,
             "#46039f"
            ],
            [
             0.2222222222222222,
             "#7201a8"
            ],
            [
             0.3333333333333333,
             "#9c179e"
            ],
            [
             0.4444444444444444,
             "#bd3786"
            ],
            [
             0.5555555555555556,
             "#d8576b"
            ],
            [
             0.6666666666666666,
             "#ed7953"
            ],
            [
             0.7777777777777778,
             "#fb9f3a"
            ],
            [
             0.8888888888888888,
             "#fdca26"
            ],
            [
             1,
             "#f0f921"
            ]
           ]
          },
          "colorway": [
           "#636efa",
           "#EF553B",
           "#00cc96",
           "#ab63fa",
           "#FFA15A",
           "#19d3f3",
           "#FF6692",
           "#B6E880",
           "#FF97FF",
           "#FECB52"
          ],
          "font": {
           "color": "#2a3f5f"
          },
          "geo": {
           "bgcolor": "white",
           "lakecolor": "white",
           "landcolor": "#E5ECF6",
           "showlakes": true,
           "showland": true,
           "subunitcolor": "white"
          },
          "hoverlabel": {
           "align": "left"
          },
          "hovermode": "closest",
          "mapbox": {
           "style": "light"
          },
          "paper_bgcolor": "white",
          "plot_bgcolor": "#E5ECF6",
          "polar": {
           "angularaxis": {
            "gridcolor": "white",
            "linecolor": "white",
            "ticks": ""
           },
           "bgcolor": "#E5ECF6",
           "radialaxis": {
            "gridcolor": "white",
            "linecolor": "white",
            "ticks": ""
           }
          },
          "scene": {
           "xaxis": {
            "backgroundcolor": "#E5ECF6",
            "gridcolor": "white",
            "gridwidth": 2,
            "linecolor": "white",
            "showbackground": true,
            "ticks": "",
            "zerolinecolor": "white"
           },
           "yaxis": {
            "backgroundcolor": "#E5ECF6",
            "gridcolor": "white",
            "gridwidth": 2,
            "linecolor": "white",
            "showbackground": true,
            "ticks": "",
            "zerolinecolor": "white"
           },
           "zaxis": {
            "backgroundcolor": "#E5ECF6",
            "gridcolor": "white",
            "gridwidth": 2,
            "linecolor": "white",
            "showbackground": true,
            "ticks": "",
            "zerolinecolor": "white"
           }
          },
          "shapedefaults": {
           "line": {
            "color": "#2a3f5f"
           }
          },
          "ternary": {
           "aaxis": {
            "gridcolor": "white",
            "linecolor": "white",
            "ticks": ""
           },
           "baxis": {
            "gridcolor": "white",
            "linecolor": "white",
            "ticks": ""
           },
           "bgcolor": "#E5ECF6",
           "caxis": {
            "gridcolor": "white",
            "linecolor": "white",
            "ticks": ""
           }
          },
          "title": {
           "x": 0.05
          },
          "xaxis": {
           "automargin": true,
           "gridcolor": "white",
           "linecolor": "white",
           "ticks": "",
           "title": {
            "standoff": 15
           },
           "zerolinecolor": "white",
           "zerolinewidth": 2
          },
          "yaxis": {
           "automargin": true,
           "gridcolor": "white",
           "linecolor": "white",
           "ticks": "",
           "title": {
            "standoff": 15
           },
           "zerolinecolor": "white",
           "zerolinewidth": 2
          }
         }
        },
        "title": {
         "text": "LiDAR Data Visualization with Circle Fitting | Final Depth: 86.56 mm | New Final Depth: 79.63 mm | Tilt: 0°"
        },
        "xaxis": {
         "autorange": true,
         "domain": [
          0,
          1
         ],
         "range": [
          -1042.2107593865685,
          382.52402231464566
         ],
         "scaleanchor": "y",
         "scaleratio": 1,
         "title": {
          "text": "X Coordinate (mm)"
         },
         "type": "linear"
        },
        "yaxis": {
         "autorange": true,
         "domain": [
          0,
          1
         ],
         "range": [
          309.6636613262204,
          -28.663859394384588
         ],
         "title": {
          "text": "Y Coordinate (mm)"
         },
         "type": "linear"
        }
       }
      },
      "image/png": "[encoded data removed]",
      "text/html": [
       "<div>                            <div id=\"b2d86f87-36a3-4ac2-8262-c8d75e352f2b\" class=\"plotly-graph-div\" style=\"height:525px; width:100%;\"></div>            <script type=\"text/javascript\">                require([\"plotly\"], function(Plotly) {                    window.PLOTLYENV=window.PLOTLYENV || {};                                    if (document.getElementById(\"b2d86f87-36a3-4ac2-8262-c8d75e352f2b\")) {                    Plotly.newPlot(                        \"b2d86f87-36a3-4ac2-8262-c8d75e352f2b\",                        [{\"marker\":{\"color\":\"red\",\"size\":10,\"symbol\":\"circle\"},\"mode\":\"markers\",\"name\":\"LiDAR Position\",\"x\":[0],\"y\":[0],\"type\":\"scatter\"},{\"hoverinfo\":\"text\",\"marker\":{\"color\":[-0.11140243064815536,0.0,-0.5091321284656942,-2.424751093203099,-4.197055959115659,-5.065075213386791,-5.8114735378062505,-5.0540794787429775,-4.4443162669916205,-3.4671936079324155,-2.65433892246557,-2.110658274492067,-1.94927451032882,-1.1019130312859318,0.457941213422572,1.7307651093101128,2.523249299160284,4.021338510595399,6.745049521512698,12.16399205738,17.87235498963676,23.194244835684415,28.004327681334516,31.59813667297182,35.09086295961275,40.308620892873535,44.593810080951855,49.541969352521434,53.576318230266565,56.81595309807025,60.81914648248819,64.50217907658566,61.15643207283668,67.03910135571618,69.9054052229764,65.37076730619597,64.0220650979403,80.8525224973429,81.65737800666632,82.62936071038499,82.96547309414994,83.48015143796272,83.40635482821747,83.60433893367203,83.6135299184187,83.95726791935964,84.09481618128925,84.3903365356145,84.68228905927052,84.39645415638017,84.66924433128631,84.85707049846894,84.82677968226776,85.19028689742981,85.83314701095185,86.44942088696098,87.16034010710085,87.41844271998228,87.63278325972844,88.03642914071673,88.2597429966884,88.51382354509231,88.586610451207,89.1732359584224,89.72153989011015,91.67463222653593,93.84840682766742,95.81792529377599,97.52791933925785,-127.62013740601617,-140.7407603512845,90.81587430074362,88.63018343315768,86.09845230132055,84.57138754553581,82.6566398895566,80.98514654710351,79.78080488983761,79.51994434673944,79.88278325972844,80.00189753150596,79.89287523057787,79.6868209878952,79.58882774670955,79.59791664300711,79.71304975067902,79.93313071300318,79.64134392455733,80.05414219949552,79.28287185232837,78.88673278820148,78.55059201748382,78.6149456135411,78.40359213997623,78.25053226581991,78.15517212772595,78.84824271076475,79.24974896676298,79.34098541001315,78.97622245574992,78.05479859038975,50.783482073315085,58.28287715452625,64.0984584120748,47.62974993397722,46.64827455312343,69.64602997911749,67.26431031718086,65.04475832764325,62.41699653663383,60.59497327763641,57.83802397383576,55.02736616146785,52.27300268501649,49.70163290641331,47.1044538241796,44.61424917676557,42.05639558460658,39.33118060128774,36.30620820537541,33.04876350908731,28.962623305335086,24.29955543742824,20.20750109180868,14.591242386975978,8.489399783922664,4.091287086211281,-0.8688341609716304,-4.056175807764134,-5.746463546295729,-5.641997012728865,-6.22703656204942,-5.974914479304147,-6.526327679301488,-6.484241499342858,-6.922046445300708,-6.6575355577213315,-5.774622447174096,-3.844371013730239],\"colorbar\":{\"title\":{\"text\":\"Depth (mm)\"}},\"colorscale\":[[0.0,\"#440154\"],[0.1111111111111111,\"#482878\"],[0.2222222222222222,\"#3e4989\"],[0.3333333333333333,\"#31688e\"],[0.4444444444444444,\"#26828e\"],[0.5555555555555556,\"#1f9e89\"],[0.6666666666666666,\"#35b779\"],[0.7777777777777778,\"#6ece58\"],[0.8888888888888888,\"#b5de2b\"],[1.0,\"#fde725\"]],\"size\":5},\"mode\":\"markers\",\"name\":\"LIDAR Points\",\"text\":[\"Angle: 2\\u00b0\\u003cbr\\u003eX: 5.11mm\\u003cbr\\u003eY: 146.24mm\\u003cbr\\u003eInitial Depth: 6.81mm\\u003cbr\\u003eNew Depth: -0.11mm\",\"Angle: 3\\u00b0\\u003cbr\\u003eX: 7.66mm\\u003cbr\\u003eY: 146.13mm\\u003cbr\\u003eInitial Depth: 6.92mm\\u003cbr\\u003eNew Depth: 0.00mm\",\"Angle: 4\\u00b0\\u003cbr\\u003eX: 10.25mm\\u003cbr\\u003eY: 146.64mm\\u003cbr\\u003eInitial Depth: 6.41mm\\u003cbr\\u003eNew Depth: -0.51mm\",\"Angle: 5\\u00b0\\u003cbr\\u003eX: 13.00mm\\u003cbr\\u003eY: 148.56mm\\u003cbr\\u003eInitial Depth: 4.50mm\\u003cbr\\u003eNew Depth: -2.42mm\",\"Angle: 6\\u00b0\\u003cbr\\u003eX: 15.80mm\\u003cbr\\u003eY: 150.33mm\\u003cbr\\u003eInitial Depth: 2.72mm\\u003cbr\\u003eNew Depth: -4.20mm\",\"Angle: 7\\u00b0\\u003cbr\\u003eX: 18.56mm\\u003cbr\\u003eY: 151.20mm\\u003cbr\\u003eInitial Depth: 1.86mm\\u003cbr\\u003eNew Depth: -5.07mm\",\"Angle: 8\\u00b0\\u003cbr\\u003eX: 21.35mm\\u003cbr\\u003eY: 151.94mm\\u003cbr\\u003eInitial Depth: 1.11mm\\u003cbr\\u003eNew Depth: -5.81mm\",\"Angle: 9\\u00b0\\u003cbr\\u003eX: 23.95mm\\u003cbr\\u003eY: 151.19mm\\u003cbr\\u003eInitial Depth: 1.87mm\\u003cbr\\u003eNew Depth: -5.05mm\",\"Angle: 10\\u00b0\\u003cbr\\u003eX: 26.55mm\\u003cbr\\u003eY: 150.58mm\\u003cbr\\u003eInitial Depth: 2.48mm\\u003cbr\\u003eNew Depth: -4.44mm\",\"Angle: 11\\u00b0\\u003cbr\\u003eX: 29.08mm\\u003cbr\\u003eY: 149.60mm\\u003cbr\\u003eInitial Depth: 3.45mm\\u003cbr\\u003eNew Depth: -3.47mm\",\"Angle: 12\\u00b0\\u003cbr\\u003eX: 31.63mm\\u003cbr\\u003eY: 148.79mm\\u003cbr\\u003eInitial Depth: 4.27mm\\u003cbr\\u003eNew Depth: -2.65mm\",\"Angle: 13\\u00b0\\u003cbr\\u003eX: 34.22mm\\u003cbr\\u003eY: 148.24mm\\u003cbr\\u003eInitial Depth: 4.81mm\\u003cbr\\u003eNew Depth: -2.11mm\",\"Angle: 14\\u00b0\\u003cbr\\u003eX: 36.92mm\\u003cbr\\u003eY: 148.08mm\\u003cbr\\u003eInitial Depth: 4.97mm\\u003cbr\\u003eNew Depth: -1.95mm\",\"Angle: 15\\u00b0\\u003cbr\\u003eX: 39.45mm\\u003cbr\\u003eY: 147.23mm\\u003cbr\\u003eInitial Depth: 5.82mm\\u003cbr\\u003eNew Depth: -1.10mm\",\"Angle: 16\\u00b0\\u003cbr\\u003eX: 41.77mm\\u003cbr\\u003eY: 145.67mm\\u003cbr\\u003eInitial Depth: 7.38mm\\u003cbr\\u003eNew Depth: 0.46mm\",\"Angle: 17\\u00b0\\u003cbr\\u003eX: 44.15mm\\u003cbr\\u003eY: 144.40mm\\u003cbr\\u003eInitial Depth: 8.65mm\\u003cbr\\u003eNew Depth: 1.73mm\",\"Angle: 18\\u00b0\\u003cbr\\u003eX: 46.66mm\\u003cbr\\u003eY: 143.61mm\\u003cbr\\u003eInitial Depth: 9.45mm\\u003cbr\\u003eNew Depth: 2.52mm\",\"Angle: 19\\u00b0\\u003cbr\\u003eX: 48.93mm\\u003cbr\\u003eY: 142.11mm\\u003cbr\\u003eInitial Depth: 10.94mm\\u003cbr\\u003eNew Depth: 4.02mm\",\"Angle: 20\\u00b0\\u003cbr\\u003eX: 50.73mm\\u003cbr\\u003eY: 139.39mm\\u003cbr\\u003eInitial Depth: 13.67mm\\u003cbr\\u003eNew Depth: 6.75mm\",\"Angle: 21\\u00b0\\u003cbr\\u003eX: 51.43mm\\u003cbr\\u003eY: 133.97mm\\u003cbr\\u003eInitial Depth: 19.09mm\\u003cbr\\u003eNew Depth: 12.16mm\",\"Angle: 22\\u00b0\\u003cbr\\u003eX: 51.82mm\\u003cbr\\u003eY: 128.26mm\\u003cbr\\u003eInitial Depth: 24.79mm\\u003cbr\\u003eNew Depth: 17.87mm\",\"Angle: 23\\u00b0\\u003cbr\\u003eX: 52.18mm\\u003cbr\\u003eY: 122.94mm\\u003cbr\\u003eInitial Depth: 30.12mm\\u003cbr\\u003eNew Depth: 23.19mm\",\"Angle: 24\\u00b0\\u003cbr\\u003eX: 52.59mm\\u003cbr\\u003eY: 118.13mm\\u003cbr\\u003eInitial Depth: 34.93mm\\u003cbr\\u003eNew Depth: 28.00mm\",\"Angle: 25\\u00b0\\u003cbr\\u003eX: 53.41mm\\u003cbr\\u003eY: 114.53mm\\u003cbr\\u003eInitial Depth: 38.52mm\\u003cbr\\u003eNew Depth: 31.60mm\",\"Angle: 26\\u00b0\\u003cbr\\u003eX: 54.16mm\\u003cbr\\u003eY: 111.04mm\\u003cbr\\u003eInitial Depth: 42.01mm\\u003cbr\\u003eNew Depth: 35.09mm\",\"Angle: 27\\u00b0\\u003cbr\\u003eX: 53.92mm\\u003cbr\\u003eY: 105.82mm\\u003cbr\\u003eInitial Depth: 47.23mm\\u003cbr\\u003eNew Depth: 40.31mm\",\"Angle: 28\\u00b0\\u003cbr\\u003eX: 53.99mm\\u003cbr\\u003eY: 101.54mm\\u003cbr\\u003eInitial Depth: 51.52mm\\u003cbr\\u003eNew Depth: 44.59mm\",\"Angle: 29\\u00b0\\u003cbr\\u003eX: 53.54mm\\u003cbr\\u003eY: 96.59mm\\u003cbr\\u003eInitial Depth: 56.46mm\\u003cbr\\u003eNew Depth: 49.54mm\",\"Angle: 30\\u00b0\\u003cbr\\u003eX: 53.44mm\\u003cbr\\u003eY: 92.56mm\\u003cbr\\u003eInitial Depth: 60.50mm\\u003cbr\\u003eNew Depth: 53.58mm\",\"Angle: 31\\u00b0\\u003cbr\\u003eX: 53.67mm\\u003cbr\\u003eY: 89.32mm\\u003cbr\\u003eInitial Depth: 63.74mm\\u003cbr\\u003eNew Depth: 56.82mm\",\"Angle: 32\\u00b0\\u003cbr\\u003eX: 53.31mm\\u003cbr\\u003eY: 85.31mm\\u003cbr\\u003eInitial Depth: 67.74mm\\u003cbr\\u003eNew Depth: 60.82mm\",\"Angle: 33\\u00b0\\u003cbr\\u003eX: 53.01mm\\u003cbr\\u003eY: 81.63mm\\u003cbr\\u003eInitial Depth: 71.42mm\\u003cbr\\u003eNew Depth: 64.50mm\",\"Angle: 34\\u00b0\\u003cbr\\u003eX: 57.32mm\\u003cbr\\u003eY: 84.98mm\\u003cbr\\u003eInitial Depth: 68.08mm\\u003cbr\\u003eNew Depth: 61.16mm\",\"Angle: 35\\u00b0\\u003cbr\\u003eX: 55.38mm\\u003cbr\\u003eY: 79.09mm\\u003cbr\\u003eInitial Depth: 73.96mm\\u003cbr\\u003eNew Depth: 67.04mm\",\"Angle: 36\\u00b0\\u003cbr\\u003eX: 55.38mm\\u003cbr\\u003eY: 76.23mm\\u003cbr\\u003eInitial Depth: 76.83mm\\u003cbr\\u003eNew Depth: 69.91mm\",\"Angle: 37\\u00b0\\u003cbr\\u003eX: 60.86mm\\u003cbr\\u003eY: 80.76mm\\u003cbr\\u003eInitial Depth: 72.29mm\\u003cbr\\u003eNew Depth: 65.37mm\",\"Angle: 38\\u00b0\\u003cbr\\u003eX: 64.15mm\\u003cbr\\u003eY: 82.11mm\\u003cbr\\u003eInitial Depth: 70.94mm\\u003cbr\\u003eNew Depth: 64.02mm\",\"Angle: 39\\u00b0\\u003cbr\\u003eX: 52.86mm\\u003cbr\\u003eY: 65.28mm\\u003cbr\\u003eInitial Depth: 87.77mm\\u003cbr\\u003eNew Depth: 80.85mm\",\"Angle: 40\\u00b0\\u003cbr\\u003eX: 54.10mm\\u003cbr\\u003eY: 64.48mm\\u003cbr\\u003eInitial Depth: 88.58mm\\u003cbr\\u003eNew Depth: 81.66mm\",\"Angle: 41\\u00b0\\u003cbr\\u003eX: 55.20mm\\u003cbr\\u003eY: 63.50mm\\u003cbr\\u003eInitial Depth: 89.55mm\\u003cbr\\u003eNew Depth: 82.63mm\",\"Angle: 42\\u00b0\\u003cbr\\u003eX: 56.88mm\\u003cbr\\u003eY: 63.17mm\\u003cbr\\u003eInitial Depth: 89.89mm\\u003cbr\\u003eNew Depth: 82.97mm\",\"Angle: 43\\u00b0\\u003cbr\\u003eX: 58.42mm\\u003cbr\\u003eY: 62.65mm\\u003cbr\\u003eInitial Depth: 90.40mm\\u003cbr\\u003eNew Depth: 83.48mm\",\"Angle: 44\\u00b0\\u003cbr\\u003eX: 60.57mm\\u003cbr\\u003eY: 62.73mm\\u003cbr\\u003eInitial Depth: 90.33mm\\u003cbr\\u003eNew Depth: 83.41mm\",\"Angle: 45\\u00b0\\u003cbr\\u003eX: 62.53mm\\u003cbr\\u003eY: 62.53mm\\u003cbr\\u003eInitial Depth: 90.53mm\\u003cbr\\u003eNew Depth: 83.60mm\",\"Angle: 46\\u00b0\\u003cbr\\u003eX: 64.74mm\\u003cbr\\u003eY: 62.52mm\\u003cbr\\u003eInitial Depth: 90.54mm\\u003cbr\\u003eNew Depth: 83.61mm\",\"Angle: 47\\u00b0\\u003cbr\\u003eX: 66.68mm\\u003cbr\\u003eY: 62.18mm\\u003cbr\\u003eInitial Depth: 90.88mm\\u003cbr\\u003eNew Depth: 83.96mm\",\"Angle: 48\\u00b0\\u003cbr\\u003eX: 68.90mm\\u003cbr\\u003eY: 62.04mm\\u003cbr\\u003eInitial Depth: 91.02mm\\u003cbr\\u003eNew Depth: 84.09mm\",\"Angle: 49\\u00b0\\u003cbr\\u003eX: 71.03mm\\u003cbr\\u003eY: 61.74mm\\u003cbr\\u003eInitial Depth: 91.31mm\\u003cbr\\u003eNew Depth: 84.39mm\",\"Angle: 50\\u00b0\\u003cbr\\u003eX: 73.23mm\\u003cbr\\u003eY: 61.45mm\\u003cbr\\u003eInitial Depth: 91.60mm\\u003cbr\\u003eNew Depth: 84.68mm\",\"Angle: 51\\u00b0\\u003cbr\\u003eX: 76.24mm\\u003cbr\\u003eY: 61.74mm\\u003cbr\\u003eInitial Depth: 91.32mm\\u003cbr\\u003eNew Depth: 84.40mm\",\"Angle: 52\\u00b0\\u003cbr\\u003eX: 78.67mm\\u003cbr\\u003eY: 61.46mm\\u003cbr\\u003eInitial Depth: 91.59mm\\u003cbr\\u003eNew Depth: 84.67mm\",\"Angle: 53\\u00b0\\u003cbr\\u003eX: 81.32mm\\u003cbr\\u003eY: 61.28mm\\u003cbr\\u003eInitial Depth: 91.78mm\\u003cbr\\u003eNew Depth: 84.86mm\",\"Angle: 54\\u00b0\\u003cbr\\u003eX: 84.38mm\\u003cbr\\u003eY: 61.31mm\\u003cbr\\u003eInitial Depth: 91.75mm\\u003cbr\\u003eNew Depth: 84.83mm\",\"Angle: 55\\u00b0\\u003cbr\\u003eX: 87.03mm\\u003cbr\\u003eY: 60.94mm\\u003cbr\\u003eInitial Depth: 92.11mm\\u003cbr\\u003eNew Depth: 85.19mm\",\"Angle: 56\\u00b0\\u003cbr\\u003eX: 89.40mm\\u003cbr\\u003eY: 60.30mm\\u003cbr\\u003eInitial Depth: 92.76mm\\u003cbr\\u003eNew Depth: 85.83mm\",\"Angle: 57\\u00b0\\u003cbr\\u003eX: 91.90mm\\u003cbr\\u003eY: 59.68mm\\u003cbr\\u003eInitial Depth: 93.37mm\\u003cbr\\u003eNew Depth: 86.45mm\",\"Angle: 58\\u00b0\\u003cbr\\u003eX: 94.38mm\\u003cbr\\u003eY: 58.97mm\\u003cbr\\u003eInitial Depth: 94.08mm\\u003cbr\\u003eNew Depth: 87.16mm\",\"Angle: 59\\u00b0\\u003cbr\\u003eX: 97.72mm\\u003cbr\\u003eY: 58.71mm\\u003cbr\\u003eInitial Depth: 94.34mm\\u003cbr\\u003eNew Depth: 87.42mm\",\"Angle: 60\\u00b0\\u003cbr\\u003eX: 101.32mm\\u003cbr\\u003eY: 58.50mm\\u003cbr\\u003eInitial Depth: 94.55mm\\u003cbr\\u003eNew Depth: 87.63mm\",\"Angle: 61\\u00b0\\u003cbr\\u003eX: 104.81mm\\u003cbr\\u003eY: 58.10mm\\u003cbr\\u003eInitial Depth: 94.96mm\\u003cbr\\u003eNew Depth: 88.04mm\",\"Angle: 62\\u00b0\\u003cbr\\u003eX: 108.84mm\\u003cbr\\u003eY: 57.87mm\\u003cbr\\u003eInitial Depth: 95.18mm\\u003cbr\\u003eNew Depth: 88.26mm\",\"Angle: 63\\u00b0\\u003cbr\\u003eX: 113.08mm\\u003cbr\\u003eY: 57.62mm\\u003cbr\\u003eInitial Depth: 95.44mm\\u003cbr\\u003eNew Depth: 88.51mm\",\"Angle: 64\\u00b0\\u003cbr\\u003eX: 117.99mm\\u003cbr\\u003eY: 57.55mm\\u003cbr\\u003eInitial Depth: 95.51mm\\u003cbr\\u003eNew Depth: 88.59mm\",\"Angle: 65\\u00b0\\u003cbr\\u003eX: 122.15mm\\u003cbr\\u003eY: 56.96mm\\u003cbr\\u003eInitial Depth: 96.10mm\\u003cbr\\u003eNew Depth: 89.17mm\",\"Angle: 66\\u00b0\\u003cbr\\u003eX: 126.70mm\\u003cbr\\u003eY: 56.41mm\\u003cbr\\u003eInitial Depth: 96.64mm\\u003cbr\\u003eNew Depth: 89.72mm\",\"Angle: 67\\u00b0\\u003cbr\\u003eX: 128.30mm\\u003cbr\\u003eY: 54.46mm\\u003cbr\\u003eInitial Depth: 98.60mm\\u003cbr\\u003eNew Depth: 91.67mm\",\"Angle: 68\\u00b0\\u003cbr\\u003eX: 129.41mm\\u003cbr\\u003eY: 52.28mm\\u003cbr\\u003eInitial Depth: 100.77mm\\u003cbr\\u003eNew Depth: 93.85mm\",\"Angle: 69\\u00b0\\u003cbr\\u003eX: 131.07mm\\u003cbr\\u003eY: 50.31mm\\u003cbr\\u003eInitial Depth: 102.74mm\\u003cbr\\u003eNew Depth: 95.82mm\",\"Angle: 70\\u00b0\\u003cbr\\u003eX: 133.54mm\\u003cbr\\u003eY: 48.60mm\\u003cbr\\u003eInitial Depth: 104.45mm\\u003cbr\\u003eNew Depth: 97.53mm\",\"Angle: 290\\u00b0\\u003cbr\\u003eX: -752.13mm\\u003cbr\\u003eY: 273.75mm\\u003cbr\\u003eInitial Depth: -120.70mm\\u003cbr\\u003eNew Depth: -127.62mm\",\"Angle: 291\\u00b0\\u003cbr\\u003eX: -747.33mm\\u003cbr\\u003eY: 286.87mm\\u003cbr\\u003eInitial Depth: -133.82mm\\u003cbr\\u003eNew Depth: -140.74mm\",\"Angle: 292\\u00b0\\u003cbr\\u003eX: -136.91mm\\u003cbr\\u003eY: 55.32mm\\u003cbr\\u003eInitial Depth: 97.74mm\\u003cbr\\u003eNew Depth: 90.82mm\",\"Angle: 293\\u00b0\\u003cbr\\u003eX: -135.47mm\\u003cbr\\u003eY: 57.50mm\\u003cbr\\u003eInitial Depth: 95.55mm\\u003cbr\\u003eNew Depth: 88.63mm\",\"Angle: 294\\u00b0\\u003cbr\\u003eX: -134.84mm\\u003cbr\\u003eY: 60.03mm\\u003cbr\\u003eInitial Depth: 93.02mm\\u003cbr\\u003eNew Depth: 86.10mm\",\"Angle: 295\\u00b0\\u003cbr\\u003eX: -132.02mm\\u003cbr\\u003eY: 61.56mm\\u003cbr\\u003eInitial Depth: 91.49mm\\u003cbr\\u003eNew Depth: 84.57mm\",\"Angle: 296\\u00b0\\u003cbr\\u003eX: -130.15mm\\u003cbr\\u003eY: 63.48mm\\u003cbr\\u003eInitial Depth: 89.58mm\\u003cbr\\u003eNew Depth: 82.66mm\",\"Angle: 297\\u00b0\\u003cbr\\u003eX: -127.86mm\\u003cbr\\u003eY: 65.15mm\\u003cbr\\u003eInitial Depth: 87.91mm\\u003cbr\\u003eNew Depth: 80.99mm\",\"Angle: 298\\u00b0\\u003cbr\\u003eX: -124.79mm\\u003cbr\\u003eY: 66.35mm\\u003cbr\\u003eInitial Depth: 86.70mm\\u003cbr\\u003eNew Depth: 79.78mm\",\"Angle: 299\\u00b0\\u003cbr\\u003eX: -120.17mm\\u003cbr\\u003eY: 66.61mm\\u003cbr\\u003eInitial Depth: 86.44mm\\u003cbr\\u003eNew Depth: 79.52mm\",\"Angle: 300\\u00b0\\u003cbr\\u003eX: -114.75mm\\u003cbr\\u003eY: 66.25mm\\u003cbr\\u003eInitial Depth: 86.80mm\\u003cbr\\u003eNew Depth: 79.88mm\",\"Angle: 301\\u00b0\\u003cbr\\u003eX: -110.06mm\\u003cbr\\u003eY: 66.13mm\\u003cbr\\u003eInitial Depth: 86.92mm\\u003cbr\\u003eNew Depth: 80.00mm\",\"Angle: 302\\u00b0\\u003cbr\\u003eX: -106.01mm\\u003cbr\\u003eY: 66.24mm\\u003cbr\\u003eInitial Depth: 86.81mm\\u003cbr\\u003eNew Depth: 79.89mm\",\"Angle: 303\\u00b0\\u003cbr\\u003eX: -102.32mm\\u003cbr\\u003eY: 66.45mm\\u003cbr\\u003eInitial Depth: 86.61mm\\u003cbr\\u003eNew Depth: 79.69mm\",\"Angle: 304\\u00b0\\u003cbr\\u003eX: -98.66mm\\u003cbr\\u003eY: 66.54mm\\u003cbr\\u003eInitial Depth: 86.51mm\\u003cbr\\u003eNew Depth: 79.59mm\",\"Angle: 305\\u00b0\\u003cbr\\u003eX: -95.02mm\\u003cbr\\u003eY: 66.53mm\\u003cbr\\u003eInitial Depth: 86.52mm\\u003cbr\\u003eNew Depth: 79.60mm\",\"Angle: 306\\u00b0\\u003cbr\\u003eX: -91.42mm\\u003cbr\\u003eY: 66.42mm\\u003cbr\\u003eInitial Depth: 86.64mm\\u003cbr\\u003eNew Depth: 79.71mm\",\"Angle: 307\\u00b0\\u003cbr\\u003eX: -87.85mm\\u003cbr\\u003eY: 66.20mm\\u003cbr\\u003eInitial Depth: 86.86mm\\u003cbr\\u003eNew Depth: 79.93mm\",\"Angle: 308\\u00b0\\u003cbr\\u003eX: -85.11mm\\u003cbr\\u003eY: 66.49mm\\u003cbr\\u003eInitial Depth: 86.56mm\\u003cbr\\u003eNew Depth: 79.64mm\",\"Angle: 309\\u00b0\\u003cbr\\u003eX: -81.60mm\\u003cbr\\u003eY: 66.08mm\\u003cbr\\u003eInitial Depth: 86.98mm\\u003cbr\\u003eNew Depth: 80.05mm\",\"Angle: 310\\u00b0\\u003cbr\\u003eX: -79.67mm\\u003cbr\\u003eY: 66.85mm\\u003cbr\\u003eInitial Depth: 86.20mm\\u003cbr\\u003eNew Depth: 79.28mm\",\"Angle: 311\\u00b0\\u003cbr\\u003eX: -77.36mm\\u003cbr\\u003eY: 67.25mm\\u003cbr\\u003eInitial Depth: 85.81mm\\u003cbr\\u003eNew Depth: 78.89mm\",\"Angle: 312\\u00b0\\u003cbr\\u003eX: -75.06mm\\u003cbr\\u003eY: 67.58mm\\u003cbr\\u003eInitial Depth: 85.47mm\\u003cbr\\u003eNew Depth: 78.55mm\",\"Angle: 313\\u00b0\\u003cbr\\u003eX: -72.40mm\\u003cbr\\u003eY: 67.52mm\\u003cbr\\u003eInitial Depth: 85.54mm\\u003cbr\\u003eNew Depth: 78.61mm\",\"Angle: 314\\u00b0\\u003cbr\\u003eX: -70.14mm\\u003cbr\\u003eY: 67.73mm\\u003cbr\\u003eInitial Depth: 85.33mm\\u003cbr\\u003eNew Depth: 78.40mm\",\"Angle: 315\\u00b0\\u003cbr\\u003eX: -67.88mm\\u003cbr\\u003eY: 67.88mm\\u003cbr\\u003eInitial Depth: 85.17mm\\u003cbr\\u003eNew Depth: 78.25mm\",\"Angle: 316\\u00b0\\u003cbr\\u003eX: -65.65mm\\u003cbr\\u003eY: 67.98mm\\u003cbr\\u003eInitial Depth: 85.08mm\\u003cbr\\u003eNew Depth: 78.16mm\",\"Angle: 317\\u00b0\\u003cbr\\u003eX: -62.74mm\\u003cbr\\u003eY: 67.28mm\\u003cbr\\u003eInitial Depth: 85.77mm\\u003cbr\\u003eNew Depth: 78.85mm\",\"Angle: 318\\u00b0\\u003cbr\\u003eX: -60.22mm\\u003cbr\\u003eY: 66.88mm\\u003cbr\\u003eInitial Depth: 86.17mm\\u003cbr\\u003eNew Depth: 79.25mm\",\"Angle: 319\\u00b0\\u003cbr\\u003eX: -58.06mm\\u003cbr\\u003eY: 66.79mm\\u003cbr\\u003eInitial Depth: 86.26mm\\u003cbr\\u003eNew Depth: 79.34mm\",\"Angle: 320\\u00b0\\u003cbr\\u003eX: -56.35mm\\u003cbr\\u003eY: 67.16mm\\u003cbr\\u003eInitial Depth: 85.90mm\\u003cbr\\u003eNew Depth: 78.98mm\",\"Angle: 321\\u00b0\\u003cbr\\u003eX: -55.13mm\\u003cbr\\u003eY: 68.08mm\\u003cbr\\u003eInitial Depth: 84.98mm\\u003cbr\\u003eNew Depth: 78.05mm\",\"Angle: 322\\u00b0\\u003cbr\\u003eX: -74.50mm\\u003cbr\\u003eY: 95.35mm\\u003cbr\\u003eInitial Depth: 57.71mm\\u003cbr\\u003eNew Depth: 50.78mm\",\"Angle: 323\\u00b0\\u003cbr\\u003eX: -66.20mm\\u003cbr\\u003eY: 87.85mm\\u003cbr\\u003eInitial Depth: 65.20mm\\u003cbr\\u003eNew Depth: 58.28mm\",\"Angle: 324\\u00b0\\u003cbr\\u003eX: -59.60mm\\u003cbr\\u003eY: 82.03mm\\u003cbr\\u003eInitial Depth: 71.02mm\\u003cbr\\u003eNew Depth: 64.10mm\",\"Angle: 325\\u00b0\\u003cbr\\u003eX: -68.97mm\\u003cbr\\u003eY: 98.50mm\\u003cbr\\u003eInitial Depth: 54.55mm\\u003cbr\\u003eNew Depth: 47.63mm\",\"Angle: 326\\u00b0\\u003cbr\\u003eX: -67.10mm\\u003cbr\\u003eY: 99.48mm\\u003cbr\\u003eInitial Depth: 53.57mm\\u003cbr\\u003eNew Depth: 46.65mm\",\"Angle: 327\\u00b0\\u003cbr\\u003eX: -49.67mm\\u003cbr\\u003eY: 76.49mm\\u003cbr\\u003eInitial Depth: 76.57mm\\u003cbr\\u003eNew Depth: 69.65mm\",\"Angle: 328\\u00b0\\u003cbr\\u003eX: -49.28mm\\u003cbr\\u003eY: 78.87mm\\u003cbr\\u003eInitial Depth: 74.19mm\\u003cbr\\u003eNew Depth: 67.26mm\",\"Angle: 329\\u00b0\\u003cbr\\u003eX: -48.72mm\\u003cbr\\u003eY: 81.09mm\\u003cbr\\u003eInitial Depth: 71.97mm\\u003cbr\\u003eNew Depth: 65.04mm\",\"Angle: 330\\u00b0\\u003cbr\\u003eX: -48.33mm\\u003cbr\\u003eY: 83.72mm\\u003cbr\\u003eInitial Depth: 69.34mm\\u003cbr\\u003eNew Depth: 62.42mm\",\"Angle: 331\\u00b0\\u003cbr\\u003eX: -47.41mm\\u003cbr\\u003eY: 85.54mm\\u003cbr\\u003eInitial Depth: 67.52mm\\u003cbr\\u003eNew Depth: 60.59mm\",\"Angle: 332\\u00b0\\u003cbr\\u003eX: -46.95mm\\u003cbr\\u003eY: 88.29mm\\u003cbr\\u003eInitial Depth: 64.76mm\\u003cbr\\u003eNew Depth: 57.84mm\",\"Angle: 333\\u00b0\\u003cbr\\u003eX: -46.42mm\\u003cbr\\u003eY: 91.11mm\\u003cbr\\u003eInitial Depth: 61.95mm\\u003cbr\\u003eNew Depth: 55.03mm\",\"Angle: 334\\u00b0\\u003cbr\\u003eX: -45.78mm\\u003cbr\\u003eY: 93.86mm\\u003cbr\\u003eInitial Depth: 59.20mm\\u003cbr\\u003eNew Depth: 52.27mm\",\"Angle: 335\\u00b0\\u003cbr\\u003eX: -44.97mm\\u003cbr\\u003eY: 96.43mm\\u003cbr\\u003eInitial Depth: 56.62mm\\u003cbr\\u003eNew Depth: 49.70mm\",\"Angle: 336\\u00b0\\u003cbr\\u003eX: -44.09mm\\u003cbr\\u003eY: 99.03mm\\u003cbr\\u003eInitial Depth: 54.03mm\\u003cbr\\u003eNew Depth: 47.10mm\",\"Angle: 337\\u00b0\\u003cbr\\u003eX: -43.09mm\\u003cbr\\u003eY: 101.52mm\\u003cbr\\u003eInitial Depth: 51.54mm\\u003cbr\\u003eNew Depth: 44.61mm\",\"Angle: 338\\u00b0\\u003cbr\\u003eX: -42.05mm\\u003cbr\\u003eY: 104.08mm\\u003cbr\\u003eInitial Depth: 48.98mm\\u003cbr\\u003eNew Depth: 42.06mm\",\"Angle: 339\\u00b0\\u003cbr\\u003eX: -41.00mm\\u003cbr\\u003eY: 106.80mm\\u003cbr\\u003eInitial Depth: 46.25mm\\u003cbr\\u003eNew Depth: 39.33mm\",\"Angle: 340\\u00b0\\u003cbr\\u003eX: -39.97mm\\u003cbr\\u003eY: 109.83mm\\u003cbr\\u003eInitial Depth: 43.23mm\\u003cbr\\u003eNew Depth: 36.31mm\",\"Angle: 341\\u00b0\\u003cbr\\u003eX: -38.94mm\\u003cbr\\u003eY: 113.08mm\\u003cbr\\u003eInitial Depth: 39.97mm\\u003cbr\\u003eNew Depth: 33.05mm\",\"Angle: 342\\u00b0\\u003cbr\\u003eX: -38.07mm\\u003cbr\\u003eY: 117.17mm\\u003cbr\\u003eInitial Depth: 35.88mm\\u003cbr\\u003eNew Depth: 28.96mm\",\"Angle: 343\\u00b0\\u003cbr\\u003eX: -37.25mm\\u003cbr\\u003eY: 121.83mm\\u003cbr\\u003eInitial Depth: 31.22mm\\u003cbr\\u003eNew Depth: 24.30mm\",\"Angle: 344\\u00b0\\u003cbr\\u003eX: -36.11mm\\u003cbr\\u003eY: 125.93mm\\u003cbr\\u003eInitial Depth: 27.13mm\\u003cbr\\u003eNew Depth: 20.21mm\",\"Angle: 345\\u00b0\\u003cbr\\u003eX: -35.25mm\\u003cbr\\u003eY: 131.54mm\\u003cbr\\u003eInitial Depth: 21.51mm\\u003cbr\\u003eNew Depth: 14.59mm\",\"Angle: 346\\u00b0\\u003cbr\\u003eX: -34.32mm\\u003cbr\\u003eY: 137.64mm\\u003cbr\\u003eInitial Depth: 15.41mm\\u003cbr\\u003eNew Depth: 8.49mm\",\"Angle: 347\\u00b0\\u003cbr\\u003eX: -32.79mm\\u003cbr\\u003eY: 142.04mm\\u003cbr\\u003eInitial Depth: 11.01mm\\u003cbr\\u003eNew Depth: 4.09mm\",\"Angle: 348\\u00b0\\u003cbr\\u003eX: -31.25mm\\u003cbr\\u003eY: 147.00mm\\u003cbr\\u003eInitial Depth: 6.05mm\\u003cbr\\u003eNew Depth: -0.87mm\",\"Angle: 349\\u00b0\\u003cbr\\u003eX: -29.19mm\\u003cbr\\u003eY: 150.19mm\\u003cbr\\u003eInitial Depth: 2.87mm\\u003cbr\\u003eNew Depth: -4.06mm\",\"Angle: 350\\u00b0\\u003cbr\\u003eX: -26.78mm\\u003cbr\\u003eY: 151.88mm\\u003cbr\\u003eInitial Depth: 1.18mm\\u003cbr\\u003eNew Depth: -5.75mm\",\"Angle: 351\\u00b0\\u003cbr\\u003eX: -24.04mm\\u003cbr\\u003eY: 151.77mm\\u003cbr\\u003eInitial Depth: 1.28mm\\u003cbr\\u003eNew Depth: -5.64mm\",\"Angle: 352\\u00b0\\u003cbr\\u003eX: -21.41mm\\u003cbr\\u003eY: 152.36mm\\u003cbr\\u003eInitial Depth: 0.70mm\\u003cbr\\u003eNew Depth: -6.23mm\",\"Angle: 353\\u00b0\\u003cbr\\u003eX: -18.68mm\\u003cbr\\u003eY: 152.11mm\\u003cbr\\u003eInitial Depth: 0.95mm\\u003cbr\\u003eNew Depth: -5.97mm\",\"Angle: 354\\u00b0\\u003cbr\\u003eX: -16.05mm\\u003cbr\\u003eY: 152.66mm\\u003cbr\\u003eInitial Depth: 0.40mm\\u003cbr\\u003eNew Depth: -6.53mm\",\"Angle: 355\\u00b0\\u003cbr\\u003eX: -13.35mm\\u003cbr\\u003eY: 152.62mm\\u003cbr\\u003eInitial Depth: 0.44mm\\u003cbr\\u003eNew Depth: -6.48mm\",\"Angle: 356\\u00b0\\u003cbr\\u003eX: -10.70mm\\u003cbr\\u003eY: 153.05mm\\u003cbr\\u003eInitial Depth: 0.00mm\\u003cbr\\u003eNew Depth: -6.92mm\",\"Angle: 357\\u00b0\\u003cbr\\u003eX: -8.01mm\\u003cbr\\u003eY: 152.79mm\\u003cbr\\u003eInitial Depth: 0.26mm\\u003cbr\\u003eNew Depth: -6.66mm\",\"Angle: 358\\u00b0\\u003cbr\\u003eX: -5.30mm\\u003cbr\\u003eY: 151.91mm\\u003cbr\\u003eInitial Depth: 1.15mm\\u003cbr\\u003eNew Depth: -5.77mm\",\"Angle: 359\\u00b0\\u003cbr\\u003eX: -2.62mm\\u003cbr\\u003eY: 149.98mm\\u003cbr\\u003eInitial Depth: 3.08mm\\u003cbr\\u003eNew Depth: -3.84mm\"],\"x\":[5.106959498001992,7.658494651092347,10.25420164038642,12.997100137244525,15.80030278870871,18.564762662080966,21.35437267856004,23.945646639255287,26.55080532338458,29.079289750531455,31.62567911182464,34.224695193233664,36.92100372071689,39.45141796901892,41.771588777921394,44.14812741313325,46.661566150617055,48.93289459161512,50.732986102533424,51.42580075975059,51.820576757965995,52.184313502623525,52.59417697469615,53.40838282748089,54.1587632272995,53.92010389734317,53.989229720377445,53.541162435954845,53.43749999999999,53.666965860513415,53.309876922021886,53.0115341938334,57.317272605751555,55.3819922939503,55.38243194204216,60.858544216250884,64.15192388194916,52.86291284818634,54.10128876785009,55.202683028084195,56.87610154050295,58.424524360025075,60.574207820049445,62.52844432605643,64.7405820304786,66.67507718067117,68.90014263187604,71.02656009594702,73.23384723008542,76.23801726463692,78.66974233643309,81.31561731092911,84.380474940358,87.03490470570537,89.3978871179522,91.90431864047423,94.37563703906044,97.71707228004081,101.32497224277931,104.80859723785682,108.84335845275324,113.08357565222295,117.98713917749758,122.15014337674238,126.7017270698231,128.2953639499339,129.40837274606312,131.07468627872456,133.54076609715761,-752.1299680388853,-747.33113141101,-136.9141541360095,-135.46763584244337,-134.8393150293207,-132.01883914531354,-130.14538060050154,-127.8594362210308,-124.7899217483412,-120.17274251323471,-114.74836600143811,-110.06027626714742,-106.00601201955325,-102.31780928934177,-98.65547113404995,-95.02163713752304,-91.41892036436907,-87.84990610520224,-85.10516138952596,-81.60032595298193,-79.66862208437372,-77.35773197283416,-75.05762737321685,-72.40401646029787,-70.13563053301849,-67.88225099390857,-65.64521600837527,-62.74384912574984,-60.22175457229723,-58.06122406565991,-56.35104540175301,-55.12846499732501,-74.49503851440464,-66.1996525467253,-59.601425758027304,-68.97256647121334,-67.10314841648959,-49.671078359453354,-49.28249157368806,-48.722600856415006,-48.33333200000004,-47.41438231452061,-46.947156278589084,-46.420528598368676,-45.778473741928075,-44.96658389444692,-44.09025292289002,-43.092061096734184,-42.04959011093616,-40.99729414471831,-39.97360425118752,-38.937950621939635,-38.07089277994257,-37.248155766420126,-36.10849361202686,-35.24644964799953,-34.31834990660074,-32.792863286348556,-31.24615835887612,-29.193776292611332,-26.780409021582024,-24.03876362883266,-21.4127762528587,-18.676476876838812,-16.0451191115848,-13.352259527474025,-10.702636293829636,-8.007401305170488,-5.304723498780125,-2.6178609655925342],\"y\":[146.2441856903766,146.13278325972846,146.64191538819415,148.55753435293155,150.3298392188441,151.19785847311525,151.9442567975347,151.18686273847143,150.57709952672008,149.59997686766087,148.78712218219403,148.24344153422052,148.08205777005728,147.2346962910144,145.67484204630588,144.40201815041834,143.60953396056817,142.11144474913306,139.38773373821576,133.96879120234846,128.2604282700917,122.93853842404404,118.12845557839394,114.53464658675664,111.0419203001157,105.82416236685492,101.5389731787766,96.59081390720702,92.55646502946189,89.3168301616582,85.31363677724026,81.6306041831428,84.97635118689178,79.09368190401227,76.22737803675206,80.76201595353248,82.11071816178816,65.28026076238555,64.47540525306214,63.503422549343476,63.16731016557851,62.65263182176573,62.72642843151098,62.52844432605643,62.51925334130975,62.17551534036882,62.03796707843921,61.74244672411396,61.450494200457946,61.736329103348275,61.463538928442155,61.27571276125952,61.30600357746071,60.94249636229864,60.29963624877661,59.683362372767476,58.972443152627605,58.714340539746175,58.500000000000014,58.09635411901172,57.873040263040046,57.61895971463615,57.54617280852146,56.95954730130605,56.411243369618305,54.45815103319252,52.284376432061045,50.31485796595247,48.604863920470606,273.7529206657446,286.87354361101296,55.31690895898483,57.50259982657077,60.03433095840791,61.56139571419264,63.47614337017185,65.14763671262494,66.35197836989084,66.61283891298902,66.25000000000001,66.1308857282225,66.23990802915058,66.44596227183325,66.5439555130189,66.53486661672135,66.41973350904944,66.19965254672528,66.49143933517112,66.07864106023294,66.84991140740009,67.24605047152697,67.58219124224463,67.51783764618736,67.72919111975223,67.88225099390854,67.97761113200251,67.2845405489637,66.88303429296548,66.79179784971531,67.15656080397854,68.0779846693387,95.34930118641337,87.84990610520221,82.03432484765365,98.50303332575123,99.48450870660503,76.48675328061097,78.8684729425476,81.0880249320852,83.71578672309462,85.53780998209204,88.2947592858927,91.1054170982606,93.85978057471196,96.43115035331515,99.02832943554886,101.51853408296289,104.07638767512188,106.80160265844071,109.82657505435304,113.08401975064115,117.17015995439337,121.83322782230022,125.92528216791978,131.54154087275248,137.6433834758058,142.04149617351717,147.0016174207001,150.1889590674926,151.87924680602418,151.77478027245732,152.35981982177788,152.1076977390326,152.65911093902994,152.6170247590713,153.05482970502916,152.7903188174498,151.90740570690255,149.9771542734587],\"type\":\"scatter\"},{\"hoverinfo\":\"text\",\"marker\":{\"color\":\"blue\",\"size\":7},\"mode\":\"markers\",\"name\":\"Flat Surface (Side 1)\",\"text\":[\"Side 1 Flat Surface\\u003cbr\\u003eAngle: 295.00\\u00b0\\u003cbr\\u003eX: -132.02mm\\u003cbr\\u003eY: 61.56mm\",\"Side 1 Flat Surface\\u003cbr\\u003eAngle: 296.00\\u00b0\\u003cbr\\u003eX: -130.15mm\\u003cbr\\u003eY: 63.48mm\",\"Side 1 Flat Surface\\u003cbr\\u003eAngle: 297.00\\u00b0\\u003cbr\\u003eX: -127.86mm\\u003cbr\\u003eY: 65.15mm\",\"Side 1 Flat Surface\\u003cbr\\u003eAngle: 298.00\\u00b0\\u003cbr\\u003eX: -124.79mm\\u003cbr\\u003eY: 66.35mm\",\"Side 1 Flat Surface\\u003cbr\\u003eAngle: 299.00\\u00b0\\u003cbr\\u003eX: -120.17mm\\u003cbr\\u003eY: 66.61mm\",\"Side 1 Flat Surface\\u003cbr\\u003eAngle: 300.00\\u00b0\\u003cbr\\u003eX: -114.75mm\\u003cbr\\u003eY: 66.25mm\",\"Side 1 Flat Surface\\u003cbr\\u003eAngle: 301.00\\u00b0\\u003cbr\\u003eX: -110.06mm\\u003cbr\\u003eY: 66.13mm\",\"Side 1 Flat Surface\\u003cbr\\u003eAngle: 302.00\\u00b0\\u003cbr\\u003eX: -106.01mm\\u003cbr\\u003eY: 66.24mm\",\"Side 1 Flat Surface\\u003cbr\\u003eAngle: 303.00\\u00b0\\u003cbr\\u003eX: -102.32mm\\u003cbr\\u003eY: 66.45mm\",\"Side 1 Flat Surface\\u003cbr\\u003eAngle: 304.00\\u00b0\\u003cbr\\u003eX: -98.66mm\\u003cbr\\u003eY: 66.54mm\",\"Side 1 Flat Surface\\u003cbr\\u003eAngle: 305.00\\u00b0\\u003cbr\\u003eX: -95.02mm\\u003cbr\\u003eY: 66.53mm\",\"Side 1 Flat Surface\\u003cbr\\u003eAngle: 306.00\\u00b0\\u003cbr\\u003eX: -91.42mm\\u003cbr\\u003eY: 66.42mm\",\"Side 1 Flat Surface\\u003cbr\\u003eAngle: 307.00\\u00b0\\u003cbr\\u003eX: -87.85mm\\u003cbr\\u003eY: 66.20mm\",\"Side 1 Flat Surface\\u003cbr\\u003eAngle: 308.00\\u00b0\\u003cbr\\u003eX: -85.11mm\\u003cbr\\u003eY: 66.49mm\",\"Side 1 Flat Surface\\u003cbr\\u003eAngle: 309.00\\u00b0\\u003cbr\\u003eX: -81.60mm\\u003cbr\\u003eY: 66.08mm\",\"Side 1 Flat Surface\\u003cbr\\u003eAngle: 310.00\\u00b0\\u003cbr\\u003eX: -79.67mm\\u003cbr\\u003eY: 66.85mm\",\"Side 1 Flat Surface\\u003cbr\\u003eAngle: 311.00\\u00b0\\u003cbr\\u003eX: -77.36mm\\u003cbr\\u003eY: 67.25mm\",\"Side 1 Flat Surface\\u003cbr\\u003eAngle: 312.00\\u00b0\\u003cbr\\u003eX: -75.06mm\\u003cbr\\u003eY: 67.58mm\",\"Side 1 Flat Surface\\u003cbr\\u003eAngle: 313.00\\u00b0\\u003cbr\\u003eX: -72.40mm\\u003cbr\\u003eY: 67.52mm\",\"Side 1 Flat Surface\\u003cbr\\u003eAngle: 314.00\\u00b0\\u003cbr\\u003eX: -70.14mm\\u003cbr\\u003eY: 67.73mm\",\"Side 1 Flat Surface\\u003cbr\\u003eAngle: 315.00\\u00b0\\u003cbr\\u003eX: -67.88mm\\u003cbr\\u003eY: 67.88mm\",\"Side 1 Flat Surface\\u003cbr\\u003eAngle: 316.00\\u00b0\\u003cbr\\u003eX: -65.65mm\\u003cbr\\u003eY: 67.98mm\",\"Side 1 Flat Surface\\u003cbr\\u003eAngle: 317.00\\u00b0\\u003cbr\\u003eX: -62.74mm\\u003cbr\\u003eY: 67.28mm\",\"Side 1 Flat Surface\\u003cbr\\u003eAngle: 318.00\\u00b0\\u003cbr\\u003eX: -60.22mm\\u003cbr\\u003eY: 66.88mm\",\"Side 1 Flat Surface\\u003cbr\\u003eAngle: 319.00\\u00b0\\u003cbr\\u003eX: -58.06mm\\u003cbr\\u003eY: 66.79mm\",\"Side 1 Flat Surface\\u003cbr\\u003eAngle: 320.00\\u00b0\\u003cbr\\u003eX: -56.35mm\\u003cbr\\u003eY: 67.16mm\",\"Side 1 Flat Surface\\u003cbr\\u003eAngle: 321.00\\u00b0\\u003cbr\\u003eX: -55.13mm\\u003cbr\\u003eY: 68.08mm\"],\"x\":[-132.01883914531354,-130.14538060050154,-127.8594362210308,-124.7899217483412,-120.17274251323471,-114.74836600143811,-110.06027626714742,-106.00601201955325,-102.31780928934177,-98.65547113404995,-95.02163713752304,-91.41892036436907,-87.84990610520224,-85.10516138952596,-81.60032595298193,-79.66862208437372,-77.35773197283416,-75.05762737321685,-72.40401646029787,-70.13563053301849,-67.88225099390857,-65.64521600837527,-62.74384912574984,-60.22175457229723,-58.06122406565991,-56.35104540175301,-55.12846499732501],\"y\":[61.56139571419264,63.47614337017185,65.14763671262494,66.35197836989084,66.61283891298902,66.25000000000001,66.1308857282225,66.23990802915058,66.44596227183325,66.5439555130189,66.53486661672135,66.41973350904944,66.19965254672528,66.49143933517112,66.07864106023294,66.84991140740009,67.24605047152697,67.58219124224463,67.51783764618736,67.72919111975223,67.88225099390854,67.97761113200251,67.2845405489637,66.88303429296548,66.79179784971531,67.15656080397854,68.0779846693387],\"type\":\"scatter\"},{\"hoverinfo\":\"text\",\"marker\":{\"color\":\"orange\",\"size\":7},\"mode\":\"markers\",\"name\":\"Flat Surface (Side 2)\",\"text\":[\"Side 2 Flat Surface\\u003cbr\\u003eAngle: 39.00\\u00b0\\u003cbr\\u003eX: 52.86mm\\u003cbr\\u003eY: 65.28mm\",\"Side 2 Flat Surface\\u003cbr\\u003eAngle: 40.00\\u00b0\\u003cbr\\u003eX: 54.10mm\\u003cbr\\u003eY: 64.48mm\",\"Side 2 Flat Surface\\u003cbr\\u003eAngle: 41.00\\u00b0\\u003cbr\\u003eX: 55.20mm\\u003cbr\\u003eY: 63.50mm\",\"Side 2 Flat Surface\\u003cbr\\u003eAngle: 42.00\\u00b0\\u003cbr\\u003eX: 56.88mm\\u003cbr\\u003eY: 63.17mm\",\"Side 2 Flat Surface\\u003cbr\\u003eAngle: 43.00\\u00b0\\u003cbr\\u003eX: 58.42mm\\u003cbr\\u003eY: 62.65mm\",\"Side 2 Flat Surface\\u003cbr\\u003eAngle: 44.00\\u00b0\\u003cbr\\u003eX: 60.57mm\\u003cbr\\u003eY: 62.73mm\",\"Side 2 Flat Surface\\u003cbr\\u003eAngle: 45.00\\u00b0\\u003cbr\\u003eX: 62.53mm\\u003cbr\\u003eY: 62.53mm\",\"Side 2 Flat Surface\\u003cbr\\u003eAngle: 46.00\\u00b0\\u003cbr\\u003eX: 64.74mm\\u003cbr\\u003eY: 62.52mm\",\"Side 2 Flat Surface\\u003cbr\\u003eAngle: 47.00\\u00b0\\u003cbr\\u003eX: 66.68mm\\u003cbr\\u003eY: 62.18mm\",\"Side 2 Flat Surface\\u003cbr\\u003eAngle: 48.00\\u00b0\\u003cbr\\u003eX: 68.90mm\\u003cbr\\u003eY: 62.04mm\",\"Side 2 Flat Surface\\u003cbr\\u003eAngle: 49.00\\u00b0\\u003cbr\\u003eX: 71.03mm\\u003cbr\\u003eY: 61.74mm\",\"Side 2 Flat Surface\\u003cbr\\u003eAngle: 50.00\\u00b0\\u003cbr\\u003eX: 73.23mm\\u003cbr\\u003eY: 61.45mm\",\"Side 2 Flat Surface\\u003cbr\\u003eAngle: 51.00\\u00b0\\u003cbr\\u003eX: 76.24mm\\u003cbr\\u003eY: 61.74mm\",\"Side 2 Flat Surface\\u003cbr\\u003eAngle: 52.00\\u00b0\\u003cbr\\u003eX: 78.67mm\\u003cbr\\u003eY: 61.46mm\",\"Side 2 Flat Surface\\u003cbr\\u003eAngle: 53.00\\u00b0\\u003cbr\\u003eX: 81.32mm\\u003cbr\\u003eY: 61.28mm\",\"Side 2 Flat Surface\\u003cbr\\u003eAngle: 54.00\\u00b0\\u003cbr\\u003eX: 84.38mm\\u003cbr\\u003eY: 61.31mm\",\"Side 2 Flat Surface\\u003cbr\\u003eAngle: 55.00\\u00b0\\u003cbr\\u003eX: 87.03mm\\u003cbr\\u003eY: 60.94mm\",\"Side 2 Flat Surface\\u003cbr\\u003eAngle: 56.00\\u00b0\\u003cbr\\u003eX: 89.40mm\\u003cbr\\u003eY: 60.30mm\",\"Side 2 Flat Surface\\u003cbr\\u003eAngle: 57.00\\u00b0\\u003cbr\\u003eX: 91.90mm\\u003cbr\\u003eY: 59.68mm\",\"Side 2 Flat Surface\\u003cbr\\u003eAngle: 58.00\\u00b0\\u003cbr\\u003eX: 94.38mm\\u003cbr\\u003eY: 58.97mm\"],\"x\":[52.86291284818634,54.10128876785009,55.202683028084195,56.87610154050295,58.424524360025075,60.574207820049445,62.52844432605643,64.7405820304786,66.67507718067117,68.90014263187604,71.02656009594702,73.23384723008542,76.23801726463692,78.66974233643309,81.31561731092911,84.380474940358,87.03490470570537,89.3978871179522,91.90431864047423,94.37563703906044],\"y\":[65.28026076238555,64.47540525306214,63.503422549343476,63.16731016557851,62.65263182176573,62.72642843151098,62.52844432605643,62.51925334130975,62.17551534036882,62.03796707843921,61.74244672411396,61.450494200457946,61.736329103348275,61.463538928442155,61.27571276125952,61.30600357746071,60.94249636229864,60.29963624877661,59.683362372767476,58.972443152627605],\"type\":\"scatter\"},{\"hoverinfo\":\"text\",\"marker\":{\"color\":\"red\",\"size\":5},\"mode\":\"markers\",\"name\":\"Bump Points\",\"text\":[\"Angle: 3\\u00b0\\u003cbr\\u003eX: 7.66mm\\u003cbr\\u003eY: 146.13mm\\u003cbr\\u003eDepth: 6.92mm\\u003cbr\\u003eNew Depth: 0.00mm\",\"Angle: 2\\u00b0\\u003cbr\\u003eX: 5.11mm\\u003cbr\\u003eY: 146.24mm\\u003cbr\\u003eDepth: 6.81mm\\u003cbr\\u003eNew Depth: -0.11mm\",\"Angle: 4\\u00b0\\u003cbr\\u003eX: 10.25mm\\u003cbr\\u003eY: 146.64mm\\u003cbr\\u003eDepth: 6.41mm\\u003cbr\\u003eNew Depth: -0.51mm\"],\"x\":[7.658494651092347,5.106959498001992,10.25420164038642],\"y\":[146.13278325972846,146.2441856903766,146.64191538819415],\"type\":\"scatter\"}],                        {\"template\":{\"data\":{\"histogram2dcontour\":[{\"type\":\"histogram2dcontour\",\"colorbar\":{\"outlinewidth\":0,\"ticks\":\"\"},\"colorscale\":[[0.0,\"#0d0887\"],[0.1111111111111111,\"#46039f\"],[0.2222222222222222,\"#7201a8\"],[0.3333333333333333,\"#9c179e\"],[0.4444444444444444,\"#bd3786\"],[0.5555555555555556,\"#d8576b\"],[0.6666666666666666,\"#ed7953\"],[0.7777777777777778,\"#fb9f3a\"],[0.8888888888888888,\"#fdca26\"],[1.0,\"#f0f921\"]]}],\"choropleth\":[{\"type\":\"choropleth\",\"colorbar\":{\"outlinewidth\":0,\"ticks\":\"\"}}],\"histogram2d\":[{\"type\":\"histogram2d\",\"colorbar\":{\"outlinewidth\":0,\"ticks\":\"\"},\"colorscale\":[[0.0,\"#0d0887\"],[0.1111111111111111,\"#46039f\"],[0.2222222222222222,\"#7201a8\"],[0.3333333333333333,\"#9c179e\"],[0.4444444444444444,\"#bd3786\"],[0.5555555555555556,\"#d8576b\"],[0.6666666666666666,\"#ed7953\"],[0.7777777777777778,\"#fb9f3a\"],[0.8888888888888888,\"#fdca26\"],[1.0,\"#f0f921\"]]}],\"heatmap\":[{\"type\":\"heatmap\",\"colorbar\":{\"outlinewidth\":0,\"ticks\":\"\"},\"colorscale\":[[0.0,\"#0d0887\"],[0.1111111111111111,\"#46039f\"],[0.2222222222222222,\"#7201a8\"],[0.3333333333333333,\"#9c179e\"],[0.4444444444444444,\"#bd3786\"],[0.5555555555555556,\"#d8576b\"],[0.6666666666666666,\"#ed7953\"],[0.7777777777777778,\"#fb9f3a\"],[0.8888888888888888,\"#fdca26\"],[1.0,\"#f0f921\"]]}],\"heatmapgl\":[{\"type\":\"heatmapgl\",\"colorbar\":{\"outlinewidth\":0,\"ticks\":\"\"},\"colorscale\":[[0.0,\"#0d0887\"],[0.1111111111111111,\"#46039f\"],[0.2222222222222222,\"#7201a8\"],[0.3333333333333333,\"#9c179e\"],[0.4444444444444444,\"#bd3786\"],[0.5555555555555556,\"#d8576b\"],[0.6666666666666666,\"#ed7953\"],[0.7777777777777778,\"#fb9f3a\"],[0.8888888888888888,\"#fdca26\"],[1.0,\"#f0f921\"]]}],\"contourcarpet\":[{\"type\":\"contourcarpet\",\"colorbar\":{\"outlinewidth\":0,\"ticks\":\"\"}}],\"contour\":[{\"type\":\"contour\",\"colorbar\":{\"outlinewidth\":0,\"ticks\":\"\"},\"colorscale\":[[0.0,\"#0d0887\"],[0.1111111111111111,\"#46039f\"],[0.2222222222222222,\"#7201a8\"],[0.3333333333333333,\"#9c179e\"],[0.4444444444444444,\"#bd3786\"],[0.5555555555555556,\"#d8576b\"],[0.6666666666666666,\"#ed7953\"],[0.7777777777777778,\"#fb9f3a\"],[0.8888888888888888,\"#fdca26\"],[1.0,\"#f0f921\"]]}],\"surface\":[{\"type\":\"surface\",\"colorbar\":{\"outlinewidth\":0,\"ticks\":\"\"},\"colorscale\":[[0.0,\"#0d0887\"],[0.1111111111111111,\"#46039f\"],[0.2222222222222222,\"#7201a8\"],[0.3333333333333333,\"#9c179e\"],[0.4444444444444444,\"#bd3786\"],[0.5555555555555556,\"#d8576b\"],[0.6666666666666666,\"#ed7953\"],[0.7777777777777778,\"#fb9f3a\"],[0.8888888888888888,\"#fdca26\"],[1.0,\"#f0f921\"]]}],\"mesh3d\":[{\"type\":\"mesh3d\",\"colorbar\":{\"outlinewidth\":0,\"ticks\":\"\"}}],\"scatter\":[{\"fillpattern\":{\"fillmode\":\"overlay\",\"size\":10,\"solidity\":0.2},\"type\":\"scatter\"}],\"parcoords\":[{\"type\":\"parcoords\",\"line\":{\"colorbar\":{\"outlinewidth\":0,\"ticks\":\"\"}}}],\"scatterpolargl\":[{\"type\":\"scatterpolargl\",\"marker\":{\"colorbar\":{\"outlinewidth\":0,\"ticks\":\"\"}}}],\"bar\":[{\"error_x\":{\"color\":\"#2a3f5f\"},\"error_y\":{\"color\":\"#2a3f5f\"},\"marker\":{\"line\":{\"color\":\"#E5ECF6\",\"width\":0.5},\"pattern\":{\"fillmode\":\"overlay\",\"size\":10,\"solidity\":0.2}},\"type\":\"bar\"}],\"scattergeo\":[{\"type\":\"scattergeo\",\"marker\":{\"colorbar\":{\"outlinewidth\":0,\"ticks\":\"\"}}}],\"scatterpolar\":[{\"type\":\"scatterpolar\",\"marker\":{\"colorbar\":{\"outlinewidth\":0,\"ticks\":\"\"}}}],\"histogram\":[{\"marker\":{\"pattern\":{\"fillmode\":\"overlay\",\"size\":10,\"solidity\":0.2}},\"type\":\"histogram\"}],\"scattergl\":[{\"type\":\"scattergl\",\"marker\":{\"colorbar\":{\"outlinewidth\":0,\"ticks\":\"\"}}}],\"scatter3d\":[{\"type\":\"scatter3d\",\"line\":{\"colorbar\":{\"outlinewidth\":0,\"ticks\":\"\"}},\"marker\":{\"colorbar\":{\"outlinewidth\":0,\"ticks\":\"\"}}}],\"scattermapbox\":[{\"type\":\"scattermapbox\",\"marker\":{\"colorbar\":{\"outlinewidth\":0,\"ticks\":\"\"}}}],\"scatterternary\":[{\"type\":\"scatterternary\",\"marker\":{\"colorbar\":{\"outlinewidth\":0,\"ticks\":\"\"}}}],\"scattercarpet\":[{\"type\":\"scattercarpet\",\"marker\":{\"colorbar\":{\"outlinewidth\":0,\"ticks\":\"\"}}}],\"carpet\":[{\"aaxis\":{\"endlinecolor\":\"#2a3f5f\",\"gridcolor\":\"white\",\"linecolor\":\"white\",\"minorgridcolor\":\"white\",\"startlinecolor\":\"#2a3f5f\"},\"baxis\":{\"endlinecolor\":\"#2a3f5f\",\"gridcolor\":\"white\",\"linecolor\":\"white\",\"minorgridcolor\":\"white\",\"startlinecolor\":\"#2a3f5f\"},\"type\":\"carpet\"}],\"table\":[{\"cells\":{\"fill\":{\"color\":\"#EBF0F8\"},\"line\":{\"color\":\"white\"}},\"header\":{\"fill\":{\"color\":\"#C8D4E3\"},\"line\":{\"color\":\"white\"}},\"type\":\"table\"}],\"barpolar\":[{\"marker\":{\"line\":{\"color\":\"#E5ECF6\",\"width\":0.5},\"pattern\":{\"fillmode\":\"overlay\",\"size\":10,\"solidity\":0.2}},\"type\":\"barpolar\"}],\"pie\":[{\"automargin\":true,\"type\":\"pie\"}]},\"layout\":{\"autotypenumbers\":\"strict\",\"colorway\":[\"#636efa\",\"#EF553B\",\"#00cc96\",\"#ab63fa\",\"#FFA15A\",\"#19d3f3\",\"#FF6692\",\"#B6E880\",\"#FF97FF\",\"#FECB52\"],\"font\":{\"color\":\"#2a3f5f\"},\"hovermode\":\"closest\",\"hoverlabel\":{\"align\":\"left\"},\"paper_bgcolor\":\"white\",\"plot_bgcolor\":\"#E5ECF6\",\"polar\":{\"bgcolor\":\"#E5ECF6\",\"angularaxis\":{\"gridcolor\":\"white\",\"linecolor\":\"white\",\"ticks\":\"\"},\"radialaxis\":{\"gridcolor\":\"white\",\"linecolor\":\"white\",\"ticks\":\"\"}},\"ternary\":{\"bgcolor\":\"#E5ECF6\",\"aaxis\":{\"gridcolor\":\"white\",\"linecolor\":\"white\",\"ticks\":\"\"},\"baxis\":{\"gridcolor\":\"white\",\"linecolor\":\"white\",\"ticks\":\"\"},\"caxis\":{\"gridcolor\":\"white\",\"linecolor\":\"white\",\"ticks\":\"\"}},\"coloraxis\":{\"colorbar\":{\"outlinewidth\":0,\"ticks\":\"\"}},\"colorscale\":{\"sequential\":[[0.0,\"#0d0887\"],[0.1111111111111111,\"#46039f\"],[0.2222222222222222,\"#7201a8\"],[0.3333333333333333,\"#9c179e\"],[0.4444444444444444,\"#bd3786\"],[0.5555555555555556,\"#d8576b\"],[0.6666666666666666,\"#ed7953\"],[0.7777777777777778,\"#fb9f3a\"],[0.8888888888888888,\"#fdca26\"],[1.0,\"#f0f921\"]],\"sequentialminus\":[[0.0,\"#0d0887\"],[0.1111111111111111,\"#46039f\"],[0.2222222222222222,\"#7201a8\"],[0.3333333333333333,\"#9c179e\"],[0.4444444444444444,\"#bd3786\"],[0.5555555555555556,\"#d8576b\"],[0.6666666666666666,\"#ed7953\"],[0.7777777777777778,\"#fb9f3a\"],[0.8888888888888888,\"#fdca26\"],[1.0,\"#f0f921\"]],\"diverging\":[[0,\"#8e0152\"],[0.1,\"#c51b7d\"],[0.2,\"#de77ae\"],[0.3,\"#f1b6da\"],[0.4,\"#fde0ef\"],[0.5,\"#f7f7f7\"],[0.6,\"#e6f5d0\"],[0.7,\"#b8e186\"],[0.8,\"#7fbc41\"],[0.9,\"#4d9221\"],[1,\"#276419\"]]},\"xaxis\":{\"gridcolor\":\"white\",\"linecolor\":\"white\",\"ticks\":\"\",\"title\":{\"standoff\":15},\"zerolinecolor\":\"white\",\"automargin\":true,\"zerolinewidth\":2},\"yaxis\":{\"gridcolor\":\"white\",\"linecolor\":\"white\",\"ticks\":\"\",\"title\":{\"standoff\":15},\"zerolinecolor\":\"white\",\"automargin\":true,\"zerolinewidth\":2},\"scene\":{\"xaxis\":{\"backgroundcolor\":\"#E5ECF6\",\"gridcolor\":\"white\",\"linecolor\":\"white\",\"showbackground\":true,\"ticks\":\"\",\"zerolinecolor\":\"white\",\"gridwidth\":2},\"yaxis\":{\"backgroundcolor\":\"#E5ECF6\",\"gridcolor\":\"white\",\"linecolor\":\"white\",\"showbackground\":true,\"ticks\":\"\",\"zerolinecolor\":\"white\",\"gridwidth\":2},\"zaxis\":{\"backgroundcolor\":\"#E5ECF6\",\"gridcolor\":\"white\",\"linecolor\":\"white\",\"showbackground\":true,\"ticks\":\"\",\"zerolinecolor\":\"white\",\"gridwidth\":2}},\"shapedefaults\":{\"line\":{\"color\":\"#2a3f5f\"}},\"annotationdefaults\":{\"arrowcolor\":\"#2a3f5f\",\"arrowhead\":0,\"arrowwidth\":1},\"geo\":{\"bgcolor\":\"white\",\"landcolor\":\"#E5ECF6\",\"subunitcolor\":\"white\",\"showland\":true,\"showlakes\":true,\"lakecolor\":\"white\"},\"title\":{\"x\":0.05},\"mapbox\":{\"style\":\"light\"}}},\"shapes\":[{\"line\":{\"color\":\"blue\",\"dash\":\"dash\",\"width\":2},\"name\":\"Lowest Point Level\",\"type\":\"line\",\"x0\":-752.1299680388853,\"x1\":133.54076609715761,\"y0\":146.13278325972846,\"y1\":146.13278325972846},{\"line\":{\"color\":\"green\",\"dash\":\"dash\",\"width\":2},\"name\":\"Final Depth Level\",\"type\":\"line\",\"x0\":-752.1299680388853,\"x1\":133.54076609715761,\"y0\":66.49866666177698,\"y1\":66.49866666177698},{\"line\":{\"color\":\"purple\",\"dash\":\"dash\",\"width\":2},\"name\":\"Initial Highest Point Level\",\"type\":\"line\",\"x0\":-752.1299680388853,\"x1\":133.54076609715761,\"y0\":153.05482970502916,\"y1\":153.05482970502916}],\"annotations\":[{\"font\":{\"color\":\"blue\",\"size\":12},\"showarrow\":false,\"text\":\"New - Trench-Bottom\",\"x\":-752.1299680388853,\"y\":146.13278325972846,\"yshift\":10},{\"font\":{\"color\":\"green\",\"size\":12},\"showarrow\":false,\"text\":\"Earth Surface\",\"x\":-752.1299680388853,\"y\":66.49866666177698,\"yshift\":10},{\"font\":{\"color\":\"purple\",\"size\":12},\"showarrow\":false,\"text\":\"Initial - Trench-Bottom\",\"x\":-752.1299680388853,\"y\":153.05482970502916,\"yshift\":10},{\"font\":{\"color\":\"red\",\"size\":14},\"showarrow\":false,\"text\":\"No Pipe Detected\",\"x\":0.5,\"xref\":\"paper\",\"y\":1.0,\"yref\":\"paper\"}],\"legend\":{\"x\":1.1,\"y\":0.5,\"orientation\":\"v\"},\"yaxis\":{\"title\":{\"text\":\"Y Coordinate (mm)\"},\"autorange\":\"reversed\"},\"xaxis\":{\"title\":{\"text\":\"X Coordinate (mm)\"},\"scaleanchor\":\"y\",\"scaleratio\":1},\"coloraxis\":{\"colorbar\":{\"x\":1.2,\"y\":0.5,\"len\":0.7}},\"title\":{\"text\":\"LiDAR Data Visualization with Circle Fitting | Final Depth: 86.56 mm | New Final Depth: 79.63 mm | Tilt: 0\\u00b0\"}},                        {\"responsive\": true}                    ).then(function(){\n",
       "                            \n",
       "var gd = document.getElementById('b2d86f87-36a3-4ac2-8262-c8d75e352f2b');\n",
       "var x = new MutationObserver(function (mutations, observer) {{\n",
       "        var display = window.getComputedStyle(gd).display;\n",
       "        if (!display || display === 'none') {{\n",
       "            console.log([gd, 'removed!']);\n",
       "            Plotly.purge(gd);\n",
       "            observer.disconnect();\n",
       "        }}\n",
       "}});\n",
       "\n",
       "// Listen for the removal of the full notebook cells\n",
       "var notebookContainer = gd.closest('#notebook-container');\n",
       "if (notebookContainer) {{\n",
       "    x.observe(notebookContainer, {childList: true});\n",
       "}}\n",
       "\n",
       "// Listen for the clearing of the current output cell\n",
       "var outputEl = gd.closest('.output');\n",
       "if (outputEl) {{\n",
       "    x.observe(outputEl, {childList: true});\n",
       "}}\n",
       "\n",
       "                        })                };                });            </script>        </div>"
      ]
     },
     "metadata": {},
     "output_type": "display_data"
    }
   ],
   "source": [
    "\"\"\"\n",
    "### Summary of the Code:\n",
    "\n",
    "- **Data Loading and Initialization:**\n",
    "  - Loads LiDAR data from a JSON file, which contains angles and distances.\n",
    "  - Converts angles from degrees to radians.\n",
    "  - Converts polar coordinates (angle, distance) to Cartesian coordinates (x, y).\n",
    "\n",
    "- **Coordinate Rotation:**\n",
    "  - Rotates the Cartesian coordinates based on a specified tilt angle.\n",
    "  - Defines specific angle ranges to identify different regions (e.g., the earth's surface, max y-coordinate range).\n",
    "\n",
    "- **Ground Level Detection:**\n",
    "  - Identifies the highest y-coordinate within a defined angle range to determine the ground level (`y_surface_level_rotated`).\n",
    "\n",
    "- **Depth Calculation:**\n",
    "  - Calculates the depth of each point relative to the identified ground level.\n",
    "\n",
    "- **Flat Surface Detection:**\n",
    "  - **Variance Calculation:**\n",
    "    - Scans through the data to identify flat surfaces by calculating the variance of y-coordinates over a moving window of points.\n",
    "    - Points with low variance in y-coordinates are considered part of a flat surface.\n",
    "  - **Flat Surface Detection Logic:**\n",
    "    - The function `detect_flat_surface` identifies potential flat regions on both sides of the trench by checking if the variance within a window is below a certain threshold.\n",
    "    - It stores the indices of the start and end of each detected flat region.\n",
    "\n",
    "- **Widest Flat Surface Identification:**\n",
    "  - **Determine the Widest Flat Region:**\n",
    "    - The function `get_widest_flat_region` calculates the width (in x-coordinates) of each detected flat region.\n",
    "    - The widest flat region on each side (left and right) is identified by calculating the width in x-coordinates.\n",
    "\n",
    "- **Final Depth Calculation Based on Widest Flat Surface:**\n",
    "  - **Comparison of Widths:**\n",
    "    - If both sides have detected flat regions, the code compares the widths of these regions.\n",
    "    - The side with the widest flat region is selected.\n",
    "  - **Average Y-Value Calculation:**\n",
    "    - The average y-value of the selected widest flat region is calculated.\n",
    "  - **Final Depth Calculation:**\n",
    "    - The final depth is determined by subtracting this average y-value from the ground level (`y_surface_level_rotated`).\n",
    "\n",
    "- **Fallback Depth Calculation (if no flat surfaces are detected):**\n",
    "  - **Depth Sorting Method:**\n",
    "    - If no flat regions are detected, the code sorts the depths within specified angle ranges and selects the top 30 highest values.\n",
    "    - The lowest value among these top 30 depths is used to calculate the final depth.\n",
    "\n",
    "- **Threshold and Bump Point Detection:**\n",
    "  - Calculates a threshold as 5% of the final depth and identifies points above this threshold.\n",
    "  - Attempts to identify and fit a circle to the lowest points around the trench bottom, which could represent a pipe.\n",
    "\n",
    "- **Plotting:**\n",
    "  - Generates a plot visualizing the LiDAR points, highlighting the detected flat surfaces, and the trench-bottom.\n",
    "  - Annotates the plot with key information, such as the final depth, the detected trench-bottom, and whether a pipe was detected.\n",
    "\n",
    "- **Output:**\n",
    "  - The final plot is saved as an interactive HTML file.\n",
    "\n",
    "### Key Logical Parts:\n",
    "\n",
    "1. **Detection of the Widest Flat Surface:**\n",
    "   - Both sides of the trench are scanned for flat surfaces based on the variance in y-coordinates.\n",
    "   - The widest flat region on each side is identified by calculating the width in x-coordinates.\n",
    "\n",
    "2. **Final Depth Calculation:**\n",
    "   - The side with the widest flat surface is selected.\n",
    "   - The final depth is calculated by subtracting the average y-value of this selected widest flat surface from the ground level (`y_surface_level_rotated`).\n",
    "\n",
    "This approach ensures that the final depth is based on the widest flat surface, which is likely to provide a stable reference point for the trench's depth relative to the ground level.\n",
    "\"\"\"\n",
    "\n",
    "\n",
    "\n",
    "\n",
    "\n",
    "import json\n",
    "import numpy as np\n",
    "import plotly.graph_objects as go\n",
    "from scipy.optimize import least_squares\n",
    "\n",
    "# Function to fit a circle to given points\n",
    "def fit_circle(x, y):\n",
    "    def calc_R(xc, yc):\n",
    "        return np.sqrt((x - xc) ** 2 + (y - yc) ** 2)\n",
    "\n",
    "    def f_2(c):\n",
    "        Ri = calc_R(*c)\n",
    "        return Ri - Ri.mean()\n",
    "\n",
    "    center_estimate = x.mean(), y.mean()\n",
    "    result = least_squares(f_2, center_estimate)\n",
    "    xc, yc = result.x\n",
    "    Ri = calc_R(xc, yc)\n",
    "    R = Ri.mean()\n",
    "    return xc, yc, R, Ri\n",
    "\n",
    "# Given JSON data (shortened for brevity)\n",
    "json_data = \"\"\"\n",
    "{\n",
    "    \"angles\": [\n",
    "                       {\"angle\": 2, \"distance\": 146.333328},\n",
    "        {\"angle\": 3, \"distance\": 146.333328},\n",
    "        {\"angle\": 4, \"distance\": 147.000000},\n",
    "        {\"angle\": 5, \"distance\": 149.125000},\n",
    "        {\"angle\": 6, \"distance\": 151.157898},\n",
    "        {\"angle\": 7, \"distance\": 152.333328},\n",
    "        {\"angle\": 8, \"distance\": 153.437500},\n",
    "        {\"angle\": 9, \"distance\": 153.071426},\n",
    "        {\"angle\": 10, \"distance\": 152.899994},\n",
    "        {\"angle\": 11, \"distance\": 152.399994},\n",
    "        {\"angle\": 12, \"distance\": 152.111115},\n",
    "        {\"angle\": 13, \"distance\": 152.142853},\n",
    "        {\"angle\": 14, \"distance\": 152.615387},\n",
    "        {\"angle\": 15, \"distance\": 152.428574},\n",
    "        {\"angle\": 16, \"distance\": 151.545456},\n",
    "        {\"angle\": 17, \"distance\": 151.000000},\n",
    "        {\"angle\": 18, \"distance\": 151.000000},\n",
    "        {\"angle\": 19, \"distance\": 150.300003},\n",
    "        {\"angle\": 20, \"distance\": 148.333328},\n",
    "        {\"angle\": 21, \"distance\": 143.500000},\n",
    "        {\"angle\": 22, \"distance\": 138.333328},\n",
    "        {\"angle\": 23, \"distance\": 133.555557},\n",
    "        {\"angle\": 24, \"distance\": 129.307693},\n",
    "        {\"angle\": 25, \"distance\": 126.375000},\n",
    "        {\"angle\": 26, \"distance\": 123.545456},\n",
    "        {\"angle\": 27, \"distance\": 118.769234},\n",
    "        {\"angle\": 28, \"distance\": 115.000000},\n",
    "        {\"angle\": 29, \"distance\": 110.437500},\n",
    "        {\"angle\": 30, \"distance\": 106.875000},\n",
    "        {\"angle\": 31, \"distance\": 104.199997},\n",
    "        {\"angle\": 32, \"distance\": 100.599998},\n",
    "        {\"angle\": 33, \"distance\": 97.333336},\n",
    "        {\"angle\": 34, \"distance\": 102.500000},\n",
    "        {\"angle\": 35, \"distance\": 96.555557},\n",
    "        {\"angle\": 36, \"distance\": 94.222221},\n",
    "        {\"angle\": 37, \"distance\": 101.125000},\n",
    "        {\"angle\": 38, \"distance\": 104.199997},\n",
    "        {\"angle\": 39, \"distance\": 84.000000},\n",
    "        {\"angle\": 40, \"distance\": 84.166664},\n",
    "        {\"angle\": 41, \"distance\": 84.142860},\n",
    "        {\"angle\": 42, \"distance\": 85.000000},\n",
    "        {\"angle\": 43, \"distance\": 85.666664},\n",
    "        {\"angle\": 44, \"distance\": 87.199997},\n",
    "        {\"angle\": 45, \"distance\": 88.428574},\n",
    "        {\"angle\": 46, \"distance\": 90.000000},\n",
    "        {\"angle\": 47, \"distance\": 91.166664},\n",
    "        {\"angle\": 48, \"distance\": 92.714287},\n",
    "        {\"angle\": 49, \"distance\": 94.111115},\n",
    "        {\"angle\": 50, \"distance\": 95.599998},\n",
    "        {\"angle\": 51, \"distance\": 98.099998},\n",
    "        {\"angle\": 52, \"distance\": 99.833336},\n",
    "        {\"angle\": 53, \"distance\": 101.818184},\n",
    "        {\"angle\": 54, \"distance\": 104.300003},\n",
    "        {\"angle\": 55, \"distance\": 106.250000},\n",
    "        {\"angle\": 56, \"distance\": 107.833336},\n",
    "        {\"angle\": 57, \"distance\": 109.583336},\n",
    "        {\"angle\": 58, \"distance\": 111.285713},\n",
    "        {\"angle\": 59, \"distance\": 114.000000},\n",
    "        {\"angle\": 60, \"distance\": 117.000000},\n",
    "        {\"angle\": 61, \"distance\": 119.833336},\n",
    "        {\"angle\": 62, \"distance\": 123.272728},\n",
    "        {\"angle\": 63, \"distance\": 126.916664},\n",
    "        {\"angle\": 64, \"distance\": 131.272720},\n",
    "        {\"angle\": 65, \"distance\": 134.777771},\n",
    "        {\"angle\": 66, \"distance\": 138.692307},\n",
    "        {\"angle\": 67, \"distance\": 139.375000},\n",
    "        {\"angle\": 68, \"distance\": 139.571426},\n",
    "        {\"angle\": 69, \"distance\": 140.399994},\n",
    "        {\"angle\": 70, \"distance\": 142.111115},\n",
    "        {\"angle\": 290, \"distance\": 800.399994},\n",
    "        {\"angle\": 291, \"distance\": 800.500000},\n",
    "        {\"angle\": 292, \"distance\": 147.666672},\n",
    "        {\"angle\": 293, \"distance\": 147.166672},\n",
    "        {\"angle\": 294, \"distance\": 147.600006},\n",
    "        {\"angle\": 295, \"distance\": 145.666672},\n",
    "        {\"angle\": 296, \"distance\": 144.800003},\n",
    "        {\"angle\": 297, \"distance\": 143.500000},\n",
    "        {\"angle\": 298, \"distance\": 141.333328},\n",
    "        {\"angle\": 299, \"distance\": 137.399994},\n",
    "        {\"angle\": 300, \"distance\": 132.500000},\n",
    "        {\"angle\": 301, \"distance\": 128.399994},\n",
    "        {\"angle\": 302, \"distance\": 125.000000},\n",
    "        {\"angle\": 303, \"distance\": 122.000000},\n",
    "        {\"angle\": 304, \"distance\": 119.000000},\n",
    "        {\"angle\": 305, \"distance\": 116.000000},\n",
    "        {\"angle\": 306, \"distance\": 113.000000},\n",
    "        {\"angle\": 307, \"distance\": 110.000000},\n",
    "        {\"angle\": 308, \"distance\": 108.000000},\n",
    "        {\"angle\": 309, \"distance\": 105.000000},\n",
    "        {\"angle\": 310, \"distance\": 104.000000},\n",
    "        {\"angle\": 311, \"distance\": 102.500000},\n",
    "        {\"angle\": 312, \"distance\": 101.000000},\n",
    "        {\"angle\": 313, \"distance\": 99.000000},\n",
    "        {\"angle\": 314, \"distance\": 97.500000},\n",
    "        {\"angle\": 315, \"distance\": 96.000000},\n",
    "        {\"angle\": 316, \"distance\": 94.500000},\n",
    "        {\"angle\": 317, \"distance\": 92.000000},\n",
    "        {\"angle\": 318, \"distance\": 90.000000},\n",
    "        {\"angle\": 319, \"distance\": 88.500000},\n",
    "        {\"angle\": 320, \"distance\": 87.666664},\n",
    "        {\"angle\": 321, \"distance\": 87.599998},\n",
    "        {\"angle\": 322, \"distance\": 121.000000},\n",
    "        {\"angle\": 323, \"distance\": 110.000000},\n",
    "        {\"angle\": 324, \"distance\": 101.400002},\n",
    "        {\"angle\": 325, \"distance\": 120.250000},\n",
    "        {\"angle\": 326, \"distance\": 120.000000},\n",
    "        {\"angle\": 327, \"distance\": 91.199997},\n",
    "        {\"angle\": 328, \"distance\": 93.000000},\n",
    "        {\"angle\": 329, \"distance\": 94.599998},\n",
    "        {\"angle\": 330, \"distance\": 96.666664},\n",
    "        {\"angle\": 331, \"distance\": 97.800003},\n",
    "        {\"angle\": 332, \"distance\": 100.000000},\n",
    "        {\"angle\": 333, \"distance\": 102.250000},\n",
    "        {\"angle\": 334, \"distance\": 104.428574},\n",
    "        {\"angle\": 335, \"distance\": 106.400002},\n",
    "        {\"angle\": 336, \"distance\": 108.400002},\n",
    "        {\"angle\": 337, \"distance\": 110.285713},\n",
    "        {\"angle\": 338, \"distance\": 112.250000},\n",
    "        {\"angle\": 339, \"distance\": 114.400002},\n",
    "        {\"angle\": 340, \"distance\": 116.875000},\n",
    "        {\"angle\": 341, \"distance\": 119.599998},\n",
    "        {\"angle\": 342, \"distance\": 123.199997},\n",
    "        {\"angle\": 343, \"distance\": 127.400002},\n",
    "        {\"angle\": 344, \"distance\": 131.000000},\n",
    "        {\"angle\": 345, \"distance\": 136.181824},\n",
    "        {\"angle\": 346, \"distance\": 141.857147},\n",
    "        {\"angle\": 347, \"distance\": 145.777771},\n",
    "        {\"angle\": 348, \"distance\": 150.285721},\n",
    "        {\"angle\": 349, \"distance\": 153.000000},\n",
    "        {\"angle\": 350, \"distance\": 154.222229},\n",
    "        {\"angle\": 351, \"distance\": 153.666672},\n",
    "        {\"angle\": 352, \"distance\": 153.857147},\n",
    "        {\"angle\": 353, \"distance\": 153.250000},\n",
    "        {\"angle\": 354, \"distance\": 153.500000},\n",
    "        {\"angle\": 355, \"distance\": 153.199997},\n",
    "        {\"angle\": 356, \"distance\": 153.428574},\n",
    "        {\"angle\": 357, \"distance\": 153.000000},\n",
    "        {\"angle\": 358, \"distance\": 152.000000},\n",
    "        {\"angle\": 359, \"distance\": 150.000000}\n",
    "    ],\n",
    "    \"tiltAngle\": 0.000000,\n",
    "    \"finalDepth\": 86.923981,\n",
    "    \"newFinalDepth\": 80.001923,\n",
    "    \"detectionStatus\": \"Pipe Detected\",\n",
    "    \"xc\": 7.673218,\n",
    "    \"yc\": 146.339615,\n",
    "    \"R\": 1.791339,\n",
    "    \"max_residual\": 1.583982,\n",
    "    \"mean_residual\": 1.055988,\n",
    "    \"radius_limit\": 3.478334,\n",
    "    \"is_good_fit\": 1,\n",
    "    \"diameter_limit\": 6.956668,\n",
    "    \"pipeDiameter\": 3.582677\n",
    "}\n",
    "\"\"\"\n",
    "\n",
    "# Load JSON data\n",
    "data = json.loads(json_data)\n",
    "\n",
    "# Extract angles and distances\n",
    "angles_degrees = [point[\"angle\"] for point in data[\"angles\"]]\n",
    "distances_mm = [point[\"distance\"] for point in data[\"angles\"]]\n",
    "\n",
    "# Convert angles from degrees to radians\n",
    "angles_radians = np.radians(angles_degrees)\n",
    "\n",
    "# Convert to Cartesian coordinates\n",
    "x_coords = [distance_mm * np.sin(angle) for angle, distance_mm in zip(angles_radians, distances_mm)]\n",
    "y_coords = [distance_mm * np.cos(angle) for angle, distance_mm in zip(angles_radians, distances_mm)]\n",
    "\n",
    "# Assuming the LIDAR is at the origin for simplicity\n",
    "lidar_pos = (0, 0)\n",
    "\n",
    "# Define tilt value\n",
    "tilt = 0  # This can be adjusted as needed\n",
    "\n",
    "# Rotate the coordinates by tilt angle degrees counterclockwise\n",
    "rotation_angle = np.radians(tilt)\n",
    "cos_angle = np.cos(rotation_angle)\n",
    "sin_angle = np.sin(rotation_angle)\n",
    "x_coords_rotated = [x * cos_angle - y * sin_angle for x, y in zip(x_coords, y_coords)]\n",
    "y_coords_rotated = [x * sin_angle + y * cos_angle for x, y in zip(x_coords, y_coords)]\n",
    "\n",
    "# Define angle ranges with tilt angle adjustment and wrapping logic\n",
    "startAngleRange1 = (290 + tilt) % 360\n",
    "endAngleRange1 = (359 + tilt) % 360\n",
    "startAngleRange2 = (0 + tilt) % 360\n",
    "endAngleRange2 = (70 + tilt) % 360\n",
    "\n",
    "if startAngleRange1 < 0: startAngleRange1 += 360\n",
    "if endAngleRange1 < 0: endAngleRange1 += 360\n",
    "if startAngleRange2 < 0: startAngleRange2 += 360\n",
    "if endAngleRange2 < 0: endAngleRange2 += 360\n",
    "\n",
    "# Define the angle range for selecting the maximum Y-coordinate\n",
    "max_Y_startAngleRange = (348 + tilt) % 360\n",
    "max_Y_endAngleRange = (12 + tilt) % 360\n",
    "\n",
    "if max_Y_startAngleRange < 0: startAngleRange1 += 360\n",
    "if max_Y_endAngleRange < 0: endAngleRange2 += 360\n",
    "\n",
    "# Define the angle range for selecting the earth surface\n",
    "earth_Surface_startAngleRange1  = (290 + tilt) % 360\n",
    "earth_Surface_endAngleRange1    = (348 + tilt) % 360\n",
    "earth_Surface_startAngleRange2  = (12 + tilt) % 360\n",
    "earth_Surface_endAngleRange2    = (70 + tilt) % 360\n",
    "\n",
    "# Adjust for negative angles, ensuring all angles are positive\n",
    "if earth_Surface_startAngleRange1  < 0: earth_Surface_startAngleRange1 += 360\n",
    "if earth_Surface_endAngleRange1    < 0: earth_Surface_endAngleRange1 += 360\n",
    "if earth_Surface_startAngleRange2  < 0: earth_Surface_startAngleRange2 += 360\n",
    "if earth_Surface_endAngleRange2    < 0: earth_Surface_endAngleRange2 += 360\n",
    "\n",
    "# Filter the Y-coordinates within the specified angle range\n",
    "y_coords_in_range = [\n",
    "    y for angle, y in zip(angles_degrees, y_coords_rotated) \n",
    "    if (max_Y_startAngleRange <= angle <= max_Y_endAngleRange) or \n",
    "       (max_Y_startAngleRange > max_Y_endAngleRange and (angle >= max_Y_startAngleRange or angle <= max_Y_endAngleRange))\n",
    "]\n",
    "\n",
    "# Ensure there are points within the specified angle range\n",
    "if not y_coords_in_range:\n",
    "    raise ValueError(\"No points found within the specified angle range.\")\n",
    "\n",
    "# Identify the highest Y-coordinate value as the ground level reference after rotation within the angle range\n",
    "y_surface_level_rotated = max(y_coords_in_range)\n",
    "\n",
    "# Calculate the depth of each point relative to the highest point (ground level) after rotation\n",
    "depths_rotated = [y_surface_level_rotated - y for y in y_coords_rotated]\n",
    "\n",
    "# Define thresholds and minimum points for flat surface detection\n",
    "y_variance_threshold = 2.5  # Example threshold for y-variance\n",
    "min_consecutive_points = 15  # Minimum number of consecutive points to consider a flat region\n",
    "\n",
    "\n",
    "def detect_flat_surface(filtered_x_coords, filtered_y_coords, filtered_angles, y_variance_threshold, min_points):\n",
    "    flat_regions = []\n",
    "    i = 0\n",
    "    while i < len(filtered_x_coords) - min_points:\n",
    "        # Calculate the variance of y-coordinates in the current window\n",
    "        y_variance = np.var(filtered_y_coords[i:i + min_points])\n",
    "        \n",
    "        # Debugging: Print the variance and associated angle for the window\n",
    "        print(f\"Window start index: {i}, Angle: {filtered_angles[i]:.2f}°, Variance: {y_variance}\")\n",
    "\n",
    "        # If the variance is below the threshold, it's a potential flat region\n",
    "        if y_variance < y_variance_threshold:\n",
    "            start = i\n",
    "            end = i + min_points - 1\n",
    "\n",
    "            # Try to extend the flat region by adding more points while variance is low\n",
    "            while end < len(filtered_x_coords) - 1:\n",
    "                extended_variance = np.var(filtered_y_coords[start:end + 2])\n",
    "                print(f\"Extending region. Start: {start}, Angle: {filtered_angles[start]:.2f}°, End: {end+1}, Angle: {filtered_angles[end+1]:.2f}°, Extended Variance: {extended_variance}\")\n",
    "                \n",
    "                if extended_variance < y_variance_threshold:\n",
    "                    end += 1\n",
    "                else:\n",
    "                    break\n",
    "\n",
    "            # If a sufficiently large flat region is found, store it\n",
    "            if end - start + 1 >= min_points:\n",
    "                flat_regions.append((start, end))\n",
    "            i = end\n",
    "        else:\n",
    "            i += 1\n",
    "    return flat_regions\n",
    "\n",
    "\n",
    "# Function to determine the widest flat region\n",
    "def get_widest_flat_region(flat_regions, x_coords):\n",
    "    max_width = 0\n",
    "    widest_flat_region = None\n",
    "    for start, end in flat_regions:\n",
    "        width = abs(x_coords[end] - x_coords[start])\n",
    "        if width > max_width:\n",
    "            max_width = width\n",
    "            widest_flat_region = (start, end)\n",
    "    return widest_flat_region, max_width\n",
    "\n",
    "# Print the angles and corresponding indices being considered for Side 1\n",
    "filtered_angles_side1 = []\n",
    "filtered_x_coords_side1 = []\n",
    "filtered_y_coords_side1 = []\n",
    "\n",
    "for angle, x, y in zip(angles_degrees, x_coords_rotated, y_coords_rotated):\n",
    "    if (earth_Surface_startAngleRange1 <= angle <= earth_Surface_endAngleRange1) or \\\n",
    "       (earth_Surface_startAngleRange1 > earth_Surface_endAngleRange1 and \\\n",
    "        (angle >= earth_Surface_startAngleRange1 or angle <= earth_Surface_endAngleRange1)):\n",
    "        filtered_angles_side1.append(angle)\n",
    "        filtered_x_coords_side1.append(x)\n",
    "        filtered_y_coords_side1.append(y)\n",
    "\n",
    "# Print the angles and corresponding indices being considered for Side 2\n",
    "filtered_angles_side2 = []\n",
    "filtered_x_coords_side2 = []\n",
    "filtered_y_coords_side2 = []\n",
    "\n",
    "for angle, x, y in zip(angles_degrees, x_coords_rotated, y_coords_rotated):\n",
    "    if (earth_Surface_startAngleRange2 <= angle <= earth_Surface_endAngleRange2) or \\\n",
    "       (earth_Surface_startAngleRange2 > earth_Surface_endAngleRange2 and \\\n",
    "        (angle >= earth_Surface_startAngleRange2 or angle <= earth_Surface_endAngleRange2)):\n",
    "        filtered_angles_side2.append(angle)\n",
    "        filtered_x_coords_side2.append(x)\n",
    "        filtered_y_coords_side2.append(y)\n",
    "\n",
    "# Detect flat surfaces on both sides\n",
    "flat_regions_side1 = detect_flat_surface(\n",
    "    filtered_x_coords_side1,\n",
    "    filtered_y_coords_side1,\n",
    "    filtered_angles_side1,  # Add this line to pass the filtered angles\n",
    "    y_variance_threshold=y_variance_threshold,\n",
    "    min_points=min_consecutive_points\n",
    ")\n",
    "\n",
    "flat_regions_side2 = detect_flat_surface(\n",
    "    filtered_x_coords_side2,\n",
    "    filtered_y_coords_side2,\n",
    "    filtered_angles_side2,  # Add this line to pass the filtered angles\n",
    "    y_variance_threshold=y_variance_threshold,\n",
    "    min_points=min_consecutive_points\n",
    ")\n",
    "\n",
    "\n",
    "# Determine the widest flat region on each side\n",
    "widest_flat_region_side1, width_side1 = get_widest_flat_region(flat_regions_side1, filtered_x_coords_side1)\n",
    "widest_flat_region_side2, width_side2 = get_widest_flat_region(flat_regions_side2, filtered_x_coords_side2)\n",
    "\n",
    "# Determine the final depth based on the widest flat surface\n",
    "if widest_flat_region_side1 is not None and widest_flat_region_side2 is not None:\n",
    "    if width_side1 > width_side2:\n",
    "        start, end = widest_flat_region_side1\n",
    "        avg_flat_y = np.mean(filtered_y_coords_side1[start:end + 1])\n",
    "    else:\n",
    "        start, end = widest_flat_region_side2\n",
    "        avg_flat_y = np.mean(filtered_y_coords_side2[start:end + 1])\n",
    "    final_depth = y_surface_level_rotated - avg_flat_y\n",
    "    print(f\"Selected widest flat region for final depth calculation. Final Depth: {final_depth:.2f} mm\")\n",
    "elif widest_flat_region_side1 is not None:\n",
    "    start, end = widest_flat_region_side1\n",
    "    avg_flat_y = np.mean(filtered_y_coords_side1[start:end + 1])\n",
    "    final_depth = y_surface_level_rotated - avg_flat_y\n",
    "    print(f\"Flat region detected on side 1. Final Depth using flat surface: {final_depth:.2f} mm\")\n",
    "elif widest_flat_region_side2 is not None:\n",
    "    start, end = widest_flat_region_side2\n",
    "    avg_flat_y = np.mean(filtered_y_coords_side2[start:end + 1])\n",
    "    final_depth = y_surface_level_rotated - avg_flat_y\n",
    "    print(f\"Flat region detected on side 2. Final Depth using flat surface: {final_depth:.2f} mm\")\n",
    "else:\n",
    "    print(\"No flat regions detected. Using depth sorting method.\")\n",
    "\n",
    "    # Collect depths for specified angle ranges\n",
    "    depths_range1 = [depth for angle, depth in zip(angles_degrees, depths_rotated) \n",
    "                     if (earth_Surface_startAngleRange1 <= angle <= earth_Surface_endAngleRange1) or \n",
    "                        (earth_Surface_startAngleRange1 > earth_Surface_endAngleRange1 and \n",
    "                         (angle >= earth_Surface_startAngleRange1 or angle <= earth_Surface_endAngleRange1))]\n",
    "\n",
    "    depths_range2 = [depth for angle, depth in zip(angles_degrees, depths_rotated) \n",
    "                     if (earth_Surface_startAngleRange2 <= angle <= earth_Surface_endAngleRange2) or \n",
    "                        (earth_Surface_startAngleRange2 > earth_Surface_endAngleRange2 and \n",
    "                         (angle >= earth_Surface_startAngleRange2 or angle <= earth_Surface_endAngleRange2))]\n",
    "\n",
    "    # Sort the depths and take the top 30 highest values\n",
    "    depths_range1.sort(reverse=True)\n",
    "    depths_range2.sort(reverse=True)\n",
    "\n",
    "    top_30_depths_range1 = depths_range1[:30]\n",
    "    top_30_depths_range2 = depths_range2[:30]\n",
    "\n",
    "    # Take the lowest value out of those 30 values on both sides\n",
    "    min_top_30_depth_range1 = min(top_30_depths_range1) if top_30_depths_range1 else float('inf')\n",
    "    min_top_30_depth_range2 = min(top_30_depths_range2) if top_30_depths_range2 else float('inf')\n",
    "\n",
    "    # Determine the final depth value\n",
    "    final_depth = min(min_top_30_depth_range1, min_top_30_depth_range2)\n",
    "\n",
    "    # Print the final depth value\n",
    "    print(f\"Final Depth using depth sorting: {final_depth:.2f} mm\")\n",
    "\n",
    "# Calculate the threshold as 5% of the final depth value\n",
    "threshold_value = 0.05 * final_depth\n",
    "\n",
    "# Filter points above the threshold within the specified max Y-coordinate angle range\n",
    "threshold_indices = [i for i, y in enumerate(y_coords_rotated) \n",
    "                     if y >= y_surface_level_rotated - threshold_value and \n",
    "                     ((max_Y_startAngleRange <= angles_degrees[i] <= max_Y_endAngleRange) or \n",
    "                      (max_Y_startAngleRange > max_Y_endAngleRange and \n",
    "                       (angles_degrees[i] >= max_Y_startAngleRange or angles_degrees[i] <= max_Y_endAngleRange)))]\n",
    "\n",
    "threshold_angles = [angles_degrees[i] for i in threshold_indices]\n",
    "\n",
    "if threshold_angles:\n",
    "    # Determine the angle range for the points above the threshold\n",
    "    threshold_angles.sort()\n",
    "    if threshold_angles[-1] - threshold_angles[0] <= 180:\n",
    "        angle_range_start = threshold_angles[0]\n",
    "        angle_range_end = threshold_angles[-1]\n",
    "    else:\n",
    "        for i in range(1, len(threshold_angles)):\n",
    "            if threshold_angles[i] - threshold_angles[i-1] > 180:\n",
    "                angle_range_start = threshold_angles[i]\n",
    "                angle_range_end = threshold_angles[i-1] + 360\n",
    "                break\n",
    "\n",
    "    if angle_range_end < angle_range_start:\n",
    "        angle_range_end += 360\n",
    "\n",
    "    # Collect all points within this new angle range\n",
    "    filtered_points = [(x, y, d, a) for x, y, d, a in zip(x_coords_rotated, y_coords_rotated, depths_rotated, angles_degrees)\n",
    "                       if angle_range_start <= a <= angle_range_end or (angle_range_start <= a + 360 <= angle_range_end) or (angle_range_start <= a - 360 <= angle_range_end)]\n",
    "\n",
    "    # Ensure the wrap-around angle logic is correct\n",
    "    adjusted_angles = [a if angle_range_start <= a <= angle_range_end else (a + 360 if a + 360 <= angle_range_end else a - 360) for _, _, _, a in filtered_points]\n",
    "\n",
    "    # Collect points with adjusted angles\n",
    "    filtered_points = [(x, y, d, a) for (x, y, d, a), adj_a in zip(filtered_points, adjusted_angles) if angle_range_start <= adj_a <= angle_range_end]\n",
    "\n",
    "    # Sort the filtered points by their y-coordinate in ascending order\n",
    "    filtered_points_sorted_by_y = sorted(filtered_points, key=lambda p: p[1])\n",
    "\n",
    "    # Initialize lowest_point as None\n",
    "    lowest_point = None\n",
    "\n",
    "    # Find the lowest y-coordinate point that is also less than the final depth\n",
    "    for point in filtered_points_sorted_by_y:\n",
    "        if point[2] < final_depth:\n",
    "            lowest_point = point\n",
    "            break\n",
    "\n",
    "    # Ensure we found a valid point\n",
    "    if lowest_point is not None:\n",
    "        lowest_angle_index = angles_degrees.index(lowest_point[3])\n",
    "\n",
    "        # Adjust depths relative to the new lowest point\n",
    "        new_depths = [(lowest_point[1] - y) for y in y_coords_rotated]\n",
    "\n",
    "        # Calculate the new R limit based on your logic\n",
    "        pipe = y_surface_level_rotated  - lowest_point[1]\n",
    "        diameter_limit = pipe + 0.005 * pipe  # Adding 0.5% of the pipe depth to account for sinking into the mud\n",
    "        radius_limit = diameter_limit / 2\n",
    "\n",
    "        print('Pipe Diameter Limit:', diameter_limit) \n",
    "\n",
    "        # Define the maximum allowable Euclidean distance gap to consider points as continuous\n",
    "        MAX_EUCLIDEAN_DISTANCE_GAP = np.sqrt(2) * radius_limit\n",
    "\n",
    "        # Ensure proper index wrapping around the list\n",
    "        bump_indices = [lowest_angle_index]\n",
    "\n",
    "        # Initialize variables for bump points collection\n",
    "        left_collected = 0\n",
    "        right_collected = 0\n",
    "        i = 1\n",
    "\n",
    "        # Function to calculate Euclidean distance between two points\n",
    "        def euclidean_distance(x1, y1, x2, y2):\n",
    "            return np.sqrt((x2 - x1) ** 2 + (y2 - y1) ** 2)\n",
    "\n",
    "        # Collect points to the left and right of the lowest point\n",
    "        while left_collected < 5 or right_collected < 5:\n",
    "            if left_collected < 5:\n",
    "                left_index = (lowest_angle_index - i + len(angles_degrees)) % len(angles_degrees)\n",
    "                if euclidean_distance(x_coords_rotated[lowest_angle_index], y_coords_rotated[lowest_angle_index],\n",
    "                                      x_coords_rotated[left_index], y_coords_rotated[left_index]) <= MAX_EUCLIDEAN_DISTANCE_GAP:\n",
    "                    bump_indices.append(left_index)\n",
    "                    left_collected += 1\n",
    "                else:\n",
    "                    left_collected = 5  # Stop collecting points on this side if a gap is detected\n",
    "            if right_collected < 5:\n",
    "                right_index = (lowest_angle_index + i) % len(angles_degrees)\n",
    "                if euclidean_distance(x_coords_rotated[lowest_angle_index], y_coords_rotated[lowest_angle_index],\n",
    "                                      x_coords_rotated[right_index], y_coords_rotated[right_index]) <= MAX_EUCLIDEAN_DISTANCE_GAP:\n",
    "                    bump_indices.append(right_index)\n",
    "                    right_collected += 1\n",
    "                else:\n",
    "                    right_collected = 5  # Stop collecting points on this side if a gap is detected\n",
    "            i += 1\n",
    "            if i > len(angles_degrees):  # Safety check to prevent infinite loop in case of too many missing points\n",
    "                break\n",
    "\n",
    "        bump_points = [(x_coords_rotated[i], y_coords_rotated[i], depths_rotated[i], new_depths[i], angles_degrees[i]) for i in bump_indices]\n",
    "\n",
    "        # Fit a circle to these points\n",
    "        x_bump, y_bump = zip(*[(bp[0], bp[1]) for bp in bump_points])\n",
    "        xc, yc, R, Ri = fit_circle(np.array(x_bump), np.array(y_bump))\n",
    "\n",
    "        # Calculate the residuals\n",
    "        residuals = Ri - R\n",
    "\n",
    "        # Calculate fit quality metrics\n",
    "        max_residual = np.max(np.abs(residuals))\n",
    "        mean_residual = np.mean(np.abs(residuals))\n",
    "\n",
    "        # Print fit quality metrics for debugging\n",
    "        print(f\"Max Residual: {max_residual}\")\n",
    "        print(f\"Mean Residual: {mean_residual}\")\n",
    "\n",
    "        # Check fit quality and radius\n",
    "        is_good_fit = max_residual < 0.1 * R and mean_residual < 0.05 * R and R <= radius_limit  # Updated radius limit\n",
    "\n",
    "        if is_good_fit:\n",
    "            print(\"The points form a good part of a circle within the specified radius limit.\")\n",
    "        else:\n",
    "            print(\"The points do not form a good part of a circle within the specified radius limit.\")\n",
    "    else:\n",
    "        new_depths = []\n",
    "        is_good_fit = False\n",
    "        print(\"No valid point found for the bump top.\")\n",
    "else:\n",
    "    filtered_points = []\n",
    "    new_depths = []\n",
    "    is_good_fit = False\n",
    "    print(\"No points above the threshold value.\")\n",
    "\n",
    "# Calculate the new final depth value\n",
    "if lowest_point is not None:\n",
    "    new_final_depth = final_depth - (y_surface_level_rotated - lowest_point[1])\n",
    "else:\n",
    "    new_final_depth = final_depth\n",
    "\n",
    "# Print the new final depth value\n",
    "print(f\"New Final Depth: {new_final_depth:.2f} mm\")\n",
    "\n",
    "# Generate and save the plot\n",
    "fig = go.Figure()\n",
    "\n",
    "# Add LiDAR position as a dot\n",
    "fig.add_trace(go.Scatter(\n",
    "    x=[0],  # X-coordinate for LiDAR position\n",
    "    y=[0],  # Y-coordinate for LiDAR position\n",
    "    mode='markers',\n",
    "    marker=dict(size=10, color='red', symbol='circle'),\n",
    "    name='LiDAR Position'\n",
    "))\n",
    "\n",
    "# Filter points within the specified angle ranges for plotting\n",
    "filtered_x_coords_for_plot = []\n",
    "filtered_y_coords_for_plot = []\n",
    "filtered_depths_for_plot = []\n",
    "filtered_new_depths_for_plot = []\n",
    "filtered_angles_for_plot = []\n",
    "\n",
    "for angle, x, y, depth, new_depth in zip(angles_degrees, x_coords_rotated, y_coords_rotated, depths_rotated, new_depths):\n",
    "    if (startAngleRange1 <= angle <= endAngleRange1) or \\\n",
    "       (startAngleRange1 > endAngleRange1 and (angle >= startAngleRange1 or angle <= endAngleRange1)) or \\\n",
    "       (startAngleRange2 <= angle <= endAngleRange2) or \\\n",
    "       (startAngleRange2 > endAngleRange2 and (angle >= startAngleRange2 or angle <= endAngleRange2)):\n",
    "        filtered_x_coords_for_plot.append(x)\n",
    "        filtered_y_coords_for_plot.append(y)\n",
    "        filtered_depths_for_plot.append(depth)\n",
    "        filtered_new_depths_for_plot.append(new_depth)\n",
    "        filtered_angles_for_plot.append(angle)\n",
    "\n",
    "# Updated hover text to include angles, x, y, depths, and new depths\n",
    "hover_texts = [f'Angle: {angle}°<br>X: {x:.2f}mm<br>Y: {y:.2f}mm<br>Initial Depth: {depth:.2f}mm<br>New Depth: {new_depth:.2f}mm' \n",
    "               for angle, x, y, depth, new_depth in zip(filtered_angles_for_plot, filtered_x_coords_for_plot, filtered_y_coords_for_plot, filtered_depths_for_plot, filtered_new_depths_for_plot)]\n",
    "\n",
    "# Plot all LIDAR points within the angle range\n",
    "fig.add_trace(go.Scatter(x=filtered_x_coords_for_plot, y=filtered_y_coords_for_plot, mode='markers',\n",
    "                         marker=dict(size=5, color=filtered_new_depths_for_plot, colorscale='Viridis', colorbar=dict(title='Depth (mm)')),\n",
    "                         text=hover_texts, hoverinfo='text', name='LIDAR Points'))\n",
    "\n",
    "# Highlight the flat surface region on Side 1 if detected\n",
    "if widest_flat_region_side1 is not None:\n",
    "    flat_x_coords_side1 = filtered_x_coords_side1[widest_flat_region_side1[0]:widest_flat_region_side1[1] + 1]\n",
    "    flat_y_coords_side1 = filtered_y_coords_side1[widest_flat_region_side1[0]:widest_flat_region_side1[1] + 1]\n",
    "    flat_hover_texts_side1 = [f'Side 1 Flat Surface<br>Angle: {angle:.2f}°<br>X: {x:.2f}mm<br>Y: {y:.2f}mm' \n",
    "                              for angle, x, y in zip(filtered_angles_side1[widest_flat_region_side1[0]:widest_flat_region_side1[1] + 1], flat_x_coords_side1, flat_y_coords_side1)]\n",
    "    \n",
    "    fig.add_trace(go.Scatter(x=flat_x_coords_side1, y=flat_y_coords_side1, mode='markers',\n",
    "                             marker=dict(size=7, color='blue'), text=flat_hover_texts_side1, hoverinfo='text', name='Flat Surface (Side 1)'))\n",
    "\n",
    "# Highlight the flat surface region on Side 2 if detected\n",
    "if widest_flat_region_side2 is not None:\n",
    "    flat_x_coords_side2 = filtered_x_coords_side2[widest_flat_region_side2[0]:widest_flat_region_side2[1] + 1]\n",
    "    flat_y_coords_side2 = filtered_y_coords_side2[widest_flat_region_side2[0]:widest_flat_region_side2[1] + 1]\n",
    "    flat_hover_texts_side2 = [f'Side 2 Flat Surface<br>Angle: {angle:.2f}°<br>X: {x:.2f}mm<br>Y: {y:.2f}mm' \n",
    "                              for angle, x, y in zip(filtered_angles_side2[widest_flat_region_side2[0]:widest_flat_region_side2[1] + 1], flat_x_coords_side2, flat_y_coords_side2)]\n",
    "    \n",
    "    fig.add_trace(go.Scatter(x=flat_x_coords_side2, y=flat_y_coords_side2, mode='markers',\n",
    "                             marker=dict(size=7, color='orange'), text=flat_hover_texts_side2, hoverinfo='text', name='Flat Surface (Side 2)'))\n",
    "\n",
    "# Plot the bump points with updated hover text to include angle, depth, and new depth\n",
    "if lowest_point is not None:\n",
    "    bump_hover_texts = [f'Angle: {bp[4]}°<br>X: {bp[0]:.2f}mm<br>Y: {bp[1]:.2f}mm<br>Depth: {bp[2]:.2f}mm<br>New Depth: {bp[3]:.2f}mm' \n",
    "                        for bp in bump_points]\n",
    "    bump_points_np = np.array([(bp[0], bp[1]) for bp in bump_points])\n",
    "    fig.add_trace(go.Scatter(x=bump_points_np[:, 0], y=bump_points_np[:, 1], mode='markers',\n",
    "                             marker=dict(size=5, color='red'), text=bump_hover_texts, hoverinfo='text', name='Bump Points'))\n",
    "\n",
    "# Plot the fitted circle if it's a good fit\n",
    "if lowest_point is not None and is_good_fit:\n",
    "    theta = np.linspace(0, 2 * np.pi, 100)\n",
    "    x_circle = xc + R * np.cos(theta)\n",
    "    y_circle = yc - R * np.sin(theta)  # Ensure the circle is oriented correctly (downward)\n",
    "    fig.add_trace(go.Scatter(x=x_circle, y=y_circle, mode='lines', line=dict(color='red'), name='Fitted Circle'))\n",
    "\n",
    "# Draw the horizontal line from the lowest point\n",
    "if lowest_point is not None:\n",
    "    fig.add_shape(type='line',\n",
    "                  x0=min(filtered_x_coords_for_plot), y0=lowest_point[1],\n",
    "                  x1=max(filtered_x_coords_for_plot), y1=lowest_point[1],\n",
    "                  line=dict(color='blue', width=2, dash='dash'),\n",
    "                  name='Lowest Point Level')\n",
    "\n",
    "    # Add annotation for the lowest point line\n",
    "    fig.add_annotation(\n",
    "        x=min(filtered_x_coords_for_plot), y=lowest_point[1],\n",
    "        text=\"New - Trench-Bottom\",\n",
    "        showarrow=False,\n",
    "        yshift=10,\n",
    "        font=dict(size=12, color=\"blue\")\n",
    "    )\n",
    "\n",
    "# Draw the horizontal line from the final depth value\n",
    "fig.add_shape(type='line',\n",
    "              x0=min(filtered_x_coords_for_plot), y0=y_surface_level_rotated - final_depth,\n",
    "              x1=max(filtered_x_coords_for_plot), y1=y_surface_level_rotated - final_depth,\n",
    "              line=dict(color='green', width=2, dash='dash'),\n",
    "              name='Final Depth Level')\n",
    "\n",
    "# Add annotation for the final depth line\n",
    "fig.add_annotation(\n",
    "    x=min(filtered_x_coords_for_plot), y=y_surface_level_rotated - final_depth,\n",
    "    text=\"Earth Surface\",\n",
    "    showarrow=False,\n",
    "    yshift=10,\n",
    "    font=dict(size=12, color=\"green\")\n",
    ")\n",
    "\n",
    "# Draw the horizontal line from the highest y-coordinate value used to calculate the initial depths\n",
    "fig.add_shape(type='line',\n",
    "              x0=min(filtered_x_coords_for_plot), y0=y_surface_level_rotated,\n",
    "              x1=max(filtered_x_coords_for_plot), y1=y_surface_level_rotated,\n",
    "              line=dict(color='purple', width=2, dash='dash'),\n",
    "              name='Initial Highest Point Level')\n",
    "\n",
    "# Add annotation for the highest y-coordinate line\n",
    "fig.add_annotation(\n",
    "    x=min(filtered_x_coords_for_plot), y=y_surface_level_rotated,\n",
    "    text=\"Initial - Trench-Bottom\",\n",
    "    showarrow=False,\n",
    "    yshift=10,\n",
    "    font=dict(size=12, color=\"purple\")\n",
    ")\n",
    "\n",
    "# Determine detection status based on residual values\n",
    "detection_status = \"Pipe Detected\" if lowest_point is not None and is_good_fit else \"No Pipe Detected\"\n",
    "\n",
    "# Add detection status annotation to the plot\n",
    "fig.add_annotation(\n",
    "    xref=\"paper\", yref=\"paper\",\n",
    "    x=0.5, y=1.0,\n",
    "    showarrow=False,\n",
    "    text=detection_status,\n",
    "    font=dict(size=14, color=\"red\" if not is_good_fit else \"green\")\n",
    ")\n",
    "\n",
    "# Adjust the color bar position and the legend position\n",
    "fig.update_layout(\n",
    "    title=f'LiDAR Data Visualization with Circle Fitting | Final Depth: {final_depth:.2f} mm | New Final Depth: {new_final_depth:.2f} mm | Tilt: {tilt}°',\n",
    "    xaxis_title='X Coordinate (mm)',\n",
    "    yaxis_title='Y Coordinate (mm)',\n",
    "    legend=dict(\n",
    "        x=1.1,  # Position the legend more to the right\n",
    "        y=0.5,  # Position the legend slightly lower\n",
    "        orientation='v',\n",
    "    ),\n",
    "    yaxis=dict(autorange='reversed'),\n",
    "    xaxis=dict(scaleanchor='y', scaleratio=1),  # Maintain aspect ratio to ensure the circle is not distorted\n",
    "    coloraxis_colorbar=dict(\n",
    "        x=1.2,  # Move the color bar slightly to the right\n",
    "        y=0.5,   # Center the color bar vertically\n",
    "        len=0.7, # Adjust the length of the color bar\n",
    "    )\n",
    ")\n",
    "\n",
    "fig.show()\n",
    "\n",
    "# Save plot as an interactive HTML file\n",
    "fig.write_html(\"PRFILE_AKSELI.html\")\n"
   ]
  },
  {
   "cell_type": "markdown",
   "id": "86b74a21-139a-4411-b55b-3d93763f6ec2",
   "metadata": {},
   "source": [
    "###\n",
    "###\n",
    "###\n",
    "###\n",
    "###\n",
    "###\n",
    "###\n",
    "###\n",
    "###\n",
    "###\n",
    "###\n",
    "###\n",
    "###\n",
    "###\n",
    "###\n",
    "###\n",
    "###\n",
    "### Summary of the Code:\n",
    "\n",
    "- **Data Loading and Initialization:**\n",
    "  - Loads LiDAR data from a JSON file containing angles and distances.\n",
    "  - Converts angles from degrees to radians.\n",
    "  - Converts polar coordinates (angle, distance) to Cartesian coordinates (x, y).\n",
    "\n",
    "- **Coordinate Rotation:**\n",
    "  - Rotates the coordinates based on a specified tilt angle.\n",
    "  - Defines specific angle ranges to identify different regions (e.g., the earth's surface, max y-coordinate range).\n",
    "\n",
    "- **Ground Level Detection:**\n",
    "  - Identifies the highest y-coordinate within a defined angle range to determine the ground level (`y_surface_level_rotated`).\n",
    "\n",
    "- **Depth Calculation:**\n",
    "  - Calculates the depth of each point relative to the identified ground level.\n",
    "\n",
    "- **Flat Surface Detection:**\n",
    "  - **Variance Calculation:** \n",
    "    - Scans through the data to identify flat surfaces by calculating the variance of y-coordinates over a moving window of points.\n",
    "    - Points with low variance in y-coordinates are considered part of a flat surface.\n",
    "  - **Flat Surface Detection Logic:**\n",
    "    - The function `detect_flat_surface` identifies potential flat regions on both sides of the trench by checking if the variance within a window is below a certain threshold.\n",
    "    - It stores the indices of the start and end of each detected flat region.\n",
    "\n",
    "- **Widest Flat Surface Identification:**\n",
    "  - **Determine the Widest Flat Region:**\n",
    "    - The function `get_widest_flat_region` calculates the width (in x-coordinates) of each detected flat region.\n",
    "    - The widest flat region on each side (left and right) is identified.\n",
    "\n",
    "- **Final Depth Calculation:**\n",
    "  - **Average Y-Values for Both Sides:**\n",
    "    - The code calculates the average y-coordinate for the widest flat region on both sides.\n",
    "    - The side with the higher average y-value is selected.\n",
    "  - **Final Depth Calculation:**\n",
    "    - The final depth is determined by subtracting the higher average y-value (from the selected side) from the ground level (`y_surface_level_rotated`).\n",
    "\n",
    "- **Threshold and Bump Point Detection:**\n",
    "  - Calculates a threshold as 5% of the final depth and identifies points above this threshold.\n",
    "  - Attempts to identify and fit a circle to the lowest points around the trench bottom, which could represent a pipe.\n",
    "\n",
    "- **Plotting:**\n",
    "  - Generates a plot visualizing the LiDAR points, highlighting the detected flat surfaces and the trench-bottom.\n",
    "  - Annotates the plot with key information, such as the final depth, the detected trench-bottom, and whether a pipe was detected.\n",
    "\n",
    "- **Output:**\n",
    "  - The final plot is saved as an interactive HTML file.\n",
    "\n",
    "### Key Logical Parts:\n",
    "\n",
    "1. **Detection of the Widest Flat Surface:**\n",
    "   - Both sides of the trench are scanned for flat surfaces based on the variance in y-coordinates.\n",
    "   - The widest flat region on each side is identified by calculating the width in x-coordinates.\n",
    "\n",
    "2. **Final Depth Calculation:**\n",
    "   - The average y-values of the widest flat regions from both sides are compared.\n",
    "   - The higher average y-value is selected and subtracted from the `y_surface_level_rotated` to determine the final depth. \n",
    "\n",
    "This approach ensures that the final depth reflects the trench's depth, focusing on the flattest and widest areas detected on both sides of the trench.\n"
   ]
  },
  {
   "cell_type": "code",
   "execution_count": 3,
   "id": "24df9265-f97d-4acd-b505-f08df86b99a2",
   "metadata": {},
   "outputs": [
    {
     "name": "stdout",
     "output_type": "stream",
     "text": [
      "Window start index: 0, Angle: 290.00°, Variance: 5441.546046651997\n",
      "Window start index: 1, Angle: 291.00°, Variance: 3106.840634831389\n",
      "Window start index: 2, Angle: 292.00°, Variance: 12.837979541555944\n",
      "Window start index: 3, Angle: 293.00°, Variance: 7.552709338720189\n",
      "Window start index: 4, Angle: 294.00°, Variance: 3.8779907185451608\n",
      "Window start index: 5, Angle: 295.00°, Variance: 1.8570102231717684\n",
      "Extending region. Start: 5, Angle: 295.00°, End: 20, Angle: 310.00°, Extended Variance: 1.8098287956956374\n",
      "Extending region. Start: 5, Angle: 295.00°, End: 21, Angle: 311.00°, Extended Variance: 1.8138449230379114\n",
      "Extending region. Start: 5, Angle: 295.00°, End: 22, Angle: 312.00°, Extended Variance: 1.8586476745539007\n",
      "Extending region. Start: 5, Angle: 295.00°, End: 23, Angle: 313.00°, Extended Variance: 1.8743283935199966\n",
      "Extending region. Start: 5, Angle: 295.00°, End: 24, Angle: 314.00°, Extended Variance: 1.908479541298022\n",
      "Extending region. Start: 5, Angle: 295.00°, End: 25, Angle: 315.00°, Extended Variance: 1.9504818252332405\n",
      "Extending region. Start: 5, Angle: 295.00°, End: 26, Angle: 316.00°, Extended Variance: 1.9910193978922521\n",
      "Extending region. Start: 5, Angle: 295.00°, End: 27, Angle: 317.00°, Extended Variance: 1.9423096818079375\n",
      "Extending region. Start: 5, Angle: 295.00°, End: 28, Angle: 318.00°, Extended Variance: 1.8718106626926667\n",
      "Extending region. Start: 5, Angle: 295.00°, End: 29, Angle: 319.00°, Extended Variance: 1.8030381451381856\n",
      "Extending region. Start: 5, Angle: 295.00°, End: 30, Angle: 320.00°, Extended Variance: 1.7543480978741168\n",
      "Extending region. Start: 5, Angle: 295.00°, End: 31, Angle: 321.00°, Extended Variance: 1.7853047565899405\n",
      "Extending region. Start: 5, Angle: 295.00°, End: 32, Angle: 322.00°, Extended Variance: 30.38697249079566\n",
      "Window start index: 31, Angle: 321.00°, Variance: 74.67909304997501\n",
      "Window start index: 32, Angle: 322.00°, Variance: 55.73340194200268\n",
      "Window start index: 33, Angle: 323.00°, Variance: 63.17962707461299\n",
      "Window start index: 34, Angle: 324.00°, Variance: 75.80417170242227\n",
      "Window start index: 35, Angle: 325.00°, Variance: 85.458510342256\n",
      "Window start index: 36, Angle: 326.00°, Variance: 102.77194806535681\n",
      "Window start index: 37, Angle: 327.00°, Variance: 125.9020345423942\n",
      "Window start index: 38, Angle: 328.00°, Variance: 133.98871763238768\n",
      "Window start index: 39, Angle: 329.00°, Variance: 146.73438127407593\n",
      "Window start index: 40, Angle: 330.00°, Variance: 161.40497610646474\n",
      "Window start index: 41, Angle: 331.00°, Variance: 183.64214812806492\n",
      "Window start index: 42, Angle: 332.00°, Variance: 212.25231691088163\n",
      "Window start index: 43, Angle: 333.00°, Variance: 242.1156269525704\n",
      "Window start index: 0, Angle: 12.00°, Variance: 166.22409160563845\n",
      "Window start index: 1, Angle: 13.00°, Variance: 206.45252844096512\n",
      "Window start index: 2, Angle: 14.00°, Variance: 246.60689913266776\n",
      "Window start index: 3, Angle: 15.00°, Variance: 285.9444166799703\n",
      "Window start index: 4, Angle: 16.00°, Variance: 319.7108603226719\n",
      "Window start index: 5, Angle: 17.00°, Variance: 344.734929724196\n",
      "Window start index: 6, Angle: 18.00°, Variance: 361.4368006348222\n",
      "Window start index: 7, Angle: 19.00°, Variance: 364.09879471253583\n",
      "Window start index: 8, Angle: 20.00°, Variance: 329.2679355190518\n",
      "Window start index: 9, Angle: 21.00°, Variance: 295.6376325406958\n",
      "Window start index: 10, Angle: 22.00°, Variance: 265.03330966679573\n",
      "Window start index: 11, Angle: 23.00°, Variance: 221.3581387336227\n",
      "Window start index: 12, Angle: 24.00°, Variance: 178.60365873212157\n",
      "Window start index: 13, Angle: 25.00°, Variance: 177.50309312497245\n",
      "Window start index: 14, Angle: 26.00°, Variance: 168.2447806247541\n",
      "Window start index: 15, Angle: 27.00°, Variance: 152.98171005417487\n",
      "Window start index: 16, Angle: 28.00°, Variance: 137.98024280652322\n",
      "Window start index: 17, Angle: 29.00°, Variance: 122.65510423276413\n",
      "Window start index: 18, Angle: 30.00°, Variance: 109.36401490977636\n",
      "Window start index: 19, Angle: 31.00°, Variance: 97.52424923974901\n",
      "Window start index: 20, Angle: 32.00°, Variance: 85.9943131161579\n",
      "Window start index: 21, Angle: 33.00°, Variance: 77.60902525777107\n",
      "Window start index: 22, Angle: 34.00°, Variance: 71.7780506723388\n",
      "Window start index: 23, Angle: 35.00°, Variance: 55.716472704667574\n",
      "Window start index: 24, Angle: 36.00°, Variance: 47.57707665544297\n",
      "Window start index: 25, Angle: 37.00°, Variance: 41.31518708889027\n",
      "Window start index: 26, Angle: 38.00°, Variance: 24.594599438719648\n",
      "Window start index: 27, Angle: 39.00°, Variance: 1.2139141041492099\n",
      "Extending region. Start: 27, Angle: 39.00°, End: 42, Angle: 54.00°, Extended Variance: 1.2334963285899077\n",
      "Extending region. Start: 27, Angle: 39.00°, End: 43, Angle: 55.00°, Extended Variance: 1.295683099939175\n",
      "Extending region. Start: 27, Angle: 39.00°, End: 44, Angle: 56.00°, Extended Variance: 1.4575570849626311\n",
      "Extending region. Start: 27, Angle: 39.00°, End: 45, Angle: 57.00°, Extended Variance: 1.7205451666320812\n",
      "Extending region. Start: 27, Angle: 39.00°, End: 46, Angle: 58.00°, Extended Variance: 2.115974364692023\n",
      "Extending region. Start: 27, Angle: 39.00°, End: 47, Angle: 59.00°, Extended Variance: 2.5039011416918133\n",
      "Selected higher average y value from both sides for final depth calculation. Final Depth: 86.56 mm\n",
      "Pipe Diameter Limit: 6.956656677527212\n",
      "Max Residual: 2.2001778177127562e-10\n",
      "Mean Residual: 1.4667733694295748e-10\n",
      "The points do not form a good part of a circle within the specified radius limit.\n",
      "New Final Depth: 79.63 mm\n"
     ]
    },
    {
     "data": {
      "application/vnd.plotly.v1+json": {
       "config": {
        "plotlyServerURL": "https://plot.ly"
       },
       "data": [
        {
         "marker": {
          "color": "red",
          "size": 10,
          "symbol": "circle"
         },
         "mode": "markers",
         "name": "LiDAR Position",
         "type": "scatter",
         "x": [
          0
         ],
         "y": [
          0
         ]
        },
        {
         "hoverinfo": "text",
         "marker": {
          "color": [
           -0.11140243064815536,
           0,
           -0.5091321284656942,
           -2.424751093203099,
           -4.197055959115659,
           -5.065075213386791,
           -5.8114735378062505,
           -5.0540794787429775,
           -4.4443162669916205,
           -3.4671936079324155,
           -2.65433892246557,
           -2.110658274492067,
           -1.94927451032882,
           -1.1019130312859318,
           0.457941213422572,
           1.7307651093101128,
           2.523249299160284,
           4.021338510595399,
           6.745049521512698,
           12.16399205738,
           17.87235498963676,
           23.194244835684415,
           28.004327681334516,
           31.59813667297182,
           35.09086295961275,
           40.308620892873535,
           44.593810080951855,
           49.541969352521434,
           53.576318230266565,
           56.81595309807025,
           60.81914648248819,
           64.50217907658566,
           61.15643207283668,
           67.03910135571618,
           69.9054052229764,
           65.37076730619597,
           64.0220650979403,
           80.8525224973429,
           81.65737800666632,
           82.62936071038499,
           82.96547309414994,
           83.48015143796272,
           83.40635482821747,
           83.60433893367203,
           83.6135299184187,
           83.95726791935964,
           84.09481618128925,
           84.3903365356145,
           84.68228905927052,
           84.39645415638017,
           84.66924433128631,
           84.85707049846894,
           84.82677968226776,
           85.19028689742981,
           85.83314701095185,
           86.44942088696098,
           87.16034010710085,
           87.41844271998228,
           87.63278325972844,
           88.03642914071673,
           88.2597429966884,
           88.51382354509231,
           88.586610451207,
           89.1732359584224,
           89.72153989011015,
           91.67463222653593,
           93.84840682766742,
           95.81792529377599,
           97.52791933925785,
           -127.62013740601617,
           -140.7407603512845,
           90.81587430074362,
           88.63018343315768,
           86.09845230132055,
           84.57138754553581,
           82.6566398895566,
           80.98514654710351,
           79.78080488983761,
           79.51994434673944,
           79.88278325972844,
           80.00189753150596,
           79.89287523057787,
           79.6868209878952,
           79.58882774670955,
           79.59791664300711,
           79.71304975067902,
           79.93313071300318,
           79.64134392455733,
           80.05414219949552,
           79.28287185232837,
           78.88673278820148,
           78.55059201748382,
           78.6149456135411,
           78.40359213997623,
           78.25053226581991,
           78.15517212772595,
           78.84824271076475,
           79.24974896676298,
           79.34098541001315,
           78.97622245574992,
           78.05479859038975,
           50.783482073315085,
           58.28287715452625,
           64.0984584120748,
           47.62974993397722,
           46.64827455312343,
           69.64602997911749,
           67.26431031718086,
           65.04475832764325,
           62.41699653663383,
           60.59497327763641,
           57.83802397383576,
           55.02736616146785,
           52.27300268501649,
           49.70163290641331,
           47.1044538241796,
           44.61424917676557,
           42.05639558460658,
           39.33118060128774,
           36.30620820537541,
           33.04876350908731,
           28.962623305335086,
           24.29955543742824,
           20.20750109180868,
           14.591242386975978,
           8.489399783922664,
           4.091287086211281,
           -0.8688341609716304,
           -4.056175807764134,
           -5.746463546295729,
           -5.641997012728865,
           -6.22703656204942,
           -5.974914479304147,
           -6.526327679301488,
           -6.484241499342858,
           -6.922046445300708,
           -6.6575355577213315,
           -5.774622447174096,
           -3.844371013730239
          ],
          "colorbar": {
           "title": {
            "text": "Depth (mm)"
           }
          },
          "colorscale": [
           [
            0,
            "#440154"
           ],
           [
            0.1111111111111111,
            "#482878"
           ],
           [
            0.2222222222222222,
            "#3e4989"
           ],
           [
            0.3333333333333333,
            "#31688e"
           ],
           [
            0.4444444444444444,
            "#26828e"
           ],
           [
            0.5555555555555556,
            "#1f9e89"
           ],
           [
            0.6666666666666666,
            "#35b779"
           ],
           [
            0.7777777777777778,
            "#6ece58"
           ],
           [
            0.8888888888888888,
            "#b5de2b"
           ],
           [
            1,
            "#fde725"
           ]
          ],
          "size": 5
         },
         "mode": "markers",
         "name": "LIDAR Points",
         "text": [
          "Angle: 2°<br>X: 5.11mm<br>Y: 146.24mm<br>Initial Depth: 6.81mm<br>New Depth: -0.11mm",
          "Angle: 3°<br>X: 7.66mm<br>Y: 146.13mm<br>Initial Depth: 6.92mm<br>New Depth: 0.00mm",
          "Angle: 4°<br>X: 10.25mm<br>Y: 146.64mm<br>Initial Depth: 6.41mm<br>New Depth: -0.51mm",
          "Angle: 5°<br>X: 13.00mm<br>Y: 148.56mm<br>Initial Depth: 4.50mm<br>New Depth: -2.42mm",
          "Angle: 6°<br>X: 15.80mm<br>Y: 150.33mm<br>Initial Depth: 2.72mm<br>New Depth: -4.20mm",
          "Angle: 7°<br>X: 18.56mm<br>Y: 151.20mm<br>Initial Depth: 1.86mm<br>New Depth: -5.07mm",
          "Angle: 8°<br>X: 21.35mm<br>Y: 151.94mm<br>Initial Depth: 1.11mm<br>New Depth: -5.81mm",
          "Angle: 9°<br>X: 23.95mm<br>Y: 151.19mm<br>Initial Depth: 1.87mm<br>New Depth: -5.05mm",
          "Angle: 10°<br>X: 26.55mm<br>Y: 150.58mm<br>Initial Depth: 2.48mm<br>New Depth: -4.44mm",
          "Angle: 11°<br>X: 29.08mm<br>Y: 149.60mm<br>Initial Depth: 3.45mm<br>New Depth: -3.47mm",
          "Angle: 12°<br>X: 31.63mm<br>Y: 148.79mm<br>Initial Depth: 4.27mm<br>New Depth: -2.65mm",
          "Angle: 13°<br>X: 34.22mm<br>Y: 148.24mm<br>Initial Depth: 4.81mm<br>New Depth: -2.11mm",
          "Angle: 14°<br>X: 36.92mm<br>Y: 148.08mm<br>Initial Depth: 4.97mm<br>New Depth: -1.95mm",
          "Angle: 15°<br>X: 39.45mm<br>Y: 147.23mm<br>Initial Depth: 5.82mm<br>New Depth: -1.10mm",
          "Angle: 16°<br>X: 41.77mm<br>Y: 145.67mm<br>Initial Depth: 7.38mm<br>New Depth: 0.46mm",
          "Angle: 17°<br>X: 44.15mm<br>Y: 144.40mm<br>Initial Depth: 8.65mm<br>New Depth: 1.73mm",
          "Angle: 18°<br>X: 46.66mm<br>Y: 143.61mm<br>Initial Depth: 9.45mm<br>New Depth: 2.52mm",
          "Angle: 19°<br>X: 48.93mm<br>Y: 142.11mm<br>Initial Depth: 10.94mm<br>New Depth: 4.02mm",
          "Angle: 20°<br>X: 50.73mm<br>Y: 139.39mm<br>Initial Depth: 13.67mm<br>New Depth: 6.75mm",
          "Angle: 21°<br>X: 51.43mm<br>Y: 133.97mm<br>Initial Depth: 19.09mm<br>New Depth: 12.16mm",
          "Angle: 22°<br>X: 51.82mm<br>Y: 128.26mm<br>Initial Depth: 24.79mm<br>New Depth: 17.87mm",
          "Angle: 23°<br>X: 52.18mm<br>Y: 122.94mm<br>Initial Depth: 30.12mm<br>New Depth: 23.19mm",
          "Angle: 24°<br>X: 52.59mm<br>Y: 118.13mm<br>Initial Depth: 34.93mm<br>New Depth: 28.00mm",
          "Angle: 25°<br>X: 53.41mm<br>Y: 114.53mm<br>Initial Depth: 38.52mm<br>New Depth: 31.60mm",
          "Angle: 26°<br>X: 54.16mm<br>Y: 111.04mm<br>Initial Depth: 42.01mm<br>New Depth: 35.09mm",
          "Angle: 27°<br>X: 53.92mm<br>Y: 105.82mm<br>Initial Depth: 47.23mm<br>New Depth: 40.31mm",
          "Angle: 28°<br>X: 53.99mm<br>Y: 101.54mm<br>Initial Depth: 51.52mm<br>New Depth: 44.59mm",
          "Angle: 29°<br>X: 53.54mm<br>Y: 96.59mm<br>Initial Depth: 56.46mm<br>New Depth: 49.54mm",
          "Angle: 30°<br>X: 53.44mm<br>Y: 92.56mm<br>Initial Depth: 60.50mm<br>New Depth: 53.58mm",
          "Angle: 31°<br>X: 53.67mm<br>Y: 89.32mm<br>Initial Depth: 63.74mm<br>New Depth: 56.82mm",
          "Angle: 32°<br>X: 53.31mm<br>Y: 85.31mm<br>Initial Depth: 67.74mm<br>New Depth: 60.82mm",
          "Angle: 33°<br>X: 53.01mm<br>Y: 81.63mm<br>Initial Depth: 71.42mm<br>New Depth: 64.50mm",
          "Angle: 34°<br>X: 57.32mm<br>Y: 84.98mm<br>Initial Depth: 68.08mm<br>New Depth: 61.16mm",
          "Angle: 35°<br>X: 55.38mm<br>Y: 79.09mm<br>Initial Depth: 73.96mm<br>New Depth: 67.04mm",
          "Angle: 36°<br>X: 55.38mm<br>Y: 76.23mm<br>Initial Depth: 76.83mm<br>New Depth: 69.91mm",
          "Angle: 37°<br>X: 60.86mm<br>Y: 80.76mm<br>Initial Depth: 72.29mm<br>New Depth: 65.37mm",
          "Angle: 38°<br>X: 64.15mm<br>Y: 82.11mm<br>Initial Depth: 70.94mm<br>New Depth: 64.02mm",
          "Angle: 39°<br>X: 52.86mm<br>Y: 65.28mm<br>Initial Depth: 87.77mm<br>New Depth: 80.85mm",
          "Angle: 40°<br>X: 54.10mm<br>Y: 64.48mm<br>Initial Depth: 88.58mm<br>New Depth: 81.66mm",
          "Angle: 41°<br>X: 55.20mm<br>Y: 63.50mm<br>Initial Depth: 89.55mm<br>New Depth: 82.63mm",
          "Angle: 42°<br>X: 56.88mm<br>Y: 63.17mm<br>Initial Depth: 89.89mm<br>New Depth: 82.97mm",
          "Angle: 43°<br>X: 58.42mm<br>Y: 62.65mm<br>Initial Depth: 90.40mm<br>New Depth: 83.48mm",
          "Angle: 44°<br>X: 60.57mm<br>Y: 62.73mm<br>Initial Depth: 90.33mm<br>New Depth: 83.41mm",
          "Angle: 45°<br>X: 62.53mm<br>Y: 62.53mm<br>Initial Depth: 90.53mm<br>New Depth: 83.60mm",
          "Angle: 46°<br>X: 64.74mm<br>Y: 62.52mm<br>Initial Depth: 90.54mm<br>New Depth: 83.61mm",
          "Angle: 47°<br>X: 66.68mm<br>Y: 62.18mm<br>Initial Depth: 90.88mm<br>New Depth: 83.96mm",
          "Angle: 48°<br>X: 68.90mm<br>Y: 62.04mm<br>Initial Depth: 91.02mm<br>New Depth: 84.09mm",
          "Angle: 49°<br>X: 71.03mm<br>Y: 61.74mm<br>Initial Depth: 91.31mm<br>New Depth: 84.39mm",
          "Angle: 50°<br>X: 73.23mm<br>Y: 61.45mm<br>Initial Depth: 91.60mm<br>New Depth: 84.68mm",
          "Angle: 51°<br>X: 76.24mm<br>Y: 61.74mm<br>Initial Depth: 91.32mm<br>New Depth: 84.40mm",
          "Angle: 52°<br>X: 78.67mm<br>Y: 61.46mm<br>Initial Depth: 91.59mm<br>New Depth: 84.67mm",
          "Angle: 53°<br>X: 81.32mm<br>Y: 61.28mm<br>Initial Depth: 91.78mm<br>New Depth: 84.86mm",
          "Angle: 54°<br>X: 84.38mm<br>Y: 61.31mm<br>Initial Depth: 91.75mm<br>New Depth: 84.83mm",
          "Angle: 55°<br>X: 87.03mm<br>Y: 60.94mm<br>Initial Depth: 92.11mm<br>New Depth: 85.19mm",
          "Angle: 56°<br>X: 89.40mm<br>Y: 60.30mm<br>Initial Depth: 92.76mm<br>New Depth: 85.83mm",
          "Angle: 57°<br>X: 91.90mm<br>Y: 59.68mm<br>Initial Depth: 93.37mm<br>New Depth: 86.45mm",
          "Angle: 58°<br>X: 94.38mm<br>Y: 58.97mm<br>Initial Depth: 94.08mm<br>New Depth: 87.16mm",
          "Angle: 59°<br>X: 97.72mm<br>Y: 58.71mm<br>Initial Depth: 94.34mm<br>New Depth: 87.42mm",
          "Angle: 60°<br>X: 101.32mm<br>Y: 58.50mm<br>Initial Depth: 94.55mm<br>New Depth: 87.63mm",
          "Angle: 61°<br>X: 104.81mm<br>Y: 58.10mm<br>Initial Depth: 94.96mm<br>New Depth: 88.04mm",
          "Angle: 62°<br>X: 108.84mm<br>Y: 57.87mm<br>Initial Depth: 95.18mm<br>New Depth: 88.26mm",
          "Angle: 63°<br>X: 113.08mm<br>Y: 57.62mm<br>Initial Depth: 95.44mm<br>New Depth: 88.51mm",
          "Angle: 64°<br>X: 117.99mm<br>Y: 57.55mm<br>Initial Depth: 95.51mm<br>New Depth: 88.59mm",
          "Angle: 65°<br>X: 122.15mm<br>Y: 56.96mm<br>Initial Depth: 96.10mm<br>New Depth: 89.17mm",
          "Angle: 66°<br>X: 126.70mm<br>Y: 56.41mm<br>Initial Depth: 96.64mm<br>New Depth: 89.72mm",
          "Angle: 67°<br>X: 128.30mm<br>Y: 54.46mm<br>Initial Depth: 98.60mm<br>New Depth: 91.67mm",
          "Angle: 68°<br>X: 129.41mm<br>Y: 52.28mm<br>Initial Depth: 100.77mm<br>New Depth: 93.85mm",
          "Angle: 69°<br>X: 131.07mm<br>Y: 50.31mm<br>Initial Depth: 102.74mm<br>New Depth: 95.82mm",
          "Angle: 70°<br>X: 133.54mm<br>Y: 48.60mm<br>Initial Depth: 104.45mm<br>New Depth: 97.53mm",
          "Angle: 290°<br>X: -752.13mm<br>Y: 273.75mm<br>Initial Depth: -120.70mm<br>New Depth: -127.62mm",
          "Angle: 291°<br>X: -747.33mm<br>Y: 286.87mm<br>Initial Depth: -133.82mm<br>New Depth: -140.74mm",
          "Angle: 292°<br>X: -136.91mm<br>Y: 55.32mm<br>Initial Depth: 97.74mm<br>New Depth: 90.82mm",
          "Angle: 293°<br>X: -135.47mm<br>Y: 57.50mm<br>Initial Depth: 95.55mm<br>New Depth: 88.63mm",
          "Angle: 294°<br>X: -134.84mm<br>Y: 60.03mm<br>Initial Depth: 93.02mm<br>New Depth: 86.10mm",
          "Angle: 295°<br>X: -132.02mm<br>Y: 61.56mm<br>Initial Depth: 91.49mm<br>New Depth: 84.57mm",
          "Angle: 296°<br>X: -130.15mm<br>Y: 63.48mm<br>Initial Depth: 89.58mm<br>New Depth: 82.66mm",
          "Angle: 297°<br>X: -127.86mm<br>Y: 65.15mm<br>Initial Depth: 87.91mm<br>New Depth: 80.99mm",
          "Angle: 298°<br>X: -124.79mm<br>Y: 66.35mm<br>Initial Depth: 86.70mm<br>New Depth: 79.78mm",
          "Angle: 299°<br>X: -120.17mm<br>Y: 66.61mm<br>Initial Depth: 86.44mm<br>New Depth: 79.52mm",
          "Angle: 300°<br>X: -114.75mm<br>Y: 66.25mm<br>Initial Depth: 86.80mm<br>New Depth: 79.88mm",
          "Angle: 301°<br>X: -110.06mm<br>Y: 66.13mm<br>Initial Depth: 86.92mm<br>New Depth: 80.00mm",
          "Angle: 302°<br>X: -106.01mm<br>Y: 66.24mm<br>Initial Depth: 86.81mm<br>New Depth: 79.89mm",
          "Angle: 303°<br>X: -102.32mm<br>Y: 66.45mm<br>Initial Depth: 86.61mm<br>New Depth: 79.69mm",
          "Angle: 304°<br>X: -98.66mm<br>Y: 66.54mm<br>Initial Depth: 86.51mm<br>New Depth: 79.59mm",
          "Angle: 305°<br>X: -95.02mm<br>Y: 66.53mm<br>Initial Depth: 86.52mm<br>New Depth: 79.60mm",
          "Angle: 306°<br>X: -91.42mm<br>Y: 66.42mm<br>Initial Depth: 86.64mm<br>New Depth: 79.71mm",
          "Angle: 307°<br>X: -87.85mm<br>Y: 66.20mm<br>Initial Depth: 86.86mm<br>New Depth: 79.93mm",
          "Angle: 308°<br>X: -85.11mm<br>Y: 66.49mm<br>Initial Depth: 86.56mm<br>New Depth: 79.64mm",
          "Angle: 309°<br>X: -81.60mm<br>Y: 66.08mm<br>Initial Depth: 86.98mm<br>New Depth: 80.05mm",
          "Angle: 310°<br>X: -79.67mm<br>Y: 66.85mm<br>Initial Depth: 86.20mm<br>New Depth: 79.28mm",
          "Angle: 311°<br>X: -77.36mm<br>Y: 67.25mm<br>Initial Depth: 85.81mm<br>New Depth: 78.89mm",
          "Angle: 312°<br>X: -75.06mm<br>Y: 67.58mm<br>Initial Depth: 85.47mm<br>New Depth: 78.55mm",
          "Angle: 313°<br>X: -72.40mm<br>Y: 67.52mm<br>Initial Depth: 85.54mm<br>New Depth: 78.61mm",
          "Angle: 314°<br>X: -70.14mm<br>Y: 67.73mm<br>Initial Depth: 85.33mm<br>New Depth: 78.40mm",
          "Angle: 315°<br>X: -67.88mm<br>Y: 67.88mm<br>Initial Depth: 85.17mm<br>New Depth: 78.25mm",
          "Angle: 316°<br>X: -65.65mm<br>Y: 67.98mm<br>Initial Depth: 85.08mm<br>New Depth: 78.16mm",
          "Angle: 317°<br>X: -62.74mm<br>Y: 67.28mm<br>Initial Depth: 85.77mm<br>New Depth: 78.85mm",
          "Angle: 318°<br>X: -60.22mm<br>Y: 66.88mm<br>Initial Depth: 86.17mm<br>New Depth: 79.25mm",
          "Angle: 319°<br>X: -58.06mm<br>Y: 66.79mm<br>Initial Depth: 86.26mm<br>New Depth: 79.34mm",
          "Angle: 320°<br>X: -56.35mm<br>Y: 67.16mm<br>Initial Depth: 85.90mm<br>New Depth: 78.98mm",
          "Angle: 321°<br>X: -55.13mm<br>Y: 68.08mm<br>Initial Depth: 84.98mm<br>New Depth: 78.05mm",
          "Angle: 322°<br>X: -74.50mm<br>Y: 95.35mm<br>Initial Depth: 57.71mm<br>New Depth: 50.78mm",
          "Angle: 323°<br>X: -66.20mm<br>Y: 87.85mm<br>Initial Depth: 65.20mm<br>New Depth: 58.28mm",
          "Angle: 324°<br>X: -59.60mm<br>Y: 82.03mm<br>Initial Depth: 71.02mm<br>New Depth: 64.10mm",
          "Angle: 325°<br>X: -68.97mm<br>Y: 98.50mm<br>Initial Depth: 54.55mm<br>New Depth: 47.63mm",
          "Angle: 326°<br>X: -67.10mm<br>Y: 99.48mm<br>Initial Depth: 53.57mm<br>New Depth: 46.65mm",
          "Angle: 327°<br>X: -49.67mm<br>Y: 76.49mm<br>Initial Depth: 76.57mm<br>New Depth: 69.65mm",
          "Angle: 328°<br>X: -49.28mm<br>Y: 78.87mm<br>Initial Depth: 74.19mm<br>New Depth: 67.26mm",
          "Angle: 329°<br>X: -48.72mm<br>Y: 81.09mm<br>Initial Depth: 71.97mm<br>New Depth: 65.04mm",
          "Angle: 330°<br>X: -48.33mm<br>Y: 83.72mm<br>Initial Depth: 69.34mm<br>New Depth: 62.42mm",
          "Angle: 331°<br>X: -47.41mm<br>Y: 85.54mm<br>Initial Depth: 67.52mm<br>New Depth: 60.59mm",
          "Angle: 332°<br>X: -46.95mm<br>Y: 88.29mm<br>Initial Depth: 64.76mm<br>New Depth: 57.84mm",
          "Angle: 333°<br>X: -46.42mm<br>Y: 91.11mm<br>Initial Depth: 61.95mm<br>New Depth: 55.03mm",
          "Angle: 334°<br>X: -45.78mm<br>Y: 93.86mm<br>Initial Depth: 59.20mm<br>New Depth: 52.27mm",
          "Angle: 335°<br>X: -44.97mm<br>Y: 96.43mm<br>Initial Depth: 56.62mm<br>New Depth: 49.70mm",
          "Angle: 336°<br>X: -44.09mm<br>Y: 99.03mm<br>Initial Depth: 54.03mm<br>New Depth: 47.10mm",
          "Angle: 337°<br>X: -43.09mm<br>Y: 101.52mm<br>Initial Depth: 51.54mm<br>New Depth: 44.61mm",
          "Angle: 338°<br>X: -42.05mm<br>Y: 104.08mm<br>Initial Depth: 48.98mm<br>New Depth: 42.06mm",
          "Angle: 339°<br>X: -41.00mm<br>Y: 106.80mm<br>Initial Depth: 46.25mm<br>New Depth: 39.33mm",
          "Angle: 340°<br>X: -39.97mm<br>Y: 109.83mm<br>Initial Depth: 43.23mm<br>New Depth: 36.31mm",
          "Angle: 341°<br>X: -38.94mm<br>Y: 113.08mm<br>Initial Depth: 39.97mm<br>New Depth: 33.05mm",
          "Angle: 342°<br>X: -38.07mm<br>Y: 117.17mm<br>Initial Depth: 35.88mm<br>New Depth: 28.96mm",
          "Angle: 343°<br>X: -37.25mm<br>Y: 121.83mm<br>Initial Depth: 31.22mm<br>New Depth: 24.30mm",
          "Angle: 344°<br>X: -36.11mm<br>Y: 125.93mm<br>Initial Depth: 27.13mm<br>New Depth: 20.21mm",
          "Angle: 345°<br>X: -35.25mm<br>Y: 131.54mm<br>Initial Depth: 21.51mm<br>New Depth: 14.59mm",
          "Angle: 346°<br>X: -34.32mm<br>Y: 137.64mm<br>Initial Depth: 15.41mm<br>New Depth: 8.49mm",
          "Angle: 347°<br>X: -32.79mm<br>Y: 142.04mm<br>Initial Depth: 11.01mm<br>New Depth: 4.09mm",
          "Angle: 348°<br>X: -31.25mm<br>Y: 147.00mm<br>Initial Depth: 6.05mm<br>New Depth: -0.87mm",
          "Angle: 349°<br>X: -29.19mm<br>Y: 150.19mm<br>Initial Depth: 2.87mm<br>New Depth: -4.06mm",
          "Angle: 350°<br>X: -26.78mm<br>Y: 151.88mm<br>Initial Depth: 1.18mm<br>New Depth: -5.75mm",
          "Angle: 351°<br>X: -24.04mm<br>Y: 151.77mm<br>Initial Depth: 1.28mm<br>New Depth: -5.64mm",
          "Angle: 352°<br>X: -21.41mm<br>Y: 152.36mm<br>Initial Depth: 0.70mm<br>New Depth: -6.23mm",
          "Angle: 353°<br>X: -18.68mm<br>Y: 152.11mm<br>Initial Depth: 0.95mm<br>New Depth: -5.97mm",
          "Angle: 354°<br>X: -16.05mm<br>Y: 152.66mm<br>Initial Depth: 0.40mm<br>New Depth: -6.53mm",
          "Angle: 355°<br>X: -13.35mm<br>Y: 152.62mm<br>Initial Depth: 0.44mm<br>New Depth: -6.48mm",
          "Angle: 356°<br>X: -10.70mm<br>Y: 153.05mm<br>Initial Depth: 0.00mm<br>New Depth: -6.92mm",
          "Angle: 357°<br>X: -8.01mm<br>Y: 152.79mm<br>Initial Depth: 0.26mm<br>New Depth: -6.66mm",
          "Angle: 358°<br>X: -5.30mm<br>Y: 151.91mm<br>Initial Depth: 1.15mm<br>New Depth: -5.77mm",
          "Angle: 359°<br>X: -2.62mm<br>Y: 149.98mm<br>Initial Depth: 3.08mm<br>New Depth: -3.84mm"
         ],
         "type": "scatter",
         "x": [
          5.106959498001992,
          7.658494651092347,
          10.25420164038642,
          12.997100137244525,
          15.80030278870871,
          18.564762662080966,
          21.35437267856004,
          23.945646639255287,
          26.55080532338458,
          29.079289750531455,
          31.62567911182464,
          34.224695193233664,
          36.92100372071689,
          39.45141796901892,
          41.771588777921394,
          44.14812741313325,
          46.661566150617055,
          48.93289459161512,
          50.732986102533424,
          51.42580075975059,
          51.820576757965995,
          52.184313502623525,
          52.59417697469615,
          53.40838282748089,
          54.1587632272995,
          53.92010389734317,
          53.989229720377445,
          53.541162435954845,
          53.43749999999999,
          53.666965860513415,
          53.309876922021886,
          53.0115341938334,
          57.317272605751555,
          55.3819922939503,
          55.38243194204216,
          60.858544216250884,
          64.15192388194916,
          52.86291284818634,
          54.10128876785009,
          55.202683028084195,
          56.87610154050295,
          58.424524360025075,
          60.574207820049445,
          62.52844432605643,
          64.7405820304786,
          66.67507718067117,
          68.90014263187604,
          71.02656009594702,
          73.23384723008542,
          76.23801726463692,
          78.66974233643309,
          81.31561731092911,
          84.380474940358,
          87.03490470570537,
          89.3978871179522,
          91.90431864047423,
          94.37563703906044,
          97.71707228004081,
          101.32497224277931,
          104.80859723785682,
          108.84335845275324,
          113.08357565222295,
          117.98713917749758,
          122.15014337674238,
          126.7017270698231,
          128.2953639499339,
          129.40837274606312,
          131.07468627872456,
          133.54076609715761,
          -752.1299680388853,
          -747.33113141101,
          -136.9141541360095,
          -135.46763584244337,
          -134.8393150293207,
          -132.01883914531354,
          -130.14538060050154,
          -127.8594362210308,
          -124.7899217483412,
          -120.17274251323471,
          -114.74836600143811,
          -110.06027626714742,
          -106.00601201955325,
          -102.31780928934177,
          -98.65547113404995,
          -95.02163713752304,
          -91.41892036436907,
          -87.84990610520224,
          -85.10516138952596,
          -81.60032595298193,
          -79.66862208437372,
          -77.35773197283416,
          -75.05762737321685,
          -72.40401646029787,
          -70.13563053301849,
          -67.88225099390857,
          -65.64521600837527,
          -62.74384912574984,
          -60.22175457229723,
          -58.06122406565991,
          -56.35104540175301,
          -55.12846499732501,
          -74.49503851440464,
          -66.1996525467253,
          -59.601425758027304,
          -68.97256647121334,
          -67.10314841648959,
          -49.671078359453354,
          -49.28249157368806,
          -48.722600856415006,
          -48.33333200000004,
          -47.41438231452061,
          -46.947156278589084,
          -46.420528598368676,
          -45.778473741928075,
          -44.96658389444692,
          -44.09025292289002,
          -43.092061096734184,
          -42.04959011093616,
          -40.99729414471831,
          -39.97360425118752,
          -38.937950621939635,
          -38.07089277994257,
          -37.248155766420126,
          -36.10849361202686,
          -35.24644964799953,
          -34.31834990660074,
          -32.792863286348556,
          -31.24615835887612,
          -29.193776292611332,
          -26.780409021582024,
          -24.03876362883266,
          -21.4127762528587,
          -18.676476876838812,
          -16.0451191115848,
          -13.352259527474025,
          -10.702636293829636,
          -8.007401305170488,
          -5.304723498780125,
          -2.6178609655925342
         ],
         "y": [
          146.2441856903766,
          146.13278325972846,
          146.64191538819415,
          148.55753435293155,
          150.3298392188441,
          151.19785847311525,
          151.9442567975347,
          151.18686273847143,
          150.57709952672008,
          149.59997686766087,
          148.78712218219403,
          148.24344153422052,
          148.08205777005728,
          147.2346962910144,
          145.67484204630588,
          144.40201815041834,
          143.60953396056817,
          142.11144474913306,
          139.38773373821576,
          133.96879120234846,
          128.2604282700917,
          122.93853842404404,
          118.12845557839394,
          114.53464658675664,
          111.0419203001157,
          105.82416236685492,
          101.5389731787766,
          96.59081390720702,
          92.55646502946189,
          89.3168301616582,
          85.31363677724026,
          81.6306041831428,
          84.97635118689178,
          79.09368190401227,
          76.22737803675206,
          80.76201595353248,
          82.11071816178816,
          65.28026076238555,
          64.47540525306214,
          63.503422549343476,
          63.16731016557851,
          62.65263182176573,
          62.72642843151098,
          62.52844432605643,
          62.51925334130975,
          62.17551534036882,
          62.03796707843921,
          61.74244672411396,
          61.450494200457946,
          61.736329103348275,
          61.463538928442155,
          61.27571276125952,
          61.30600357746071,
          60.94249636229864,
          60.29963624877661,
          59.683362372767476,
          58.972443152627605,
          58.714340539746175,
          58.500000000000014,
          58.09635411901172,
          57.873040263040046,
          57.61895971463615,
          57.54617280852146,
          56.95954730130605,
          56.411243369618305,
          54.45815103319252,
          52.284376432061045,
          50.31485796595247,
          48.604863920470606,
          273.7529206657446,
          286.87354361101296,
          55.31690895898483,
          57.50259982657077,
          60.03433095840791,
          61.56139571419264,
          63.47614337017185,
          65.14763671262494,
          66.35197836989084,
          66.61283891298902,
          66.25000000000001,
          66.1308857282225,
          66.23990802915058,
          66.44596227183325,
          66.5439555130189,
          66.53486661672135,
          66.41973350904944,
          66.19965254672528,
          66.49143933517112,
          66.07864106023294,
          66.84991140740009,
          67.24605047152697,
          67.58219124224463,
          67.51783764618736,
          67.72919111975223,
          67.88225099390854,
          67.97761113200251,
          67.2845405489637,
          66.88303429296548,
          66.79179784971531,
          67.15656080397854,
          68.0779846693387,
          95.34930118641337,
          87.84990610520221,
          82.03432484765365,
          98.50303332575123,
          99.48450870660503,
          76.48675328061097,
          78.8684729425476,
          81.0880249320852,
          83.71578672309462,
          85.53780998209204,
          88.2947592858927,
          91.1054170982606,
          93.85978057471196,
          96.43115035331515,
          99.02832943554886,
          101.51853408296289,
          104.07638767512188,
          106.80160265844071,
          109.82657505435304,
          113.08401975064115,
          117.17015995439337,
          121.83322782230022,
          125.92528216791978,
          131.54154087275248,
          137.6433834758058,
          142.04149617351717,
          147.0016174207001,
          150.1889590674926,
          151.87924680602418,
          151.77478027245732,
          152.35981982177788,
          152.1076977390326,
          152.65911093902994,
          152.6170247590713,
          153.05482970502916,
          152.7903188174498,
          151.90740570690255,
          149.9771542734587
         ]
        },
        {
         "hoverinfo": "text",
         "marker": {
          "color": "blue",
          "size": 7
         },
         "mode": "markers",
         "name": "Flat Surface (Side 1)",
         "text": [
          "Side 1 Flat Surface<br>Angle: 295.00°<br>X: -132.02mm<br>Y: 61.56mm",
          "Side 1 Flat Surface<br>Angle: 296.00°<br>X: -130.15mm<br>Y: 63.48mm",
          "Side 1 Flat Surface<br>Angle: 297.00°<br>X: -127.86mm<br>Y: 65.15mm",
          "Side 1 Flat Surface<br>Angle: 298.00°<br>X: -124.79mm<br>Y: 66.35mm",
          "Side 1 Flat Surface<br>Angle: 299.00°<br>X: -120.17mm<br>Y: 66.61mm",
          "Side 1 Flat Surface<br>Angle: 300.00°<br>X: -114.75mm<br>Y: 66.25mm",
          "Side 1 Flat Surface<br>Angle: 301.00°<br>X: -110.06mm<br>Y: 66.13mm",
          "Side 1 Flat Surface<br>Angle: 302.00°<br>X: -106.01mm<br>Y: 66.24mm",
          "Side 1 Flat Surface<br>Angle: 303.00°<br>X: -102.32mm<br>Y: 66.45mm",
          "Side 1 Flat Surface<br>Angle: 304.00°<br>X: -98.66mm<br>Y: 66.54mm",
          "Side 1 Flat Surface<br>Angle: 305.00°<br>X: -95.02mm<br>Y: 66.53mm",
          "Side 1 Flat Surface<br>Angle: 306.00°<br>X: -91.42mm<br>Y: 66.42mm",
          "Side 1 Flat Surface<br>Angle: 307.00°<br>X: -87.85mm<br>Y: 66.20mm",
          "Side 1 Flat Surface<br>Angle: 308.00°<br>X: -85.11mm<br>Y: 66.49mm",
          "Side 1 Flat Surface<br>Angle: 309.00°<br>X: -81.60mm<br>Y: 66.08mm",
          "Side 1 Flat Surface<br>Angle: 310.00°<br>X: -79.67mm<br>Y: 66.85mm",
          "Side 1 Flat Surface<br>Angle: 311.00°<br>X: -77.36mm<br>Y: 67.25mm",
          "Side 1 Flat Surface<br>Angle: 312.00°<br>X: -75.06mm<br>Y: 67.58mm",
          "Side 1 Flat Surface<br>Angle: 313.00°<br>X: -72.40mm<br>Y: 67.52mm",
          "Side 1 Flat Surface<br>Angle: 314.00°<br>X: -70.14mm<br>Y: 67.73mm",
          "Side 1 Flat Surface<br>Angle: 315.00°<br>X: -67.88mm<br>Y: 67.88mm",
          "Side 1 Flat Surface<br>Angle: 316.00°<br>X: -65.65mm<br>Y: 67.98mm",
          "Side 1 Flat Surface<br>Angle: 317.00°<br>X: -62.74mm<br>Y: 67.28mm",
          "Side 1 Flat Surface<br>Angle: 318.00°<br>X: -60.22mm<br>Y: 66.88mm",
          "Side 1 Flat Surface<br>Angle: 319.00°<br>X: -58.06mm<br>Y: 66.79mm",
          "Side 1 Flat Surface<br>Angle: 320.00°<br>X: -56.35mm<br>Y: 67.16mm",
          "Side 1 Flat Surface<br>Angle: 321.00°<br>X: -55.13mm<br>Y: 68.08mm"
         ],
         "type": "scatter",
         "x": [
          -132.01883914531354,
          -130.14538060050154,
          -127.8594362210308,
          -124.7899217483412,
          -120.17274251323471,
          -114.74836600143811,
          -110.06027626714742,
          -106.00601201955325,
          -102.31780928934177,
          -98.65547113404995,
          -95.02163713752304,
          -91.41892036436907,
          -87.84990610520224,
          -85.10516138952596,
          -81.60032595298193,
          -79.66862208437372,
          -77.35773197283416,
          -75.05762737321685,
          -72.40401646029787,
          -70.13563053301849,
          -67.88225099390857,
          -65.64521600837527,
          -62.74384912574984,
          -60.22175457229723,
          -58.06122406565991,
          -56.35104540175301,
          -55.12846499732501
         ],
         "y": [
          61.56139571419264,
          63.47614337017185,
          65.14763671262494,
          66.35197836989084,
          66.61283891298902,
          66.25000000000001,
          66.1308857282225,
          66.23990802915058,
          66.44596227183325,
          66.5439555130189,
          66.53486661672135,
          66.41973350904944,
          66.19965254672528,
          66.49143933517112,
          66.07864106023294,
          66.84991140740009,
          67.24605047152697,
          67.58219124224463,
          67.51783764618736,
          67.72919111975223,
          67.88225099390854,
          67.97761113200251,
          67.2845405489637,
          66.88303429296548,
          66.79179784971531,
          67.15656080397854,
          68.0779846693387
         ]
        },
        {
         "hoverinfo": "text",
         "marker": {
          "color": "orange",
          "size": 7
         },
         "mode": "markers",
         "name": "Flat Surface (Side 2)",
         "text": [
          "Side 2 Flat Surface<br>Angle: 39.00°<br>X: 52.86mm<br>Y: 65.28mm",
          "Side 2 Flat Surface<br>Angle: 40.00°<br>X: 54.10mm<br>Y: 64.48mm",
          "Side 2 Flat Surface<br>Angle: 41.00°<br>X: 55.20mm<br>Y: 63.50mm",
          "Side 2 Flat Surface<br>Angle: 42.00°<br>X: 56.88mm<br>Y: 63.17mm",
          "Side 2 Flat Surface<br>Angle: 43.00°<br>X: 58.42mm<br>Y: 62.65mm",
          "Side 2 Flat Surface<br>Angle: 44.00°<br>X: 60.57mm<br>Y: 62.73mm",
          "Side 2 Flat Surface<br>Angle: 45.00°<br>X: 62.53mm<br>Y: 62.53mm",
          "Side 2 Flat Surface<br>Angle: 46.00°<br>X: 64.74mm<br>Y: 62.52mm",
          "Side 2 Flat Surface<br>Angle: 47.00°<br>X: 66.68mm<br>Y: 62.18mm",
          "Side 2 Flat Surface<br>Angle: 48.00°<br>X: 68.90mm<br>Y: 62.04mm",
          "Side 2 Flat Surface<br>Angle: 49.00°<br>X: 71.03mm<br>Y: 61.74mm",
          "Side 2 Flat Surface<br>Angle: 50.00°<br>X: 73.23mm<br>Y: 61.45mm",
          "Side 2 Flat Surface<br>Angle: 51.00°<br>X: 76.24mm<br>Y: 61.74mm",
          "Side 2 Flat Surface<br>Angle: 52.00°<br>X: 78.67mm<br>Y: 61.46mm",
          "Side 2 Flat Surface<br>Angle: 53.00°<br>X: 81.32mm<br>Y: 61.28mm",
          "Side 2 Flat Surface<br>Angle: 54.00°<br>X: 84.38mm<br>Y: 61.31mm",
          "Side 2 Flat Surface<br>Angle: 55.00°<br>X: 87.03mm<br>Y: 60.94mm",
          "Side 2 Flat Surface<br>Angle: 56.00°<br>X: 89.40mm<br>Y: 60.30mm",
          "Side 2 Flat Surface<br>Angle: 57.00°<br>X: 91.90mm<br>Y: 59.68mm",
          "Side 2 Flat Surface<br>Angle: 58.00°<br>X: 94.38mm<br>Y: 58.97mm"
         ],
         "type": "scatter",
         "x": [
          52.86291284818634,
          54.10128876785009,
          55.202683028084195,
          56.87610154050295,
          58.424524360025075,
          60.574207820049445,
          62.52844432605643,
          64.7405820304786,
          66.67507718067117,
          68.90014263187604,
          71.02656009594702,
          73.23384723008542,
          76.23801726463692,
          78.66974233643309,
          81.31561731092911,
          84.380474940358,
          87.03490470570537,
          89.3978871179522,
          91.90431864047423,
          94.37563703906044
         ],
         "y": [
          65.28026076238555,
          64.47540525306214,
          63.503422549343476,
          63.16731016557851,
          62.65263182176573,
          62.72642843151098,
          62.52844432605643,
          62.51925334130975,
          62.17551534036882,
          62.03796707843921,
          61.74244672411396,
          61.450494200457946,
          61.736329103348275,
          61.463538928442155,
          61.27571276125952,
          61.30600357746071,
          60.94249636229864,
          60.29963624877661,
          59.683362372767476,
          58.972443152627605
         ]
        },
        {
         "hoverinfo": "text",
         "marker": {
          "color": "red",
          "size": 5
         },
         "mode": "markers",
         "name": "Bump Points",
         "text": [
          "Angle: 3°<br>X: 7.66mm<br>Y: 146.13mm<br>Depth: 6.92mm<br>New Depth: 0.00mm",
          "Angle: 2°<br>X: 5.11mm<br>Y: 146.24mm<br>Depth: 6.81mm<br>New Depth: -0.11mm",
          "Angle: 4°<br>X: 10.25mm<br>Y: 146.64mm<br>Depth: 6.41mm<br>New Depth: -0.51mm"
         ],
         "type": "scatter",
         "x": [
          7.658494651092347,
          5.106959498001992,
          10.25420164038642
         ],
         "y": [
          146.13278325972846,
          146.2441856903766,
          146.64191538819415
         ]
        }
       ],
       "layout": {
        "annotations": [
         {
          "font": {
           "color": "blue",
           "size": 12
          },
          "showarrow": false,
          "text": "New - Trench-Bottom",
          "x": -752.1299680388853,
          "y": 146.13278325972846,
          "yshift": 10
         },
         {
          "font": {
           "color": "green",
           "size": 12
          },
          "showarrow": false,
          "text": "Earth Surface",
          "x": -752.1299680388853,
          "y": 66.49866666177698,
          "yshift": 10
         },
         {
          "font": {
           "color": "purple",
           "size": 12
          },
          "showarrow": false,
          "text": "Initial - Trench-Bottom",
          "x": -752.1299680388853,
          "y": 153.05482970502916,
          "yshift": 10
         },
         {
          "font": {
           "color": "red",
           "size": 14
          },
          "showarrow": false,
          "text": "No Pipe Detected",
          "x": 0.5,
          "xref": "paper",
          "y": 1,
          "yref": "paper"
         }
        ],
        "autosize": true,
        "coloraxis": {
         "colorbar": {
          "len": 0.7,
          "x": 1.2,
          "y": 0.5
         }
        },
        "legend": {
         "orientation": "v",
         "x": 1.1,
         "y": 0.5
        },
        "shapes": [
         {
          "line": {
           "color": "blue",
           "dash": "dash",
           "width": 2
          },
          "name": "Lowest Point Level",
          "type": "line",
          "x0": -752.1299680388853,
          "x1": 133.54076609715761,
          "y0": 146.13278325972846,
          "y1": 146.13278325972846
         },
         {
          "line": {
           "color": "green",
           "dash": "dash",
           "width": 2
          },
          "name": "Final Depth Level",
          "type": "line",
          "x0": -752.1299680388853,
          "x1": 133.54076609715761,
          "y0": 66.49866666177698,
          "y1": 66.49866666177698
         },
         {
          "line": {
           "color": "purple",
           "dash": "dash",
           "width": 2
          },
          "name": "Initial Highest Point Level",
          "type": "line",
          "x0": -752.1299680388853,
          "x1": 133.54076609715761,
          "y0": 153.05482970502916,
          "y1": 153.05482970502916
         }
        ],
        "template": {
         "data": {
          "bar": [
           {
            "error_x": {
             "color": "#2a3f5f"
            },
            "error_y": {
             "color": "#2a3f5f"
            },
            "marker": {
             "line": {
              "color": "#E5ECF6",
              "width": 0.5
             },
             "pattern": {
              "fillmode": "overlay",
              "size": 10,
              "solidity": 0.2
             }
            },
            "type": "bar"
           }
          ],
          "barpolar": [
           {
            "marker": {
             "line": {
              "color": "#E5ECF6",
              "width": 0.5
             },
             "pattern": {
              "fillmode": "overlay",
              "size": 10,
              "solidity": 0.2
             }
            },
            "type": "barpolar"
           }
          ],
          "carpet": [
           {
            "aaxis": {
             "endlinecolor": "#2a3f5f",
             "gridcolor": "white",
             "linecolor": "white",
             "minorgridcolor": "white",
             "startlinecolor": "#2a3f5f"
            },
            "baxis": {
             "endlinecolor": "#2a3f5f",
             "gridcolor": "white",
             "linecolor": "white",
             "minorgridcolor": "white",
             "startlinecolor": "#2a3f5f"
            },
            "type": "carpet"
           }
          ],
          "choropleth": [
           {
            "colorbar": {
             "outlinewidth": 0,
             "ticks": ""
            },
            "type": "choropleth"
           }
          ],
          "contour": [
           {
            "colorbar": {
             "outlinewidth": 0,
             "ticks": ""
            },
            "colorscale": [
             [
              0,
              "#0d0887"
             ],
             [
              0.1111111111111111,
              "#46039f"
             ],
             [
              0.2222222222222222,
              "#7201a8"
             ],
             [
              0.3333333333333333,
              "#9c179e"
             ],
             [
              0.4444444444444444,
              "#bd3786"
             ],
             [
              0.5555555555555556,
              "#d8576b"
             ],
             [
              0.6666666666666666,
              "#ed7953"
             ],
             [
              0.7777777777777778,
              "#fb9f3a"
             ],
             [
              0.8888888888888888,
              "#fdca26"
             ],
             [
              1,
              "#f0f921"
             ]
            ],
            "type": "contour"
           }
          ],
          "contourcarpet": [
           {
            "colorbar": {
             "outlinewidth": 0,
             "ticks": ""
            },
            "type": "contourcarpet"
           }
          ],
          "heatmap": [
           {
            "colorbar": {
             "outlinewidth": 0,
             "ticks": ""
            },
            "colorscale": [
             [
              0,
              "#0d0887"
             ],
             [
              0.1111111111111111,
              "#46039f"
             ],
             [
              0.2222222222222222,
              "#7201a8"
             ],
             [
              0.3333333333333333,
              "#9c179e"
             ],
             [
              0.4444444444444444,
              "#bd3786"
             ],
             [
              0.5555555555555556,
              "#d8576b"
             ],
             [
              0.6666666666666666,
              "#ed7953"
             ],
             [
              0.7777777777777778,
              "#fb9f3a"
             ],
             [
              0.8888888888888888,
              "#fdca26"
             ],
             [
              1,
              "#f0f921"
             ]
            ],
            "type": "heatmap"
           }
          ],
          "heatmapgl": [
           {
            "colorbar": {
             "outlinewidth": 0,
             "ticks": ""
            },
            "colorscale": [
             [
              0,
              "#0d0887"
             ],
             [
              0.1111111111111111,
              "#46039f"
             ],
             [
              0.2222222222222222,
              "#7201a8"
             ],
             [
              0.3333333333333333,
              "#9c179e"
             ],
             [
              0.4444444444444444,
              "#bd3786"
             ],
             [
              0.5555555555555556,
              "#d8576b"
             ],
             [
              0.6666666666666666,
              "#ed7953"
             ],
             [
              0.7777777777777778,
              "#fb9f3a"
             ],
             [
              0.8888888888888888,
              "#fdca26"
             ],
             [
              1,
              "#f0f921"
             ]
            ],
            "type": "heatmapgl"
           }
          ],
          "histogram": [
           {
            "marker": {
             "pattern": {
              "fillmode": "overlay",
              "size": 10,
              "solidity": 0.2
             }
            },
            "type": "histogram"
           }
          ],
          "histogram2d": [
           {
            "colorbar": {
             "outlinewidth": 0,
             "ticks": ""
            },
            "colorscale": [
             [
              0,
              "#0d0887"
             ],
             [
              0.1111111111111111,
              "#46039f"
             ],
             [
              0.2222222222222222,
              "#7201a8"
             ],
             [
              0.3333333333333333,
              "#9c179e"
             ],
             [
              0.4444444444444444,
              "#bd3786"
             ],
             [
              0.5555555555555556,
              "#d8576b"
             ],
             [
              0.6666666666666666,
              "#ed7953"
             ],
             [
              0.7777777777777778,
              "#fb9f3a"
             ],
             [
              0.8888888888888888,
              "#fdca26"
             ],
             [
              1,
              "#f0f921"
             ]
            ],
            "type": "histogram2d"
           }
          ],
          "histogram2dcontour": [
           {
            "colorbar": {
             "outlinewidth": 0,
             "ticks": ""
            },
            "colorscale": [
             [
              0,
              "#0d0887"
             ],
             [
              0.1111111111111111,
              "#46039f"
             ],
             [
              0.2222222222222222,
              "#7201a8"
             ],
             [
              0.3333333333333333,
              "#9c179e"
             ],
             [
              0.4444444444444444,
              "#bd3786"
             ],
             [
              0.5555555555555556,
              "#d8576b"
             ],
             [
              0.6666666666666666,
              "#ed7953"
             ],
             [
              0.7777777777777778,
              "#fb9f3a"
             ],
             [
              0.8888888888888888,
              "#fdca26"
             ],
             [
              1,
              "#f0f921"
             ]
            ],
            "type": "histogram2dcontour"
           }
          ],
          "mesh3d": [
           {
            "colorbar": {
             "outlinewidth": 0,
             "ticks": ""
            },
            "type": "mesh3d"
           }
          ],
          "parcoords": [
           {
            "line": {
             "colorbar": {
              "outlinewidth": 0,
              "ticks": ""
             }
            },
            "type": "parcoords"
           }
          ],
          "pie": [
           {
            "automargin": true,
            "type": "pie"
           }
          ],
          "scatter": [
           {
            "fillpattern": {
             "fillmode": "overlay",
             "size": 10,
             "solidity": 0.2
            },
            "type": "scatter"
           }
          ],
          "scatter3d": [
           {
            "line": {
             "colorbar": {
              "outlinewidth": 0,
              "ticks": ""
             }
            },
            "marker": {
             "colorbar": {
              "outlinewidth": 0,
              "ticks": ""
             }
            },
            "type": "scatter3d"
           }
          ],
          "scattercarpet": [
           {
            "marker": {
             "colorbar": {
              "outlinewidth": 0,
              "ticks": ""
             }
            },
            "type": "scattercarpet"
           }
          ],
          "scattergeo": [
           {
            "marker": {
             "colorbar": {
              "outlinewidth": 0,
              "ticks": ""
             }
            },
            "type": "scattergeo"
           }
          ],
          "scattergl": [
           {
            "marker": {
             "colorbar": {
              "outlinewidth": 0,
              "ticks": ""
             }
            },
            "type": "scattergl"
           }
          ],
          "scattermapbox": [
           {
            "marker": {
             "colorbar": {
              "outlinewidth": 0,
              "ticks": ""
             }
            },
            "type": "scattermapbox"
           }
          ],
          "scatterpolar": [
           {
            "marker": {
             "colorbar": {
              "outlinewidth": 0,
              "ticks": ""
             }
            },
            "type": "scatterpolar"
           }
          ],
          "scatterpolargl": [
           {
            "marker": {
             "colorbar": {
              "outlinewidth": 0,
              "ticks": ""
             }
            },
            "type": "scatterpolargl"
           }
          ],
          "scatterternary": [
           {
            "marker": {
             "colorbar": {
              "outlinewidth": 0,
              "ticks": ""
             }
            },
            "type": "scatterternary"
           }
          ],
          "surface": [
           {
            "colorbar": {
             "outlinewidth": 0,
             "ticks": ""
            },
            "colorscale": [
             [
              0,
              "#0d0887"
             ],
             [
              0.1111111111111111,
              "#46039f"
             ],
             [
              0.2222222222222222,
              "#7201a8"
             ],
             [
              0.3333333333333333,
              "#9c179e"
             ],
             [
              0.4444444444444444,
              "#bd3786"
             ],
             [
              0.5555555555555556,
              "#d8576b"
             ],
             [
              0.6666666666666666,
              "#ed7953"
             ],
             [
              0.7777777777777778,
              "#fb9f3a"
             ],
             [
              0.8888888888888888,
              "#fdca26"
             ],
             [
              1,
              "#f0f921"
             ]
            ],
            "type": "surface"
           }
          ],
          "table": [
           {
            "cells": {
             "fill": {
              "color": "#EBF0F8"
             },
             "line": {
              "color": "white"
             }
            },
            "header": {
             "fill": {
              "color": "#C8D4E3"
             },
             "line": {
              "color": "white"
             }
            },
            "type": "table"
           }
          ]
         },
         "layout": {
          "annotationdefaults": {
           "arrowcolor": "#2a3f5f",
           "arrowhead": 0,
           "arrowwidth": 1
          },
          "autotypenumbers": "strict",
          "coloraxis": {
           "colorbar": {
            "outlinewidth": 0,
            "ticks": ""
           }
          },
          "colorscale": {
           "diverging": [
            [
             0,
             "#8e0152"
            ],
            [
             0.1,
             "#c51b7d"
            ],
            [
             0.2,
             "#de77ae"
            ],
            [
             0.3,
             "#f1b6da"
            ],
            [
             0.4,
             "#fde0ef"
            ],
            [
             0.5,
             "#f7f7f7"
            ],
            [
             0.6,
             "#e6f5d0"
            ],
            [
             0.7,
             "#b8e186"
            ],
            [
             0.8,
             "#7fbc41"
            ],
            [
             0.9,
             "#4d9221"
            ],
            [
             1,
             "#276419"
            ]
           ],
           "sequential": [
            [
             0,
             "#0d0887"
            ],
            [
             0.1111111111111111,
             "#46039f"
            ],
            [
             0.2222222222222222,
             "#7201a8"
            ],
            [
             0.3333333333333333,
             "#9c179e"
            ],
            [
             0.4444444444444444,
             "#bd3786"
            ],
            [
             0.5555555555555556,
             "#d8576b"
            ],
            [
             0.6666666666666666,
             "#ed7953"
            ],
            [
             0.7777777777777778,
             "#fb9f3a"
            ],
            [
             0.8888888888888888,
             "#fdca26"
            ],
            [
             1,
             "#f0f921"
            ]
           ],
           "sequentialminus": [
            [
             0,
             "#0d0887"
            ],
            [
             0.1111111111111111,
             "#46039f"
            ],
            [
             0.2222222222222222,
             "#7201a8"
            ],
            [
             0.3333333333333333,
             "#9c179e"
            ],
            [
             0.4444444444444444,
             "#bd3786"
            ],
            [
             0.5555555555555556,
             "#d8576b"
            ],
            [
             0.6666666666666666,
             "#ed7953"
            ],
            [
             0.7777777777777778,
             "#fb9f3a"
            ],
            [
             0.8888888888888888,
             "#fdca26"
            ],
            [
             1,
             "#f0f921"
            ]
           ]
          },
          "colorway": [
           "#636efa",
           "#EF553B",
           "#00cc96",
           "#ab63fa",
           "#FFA15A",
           "#19d3f3",
           "#FF6692",
           "#B6E880",
           "#FF97FF",
           "#FECB52"
          ],
          "font": {
           "color": "#2a3f5f"
          },
          "geo": {
           "bgcolor": "white",
           "lakecolor": "white",
           "landcolor": "#E5ECF6",
           "showlakes": true,
           "showland": true,
           "subunitcolor": "white"
          },
          "hoverlabel": {
           "align": "left"
          },
          "hovermode": "closest",
          "mapbox": {
           "style": "light"
          },
          "paper_bgcolor": "white",
          "plot_bgcolor": "#E5ECF6",
          "polar": {
           "angularaxis": {
            "gridcolor": "white",
            "linecolor": "white",
            "ticks": ""
           },
           "bgcolor": "#E5ECF6",
           "radialaxis": {
            "gridcolor": "white",
            "linecolor": "white",
            "ticks": ""
           }
          },
          "scene": {
           "xaxis": {
            "backgroundcolor": "#E5ECF6",
            "gridcolor": "white",
            "gridwidth": 2,
            "linecolor": "white",
            "showbackground": true,
            "ticks": "",
            "zerolinecolor": "white"
           },
           "yaxis": {
            "backgroundcolor": "#E5ECF6",
            "gridcolor": "white",
            "gridwidth": 2,
            "linecolor": "white",
            "showbackground": true,
            "ticks": "",
            "zerolinecolor": "white"
           },
           "zaxis": {
            "backgroundcolor": "#E5ECF6",
            "gridcolor": "white",
            "gridwidth": 2,
            "linecolor": "white",
            "showbackground": true,
            "ticks": "",
            "zerolinecolor": "white"
           }
          },
          "shapedefaults": {
           "line": {
            "color": "#2a3f5f"
           }
          },
          "ternary": {
           "aaxis": {
            "gridcolor": "white",
            "linecolor": "white",
            "ticks": ""
           },
           "baxis": {
            "gridcolor": "white",
            "linecolor": "white",
            "ticks": ""
           },
           "bgcolor": "#E5ECF6",
           "caxis": {
            "gridcolor": "white",
            "linecolor": "white",
            "ticks": ""
           }
          },
          "title": {
           "x": 0.05
          },
          "xaxis": {
           "automargin": true,
           "gridcolor": "white",
           "linecolor": "white",
           "ticks": "",
           "title": {
            "standoff": 15
           },
           "zerolinecolor": "white",
           "zerolinewidth": 2
          },
          "yaxis": {
           "automargin": true,
           "gridcolor": "white",
           "linecolor": "white",
           "ticks": "",
           "title": {
            "standoff": 15
           },
           "zerolinecolor": "white",
           "zerolinewidth": 2
          }
         }
        },
        "title": {
         "text": "LiDAR Data Visualization with Circle Fitting | Final Depth: 86.56 mm | New Final Depth: 79.63 mm | Tilt: 0°"
        },
        "xaxis": {
         "autorange": true,
         "domain": [
          0,
          1
         ],
         "range": [
          -1042.2107593865685,
          382.52402231464566
         ],
         "scaleanchor": "y",
         "scaleratio": 1,
         "title": {
          "text": "X Coordinate (mm)"
         },
         "type": "linear"
        },
        "yaxis": {
         "autorange": true,
         "domain": [
          0,
          1
         ],
         "range": [
          309.6636613262204,
          -28.663859394384588
         ],
         "title": {
          "text": "Y Coordinate (mm)"
         },
         "type": "linear"
        }
       }
      },
      "image/png": "[encoded data removed]",
      "text/html": [
       "<div>                            <div id=\"b1326354-4ac1-4566-b6ff-27ad116d57be\" class=\"plotly-graph-div\" style=\"height:525px; width:100%;\"></div>            <script type=\"text/javascript\">                require([\"plotly\"], function(Plotly) {                    window.PLOTLYENV=window.PLOTLYENV || {};                                    if (document.getElementById(\"b1326354-4ac1-4566-b6ff-27ad116d57be\")) {                    Plotly.newPlot(                        \"b1326354-4ac1-4566-b6ff-27ad116d57be\",                        [{\"marker\":{\"color\":\"red\",\"size\":10,\"symbol\":\"circle\"},\"mode\":\"markers\",\"name\":\"LiDAR Position\",\"x\":[0],\"y\":[0],\"type\":\"scatter\"},{\"hoverinfo\":\"text\",\"marker\":{\"color\":[-0.11140243064815536,0.0,-0.5091321284656942,-2.424751093203099,-4.197055959115659,-5.065075213386791,-5.8114735378062505,-5.0540794787429775,-4.4443162669916205,-3.4671936079324155,-2.65433892246557,-2.110658274492067,-1.94927451032882,-1.1019130312859318,0.457941213422572,1.7307651093101128,2.523249299160284,4.021338510595399,6.745049521512698,12.16399205738,17.87235498963676,23.194244835684415,28.004327681334516,31.59813667297182,35.09086295961275,40.308620892873535,44.593810080951855,49.541969352521434,53.576318230266565,56.81595309807025,60.81914648248819,64.50217907658566,61.15643207283668,67.03910135571618,69.9054052229764,65.37076730619597,64.0220650979403,80.8525224973429,81.65737800666632,82.62936071038499,82.96547309414994,83.48015143796272,83.40635482821747,83.60433893367203,83.6135299184187,83.95726791935964,84.09481618128925,84.3903365356145,84.68228905927052,84.39645415638017,84.66924433128631,84.85707049846894,84.82677968226776,85.19028689742981,85.83314701095185,86.44942088696098,87.16034010710085,87.41844271998228,87.63278325972844,88.03642914071673,88.2597429966884,88.51382354509231,88.586610451207,89.1732359584224,89.72153989011015,91.67463222653593,93.84840682766742,95.81792529377599,97.52791933925785,-127.62013740601617,-140.7407603512845,90.81587430074362,88.63018343315768,86.09845230132055,84.57138754553581,82.6566398895566,80.98514654710351,79.78080488983761,79.51994434673944,79.88278325972844,80.00189753150596,79.89287523057787,79.6868209878952,79.58882774670955,79.59791664300711,79.71304975067902,79.93313071300318,79.64134392455733,80.05414219949552,79.28287185232837,78.88673278820148,78.55059201748382,78.6149456135411,78.40359213997623,78.25053226581991,78.15517212772595,78.84824271076475,79.24974896676298,79.34098541001315,78.97622245574992,78.05479859038975,50.783482073315085,58.28287715452625,64.0984584120748,47.62974993397722,46.64827455312343,69.64602997911749,67.26431031718086,65.04475832764325,62.41699653663383,60.59497327763641,57.83802397383576,55.02736616146785,52.27300268501649,49.70163290641331,47.1044538241796,44.61424917676557,42.05639558460658,39.33118060128774,36.30620820537541,33.04876350908731,28.962623305335086,24.29955543742824,20.20750109180868,14.591242386975978,8.489399783922664,4.091287086211281,-0.8688341609716304,-4.056175807764134,-5.746463546295729,-5.641997012728865,-6.22703656204942,-5.974914479304147,-6.526327679301488,-6.484241499342858,-6.922046445300708,-6.6575355577213315,-5.774622447174096,-3.844371013730239],\"colorbar\":{\"title\":{\"text\":\"Depth (mm)\"}},\"colorscale\":[[0.0,\"#440154\"],[0.1111111111111111,\"#482878\"],[0.2222222222222222,\"#3e4989\"],[0.3333333333333333,\"#31688e\"],[0.4444444444444444,\"#26828e\"],[0.5555555555555556,\"#1f9e89\"],[0.6666666666666666,\"#35b779\"],[0.7777777777777778,\"#6ece58\"],[0.8888888888888888,\"#b5de2b\"],[1.0,\"#fde725\"]],\"size\":5},\"mode\":\"markers\",\"name\":\"LIDAR Points\",\"text\":[\"Angle: 2\\u00b0\\u003cbr\\u003eX: 5.11mm\\u003cbr\\u003eY: 146.24mm\\u003cbr\\u003eInitial Depth: 6.81mm\\u003cbr\\u003eNew Depth: -0.11mm\",\"Angle: 3\\u00b0\\u003cbr\\u003eX: 7.66mm\\u003cbr\\u003eY: 146.13mm\\u003cbr\\u003eInitial Depth: 6.92mm\\u003cbr\\u003eNew Depth: 0.00mm\",\"Angle: 4\\u00b0\\u003cbr\\u003eX: 10.25mm\\u003cbr\\u003eY: 146.64mm\\u003cbr\\u003eInitial Depth: 6.41mm\\u003cbr\\u003eNew Depth: -0.51mm\",\"Angle: 5\\u00b0\\u003cbr\\u003eX: 13.00mm\\u003cbr\\u003eY: 148.56mm\\u003cbr\\u003eInitial Depth: 4.50mm\\u003cbr\\u003eNew Depth: -2.42mm\",\"Angle: 6\\u00b0\\u003cbr\\u003eX: 15.80mm\\u003cbr\\u003eY: 150.33mm\\u003cbr\\u003eInitial Depth: 2.72mm\\u003cbr\\u003eNew Depth: -4.20mm\",\"Angle: 7\\u00b0\\u003cbr\\u003eX: 18.56mm\\u003cbr\\u003eY: 151.20mm\\u003cbr\\u003eInitial Depth: 1.86mm\\u003cbr\\u003eNew Depth: -5.07mm\",\"Angle: 8\\u00b0\\u003cbr\\u003eX: 21.35mm\\u003cbr\\u003eY: 151.94mm\\u003cbr\\u003eInitial Depth: 1.11mm\\u003cbr\\u003eNew Depth: -5.81mm\",\"Angle: 9\\u00b0\\u003cbr\\u003eX: 23.95mm\\u003cbr\\u003eY: 151.19mm\\u003cbr\\u003eInitial Depth: 1.87mm\\u003cbr\\u003eNew Depth: -5.05mm\",\"Angle: 10\\u00b0\\u003cbr\\u003eX: 26.55mm\\u003cbr\\u003eY: 150.58mm\\u003cbr\\u003eInitial Depth: 2.48mm\\u003cbr\\u003eNew Depth: -4.44mm\",\"Angle: 11\\u00b0\\u003cbr\\u003eX: 29.08mm\\u003cbr\\u003eY: 149.60mm\\u003cbr\\u003eInitial Depth: 3.45mm\\u003cbr\\u003eNew Depth: -3.47mm\",\"Angle: 12\\u00b0\\u003cbr\\u003eX: 31.63mm\\u003cbr\\u003eY: 148.79mm\\u003cbr\\u003eInitial Depth: 4.27mm\\u003cbr\\u003eNew Depth: -2.65mm\",\"Angle: 13\\u00b0\\u003cbr\\u003eX: 34.22mm\\u003cbr\\u003eY: 148.24mm\\u003cbr\\u003eInitial Depth: 4.81mm\\u003cbr\\u003eNew Depth: -2.11mm\",\"Angle: 14\\u00b0\\u003cbr\\u003eX: 36.92mm\\u003cbr\\u003eY: 148.08mm\\u003cbr\\u003eInitial Depth: 4.97mm\\u003cbr\\u003eNew Depth: -1.95mm\",\"Angle: 15\\u00b0\\u003cbr\\u003eX: 39.45mm\\u003cbr\\u003eY: 147.23mm\\u003cbr\\u003eInitial Depth: 5.82mm\\u003cbr\\u003eNew Depth: -1.10mm\",\"Angle: 16\\u00b0\\u003cbr\\u003eX: 41.77mm\\u003cbr\\u003eY: 145.67mm\\u003cbr\\u003eInitial Depth: 7.38mm\\u003cbr\\u003eNew Depth: 0.46mm\",\"Angle: 17\\u00b0\\u003cbr\\u003eX: 44.15mm\\u003cbr\\u003eY: 144.40mm\\u003cbr\\u003eInitial Depth: 8.65mm\\u003cbr\\u003eNew Depth: 1.73mm\",\"Angle: 18\\u00b0\\u003cbr\\u003eX: 46.66mm\\u003cbr\\u003eY: 143.61mm\\u003cbr\\u003eInitial Depth: 9.45mm\\u003cbr\\u003eNew Depth: 2.52mm\",\"Angle: 19\\u00b0\\u003cbr\\u003eX: 48.93mm\\u003cbr\\u003eY: 142.11mm\\u003cbr\\u003eInitial Depth: 10.94mm\\u003cbr\\u003eNew Depth: 4.02mm\",\"Angle: 20\\u00b0\\u003cbr\\u003eX: 50.73mm\\u003cbr\\u003eY: 139.39mm\\u003cbr\\u003eInitial Depth: 13.67mm\\u003cbr\\u003eNew Depth: 6.75mm\",\"Angle: 21\\u00b0\\u003cbr\\u003eX: 51.43mm\\u003cbr\\u003eY: 133.97mm\\u003cbr\\u003eInitial Depth: 19.09mm\\u003cbr\\u003eNew Depth: 12.16mm\",\"Angle: 22\\u00b0\\u003cbr\\u003eX: 51.82mm\\u003cbr\\u003eY: 128.26mm\\u003cbr\\u003eInitial Depth: 24.79mm\\u003cbr\\u003eNew Depth: 17.87mm\",\"Angle: 23\\u00b0\\u003cbr\\u003eX: 52.18mm\\u003cbr\\u003eY: 122.94mm\\u003cbr\\u003eInitial Depth: 30.12mm\\u003cbr\\u003eNew Depth: 23.19mm\",\"Angle: 24\\u00b0\\u003cbr\\u003eX: 52.59mm\\u003cbr\\u003eY: 118.13mm\\u003cbr\\u003eInitial Depth: 34.93mm\\u003cbr\\u003eNew Depth: 28.00mm\",\"Angle: 25\\u00b0\\u003cbr\\u003eX: 53.41mm\\u003cbr\\u003eY: 114.53mm\\u003cbr\\u003eInitial Depth: 38.52mm\\u003cbr\\u003eNew Depth: 31.60mm\",\"Angle: 26\\u00b0\\u003cbr\\u003eX: 54.16mm\\u003cbr\\u003eY: 111.04mm\\u003cbr\\u003eInitial Depth: 42.01mm\\u003cbr\\u003eNew Depth: 35.09mm\",\"Angle: 27\\u00b0\\u003cbr\\u003eX: 53.92mm\\u003cbr\\u003eY: 105.82mm\\u003cbr\\u003eInitial Depth: 47.23mm\\u003cbr\\u003eNew Depth: 40.31mm\",\"Angle: 28\\u00b0\\u003cbr\\u003eX: 53.99mm\\u003cbr\\u003eY: 101.54mm\\u003cbr\\u003eInitial Depth: 51.52mm\\u003cbr\\u003eNew Depth: 44.59mm\",\"Angle: 29\\u00b0\\u003cbr\\u003eX: 53.54mm\\u003cbr\\u003eY: 96.59mm\\u003cbr\\u003eInitial Depth: 56.46mm\\u003cbr\\u003eNew Depth: 49.54mm\",\"Angle: 30\\u00b0\\u003cbr\\u003eX: 53.44mm\\u003cbr\\u003eY: 92.56mm\\u003cbr\\u003eInitial Depth: 60.50mm\\u003cbr\\u003eNew Depth: 53.58mm\",\"Angle: 31\\u00b0\\u003cbr\\u003eX: 53.67mm\\u003cbr\\u003eY: 89.32mm\\u003cbr\\u003eInitial Depth: 63.74mm\\u003cbr\\u003eNew Depth: 56.82mm\",\"Angle: 32\\u00b0\\u003cbr\\u003eX: 53.31mm\\u003cbr\\u003eY: 85.31mm\\u003cbr\\u003eInitial Depth: 67.74mm\\u003cbr\\u003eNew Depth: 60.82mm\",\"Angle: 33\\u00b0\\u003cbr\\u003eX: 53.01mm\\u003cbr\\u003eY: 81.63mm\\u003cbr\\u003eInitial Depth: 71.42mm\\u003cbr\\u003eNew Depth: 64.50mm\",\"Angle: 34\\u00b0\\u003cbr\\u003eX: 57.32mm\\u003cbr\\u003eY: 84.98mm\\u003cbr\\u003eInitial Depth: 68.08mm\\u003cbr\\u003eNew Depth: 61.16mm\",\"Angle: 35\\u00b0\\u003cbr\\u003eX: 55.38mm\\u003cbr\\u003eY: 79.09mm\\u003cbr\\u003eInitial Depth: 73.96mm\\u003cbr\\u003eNew Depth: 67.04mm\",\"Angle: 36\\u00b0\\u003cbr\\u003eX: 55.38mm\\u003cbr\\u003eY: 76.23mm\\u003cbr\\u003eInitial Depth: 76.83mm\\u003cbr\\u003eNew Depth: 69.91mm\",\"Angle: 37\\u00b0\\u003cbr\\u003eX: 60.86mm\\u003cbr\\u003eY: 80.76mm\\u003cbr\\u003eInitial Depth: 72.29mm\\u003cbr\\u003eNew Depth: 65.37mm\",\"Angle: 38\\u00b0\\u003cbr\\u003eX: 64.15mm\\u003cbr\\u003eY: 82.11mm\\u003cbr\\u003eInitial Depth: 70.94mm\\u003cbr\\u003eNew Depth: 64.02mm\",\"Angle: 39\\u00b0\\u003cbr\\u003eX: 52.86mm\\u003cbr\\u003eY: 65.28mm\\u003cbr\\u003eInitial Depth: 87.77mm\\u003cbr\\u003eNew Depth: 80.85mm\",\"Angle: 40\\u00b0\\u003cbr\\u003eX: 54.10mm\\u003cbr\\u003eY: 64.48mm\\u003cbr\\u003eInitial Depth: 88.58mm\\u003cbr\\u003eNew Depth: 81.66mm\",\"Angle: 41\\u00b0\\u003cbr\\u003eX: 55.20mm\\u003cbr\\u003eY: 63.50mm\\u003cbr\\u003eInitial Depth: 89.55mm\\u003cbr\\u003eNew Depth: 82.63mm\",\"Angle: 42\\u00b0\\u003cbr\\u003eX: 56.88mm\\u003cbr\\u003eY: 63.17mm\\u003cbr\\u003eInitial Depth: 89.89mm\\u003cbr\\u003eNew Depth: 82.97mm\",\"Angle: 43\\u00b0\\u003cbr\\u003eX: 58.42mm\\u003cbr\\u003eY: 62.65mm\\u003cbr\\u003eInitial Depth: 90.40mm\\u003cbr\\u003eNew Depth: 83.48mm\",\"Angle: 44\\u00b0\\u003cbr\\u003eX: 60.57mm\\u003cbr\\u003eY: 62.73mm\\u003cbr\\u003eInitial Depth: 90.33mm\\u003cbr\\u003eNew Depth: 83.41mm\",\"Angle: 45\\u00b0\\u003cbr\\u003eX: 62.53mm\\u003cbr\\u003eY: 62.53mm\\u003cbr\\u003eInitial Depth: 90.53mm\\u003cbr\\u003eNew Depth: 83.60mm\",\"Angle: 46\\u00b0\\u003cbr\\u003eX: 64.74mm\\u003cbr\\u003eY: 62.52mm\\u003cbr\\u003eInitial Depth: 90.54mm\\u003cbr\\u003eNew Depth: 83.61mm\",\"Angle: 47\\u00b0\\u003cbr\\u003eX: 66.68mm\\u003cbr\\u003eY: 62.18mm\\u003cbr\\u003eInitial Depth: 90.88mm\\u003cbr\\u003eNew Depth: 83.96mm\",\"Angle: 48\\u00b0\\u003cbr\\u003eX: 68.90mm\\u003cbr\\u003eY: 62.04mm\\u003cbr\\u003eInitial Depth: 91.02mm\\u003cbr\\u003eNew Depth: 84.09mm\",\"Angle: 49\\u00b0\\u003cbr\\u003eX: 71.03mm\\u003cbr\\u003eY: 61.74mm\\u003cbr\\u003eInitial Depth: 91.31mm\\u003cbr\\u003eNew Depth: 84.39mm\",\"Angle: 50\\u00b0\\u003cbr\\u003eX: 73.23mm\\u003cbr\\u003eY: 61.45mm\\u003cbr\\u003eInitial Depth: 91.60mm\\u003cbr\\u003eNew Depth: 84.68mm\",\"Angle: 51\\u00b0\\u003cbr\\u003eX: 76.24mm\\u003cbr\\u003eY: 61.74mm\\u003cbr\\u003eInitial Depth: 91.32mm\\u003cbr\\u003eNew Depth: 84.40mm\",\"Angle: 52\\u00b0\\u003cbr\\u003eX: 78.67mm\\u003cbr\\u003eY: 61.46mm\\u003cbr\\u003eInitial Depth: 91.59mm\\u003cbr\\u003eNew Depth: 84.67mm\",\"Angle: 53\\u00b0\\u003cbr\\u003eX: 81.32mm\\u003cbr\\u003eY: 61.28mm\\u003cbr\\u003eInitial Depth: 91.78mm\\u003cbr\\u003eNew Depth: 84.86mm\",\"Angle: 54\\u00b0\\u003cbr\\u003eX: 84.38mm\\u003cbr\\u003eY: 61.31mm\\u003cbr\\u003eInitial Depth: 91.75mm\\u003cbr\\u003eNew Depth: 84.83mm\",\"Angle: 55\\u00b0\\u003cbr\\u003eX: 87.03mm\\u003cbr\\u003eY: 60.94mm\\u003cbr\\u003eInitial Depth: 92.11mm\\u003cbr\\u003eNew Depth: 85.19mm\",\"Angle: 56\\u00b0\\u003cbr\\u003eX: 89.40mm\\u003cbr\\u003eY: 60.30mm\\u003cbr\\u003eInitial Depth: 92.76mm\\u003cbr\\u003eNew Depth: 85.83mm\",\"Angle: 57\\u00b0\\u003cbr\\u003eX: 91.90mm\\u003cbr\\u003eY: 59.68mm\\u003cbr\\u003eInitial Depth: 93.37mm\\u003cbr\\u003eNew Depth: 86.45mm\",\"Angle: 58\\u00b0\\u003cbr\\u003eX: 94.38mm\\u003cbr\\u003eY: 58.97mm\\u003cbr\\u003eInitial Depth: 94.08mm\\u003cbr\\u003eNew Depth: 87.16mm\",\"Angle: 59\\u00b0\\u003cbr\\u003eX: 97.72mm\\u003cbr\\u003eY: 58.71mm\\u003cbr\\u003eInitial Depth: 94.34mm\\u003cbr\\u003eNew Depth: 87.42mm\",\"Angle: 60\\u00b0\\u003cbr\\u003eX: 101.32mm\\u003cbr\\u003eY: 58.50mm\\u003cbr\\u003eInitial Depth: 94.55mm\\u003cbr\\u003eNew Depth: 87.63mm\",\"Angle: 61\\u00b0\\u003cbr\\u003eX: 104.81mm\\u003cbr\\u003eY: 58.10mm\\u003cbr\\u003eInitial Depth: 94.96mm\\u003cbr\\u003eNew Depth: 88.04mm\",\"Angle: 62\\u00b0\\u003cbr\\u003eX: 108.84mm\\u003cbr\\u003eY: 57.87mm\\u003cbr\\u003eInitial Depth: 95.18mm\\u003cbr\\u003eNew Depth: 88.26mm\",\"Angle: 63\\u00b0\\u003cbr\\u003eX: 113.08mm\\u003cbr\\u003eY: 57.62mm\\u003cbr\\u003eInitial Depth: 95.44mm\\u003cbr\\u003eNew Depth: 88.51mm\",\"Angle: 64\\u00b0\\u003cbr\\u003eX: 117.99mm\\u003cbr\\u003eY: 57.55mm\\u003cbr\\u003eInitial Depth: 95.51mm\\u003cbr\\u003eNew Depth: 88.59mm\",\"Angle: 65\\u00b0\\u003cbr\\u003eX: 122.15mm\\u003cbr\\u003eY: 56.96mm\\u003cbr\\u003eInitial Depth: 96.10mm\\u003cbr\\u003eNew Depth: 89.17mm\",\"Angle: 66\\u00b0\\u003cbr\\u003eX: 126.70mm\\u003cbr\\u003eY: 56.41mm\\u003cbr\\u003eInitial Depth: 96.64mm\\u003cbr\\u003eNew Depth: 89.72mm\",\"Angle: 67\\u00b0\\u003cbr\\u003eX: 128.30mm\\u003cbr\\u003eY: 54.46mm\\u003cbr\\u003eInitial Depth: 98.60mm\\u003cbr\\u003eNew Depth: 91.67mm\",\"Angle: 68\\u00b0\\u003cbr\\u003eX: 129.41mm\\u003cbr\\u003eY: 52.28mm\\u003cbr\\u003eInitial Depth: 100.77mm\\u003cbr\\u003eNew Depth: 93.85mm\",\"Angle: 69\\u00b0\\u003cbr\\u003eX: 131.07mm\\u003cbr\\u003eY: 50.31mm\\u003cbr\\u003eInitial Depth: 102.74mm\\u003cbr\\u003eNew Depth: 95.82mm\",\"Angle: 70\\u00b0\\u003cbr\\u003eX: 133.54mm\\u003cbr\\u003eY: 48.60mm\\u003cbr\\u003eInitial Depth: 104.45mm\\u003cbr\\u003eNew Depth: 97.53mm\",\"Angle: 290\\u00b0\\u003cbr\\u003eX: -752.13mm\\u003cbr\\u003eY: 273.75mm\\u003cbr\\u003eInitial Depth: -120.70mm\\u003cbr\\u003eNew Depth: -127.62mm\",\"Angle: 291\\u00b0\\u003cbr\\u003eX: -747.33mm\\u003cbr\\u003eY: 286.87mm\\u003cbr\\u003eInitial Depth: -133.82mm\\u003cbr\\u003eNew Depth: -140.74mm\",\"Angle: 292\\u00b0\\u003cbr\\u003eX: -136.91mm\\u003cbr\\u003eY: 55.32mm\\u003cbr\\u003eInitial Depth: 97.74mm\\u003cbr\\u003eNew Depth: 90.82mm\",\"Angle: 293\\u00b0\\u003cbr\\u003eX: -135.47mm\\u003cbr\\u003eY: 57.50mm\\u003cbr\\u003eInitial Depth: 95.55mm\\u003cbr\\u003eNew Depth: 88.63mm\",\"Angle: 294\\u00b0\\u003cbr\\u003eX: -134.84mm\\u003cbr\\u003eY: 60.03mm\\u003cbr\\u003eInitial Depth: 93.02mm\\u003cbr\\u003eNew Depth: 86.10mm\",\"Angle: 295\\u00b0\\u003cbr\\u003eX: -132.02mm\\u003cbr\\u003eY: 61.56mm\\u003cbr\\u003eInitial Depth: 91.49mm\\u003cbr\\u003eNew Depth: 84.57mm\",\"Angle: 296\\u00b0\\u003cbr\\u003eX: -130.15mm\\u003cbr\\u003eY: 63.48mm\\u003cbr\\u003eInitial Depth: 89.58mm\\u003cbr\\u003eNew Depth: 82.66mm\",\"Angle: 297\\u00b0\\u003cbr\\u003eX: -127.86mm\\u003cbr\\u003eY: 65.15mm\\u003cbr\\u003eInitial Depth: 87.91mm\\u003cbr\\u003eNew Depth: 80.99mm\",\"Angle: 298\\u00b0\\u003cbr\\u003eX: -124.79mm\\u003cbr\\u003eY: 66.35mm\\u003cbr\\u003eInitial Depth: 86.70mm\\u003cbr\\u003eNew Depth: 79.78mm\",\"Angle: 299\\u00b0\\u003cbr\\u003eX: -120.17mm\\u003cbr\\u003eY: 66.61mm\\u003cbr\\u003eInitial Depth: 86.44mm\\u003cbr\\u003eNew Depth: 79.52mm\",\"Angle: 300\\u00b0\\u003cbr\\u003eX: -114.75mm\\u003cbr\\u003eY: 66.25mm\\u003cbr\\u003eInitial Depth: 86.80mm\\u003cbr\\u003eNew Depth: 79.88mm\",\"Angle: 301\\u00b0\\u003cbr\\u003eX: -110.06mm\\u003cbr\\u003eY: 66.13mm\\u003cbr\\u003eInitial Depth: 86.92mm\\u003cbr\\u003eNew Depth: 80.00mm\",\"Angle: 302\\u00b0\\u003cbr\\u003eX: -106.01mm\\u003cbr\\u003eY: 66.24mm\\u003cbr\\u003eInitial Depth: 86.81mm\\u003cbr\\u003eNew Depth: 79.89mm\",\"Angle: 303\\u00b0\\u003cbr\\u003eX: -102.32mm\\u003cbr\\u003eY: 66.45mm\\u003cbr\\u003eInitial Depth: 86.61mm\\u003cbr\\u003eNew Depth: 79.69mm\",\"Angle: 304\\u00b0\\u003cbr\\u003eX: -98.66mm\\u003cbr\\u003eY: 66.54mm\\u003cbr\\u003eInitial Depth: 86.51mm\\u003cbr\\u003eNew Depth: 79.59mm\",\"Angle: 305\\u00b0\\u003cbr\\u003eX: -95.02mm\\u003cbr\\u003eY: 66.53mm\\u003cbr\\u003eInitial Depth: 86.52mm\\u003cbr\\u003eNew Depth: 79.60mm\",\"Angle: 306\\u00b0\\u003cbr\\u003eX: -91.42mm\\u003cbr\\u003eY: 66.42mm\\u003cbr\\u003eInitial Depth: 86.64mm\\u003cbr\\u003eNew Depth: 79.71mm\",\"Angle: 307\\u00b0\\u003cbr\\u003eX: -87.85mm\\u003cbr\\u003eY: 66.20mm\\u003cbr\\u003eInitial Depth: 86.86mm\\u003cbr\\u003eNew Depth: 79.93mm\",\"Angle: 308\\u00b0\\u003cbr\\u003eX: -85.11mm\\u003cbr\\u003eY: 66.49mm\\u003cbr\\u003eInitial Depth: 86.56mm\\u003cbr\\u003eNew Depth: 79.64mm\",\"Angle: 309\\u00b0\\u003cbr\\u003eX: -81.60mm\\u003cbr\\u003eY: 66.08mm\\u003cbr\\u003eInitial Depth: 86.98mm\\u003cbr\\u003eNew Depth: 80.05mm\",\"Angle: 310\\u00b0\\u003cbr\\u003eX: -79.67mm\\u003cbr\\u003eY: 66.85mm\\u003cbr\\u003eInitial Depth: 86.20mm\\u003cbr\\u003eNew Depth: 79.28mm\",\"Angle: 311\\u00b0\\u003cbr\\u003eX: -77.36mm\\u003cbr\\u003eY: 67.25mm\\u003cbr\\u003eInitial Depth: 85.81mm\\u003cbr\\u003eNew Depth: 78.89mm\",\"Angle: 312\\u00b0\\u003cbr\\u003eX: -75.06mm\\u003cbr\\u003eY: 67.58mm\\u003cbr\\u003eInitial Depth: 85.47mm\\u003cbr\\u003eNew Depth: 78.55mm\",\"Angle: 313\\u00b0\\u003cbr\\u003eX: -72.40mm\\u003cbr\\u003eY: 67.52mm\\u003cbr\\u003eInitial Depth: 85.54mm\\u003cbr\\u003eNew Depth: 78.61mm\",\"Angle: 314\\u00b0\\u003cbr\\u003eX: -70.14mm\\u003cbr\\u003eY: 67.73mm\\u003cbr\\u003eInitial Depth: 85.33mm\\u003cbr\\u003eNew Depth: 78.40mm\",\"Angle: 315\\u00b0\\u003cbr\\u003eX: -67.88mm\\u003cbr\\u003eY: 67.88mm\\u003cbr\\u003eInitial Depth: 85.17mm\\u003cbr\\u003eNew Depth: 78.25mm\",\"Angle: 316\\u00b0\\u003cbr\\u003eX: -65.65mm\\u003cbr\\u003eY: 67.98mm\\u003cbr\\u003eInitial Depth: 85.08mm\\u003cbr\\u003eNew Depth: 78.16mm\",\"Angle: 317\\u00b0\\u003cbr\\u003eX: -62.74mm\\u003cbr\\u003eY: 67.28mm\\u003cbr\\u003eInitial Depth: 85.77mm\\u003cbr\\u003eNew Depth: 78.85mm\",\"Angle: 318\\u00b0\\u003cbr\\u003eX: -60.22mm\\u003cbr\\u003eY: 66.88mm\\u003cbr\\u003eInitial Depth: 86.17mm\\u003cbr\\u003eNew Depth: 79.25mm\",\"Angle: 319\\u00b0\\u003cbr\\u003eX: -58.06mm\\u003cbr\\u003eY: 66.79mm\\u003cbr\\u003eInitial Depth: 86.26mm\\u003cbr\\u003eNew Depth: 79.34mm\",\"Angle: 320\\u00b0\\u003cbr\\u003eX: -56.35mm\\u003cbr\\u003eY: 67.16mm\\u003cbr\\u003eInitial Depth: 85.90mm\\u003cbr\\u003eNew Depth: 78.98mm\",\"Angle: 321\\u00b0\\u003cbr\\u003eX: -55.13mm\\u003cbr\\u003eY: 68.08mm\\u003cbr\\u003eInitial Depth: 84.98mm\\u003cbr\\u003eNew Depth: 78.05mm\",\"Angle: 322\\u00b0\\u003cbr\\u003eX: -74.50mm\\u003cbr\\u003eY: 95.35mm\\u003cbr\\u003eInitial Depth: 57.71mm\\u003cbr\\u003eNew Depth: 50.78mm\",\"Angle: 323\\u00b0\\u003cbr\\u003eX: -66.20mm\\u003cbr\\u003eY: 87.85mm\\u003cbr\\u003eInitial Depth: 65.20mm\\u003cbr\\u003eNew Depth: 58.28mm\",\"Angle: 324\\u00b0\\u003cbr\\u003eX: -59.60mm\\u003cbr\\u003eY: 82.03mm\\u003cbr\\u003eInitial Depth: 71.02mm\\u003cbr\\u003eNew Depth: 64.10mm\",\"Angle: 325\\u00b0\\u003cbr\\u003eX: -68.97mm\\u003cbr\\u003eY: 98.50mm\\u003cbr\\u003eInitial Depth: 54.55mm\\u003cbr\\u003eNew Depth: 47.63mm\",\"Angle: 326\\u00b0\\u003cbr\\u003eX: -67.10mm\\u003cbr\\u003eY: 99.48mm\\u003cbr\\u003eInitial Depth: 53.57mm\\u003cbr\\u003eNew Depth: 46.65mm\",\"Angle: 327\\u00b0\\u003cbr\\u003eX: -49.67mm\\u003cbr\\u003eY: 76.49mm\\u003cbr\\u003eInitial Depth: 76.57mm\\u003cbr\\u003eNew Depth: 69.65mm\",\"Angle: 328\\u00b0\\u003cbr\\u003eX: -49.28mm\\u003cbr\\u003eY: 78.87mm\\u003cbr\\u003eInitial Depth: 74.19mm\\u003cbr\\u003eNew Depth: 67.26mm\",\"Angle: 329\\u00b0\\u003cbr\\u003eX: -48.72mm\\u003cbr\\u003eY: 81.09mm\\u003cbr\\u003eInitial Depth: 71.97mm\\u003cbr\\u003eNew Depth: 65.04mm\",\"Angle: 330\\u00b0\\u003cbr\\u003eX: -48.33mm\\u003cbr\\u003eY: 83.72mm\\u003cbr\\u003eInitial Depth: 69.34mm\\u003cbr\\u003eNew Depth: 62.42mm\",\"Angle: 331\\u00b0\\u003cbr\\u003eX: -47.41mm\\u003cbr\\u003eY: 85.54mm\\u003cbr\\u003eInitial Depth: 67.52mm\\u003cbr\\u003eNew Depth: 60.59mm\",\"Angle: 332\\u00b0\\u003cbr\\u003eX: -46.95mm\\u003cbr\\u003eY: 88.29mm\\u003cbr\\u003eInitial Depth: 64.76mm\\u003cbr\\u003eNew Depth: 57.84mm\",\"Angle: 333\\u00b0\\u003cbr\\u003eX: -46.42mm\\u003cbr\\u003eY: 91.11mm\\u003cbr\\u003eInitial Depth: 61.95mm\\u003cbr\\u003eNew Depth: 55.03mm\",\"Angle: 334\\u00b0\\u003cbr\\u003eX: -45.78mm\\u003cbr\\u003eY: 93.86mm\\u003cbr\\u003eInitial Depth: 59.20mm\\u003cbr\\u003eNew Depth: 52.27mm\",\"Angle: 335\\u00b0\\u003cbr\\u003eX: -44.97mm\\u003cbr\\u003eY: 96.43mm\\u003cbr\\u003eInitial Depth: 56.62mm\\u003cbr\\u003eNew Depth: 49.70mm\",\"Angle: 336\\u00b0\\u003cbr\\u003eX: -44.09mm\\u003cbr\\u003eY: 99.03mm\\u003cbr\\u003eInitial Depth: 54.03mm\\u003cbr\\u003eNew Depth: 47.10mm\",\"Angle: 337\\u00b0\\u003cbr\\u003eX: -43.09mm\\u003cbr\\u003eY: 101.52mm\\u003cbr\\u003eInitial Depth: 51.54mm\\u003cbr\\u003eNew Depth: 44.61mm\",\"Angle: 338\\u00b0\\u003cbr\\u003eX: -42.05mm\\u003cbr\\u003eY: 104.08mm\\u003cbr\\u003eInitial Depth: 48.98mm\\u003cbr\\u003eNew Depth: 42.06mm\",\"Angle: 339\\u00b0\\u003cbr\\u003eX: -41.00mm\\u003cbr\\u003eY: 106.80mm\\u003cbr\\u003eInitial Depth: 46.25mm\\u003cbr\\u003eNew Depth: 39.33mm\",\"Angle: 340\\u00b0\\u003cbr\\u003eX: -39.97mm\\u003cbr\\u003eY: 109.83mm\\u003cbr\\u003eInitial Depth: 43.23mm\\u003cbr\\u003eNew Depth: 36.31mm\",\"Angle: 341\\u00b0\\u003cbr\\u003eX: -38.94mm\\u003cbr\\u003eY: 113.08mm\\u003cbr\\u003eInitial Depth: 39.97mm\\u003cbr\\u003eNew Depth: 33.05mm\",\"Angle: 342\\u00b0\\u003cbr\\u003eX: -38.07mm\\u003cbr\\u003eY: 117.17mm\\u003cbr\\u003eInitial Depth: 35.88mm\\u003cbr\\u003eNew Depth: 28.96mm\",\"Angle: 343\\u00b0\\u003cbr\\u003eX: -37.25mm\\u003cbr\\u003eY: 121.83mm\\u003cbr\\u003eInitial Depth: 31.22mm\\u003cbr\\u003eNew Depth: 24.30mm\",\"Angle: 344\\u00b0\\u003cbr\\u003eX: -36.11mm\\u003cbr\\u003eY: 125.93mm\\u003cbr\\u003eInitial Depth: 27.13mm\\u003cbr\\u003eNew Depth: 20.21mm\",\"Angle: 345\\u00b0\\u003cbr\\u003eX: -35.25mm\\u003cbr\\u003eY: 131.54mm\\u003cbr\\u003eInitial Depth: 21.51mm\\u003cbr\\u003eNew Depth: 14.59mm\",\"Angle: 346\\u00b0\\u003cbr\\u003eX: -34.32mm\\u003cbr\\u003eY: 137.64mm\\u003cbr\\u003eInitial Depth: 15.41mm\\u003cbr\\u003eNew Depth: 8.49mm\",\"Angle: 347\\u00b0\\u003cbr\\u003eX: -32.79mm\\u003cbr\\u003eY: 142.04mm\\u003cbr\\u003eInitial Depth: 11.01mm\\u003cbr\\u003eNew Depth: 4.09mm\",\"Angle: 348\\u00b0\\u003cbr\\u003eX: -31.25mm\\u003cbr\\u003eY: 147.00mm\\u003cbr\\u003eInitial Depth: 6.05mm\\u003cbr\\u003eNew Depth: -0.87mm\",\"Angle: 349\\u00b0\\u003cbr\\u003eX: -29.19mm\\u003cbr\\u003eY: 150.19mm\\u003cbr\\u003eInitial Depth: 2.87mm\\u003cbr\\u003eNew Depth: -4.06mm\",\"Angle: 350\\u00b0\\u003cbr\\u003eX: -26.78mm\\u003cbr\\u003eY: 151.88mm\\u003cbr\\u003eInitial Depth: 1.18mm\\u003cbr\\u003eNew Depth: -5.75mm\",\"Angle: 351\\u00b0\\u003cbr\\u003eX: -24.04mm\\u003cbr\\u003eY: 151.77mm\\u003cbr\\u003eInitial Depth: 1.28mm\\u003cbr\\u003eNew Depth: -5.64mm\",\"Angle: 352\\u00b0\\u003cbr\\u003eX: -21.41mm\\u003cbr\\u003eY: 152.36mm\\u003cbr\\u003eInitial Depth: 0.70mm\\u003cbr\\u003eNew Depth: -6.23mm\",\"Angle: 353\\u00b0\\u003cbr\\u003eX: -18.68mm\\u003cbr\\u003eY: 152.11mm\\u003cbr\\u003eInitial Depth: 0.95mm\\u003cbr\\u003eNew Depth: -5.97mm\",\"Angle: 354\\u00b0\\u003cbr\\u003eX: -16.05mm\\u003cbr\\u003eY: 152.66mm\\u003cbr\\u003eInitial Depth: 0.40mm\\u003cbr\\u003eNew Depth: -6.53mm\",\"Angle: 355\\u00b0\\u003cbr\\u003eX: -13.35mm\\u003cbr\\u003eY: 152.62mm\\u003cbr\\u003eInitial Depth: 0.44mm\\u003cbr\\u003eNew Depth: -6.48mm\",\"Angle: 356\\u00b0\\u003cbr\\u003eX: -10.70mm\\u003cbr\\u003eY: 153.05mm\\u003cbr\\u003eInitial Depth: 0.00mm\\u003cbr\\u003eNew Depth: -6.92mm\",\"Angle: 357\\u00b0\\u003cbr\\u003eX: -8.01mm\\u003cbr\\u003eY: 152.79mm\\u003cbr\\u003eInitial Depth: 0.26mm\\u003cbr\\u003eNew Depth: -6.66mm\",\"Angle: 358\\u00b0\\u003cbr\\u003eX: -5.30mm\\u003cbr\\u003eY: 151.91mm\\u003cbr\\u003eInitial Depth: 1.15mm\\u003cbr\\u003eNew Depth: -5.77mm\",\"Angle: 359\\u00b0\\u003cbr\\u003eX: -2.62mm\\u003cbr\\u003eY: 149.98mm\\u003cbr\\u003eInitial Depth: 3.08mm\\u003cbr\\u003eNew Depth: -3.84mm\"],\"x\":[5.106959498001992,7.658494651092347,10.25420164038642,12.997100137244525,15.80030278870871,18.564762662080966,21.35437267856004,23.945646639255287,26.55080532338458,29.079289750531455,31.62567911182464,34.224695193233664,36.92100372071689,39.45141796901892,41.771588777921394,44.14812741313325,46.661566150617055,48.93289459161512,50.732986102533424,51.42580075975059,51.820576757965995,52.184313502623525,52.59417697469615,53.40838282748089,54.1587632272995,53.92010389734317,53.989229720377445,53.541162435954845,53.43749999999999,53.666965860513415,53.309876922021886,53.0115341938334,57.317272605751555,55.3819922939503,55.38243194204216,60.858544216250884,64.15192388194916,52.86291284818634,54.10128876785009,55.202683028084195,56.87610154050295,58.424524360025075,60.574207820049445,62.52844432605643,64.7405820304786,66.67507718067117,68.90014263187604,71.02656009594702,73.23384723008542,76.23801726463692,78.66974233643309,81.31561731092911,84.380474940358,87.03490470570537,89.3978871179522,91.90431864047423,94.37563703906044,97.71707228004081,101.32497224277931,104.80859723785682,108.84335845275324,113.08357565222295,117.98713917749758,122.15014337674238,126.7017270698231,128.2953639499339,129.40837274606312,131.07468627872456,133.54076609715761,-752.1299680388853,-747.33113141101,-136.9141541360095,-135.46763584244337,-134.8393150293207,-132.01883914531354,-130.14538060050154,-127.8594362210308,-124.7899217483412,-120.17274251323471,-114.74836600143811,-110.06027626714742,-106.00601201955325,-102.31780928934177,-98.65547113404995,-95.02163713752304,-91.41892036436907,-87.84990610520224,-85.10516138952596,-81.60032595298193,-79.66862208437372,-77.35773197283416,-75.05762737321685,-72.40401646029787,-70.13563053301849,-67.88225099390857,-65.64521600837527,-62.74384912574984,-60.22175457229723,-58.06122406565991,-56.35104540175301,-55.12846499732501,-74.49503851440464,-66.1996525467253,-59.601425758027304,-68.97256647121334,-67.10314841648959,-49.671078359453354,-49.28249157368806,-48.722600856415006,-48.33333200000004,-47.41438231452061,-46.947156278589084,-46.420528598368676,-45.778473741928075,-44.96658389444692,-44.09025292289002,-43.092061096734184,-42.04959011093616,-40.99729414471831,-39.97360425118752,-38.937950621939635,-38.07089277994257,-37.248155766420126,-36.10849361202686,-35.24644964799953,-34.31834990660074,-32.792863286348556,-31.24615835887612,-29.193776292611332,-26.780409021582024,-24.03876362883266,-21.4127762528587,-18.676476876838812,-16.0451191115848,-13.352259527474025,-10.702636293829636,-8.007401305170488,-5.304723498780125,-2.6178609655925342],\"y\":[146.2441856903766,146.13278325972846,146.64191538819415,148.55753435293155,150.3298392188441,151.19785847311525,151.9442567975347,151.18686273847143,150.57709952672008,149.59997686766087,148.78712218219403,148.24344153422052,148.08205777005728,147.2346962910144,145.67484204630588,144.40201815041834,143.60953396056817,142.11144474913306,139.38773373821576,133.96879120234846,128.2604282700917,122.93853842404404,118.12845557839394,114.53464658675664,111.0419203001157,105.82416236685492,101.5389731787766,96.59081390720702,92.55646502946189,89.3168301616582,85.31363677724026,81.6306041831428,84.97635118689178,79.09368190401227,76.22737803675206,80.76201595353248,82.11071816178816,65.28026076238555,64.47540525306214,63.503422549343476,63.16731016557851,62.65263182176573,62.72642843151098,62.52844432605643,62.51925334130975,62.17551534036882,62.03796707843921,61.74244672411396,61.450494200457946,61.736329103348275,61.463538928442155,61.27571276125952,61.30600357746071,60.94249636229864,60.29963624877661,59.683362372767476,58.972443152627605,58.714340539746175,58.500000000000014,58.09635411901172,57.873040263040046,57.61895971463615,57.54617280852146,56.95954730130605,56.411243369618305,54.45815103319252,52.284376432061045,50.31485796595247,48.604863920470606,273.7529206657446,286.87354361101296,55.31690895898483,57.50259982657077,60.03433095840791,61.56139571419264,63.47614337017185,65.14763671262494,66.35197836989084,66.61283891298902,66.25000000000001,66.1308857282225,66.23990802915058,66.44596227183325,66.5439555130189,66.53486661672135,66.41973350904944,66.19965254672528,66.49143933517112,66.07864106023294,66.84991140740009,67.24605047152697,67.58219124224463,67.51783764618736,67.72919111975223,67.88225099390854,67.97761113200251,67.2845405489637,66.88303429296548,66.79179784971531,67.15656080397854,68.0779846693387,95.34930118641337,87.84990610520221,82.03432484765365,98.50303332575123,99.48450870660503,76.48675328061097,78.8684729425476,81.0880249320852,83.71578672309462,85.53780998209204,88.2947592858927,91.1054170982606,93.85978057471196,96.43115035331515,99.02832943554886,101.51853408296289,104.07638767512188,106.80160265844071,109.82657505435304,113.08401975064115,117.17015995439337,121.83322782230022,125.92528216791978,131.54154087275248,137.6433834758058,142.04149617351717,147.0016174207001,150.1889590674926,151.87924680602418,151.77478027245732,152.35981982177788,152.1076977390326,152.65911093902994,152.6170247590713,153.05482970502916,152.7903188174498,151.90740570690255,149.9771542734587],\"type\":\"scatter\"},{\"hoverinfo\":\"text\",\"marker\":{\"color\":\"blue\",\"size\":7},\"mode\":\"markers\",\"name\":\"Flat Surface (Side 1)\",\"text\":[\"Side 1 Flat Surface\\u003cbr\\u003eAngle: 295.00\\u00b0\\u003cbr\\u003eX: -132.02mm\\u003cbr\\u003eY: 61.56mm\",\"Side 1 Flat Surface\\u003cbr\\u003eAngle: 296.00\\u00b0\\u003cbr\\u003eX: -130.15mm\\u003cbr\\u003eY: 63.48mm\",\"Side 1 Flat Surface\\u003cbr\\u003eAngle: 297.00\\u00b0\\u003cbr\\u003eX: -127.86mm\\u003cbr\\u003eY: 65.15mm\",\"Side 1 Flat Surface\\u003cbr\\u003eAngle: 298.00\\u00b0\\u003cbr\\u003eX: -124.79mm\\u003cbr\\u003eY: 66.35mm\",\"Side 1 Flat Surface\\u003cbr\\u003eAngle: 299.00\\u00b0\\u003cbr\\u003eX: -120.17mm\\u003cbr\\u003eY: 66.61mm\",\"Side 1 Flat Surface\\u003cbr\\u003eAngle: 300.00\\u00b0\\u003cbr\\u003eX: -114.75mm\\u003cbr\\u003eY: 66.25mm\",\"Side 1 Flat Surface\\u003cbr\\u003eAngle: 301.00\\u00b0\\u003cbr\\u003eX: -110.06mm\\u003cbr\\u003eY: 66.13mm\",\"Side 1 Flat Surface\\u003cbr\\u003eAngle: 302.00\\u00b0\\u003cbr\\u003eX: -106.01mm\\u003cbr\\u003eY: 66.24mm\",\"Side 1 Flat Surface\\u003cbr\\u003eAngle: 303.00\\u00b0\\u003cbr\\u003eX: -102.32mm\\u003cbr\\u003eY: 66.45mm\",\"Side 1 Flat Surface\\u003cbr\\u003eAngle: 304.00\\u00b0\\u003cbr\\u003eX: -98.66mm\\u003cbr\\u003eY: 66.54mm\",\"Side 1 Flat Surface\\u003cbr\\u003eAngle: 305.00\\u00b0\\u003cbr\\u003eX: -95.02mm\\u003cbr\\u003eY: 66.53mm\",\"Side 1 Flat Surface\\u003cbr\\u003eAngle: 306.00\\u00b0\\u003cbr\\u003eX: -91.42mm\\u003cbr\\u003eY: 66.42mm\",\"Side 1 Flat Surface\\u003cbr\\u003eAngle: 307.00\\u00b0\\u003cbr\\u003eX: -87.85mm\\u003cbr\\u003eY: 66.20mm\",\"Side 1 Flat Surface\\u003cbr\\u003eAngle: 308.00\\u00b0\\u003cbr\\u003eX: -85.11mm\\u003cbr\\u003eY: 66.49mm\",\"Side 1 Flat Surface\\u003cbr\\u003eAngle: 309.00\\u00b0\\u003cbr\\u003eX: -81.60mm\\u003cbr\\u003eY: 66.08mm\",\"Side 1 Flat Surface\\u003cbr\\u003eAngle: 310.00\\u00b0\\u003cbr\\u003eX: -79.67mm\\u003cbr\\u003eY: 66.85mm\",\"Side 1 Flat Surface\\u003cbr\\u003eAngle: 311.00\\u00b0\\u003cbr\\u003eX: -77.36mm\\u003cbr\\u003eY: 67.25mm\",\"Side 1 Flat Surface\\u003cbr\\u003eAngle: 312.00\\u00b0\\u003cbr\\u003eX: -75.06mm\\u003cbr\\u003eY: 67.58mm\",\"Side 1 Flat Surface\\u003cbr\\u003eAngle: 313.00\\u00b0\\u003cbr\\u003eX: -72.40mm\\u003cbr\\u003eY: 67.52mm\",\"Side 1 Flat Surface\\u003cbr\\u003eAngle: 314.00\\u00b0\\u003cbr\\u003eX: -70.14mm\\u003cbr\\u003eY: 67.73mm\",\"Side 1 Flat Surface\\u003cbr\\u003eAngle: 315.00\\u00b0\\u003cbr\\u003eX: -67.88mm\\u003cbr\\u003eY: 67.88mm\",\"Side 1 Flat Surface\\u003cbr\\u003eAngle: 316.00\\u00b0\\u003cbr\\u003eX: -65.65mm\\u003cbr\\u003eY: 67.98mm\",\"Side 1 Flat Surface\\u003cbr\\u003eAngle: 317.00\\u00b0\\u003cbr\\u003eX: -62.74mm\\u003cbr\\u003eY: 67.28mm\",\"Side 1 Flat Surface\\u003cbr\\u003eAngle: 318.00\\u00b0\\u003cbr\\u003eX: -60.22mm\\u003cbr\\u003eY: 66.88mm\",\"Side 1 Flat Surface\\u003cbr\\u003eAngle: 319.00\\u00b0\\u003cbr\\u003eX: -58.06mm\\u003cbr\\u003eY: 66.79mm\",\"Side 1 Flat Surface\\u003cbr\\u003eAngle: 320.00\\u00b0\\u003cbr\\u003eX: -56.35mm\\u003cbr\\u003eY: 67.16mm\",\"Side 1 Flat Surface\\u003cbr\\u003eAngle: 321.00\\u00b0\\u003cbr\\u003eX: -55.13mm\\u003cbr\\u003eY: 68.08mm\"],\"x\":[-132.01883914531354,-130.14538060050154,-127.8594362210308,-124.7899217483412,-120.17274251323471,-114.74836600143811,-110.06027626714742,-106.00601201955325,-102.31780928934177,-98.65547113404995,-95.02163713752304,-91.41892036436907,-87.84990610520224,-85.10516138952596,-81.60032595298193,-79.66862208437372,-77.35773197283416,-75.05762737321685,-72.40401646029787,-70.13563053301849,-67.88225099390857,-65.64521600837527,-62.74384912574984,-60.22175457229723,-58.06122406565991,-56.35104540175301,-55.12846499732501],\"y\":[61.56139571419264,63.47614337017185,65.14763671262494,66.35197836989084,66.61283891298902,66.25000000000001,66.1308857282225,66.23990802915058,66.44596227183325,66.5439555130189,66.53486661672135,66.41973350904944,66.19965254672528,66.49143933517112,66.07864106023294,66.84991140740009,67.24605047152697,67.58219124224463,67.51783764618736,67.72919111975223,67.88225099390854,67.97761113200251,67.2845405489637,66.88303429296548,66.79179784971531,67.15656080397854,68.0779846693387],\"type\":\"scatter\"},{\"hoverinfo\":\"text\",\"marker\":{\"color\":\"orange\",\"size\":7},\"mode\":\"markers\",\"name\":\"Flat Surface (Side 2)\",\"text\":[\"Side 2 Flat Surface\\u003cbr\\u003eAngle: 39.00\\u00b0\\u003cbr\\u003eX: 52.86mm\\u003cbr\\u003eY: 65.28mm\",\"Side 2 Flat Surface\\u003cbr\\u003eAngle: 40.00\\u00b0\\u003cbr\\u003eX: 54.10mm\\u003cbr\\u003eY: 64.48mm\",\"Side 2 Flat Surface\\u003cbr\\u003eAngle: 41.00\\u00b0\\u003cbr\\u003eX: 55.20mm\\u003cbr\\u003eY: 63.50mm\",\"Side 2 Flat Surface\\u003cbr\\u003eAngle: 42.00\\u00b0\\u003cbr\\u003eX: 56.88mm\\u003cbr\\u003eY: 63.17mm\",\"Side 2 Flat Surface\\u003cbr\\u003eAngle: 43.00\\u00b0\\u003cbr\\u003eX: 58.42mm\\u003cbr\\u003eY: 62.65mm\",\"Side 2 Flat Surface\\u003cbr\\u003eAngle: 44.00\\u00b0\\u003cbr\\u003eX: 60.57mm\\u003cbr\\u003eY: 62.73mm\",\"Side 2 Flat Surface\\u003cbr\\u003eAngle: 45.00\\u00b0\\u003cbr\\u003eX: 62.53mm\\u003cbr\\u003eY: 62.53mm\",\"Side 2 Flat Surface\\u003cbr\\u003eAngle: 46.00\\u00b0\\u003cbr\\u003eX: 64.74mm\\u003cbr\\u003eY: 62.52mm\",\"Side 2 Flat Surface\\u003cbr\\u003eAngle: 47.00\\u00b0\\u003cbr\\u003eX: 66.68mm\\u003cbr\\u003eY: 62.18mm\",\"Side 2 Flat Surface\\u003cbr\\u003eAngle: 48.00\\u00b0\\u003cbr\\u003eX: 68.90mm\\u003cbr\\u003eY: 62.04mm\",\"Side 2 Flat Surface\\u003cbr\\u003eAngle: 49.00\\u00b0\\u003cbr\\u003eX: 71.03mm\\u003cbr\\u003eY: 61.74mm\",\"Side 2 Flat Surface\\u003cbr\\u003eAngle: 50.00\\u00b0\\u003cbr\\u003eX: 73.23mm\\u003cbr\\u003eY: 61.45mm\",\"Side 2 Flat Surface\\u003cbr\\u003eAngle: 51.00\\u00b0\\u003cbr\\u003eX: 76.24mm\\u003cbr\\u003eY: 61.74mm\",\"Side 2 Flat Surface\\u003cbr\\u003eAngle: 52.00\\u00b0\\u003cbr\\u003eX: 78.67mm\\u003cbr\\u003eY: 61.46mm\",\"Side 2 Flat Surface\\u003cbr\\u003eAngle: 53.00\\u00b0\\u003cbr\\u003eX: 81.32mm\\u003cbr\\u003eY: 61.28mm\",\"Side 2 Flat Surface\\u003cbr\\u003eAngle: 54.00\\u00b0\\u003cbr\\u003eX: 84.38mm\\u003cbr\\u003eY: 61.31mm\",\"Side 2 Flat Surface\\u003cbr\\u003eAngle: 55.00\\u00b0\\u003cbr\\u003eX: 87.03mm\\u003cbr\\u003eY: 60.94mm\",\"Side 2 Flat Surface\\u003cbr\\u003eAngle: 56.00\\u00b0\\u003cbr\\u003eX: 89.40mm\\u003cbr\\u003eY: 60.30mm\",\"Side 2 Flat Surface\\u003cbr\\u003eAngle: 57.00\\u00b0\\u003cbr\\u003eX: 91.90mm\\u003cbr\\u003eY: 59.68mm\",\"Side 2 Flat Surface\\u003cbr\\u003eAngle: 58.00\\u00b0\\u003cbr\\u003eX: 94.38mm\\u003cbr\\u003eY: 58.97mm\"],\"x\":[52.86291284818634,54.10128876785009,55.202683028084195,56.87610154050295,58.424524360025075,60.574207820049445,62.52844432605643,64.7405820304786,66.67507718067117,68.90014263187604,71.02656009594702,73.23384723008542,76.23801726463692,78.66974233643309,81.31561731092911,84.380474940358,87.03490470570537,89.3978871179522,91.90431864047423,94.37563703906044],\"y\":[65.28026076238555,64.47540525306214,63.503422549343476,63.16731016557851,62.65263182176573,62.72642843151098,62.52844432605643,62.51925334130975,62.17551534036882,62.03796707843921,61.74244672411396,61.450494200457946,61.736329103348275,61.463538928442155,61.27571276125952,61.30600357746071,60.94249636229864,60.29963624877661,59.683362372767476,58.972443152627605],\"type\":\"scatter\"},{\"hoverinfo\":\"text\",\"marker\":{\"color\":\"red\",\"size\":5},\"mode\":\"markers\",\"name\":\"Bump Points\",\"text\":[\"Angle: 3\\u00b0\\u003cbr\\u003eX: 7.66mm\\u003cbr\\u003eY: 146.13mm\\u003cbr\\u003eDepth: 6.92mm\\u003cbr\\u003eNew Depth: 0.00mm\",\"Angle: 2\\u00b0\\u003cbr\\u003eX: 5.11mm\\u003cbr\\u003eY: 146.24mm\\u003cbr\\u003eDepth: 6.81mm\\u003cbr\\u003eNew Depth: -0.11mm\",\"Angle: 4\\u00b0\\u003cbr\\u003eX: 10.25mm\\u003cbr\\u003eY: 146.64mm\\u003cbr\\u003eDepth: 6.41mm\\u003cbr\\u003eNew Depth: -0.51mm\"],\"x\":[7.658494651092347,5.106959498001992,10.25420164038642],\"y\":[146.13278325972846,146.2441856903766,146.64191538819415],\"type\":\"scatter\"}],                        {\"template\":{\"data\":{\"histogram2dcontour\":[{\"type\":\"histogram2dcontour\",\"colorbar\":{\"outlinewidth\":0,\"ticks\":\"\"},\"colorscale\":[[0.0,\"#0d0887\"],[0.1111111111111111,\"#46039f\"],[0.2222222222222222,\"#7201a8\"],[0.3333333333333333,\"#9c179e\"],[0.4444444444444444,\"#bd3786\"],[0.5555555555555556,\"#d8576b\"],[0.6666666666666666,\"#ed7953\"],[0.7777777777777778,\"#fb9f3a\"],[0.8888888888888888,\"#fdca26\"],[1.0,\"#f0f921\"]]}],\"choropleth\":[{\"type\":\"choropleth\",\"colorbar\":{\"outlinewidth\":0,\"ticks\":\"\"}}],\"histogram2d\":[{\"type\":\"histogram2d\",\"colorbar\":{\"outlinewidth\":0,\"ticks\":\"\"},\"colorscale\":[[0.0,\"#0d0887\"],[0.1111111111111111,\"#46039f\"],[0.2222222222222222,\"#7201a8\"],[0.3333333333333333,\"#9c179e\"],[0.4444444444444444,\"#bd3786\"],[0.5555555555555556,\"#d8576b\"],[0.6666666666666666,\"#ed7953\"],[0.7777777777777778,\"#fb9f3a\"],[0.8888888888888888,\"#fdca26\"],[1.0,\"#f0f921\"]]}],\"heatmap\":[{\"type\":\"heatmap\",\"colorbar\":{\"outlinewidth\":0,\"ticks\":\"\"},\"colorscale\":[[0.0,\"#0d0887\"],[0.1111111111111111,\"#46039f\"],[0.2222222222222222,\"#7201a8\"],[0.3333333333333333,\"#9c179e\"],[0.4444444444444444,\"#bd3786\"],[0.5555555555555556,\"#d8576b\"],[0.6666666666666666,\"#ed7953\"],[0.7777777777777778,\"#fb9f3a\"],[0.8888888888888888,\"#fdca26\"],[1.0,\"#f0f921\"]]}],\"heatmapgl\":[{\"type\":\"heatmapgl\",\"colorbar\":{\"outlinewidth\":0,\"ticks\":\"\"},\"colorscale\":[[0.0,\"#0d0887\"],[0.1111111111111111,\"#46039f\"],[0.2222222222222222,\"#7201a8\"],[0.3333333333333333,\"#9c179e\"],[0.4444444444444444,\"#bd3786\"],[0.5555555555555556,\"#d8576b\"],[0.6666666666666666,\"#ed7953\"],[0.7777777777777778,\"#fb9f3a\"],[0.8888888888888888,\"#fdca26\"],[1.0,\"#f0f921\"]]}],\"contourcarpet\":[{\"type\":\"contourcarpet\",\"colorbar\":{\"outlinewidth\":0,\"ticks\":\"\"}}],\"contour\":[{\"type\":\"contour\",\"colorbar\":{\"outlinewidth\":0,\"ticks\":\"\"},\"colorscale\":[[0.0,\"#0d0887\"],[0.1111111111111111,\"#46039f\"],[0.2222222222222222,\"#7201a8\"],[0.3333333333333333,\"#9c179e\"],[0.4444444444444444,\"#bd3786\"],[0.5555555555555556,\"#d8576b\"],[0.6666666666666666,\"#ed7953\"],[0.7777777777777778,\"#fb9f3a\"],[0.8888888888888888,\"#fdca26\"],[1.0,\"#f0f921\"]]}],\"surface\":[{\"type\":\"surface\",\"colorbar\":{\"outlinewidth\":0,\"ticks\":\"\"},\"colorscale\":[[0.0,\"#0d0887\"],[0.1111111111111111,\"#46039f\"],[0.2222222222222222,\"#7201a8\"],[0.3333333333333333,\"#9c179e\"],[0.4444444444444444,\"#bd3786\"],[0.5555555555555556,\"#d8576b\"],[0.6666666666666666,\"#ed7953\"],[0.7777777777777778,\"#fb9f3a\"],[0.8888888888888888,\"#fdca26\"],[1.0,\"#f0f921\"]]}],\"mesh3d\":[{\"type\":\"mesh3d\",\"colorbar\":{\"outlinewidth\":0,\"ticks\":\"\"}}],\"scatter\":[{\"fillpattern\":{\"fillmode\":\"overlay\",\"size\":10,\"solidity\":0.2},\"type\":\"scatter\"}],\"parcoords\":[{\"type\":\"parcoords\",\"line\":{\"colorbar\":{\"outlinewidth\":0,\"ticks\":\"\"}}}],\"scatterpolargl\":[{\"type\":\"scatterpolargl\",\"marker\":{\"colorbar\":{\"outlinewidth\":0,\"ticks\":\"\"}}}],\"bar\":[{\"error_x\":{\"color\":\"#2a3f5f\"},\"error_y\":{\"color\":\"#2a3f5f\"},\"marker\":{\"line\":{\"color\":\"#E5ECF6\",\"width\":0.5},\"pattern\":{\"fillmode\":\"overlay\",\"size\":10,\"solidity\":0.2}},\"type\":\"bar\"}],\"scattergeo\":[{\"type\":\"scattergeo\",\"marker\":{\"colorbar\":{\"outlinewidth\":0,\"ticks\":\"\"}}}],\"scatterpolar\":[{\"type\":\"scatterpolar\",\"marker\":{\"colorbar\":{\"outlinewidth\":0,\"ticks\":\"\"}}}],\"histogram\":[{\"marker\":{\"pattern\":{\"fillmode\":\"overlay\",\"size\":10,\"solidity\":0.2}},\"type\":\"histogram\"}],\"scattergl\":[{\"type\":\"scattergl\",\"marker\":{\"colorbar\":{\"outlinewidth\":0,\"ticks\":\"\"}}}],\"scatter3d\":[{\"type\":\"scatter3d\",\"line\":{\"colorbar\":{\"outlinewidth\":0,\"ticks\":\"\"}},\"marker\":{\"colorbar\":{\"outlinewidth\":0,\"ticks\":\"\"}}}],\"scattermapbox\":[{\"type\":\"scattermapbox\",\"marker\":{\"colorbar\":{\"outlinewidth\":0,\"ticks\":\"\"}}}],\"scatterternary\":[{\"type\":\"scatterternary\",\"marker\":{\"colorbar\":{\"outlinewidth\":0,\"ticks\":\"\"}}}],\"scattercarpet\":[{\"type\":\"scattercarpet\",\"marker\":{\"colorbar\":{\"outlinewidth\":0,\"ticks\":\"\"}}}],\"carpet\":[{\"aaxis\":{\"endlinecolor\":\"#2a3f5f\",\"gridcolor\":\"white\",\"linecolor\":\"white\",\"minorgridcolor\":\"white\",\"startlinecolor\":\"#2a3f5f\"},\"baxis\":{\"endlinecolor\":\"#2a3f5f\",\"gridcolor\":\"white\",\"linecolor\":\"white\",\"minorgridcolor\":\"white\",\"startlinecolor\":\"#2a3f5f\"},\"type\":\"carpet\"}],\"table\":[{\"cells\":{\"fill\":{\"color\":\"#EBF0F8\"},\"line\":{\"color\":\"white\"}},\"header\":{\"fill\":{\"color\":\"#C8D4E3\"},\"line\":{\"color\":\"white\"}},\"type\":\"table\"}],\"barpolar\":[{\"marker\":{\"line\":{\"color\":\"#E5ECF6\",\"width\":0.5},\"pattern\":{\"fillmode\":\"overlay\",\"size\":10,\"solidity\":0.2}},\"type\":\"barpolar\"}],\"pie\":[{\"automargin\":true,\"type\":\"pie\"}]},\"layout\":{\"autotypenumbers\":\"strict\",\"colorway\":[\"#636efa\",\"#EF553B\",\"#00cc96\",\"#ab63fa\",\"#FFA15A\",\"#19d3f3\",\"#FF6692\",\"#B6E880\",\"#FF97FF\",\"#FECB52\"],\"font\":{\"color\":\"#2a3f5f\"},\"hovermode\":\"closest\",\"hoverlabel\":{\"align\":\"left\"},\"paper_bgcolor\":\"white\",\"plot_bgcolor\":\"#E5ECF6\",\"polar\":{\"bgcolor\":\"#E5ECF6\",\"angularaxis\":{\"gridcolor\":\"white\",\"linecolor\":\"white\",\"ticks\":\"\"},\"radialaxis\":{\"gridcolor\":\"white\",\"linecolor\":\"white\",\"ticks\":\"\"}},\"ternary\":{\"bgcolor\":\"#E5ECF6\",\"aaxis\":{\"gridcolor\":\"white\",\"linecolor\":\"white\",\"ticks\":\"\"},\"baxis\":{\"gridcolor\":\"white\",\"linecolor\":\"white\",\"ticks\":\"\"},\"caxis\":{\"gridcolor\":\"white\",\"linecolor\":\"white\",\"ticks\":\"\"}},\"coloraxis\":{\"colorbar\":{\"outlinewidth\":0,\"ticks\":\"\"}},\"colorscale\":{\"sequential\":[[0.0,\"#0d0887\"],[0.1111111111111111,\"#46039f\"],[0.2222222222222222,\"#7201a8\"],[0.3333333333333333,\"#9c179e\"],[0.4444444444444444,\"#bd3786\"],[0.5555555555555556,\"#d8576b\"],[0.6666666666666666,\"#ed7953\"],[0.7777777777777778,\"#fb9f3a\"],[0.8888888888888888,\"#fdca26\"],[1.0,\"#f0f921\"]],\"sequentialminus\":[[0.0,\"#0d0887\"],[0.1111111111111111,\"#46039f\"],[0.2222222222222222,\"#7201a8\"],[0.3333333333333333,\"#9c179e\"],[0.4444444444444444,\"#bd3786\"],[0.5555555555555556,\"#d8576b\"],[0.6666666666666666,\"#ed7953\"],[0.7777777777777778,\"#fb9f3a\"],[0.8888888888888888,\"#fdca26\"],[1.0,\"#f0f921\"]],\"diverging\":[[0,\"#8e0152\"],[0.1,\"#c51b7d\"],[0.2,\"#de77ae\"],[0.3,\"#f1b6da\"],[0.4,\"#fde0ef\"],[0.5,\"#f7f7f7\"],[0.6,\"#e6f5d0\"],[0.7,\"#b8e186\"],[0.8,\"#7fbc41\"],[0.9,\"#4d9221\"],[1,\"#276419\"]]},\"xaxis\":{\"gridcolor\":\"white\",\"linecolor\":\"white\",\"ticks\":\"\",\"title\":{\"standoff\":15},\"zerolinecolor\":\"white\",\"automargin\":true,\"zerolinewidth\":2},\"yaxis\":{\"gridcolor\":\"white\",\"linecolor\":\"white\",\"ticks\":\"\",\"title\":{\"standoff\":15},\"zerolinecolor\":\"white\",\"automargin\":true,\"zerolinewidth\":2},\"scene\":{\"xaxis\":{\"backgroundcolor\":\"#E5ECF6\",\"gridcolor\":\"white\",\"linecolor\":\"white\",\"showbackground\":true,\"ticks\":\"\",\"zerolinecolor\":\"white\",\"gridwidth\":2},\"yaxis\":{\"backgroundcolor\":\"#E5ECF6\",\"gridcolor\":\"white\",\"linecolor\":\"white\",\"showbackground\":true,\"ticks\":\"\",\"zerolinecolor\":\"white\",\"gridwidth\":2},\"zaxis\":{\"backgroundcolor\":\"#E5ECF6\",\"gridcolor\":\"white\",\"linecolor\":\"white\",\"showbackground\":true,\"ticks\":\"\",\"zerolinecolor\":\"white\",\"gridwidth\":2}},\"shapedefaults\":{\"line\":{\"color\":\"#2a3f5f\"}},\"annotationdefaults\":{\"arrowcolor\":\"#2a3f5f\",\"arrowhead\":0,\"arrowwidth\":1},\"geo\":{\"bgcolor\":\"white\",\"landcolor\":\"#E5ECF6\",\"subunitcolor\":\"white\",\"showland\":true,\"showlakes\":true,\"lakecolor\":\"white\"},\"title\":{\"x\":0.05},\"mapbox\":{\"style\":\"light\"}}},\"shapes\":[{\"line\":{\"color\":\"blue\",\"dash\":\"dash\",\"width\":2},\"name\":\"Lowest Point Level\",\"type\":\"line\",\"x0\":-752.1299680388853,\"x1\":133.54076609715761,\"y0\":146.13278325972846,\"y1\":146.13278325972846},{\"line\":{\"color\":\"green\",\"dash\":\"dash\",\"width\":2},\"name\":\"Final Depth Level\",\"type\":\"line\",\"x0\":-752.1299680388853,\"x1\":133.54076609715761,\"y0\":66.49866666177698,\"y1\":66.49866666177698},{\"line\":{\"color\":\"purple\",\"dash\":\"dash\",\"width\":2},\"name\":\"Initial Highest Point Level\",\"type\":\"line\",\"x0\":-752.1299680388853,\"x1\":133.54076609715761,\"y0\":153.05482970502916,\"y1\":153.05482970502916}],\"annotations\":[{\"font\":{\"color\":\"blue\",\"size\":12},\"showarrow\":false,\"text\":\"New - Trench-Bottom\",\"x\":-752.1299680388853,\"y\":146.13278325972846,\"yshift\":10},{\"font\":{\"color\":\"green\",\"size\":12},\"showarrow\":false,\"text\":\"Earth Surface\",\"x\":-752.1299680388853,\"y\":66.49866666177698,\"yshift\":10},{\"font\":{\"color\":\"purple\",\"size\":12},\"showarrow\":false,\"text\":\"Initial - Trench-Bottom\",\"x\":-752.1299680388853,\"y\":153.05482970502916,\"yshift\":10},{\"font\":{\"color\":\"red\",\"size\":14},\"showarrow\":false,\"text\":\"No Pipe Detected\",\"x\":0.5,\"xref\":\"paper\",\"y\":1.0,\"yref\":\"paper\"}],\"legend\":{\"x\":1.1,\"y\":0.5,\"orientation\":\"v\"},\"yaxis\":{\"title\":{\"text\":\"Y Coordinate (mm)\"},\"autorange\":\"reversed\"},\"xaxis\":{\"title\":{\"text\":\"X Coordinate (mm)\"},\"scaleanchor\":\"y\",\"scaleratio\":1},\"coloraxis\":{\"colorbar\":{\"x\":1.2,\"y\":0.5,\"len\":0.7}},\"title\":{\"text\":\"LiDAR Data Visualization with Circle Fitting | Final Depth: 86.56 mm | New Final Depth: 79.63 mm | Tilt: 0\\u00b0\"}},                        {\"responsive\": true}                    ).then(function(){\n",
       "                            \n",
       "var gd = document.getElementById('b1326354-4ac1-4566-b6ff-27ad116d57be');\n",
       "var x = new MutationObserver(function (mutations, observer) {{\n",
       "        var display = window.getComputedStyle(gd).display;\n",
       "        if (!display || display === 'none') {{\n",
       "            console.log([gd, 'removed!']);\n",
       "            Plotly.purge(gd);\n",
       "            observer.disconnect();\n",
       "        }}\n",
       "}});\n",
       "\n",
       "// Listen for the removal of the full notebook cells\n",
       "var notebookContainer = gd.closest('#notebook-container');\n",
       "if (notebookContainer) {{\n",
       "    x.observe(notebookContainer, {childList: true});\n",
       "}}\n",
       "\n",
       "// Listen for the clearing of the current output cell\n",
       "var outputEl = gd.closest('.output');\n",
       "if (outputEl) {{\n",
       "    x.observe(outputEl, {childList: true});\n",
       "}}\n",
       "\n",
       "                        })                };                });            </script>        </div>"
      ]
     },
     "metadata": {},
     "output_type": "display_data"
    }
   ],
   "source": [
    "\"\"\"\n",
    "### Summary of the Code:\n",
    "\n",
    "- **Data Loading and Initialization:**\n",
    "  - Loads LiDAR data from a JSON file containing angles and distances.\n",
    "  - Converts angles from degrees to radians.\n",
    "  - Converts polar coordinates (angle, distance) to Cartesian coordinates (x, y).\n",
    "\n",
    "- **Coordinate Rotation:**\n",
    "  - Rotates the coordinates based on a specified tilt angle.\n",
    "  - Defines specific angle ranges to identify different regions (e.g., the earth's surface, max y-coordinate range).\n",
    "\n",
    "- **Ground Level Detection:**\n",
    "  - Identifies the highest y-coordinate within a defined angle range to determine the ground level (`y_surface_level_rotated`).\n",
    "\n",
    "- **Depth Calculation:**\n",
    "  - Calculates the depth of each point relative to the identified ground level.\n",
    "\n",
    "- **Flat Surface Detection:**\n",
    "  - **Variance Calculation:** \n",
    "    - Scans through the data to identify flat surfaces by calculating the variance of y-coordinates over a moving window of points.\n",
    "    - Points with low variance in y-coordinates are considered part of a flat surface.\n",
    "  - **Flat Surface Detection Logic:**\n",
    "    - The function `detect_flat_surface` identifies potential flat regions on both sides of the trench by checking if the variance within a window is below a certain threshold.\n",
    "    - It stores the indices of the start and end of each detected flat region.\n",
    "\n",
    "- **Widest Flat Surface Identification:**\n",
    "  - **Determine the Widest Flat Region:**\n",
    "    - The function `get_widest_flat_region` calculates the width (in x-coordinates) of each detected flat region.\n",
    "    - The widest flat region on each side (left and right) is identified.\n",
    "\n",
    "- **Final Depth Calculation:**\n",
    "  - **Average Y-Values for Both Sides:**\n",
    "    - The code calculates the average y-coordinate for the widest flat region on both sides.\n",
    "    - The side with the higher average y-value is selected.\n",
    "  - **Final Depth Calculation:**\n",
    "    - The final depth is determined by subtracting the higher average y-value (from the selected side) from the ground level (`y_surface_level_rotated`).\n",
    "\n",
    "- **Threshold and Bump Point Detection:**\n",
    "  - Calculates a threshold as 5% of the final depth and identifies points above this threshold.\n",
    "  - Attempts to identify and fit a circle to the lowest points around the trench bottom, which could represent a pipe.\n",
    "\n",
    "- **Plotting:**\n",
    "  - Generates a plot visualizing the LiDAR points, highlighting the detected flat surfaces and the trench-bottom.\n",
    "  - Annotates the plot with key information, such as the final depth, the detected trench-bottom, and whether a pipe was detected.\n",
    "\n",
    "- **Output:**\n",
    "  - The final plot is saved as an interactive HTML file.\n",
    "\n",
    "### Key Logical Parts:\n",
    "\n",
    "1. **Detection of the Widest Flat Surface:**\n",
    "   - Both sides of the trench are scanned for flat surfaces based on the variance in y-coordinates.\n",
    "   - The widest flat region on each side is identified by calculating the width in x-coordinates.\n",
    "\n",
    "2. **Final Depth Calculation:**\n",
    "   - The average y-values of the widest flat regions from both sides are compared.\n",
    "   - The higher average y-value is selected and subtracted from the `y_surface_level_rotated` to determine the final depth. \n",
    "\n",
    "This approach ensures that the final depth reflects the trench's depth, focusing on the flattest and widest areas detected on both sides of the trench.\n",
    "\n",
    "\"\"\"\n",
    "\n",
    "\n",
    "\n",
    "\n",
    "import json\n",
    "import numpy as np\n",
    "import plotly.graph_objects as go\n",
    "from scipy.optimize import least_squares\n",
    "\n",
    "# Function to fit a circle to given points\n",
    "def fit_circle(x, y):\n",
    "    def calc_R(xc, yc):\n",
    "        return np.sqrt((x - xc) ** 2 + (y - yc) ** 2)\n",
    "\n",
    "    def f_2(c):\n",
    "        Ri = calc_R(*c)\n",
    "        return Ri - Ri.mean()\n",
    "\n",
    "    center_estimate = x.mean(), y.mean()\n",
    "    result = least_squares(f_2, center_estimate)\n",
    "    xc, yc = result.x\n",
    "    Ri = calc_R(xc, yc)\n",
    "    R = Ri.mean()\n",
    "    return xc, yc, R, Ri\n",
    "\n",
    "# Given JSON data (shortened for brevity)\n",
    "json_data = \"\"\"\n",
    "{\n",
    "    \"angles\": [\n",
    "                       {\"angle\": 2, \"distance\": 146.333328},\n",
    "        {\"angle\": 3, \"distance\": 146.333328},\n",
    "        {\"angle\": 4, \"distance\": 147.000000},\n",
    "        {\"angle\": 5, \"distance\": 149.125000},\n",
    "        {\"angle\": 6, \"distance\": 151.157898},\n",
    "        {\"angle\": 7, \"distance\": 152.333328},\n",
    "        {\"angle\": 8, \"distance\": 153.437500},\n",
    "        {\"angle\": 9, \"distance\": 153.071426},\n",
    "        {\"angle\": 10, \"distance\": 152.899994},\n",
    "        {\"angle\": 11, \"distance\": 152.399994},\n",
    "        {\"angle\": 12, \"distance\": 152.111115},\n",
    "        {\"angle\": 13, \"distance\": 152.142853},\n",
    "        {\"angle\": 14, \"distance\": 152.615387},\n",
    "        {\"angle\": 15, \"distance\": 152.428574},\n",
    "        {\"angle\": 16, \"distance\": 151.545456},\n",
    "        {\"angle\": 17, \"distance\": 151.000000},\n",
    "        {\"angle\": 18, \"distance\": 151.000000},\n",
    "        {\"angle\": 19, \"distance\": 150.300003},\n",
    "        {\"angle\": 20, \"distance\": 148.333328},\n",
    "        {\"angle\": 21, \"distance\": 143.500000},\n",
    "        {\"angle\": 22, \"distance\": 138.333328},\n",
    "        {\"angle\": 23, \"distance\": 133.555557},\n",
    "        {\"angle\": 24, \"distance\": 129.307693},\n",
    "        {\"angle\": 25, \"distance\": 126.375000},\n",
    "        {\"angle\": 26, \"distance\": 123.545456},\n",
    "        {\"angle\": 27, \"distance\": 118.769234},\n",
    "        {\"angle\": 28, \"distance\": 115.000000},\n",
    "        {\"angle\": 29, \"distance\": 110.437500},\n",
    "        {\"angle\": 30, \"distance\": 106.875000},\n",
    "        {\"angle\": 31, \"distance\": 104.199997},\n",
    "        {\"angle\": 32, \"distance\": 100.599998},\n",
    "        {\"angle\": 33, \"distance\": 97.333336},\n",
    "        {\"angle\": 34, \"distance\": 102.500000},\n",
    "        {\"angle\": 35, \"distance\": 96.555557},\n",
    "        {\"angle\": 36, \"distance\": 94.222221},\n",
    "        {\"angle\": 37, \"distance\": 101.125000},\n",
    "        {\"angle\": 38, \"distance\": 104.199997},\n",
    "        {\"angle\": 39, \"distance\": 84.000000},\n",
    "        {\"angle\": 40, \"distance\": 84.166664},\n",
    "        {\"angle\": 41, \"distance\": 84.142860},\n",
    "        {\"angle\": 42, \"distance\": 85.000000},\n",
    "        {\"angle\": 43, \"distance\": 85.666664},\n",
    "        {\"angle\": 44, \"distance\": 87.199997},\n",
    "        {\"angle\": 45, \"distance\": 88.428574},\n",
    "        {\"angle\": 46, \"distance\": 90.000000},\n",
    "        {\"angle\": 47, \"distance\": 91.166664},\n",
    "        {\"angle\": 48, \"distance\": 92.714287},\n",
    "        {\"angle\": 49, \"distance\": 94.111115},\n",
    "        {\"angle\": 50, \"distance\": 95.599998},\n",
    "        {\"angle\": 51, \"distance\": 98.099998},\n",
    "        {\"angle\": 52, \"distance\": 99.833336},\n",
    "        {\"angle\": 53, \"distance\": 101.818184},\n",
    "        {\"angle\": 54, \"distance\": 104.300003},\n",
    "        {\"angle\": 55, \"distance\": 106.250000},\n",
    "        {\"angle\": 56, \"distance\": 107.833336},\n",
    "        {\"angle\": 57, \"distance\": 109.583336},\n",
    "        {\"angle\": 58, \"distance\": 111.285713},\n",
    "        {\"angle\": 59, \"distance\": 114.000000},\n",
    "        {\"angle\": 60, \"distance\": 117.000000},\n",
    "        {\"angle\": 61, \"distance\": 119.833336},\n",
    "        {\"angle\": 62, \"distance\": 123.272728},\n",
    "        {\"angle\": 63, \"distance\": 126.916664},\n",
    "        {\"angle\": 64, \"distance\": 131.272720},\n",
    "        {\"angle\": 65, \"distance\": 134.777771},\n",
    "        {\"angle\": 66, \"distance\": 138.692307},\n",
    "        {\"angle\": 67, \"distance\": 139.375000},\n",
    "        {\"angle\": 68, \"distance\": 139.571426},\n",
    "        {\"angle\": 69, \"distance\": 140.399994},\n",
    "        {\"angle\": 70, \"distance\": 142.111115},\n",
    "        {\"angle\": 290, \"distance\": 800.399994},\n",
    "        {\"angle\": 291, \"distance\": 800.500000},\n",
    "        {\"angle\": 292, \"distance\": 147.666672},\n",
    "        {\"angle\": 293, \"distance\": 147.166672},\n",
    "        {\"angle\": 294, \"distance\": 147.600006},\n",
    "        {\"angle\": 295, \"distance\": 145.666672},\n",
    "        {\"angle\": 296, \"distance\": 144.800003},\n",
    "        {\"angle\": 297, \"distance\": 143.500000},\n",
    "        {\"angle\": 298, \"distance\": 141.333328},\n",
    "        {\"angle\": 299, \"distance\": 137.399994},\n",
    "        {\"angle\": 300, \"distance\": 132.500000},\n",
    "        {\"angle\": 301, \"distance\": 128.399994},\n",
    "        {\"angle\": 302, \"distance\": 125.000000},\n",
    "        {\"angle\": 303, \"distance\": 122.000000},\n",
    "        {\"angle\": 304, \"distance\": 119.000000},\n",
    "        {\"angle\": 305, \"distance\": 116.000000},\n",
    "        {\"angle\": 306, \"distance\": 113.000000},\n",
    "        {\"angle\": 307, \"distance\": 110.000000},\n",
    "        {\"angle\": 308, \"distance\": 108.000000},\n",
    "        {\"angle\": 309, \"distance\": 105.000000},\n",
    "        {\"angle\": 310, \"distance\": 104.000000},\n",
    "        {\"angle\": 311, \"distance\": 102.500000},\n",
    "        {\"angle\": 312, \"distance\": 101.000000},\n",
    "        {\"angle\": 313, \"distance\": 99.000000},\n",
    "        {\"angle\": 314, \"distance\": 97.500000},\n",
    "        {\"angle\": 315, \"distance\": 96.000000},\n",
    "        {\"angle\": 316, \"distance\": 94.500000},\n",
    "        {\"angle\": 317, \"distance\": 92.000000},\n",
    "        {\"angle\": 318, \"distance\": 90.000000},\n",
    "        {\"angle\": 319, \"distance\": 88.500000},\n",
    "        {\"angle\": 320, \"distance\": 87.666664},\n",
    "        {\"angle\": 321, \"distance\": 87.599998},\n",
    "        {\"angle\": 322, \"distance\": 121.000000},\n",
    "        {\"angle\": 323, \"distance\": 110.000000},\n",
    "        {\"angle\": 324, \"distance\": 101.400002},\n",
    "        {\"angle\": 325, \"distance\": 120.250000},\n",
    "        {\"angle\": 326, \"distance\": 120.000000},\n",
    "        {\"angle\": 327, \"distance\": 91.199997},\n",
    "        {\"angle\": 328, \"distance\": 93.000000},\n",
    "        {\"angle\": 329, \"distance\": 94.599998},\n",
    "        {\"angle\": 330, \"distance\": 96.666664},\n",
    "        {\"angle\": 331, \"distance\": 97.800003},\n",
    "        {\"angle\": 332, \"distance\": 100.000000},\n",
    "        {\"angle\": 333, \"distance\": 102.250000},\n",
    "        {\"angle\": 334, \"distance\": 104.428574},\n",
    "        {\"angle\": 335, \"distance\": 106.400002},\n",
    "        {\"angle\": 336, \"distance\": 108.400002},\n",
    "        {\"angle\": 337, \"distance\": 110.285713},\n",
    "        {\"angle\": 338, \"distance\": 112.250000},\n",
    "        {\"angle\": 339, \"distance\": 114.400002},\n",
    "        {\"angle\": 340, \"distance\": 116.875000},\n",
    "        {\"angle\": 341, \"distance\": 119.599998},\n",
    "        {\"angle\": 342, \"distance\": 123.199997},\n",
    "        {\"angle\": 343, \"distance\": 127.400002},\n",
    "        {\"angle\": 344, \"distance\": 131.000000},\n",
    "        {\"angle\": 345, \"distance\": 136.181824},\n",
    "        {\"angle\": 346, \"distance\": 141.857147},\n",
    "        {\"angle\": 347, \"distance\": 145.777771},\n",
    "        {\"angle\": 348, \"distance\": 150.285721},\n",
    "        {\"angle\": 349, \"distance\": 153.000000},\n",
    "        {\"angle\": 350, \"distance\": 154.222229},\n",
    "        {\"angle\": 351, \"distance\": 153.666672},\n",
    "        {\"angle\": 352, \"distance\": 153.857147},\n",
    "        {\"angle\": 353, \"distance\": 153.250000},\n",
    "        {\"angle\": 354, \"distance\": 153.500000},\n",
    "        {\"angle\": 355, \"distance\": 153.199997},\n",
    "        {\"angle\": 356, \"distance\": 153.428574},\n",
    "        {\"angle\": 357, \"distance\": 153.000000},\n",
    "        {\"angle\": 358, \"distance\": 152.000000},\n",
    "        {\"angle\": 359, \"distance\": 150.000000}\n",
    "    ],\n",
    "    \"tiltAngle\": 0.000000,\n",
    "    \"finalDepth\": 86.923981,\n",
    "    \"newFinalDepth\": 80.001923,\n",
    "    \"detectionStatus\": \"Pipe Detected\",\n",
    "    \"xc\": 7.673218,\n",
    "    \"yc\": 146.339615,\n",
    "    \"R\": 1.791339,\n",
    "    \"max_residual\": 1.583982,\n",
    "    \"mean_residual\": 1.055988,\n",
    "    \"radius_limit\": 3.478334,\n",
    "    \"is_good_fit\": 1,\n",
    "    \"diameter_limit\": 6.956668,\n",
    "    \"pipeDiameter\": 3.582677\n",
    "}\n",
    "\"\"\"\n",
    "\n",
    "# Load JSON data\n",
    "data = json.loads(json_data)\n",
    "\n",
    "# Extract angles and distances\n",
    "angles_degrees = [point[\"angle\"] for point in data[\"angles\"]]\n",
    "distances_mm = [point[\"distance\"] for point in data[\"angles\"]]\n",
    "\n",
    "# Convert angles from degrees to radians\n",
    "angles_radians = np.radians(angles_degrees)\n",
    "\n",
    "# Convert to Cartesian coordinates\n",
    "x_coords = [distance_mm * np.sin(angle) for angle, distance_mm in zip(angles_radians, distances_mm)]\n",
    "y_coords = [distance_mm * np.cos(angle) for angle, distance_mm in zip(angles_radians, distances_mm)]\n",
    "\n",
    "# Assuming the LIDAR is at the origin for simplicity\n",
    "lidar_pos = (0, 0)\n",
    "\n",
    "# Define tilt value\n",
    "tilt = 0  # This can be adjusted as needed\n",
    "\n",
    "# Rotate the coordinates by tilt angle degrees counterclockwise\n",
    "rotation_angle = np.radians(tilt)\n",
    "cos_angle = np.cos(rotation_angle)\n",
    "sin_angle = np.sin(rotation_angle)\n",
    "x_coords_rotated = [x * cos_angle - y * sin_angle for x, y in zip(x_coords, y_coords)]\n",
    "y_coords_rotated = [x * sin_angle + y * cos_angle for x, y in zip(x_coords, y_coords)]\n",
    "\n",
    "# Define angle ranges with tilt angle adjustment and wrapping logic\n",
    "startAngleRange1 = (290 + tilt) % 360\n",
    "endAngleRange1 = (359 + tilt) % 360\n",
    "startAngleRange2 = (0 + tilt) % 360\n",
    "endAngleRange2 = (70 + tilt) % 360\n",
    "\n",
    "if startAngleRange1 < 0: startAngleRange1 += 360\n",
    "if endAngleRange1 < 0: endAngleRange1 += 360\n",
    "if startAngleRange2 < 0: startAngleRange2 += 360\n",
    "if endAngleRange2 < 0: endAngleRange2 += 360\n",
    "\n",
    "# Define the angle range for selecting the maximum Y-coordinate\n",
    "max_Y_startAngleRange = (348 + tilt) % 360\n",
    "max_Y_endAngleRange = (12 + tilt) % 360\n",
    "\n",
    "if max_Y_startAngleRange < 0: startAngleRange1 += 360\n",
    "if max_Y_endAngleRange < 0: endAngleRange2 += 360\n",
    "\n",
    "# Define the angle range for selecting the earth surface\n",
    "earth_Surface_startAngleRange1  = (290 + tilt) % 360\n",
    "earth_Surface_endAngleRange1    = (348 + tilt) % 360\n",
    "earth_Surface_startAngleRange2  = (12 + tilt) % 360\n",
    "earth_Surface_endAngleRange2    = (70 + tilt) % 360\n",
    "\n",
    "# Adjust for negative angles, ensuring all angles are positive\n",
    "if earth_Surface_startAngleRange1  < 0: earth_Surface_startAngleRange1 += 360\n",
    "if earth_Surface_endAngleRange1    < 0: earth_Surface_endAngleRange1 += 360\n",
    "if earth_Surface_startAngleRange2  < 0: earth_Surface_startAngleRange2 += 360\n",
    "if earth_Surface_endAngleRange2    < 0: earth_Surface_endAngleRange2 += 360\n",
    "\n",
    "# Filter the Y-coordinates within the specified angle range\n",
    "y_coords_in_range = [\n",
    "    y for angle, y in zip(angles_degrees, y_coords_rotated) \n",
    "    if (max_Y_startAngleRange <= angle <= max_Y_endAngleRange) or \n",
    "       (max_Y_startAngleRange > max_Y_endAngleRange and (angle >= max_Y_startAngleRange or angle <= max_Y_endAngleRange))\n",
    "]\n",
    "\n",
    "# Ensure there are points within the specified angle range\n",
    "if not y_coords_in_range:\n",
    "    raise ValueError(\"No points found within the specified angle range.\")\n",
    "\n",
    "# Identify the highest Y-coordinate value as the ground level reference after rotation within the angle range\n",
    "y_surface_level_rotated = max(y_coords_in_range)\n",
    "\n",
    "# Calculate the depth of each point relative to the highest point (ground level) after rotation\n",
    "depths_rotated = [y_surface_level_rotated - y for y in y_coords_rotated]\n",
    "\n",
    "# Define thresholds and minimum points for flat surface detection\n",
    "y_variance_threshold = 2.5  # Example threshold for y-variance\n",
    "min_consecutive_points = 15  # Minimum number of consecutive points to consider a flat region\n",
    "\n",
    "\n",
    "def detect_flat_surface(filtered_x_coords, filtered_y_coords, filtered_angles, y_variance_threshold, min_points):\n",
    "    flat_regions = []\n",
    "    i = 0\n",
    "    while i < len(filtered_x_coords) - min_points:\n",
    "        # Calculate the variance of y-coordinates in the current window\n",
    "        y_variance = np.var(filtered_y_coords[i:i + min_points])\n",
    "        \n",
    "        # Debugging: Print the variance and associated angle for the window\n",
    "        print(f\"Window start index: {i}, Angle: {filtered_angles[i]:.2f}°, Variance: {y_variance}\")\n",
    "\n",
    "        # If the variance is below the threshold, it's a potential flat region\n",
    "        if y_variance < y_variance_threshold:\n",
    "            start = i\n",
    "            end = i + min_points - 1\n",
    "\n",
    "            # Try to extend the flat region by adding more points while variance is low\n",
    "            while end < len(filtered_x_coords) - 1:\n",
    "                extended_variance = np.var(filtered_y_coords[start:end + 2])\n",
    "                print(f\"Extending region. Start: {start}, Angle: {filtered_angles[start]:.2f}°, End: {end+1}, Angle: {filtered_angles[end+1]:.2f}°, Extended Variance: {extended_variance}\")\n",
    "                \n",
    "                if extended_variance < y_variance_threshold:\n",
    "                    end += 1\n",
    "                else:\n",
    "                    break\n",
    "\n",
    "            # If a sufficiently large flat region is found, store it\n",
    "            if end - start + 1 >= min_points:\n",
    "                flat_regions.append((start, end))\n",
    "            i = end\n",
    "        else:\n",
    "            i += 1\n",
    "    return flat_regions\n",
    "\n",
    "\n",
    "# Function to determine the widest flat region\n",
    "def get_widest_flat_region(flat_regions, x_coords):\n",
    "    max_width = 0\n",
    "    widest_flat_region = None\n",
    "    for start, end in flat_regions:\n",
    "        width = abs(x_coords[end] - x_coords[start])\n",
    "        if width > max_width:\n",
    "            max_width = width\n",
    "            widest_flat_region = (start, end)\n",
    "    return widest_flat_region, max_width\n",
    "\n",
    "# Print the angles and corresponding indices being considered for Side 1\n",
    "filtered_angles_side1 = []\n",
    "filtered_x_coords_side1 = []\n",
    "filtered_y_coords_side1 = []\n",
    "\n",
    "for angle, x, y in zip(angles_degrees, x_coords_rotated, y_coords_rotated):\n",
    "    if (earth_Surface_startAngleRange1 <= angle <= earth_Surface_endAngleRange1) or \\\n",
    "       (earth_Surface_startAngleRange1 > earth_Surface_endAngleRange1 and \\\n",
    "        (angle >= earth_Surface_startAngleRange1 or angle <= earth_Surface_endAngleRange1)):\n",
    "        filtered_angles_side1.append(angle)\n",
    "        filtered_x_coords_side1.append(x)\n",
    "        filtered_y_coords_side1.append(y)\n",
    "\n",
    "# Print the angles and corresponding indices being considered for Side 2\n",
    "filtered_angles_side2 = []\n",
    "filtered_x_coords_side2 = []\n",
    "filtered_y_coords_side2 = []\n",
    "\n",
    "for angle, x, y in zip(angles_degrees, x_coords_rotated, y_coords_rotated):\n",
    "    if (earth_Surface_startAngleRange2 <= angle <= earth_Surface_endAngleRange2) or \\\n",
    "       (earth_Surface_startAngleRange2 > earth_Surface_endAngleRange2 and \\\n",
    "        (angle >= earth_Surface_startAngleRange2 or angle <= earth_Surface_endAngleRange2)):\n",
    "        filtered_angles_side2.append(angle)\n",
    "        filtered_x_coords_side2.append(x)\n",
    "        filtered_y_coords_side2.append(y)\n",
    "\n",
    "# Detect flat surfaces on both sides\n",
    "flat_regions_side1 = detect_flat_surface(\n",
    "    filtered_x_coords_side1,\n",
    "    filtered_y_coords_side1,\n",
    "    filtered_angles_side1,  # Add this line to pass the filtered angles\n",
    "    y_variance_threshold=y_variance_threshold,\n",
    "    min_points=min_consecutive_points\n",
    ")\n",
    "\n",
    "flat_regions_side2 = detect_flat_surface(\n",
    "    filtered_x_coords_side2,\n",
    "    filtered_y_coords_side2,\n",
    "    filtered_angles_side2,  # Add this line to pass the filtered angles\n",
    "    y_variance_threshold=y_variance_threshold,\n",
    "    min_points=min_consecutive_points\n",
    ")\n",
    "\n",
    "\n",
    "# Determine the widest flat region on each side\n",
    "widest_flat_region_side1, width_side1 = get_widest_flat_region(flat_regions_side1, filtered_x_coords_side1)\n",
    "widest_flat_region_side2, width_side2 = get_widest_flat_region(flat_regions_side2, filtered_x_coords_side2)\n",
    "\n",
    "# Determine the final depth based on the comparison of the average y values of the widest flat surfaces on both sides\n",
    "if widest_flat_region_side1 is not None and widest_flat_region_side2 is not None:\n",
    "    # Calculate the average y values for both sides\n",
    "    avg_flat_y_side1 = np.mean(filtered_y_coords_side1[widest_flat_region_side1[0]:widest_flat_region_side1[1] + 1])\n",
    "    avg_flat_y_side2 = np.mean(filtered_y_coords_side2[widest_flat_region_side2[0]:widest_flat_region_side2[1] + 1])\n",
    "    \n",
    "    # Compare the average y values and select the higher one\n",
    "    avg_flat_y = max(avg_flat_y_side1, avg_flat_y_side2)\n",
    "    \n",
    "    # Calculate the final depth\n",
    "    final_depth = y_surface_level_rotated - avg_flat_y\n",
    "    print(f\"Selected higher average y value from both sides for final depth calculation. Final Depth: {final_depth:.2f} mm\")\n",
    "elif widest_flat_region_side1 is not None:\n",
    "    avg_flat_y = np.mean(filtered_y_coords_side1[widest_flat_region_side1[0]:widest_flat_region_side1[1] + 1])\n",
    "    final_depth = y_surface_level_rotated - avg_flat_y\n",
    "    print(f\"Flat region detected on side 1. Final Depth using flat surface: {final_depth:.2f} mm\")\n",
    "elif widest_flat_region_side2 is not None:\n",
    "    avg_flat_y = np.mean(filtered_y_coords_side2[widest_flat_region_side2[0]:widest_flat_region_side2[1] + 1])\n",
    "    final_depth = y_surface_level_rotated - avg_flat_y\n",
    "    print(f\"Flat region detected on side 2. Final Depth using flat surface: {final_depth:.2f} mm\")\n",
    "\n",
    "else:\n",
    "    print(\"No flat regions detected. Using depth sorting method.\")\n",
    "\n",
    "    # Collect depths for specified angle ranges\n",
    "    depths_range1 = [depth for angle, depth in zip(angles_degrees, depths_rotated) \n",
    "                     if (earth_Surface_startAngleRange1 <= angle <= earth_Surface_endAngleRange1) or \n",
    "                        (earth_Surface_startAngleRange1 > earth_Surface_endAngleRange1 and \n",
    "                         (angle >= earth_Surface_startAngleRange1 or angle <= earth_Surface_endAngleRange1))]\n",
    "\n",
    "    depths_range2 = [depth for angle, depth in zip(angles_degrees, depths_rotated) \n",
    "                     if (earth_Surface_startAngleRange2 <= angle <= earth_Surface_endAngleRange2) or \n",
    "                        (earth_Surface_startAngleRange2 > earth_Surface_endAngleRange2 and \n",
    "                         (angle >= earth_Surface_startAngleRange2 or angle <= earth_Surface_endAngleRange2))]\n",
    "\n",
    "    # Sort the depths and take the top 30 highest values\n",
    "    depths_range1.sort(reverse=True)\n",
    "    depths_range2.sort(reverse=True)\n",
    "\n",
    "    top_30_depths_range1 = depths_range1[:30]\n",
    "    top_30_depths_range2 = depths_range2[:30]\n",
    "\n",
    "    # Take the lowest value out of those 30 values on both sides\n",
    "    min_top_30_depth_range1 = min(top_30_depths_range1) if top_30_depths_range1 else float('inf')\n",
    "    min_top_30_depth_range2 = min(top_30_depths_range2) if top_30_depths_range2 else float('inf')\n",
    "\n",
    "    # Determine the final depth value\n",
    "    final_depth = min(min_top_30_depth_range1, min_top_30_depth_range2)\n",
    "\n",
    "    # Print the final depth value\n",
    "    print(f\"Final Depth using depth sorting: {final_depth:.2f} mm\")\n",
    "\n",
    "# Calculate the threshold as 5% of the final depth value\n",
    "threshold_value = 0.05 * final_depth\n",
    "\n",
    "# Filter points above the threshold within the specified max Y-coordinate angle range\n",
    "threshold_indices = [i for i, y in enumerate(y_coords_rotated) \n",
    "                     if y >= y_surface_level_rotated - threshold_value and \n",
    "                     ((max_Y_startAngleRange <= angles_degrees[i] <= max_Y_endAngleRange) or \n",
    "                      (max_Y_startAngleRange > max_Y_endAngleRange and \n",
    "                       (angles_degrees[i] >= max_Y_startAngleRange or angles_degrees[i] <= max_Y_endAngleRange)))]\n",
    "\n",
    "threshold_angles = [angles_degrees[i] for i in threshold_indices]\n",
    "\n",
    "if threshold_angles:\n",
    "    # Determine the angle range for the points above the threshold\n",
    "    threshold_angles.sort()\n",
    "    if threshold_angles[-1] - threshold_angles[0] <= 180:\n",
    "        angle_range_start = threshold_angles[0]\n",
    "        angle_range_end = threshold_angles[-1]\n",
    "    else:\n",
    "        for i in range(1, len(threshold_angles)):\n",
    "            if threshold_angles[i] - threshold_angles[i-1] > 180:\n",
    "                angle_range_start = threshold_angles[i]\n",
    "                angle_range_end = threshold_angles[i-1] + 360\n",
    "                break\n",
    "\n",
    "    if angle_range_end < angle_range_start:\n",
    "        angle_range_end += 360\n",
    "\n",
    "    # Collect all points within this new angle range\n",
    "    filtered_points = [(x, y, d, a) for x, y, d, a in zip(x_coords_rotated, y_coords_rotated, depths_rotated, angles_degrees)\n",
    "                       if angle_range_start <= a <= angle_range_end or (angle_range_start <= a + 360 <= angle_range_end) or (angle_range_start <= a - 360 <= angle_range_end)]\n",
    "\n",
    "    # Ensure the wrap-around angle logic is correct\n",
    "    adjusted_angles = [a if angle_range_start <= a <= angle_range_end else (a + 360 if a + 360 <= angle_range_end else a - 360) for _, _, _, a in filtered_points]\n",
    "\n",
    "    # Collect points with adjusted angles\n",
    "    filtered_points = [(x, y, d, a) for (x, y, d, a), adj_a in zip(filtered_points, adjusted_angles) if angle_range_start <= adj_a <= angle_range_end]\n",
    "\n",
    "    # Sort the filtered points by their y-coordinate in ascending order\n",
    "    filtered_points_sorted_by_y = sorted(filtered_points, key=lambda p: p[1])\n",
    "\n",
    "    # Initialize lowest_point as None\n",
    "    lowest_point = None\n",
    "\n",
    "    # Find the lowest y-coordinate point that is also less than the final depth\n",
    "    for point in filtered_points_sorted_by_y:\n",
    "        if point[2] < final_depth:\n",
    "            lowest_point = point\n",
    "            break\n",
    "\n",
    "    # Ensure we found a valid point\n",
    "    if lowest_point is not None:\n",
    "        lowest_angle_index = angles_degrees.index(lowest_point[3])\n",
    "\n",
    "        # Adjust depths relative to the new lowest point\n",
    "        new_depths = [(lowest_point[1] - y) for y in y_coords_rotated]\n",
    "\n",
    "        # Calculate the new R limit based on your logic\n",
    "        pipe = y_surface_level_rotated  - lowest_point[1]\n",
    "        diameter_limit = pipe + 0.005 * pipe  # Adding 0.5% of the pipe depth to account for sinking into the mud\n",
    "        radius_limit = diameter_limit / 2\n",
    "\n",
    "        print('Pipe Diameter Limit:', diameter_limit) \n",
    "\n",
    "        # Define the maximum allowable Euclidean distance gap to consider points as continuous\n",
    "        MAX_EUCLIDEAN_DISTANCE_GAP = np.sqrt(2) * radius_limit\n",
    "\n",
    "        # Ensure proper index wrapping around the list\n",
    "        bump_indices = [lowest_angle_index]\n",
    "\n",
    "        # Initialize variables for bump points collection\n",
    "        left_collected = 0\n",
    "        right_collected = 0\n",
    "        i = 1\n",
    "\n",
    "        # Function to calculate Euclidean distance between two points\n",
    "        def euclidean_distance(x1, y1, x2, y2):\n",
    "            return np.sqrt((x2 - x1) ** 2 + (y2 - y1) ** 2)\n",
    "\n",
    "        # Collect points to the left and right of the lowest point\n",
    "        while left_collected < 5 or right_collected < 5:\n",
    "            if left_collected < 5:\n",
    "                left_index = (lowest_angle_index - i + len(angles_degrees)) % len(angles_degrees)\n",
    "                if euclidean_distance(x_coords_rotated[lowest_angle_index], y_coords_rotated[lowest_angle_index],\n",
    "                                      x_coords_rotated[left_index], y_coords_rotated[left_index]) <= MAX_EUCLIDEAN_DISTANCE_GAP:\n",
    "                    bump_indices.append(left_index)\n",
    "                    left_collected += 1\n",
    "                else:\n",
    "                    left_collected = 5  # Stop collecting points on this side if a gap is detected\n",
    "            if right_collected < 5:\n",
    "                right_index = (lowest_angle_index + i) % len(angles_degrees)\n",
    "                if euclidean_distance(x_coords_rotated[lowest_angle_index], y_coords_rotated[lowest_angle_index],\n",
    "                                      x_coords_rotated[right_index], y_coords_rotated[right_index]) <= MAX_EUCLIDEAN_DISTANCE_GAP:\n",
    "                    bump_indices.append(right_index)\n",
    "                    right_collected += 1\n",
    "                else:\n",
    "                    right_collected = 5  # Stop collecting points on this side if a gap is detected\n",
    "            i += 1\n",
    "            if i > len(angles_degrees):  # Safety check to prevent infinite loop in case of too many missing points\n",
    "                break\n",
    "\n",
    "        bump_points = [(x_coords_rotated[i], y_coords_rotated[i], depths_rotated[i], new_depths[i], angles_degrees[i]) for i in bump_indices]\n",
    "\n",
    "        # Fit a circle to these points\n",
    "        x_bump, y_bump = zip(*[(bp[0], bp[1]) for bp in bump_points])\n",
    "        xc, yc, R, Ri = fit_circle(np.array(x_bump), np.array(y_bump))\n",
    "\n",
    "        # Calculate the residuals\n",
    "        residuals = Ri - R\n",
    "\n",
    "        # Calculate fit quality metrics\n",
    "        max_residual = np.max(np.abs(residuals))\n",
    "        mean_residual = np.mean(np.abs(residuals))\n",
    "\n",
    "        # Print fit quality metrics for debugging\n",
    "        print(f\"Max Residual: {max_residual}\")\n",
    "        print(f\"Mean Residual: {mean_residual}\")\n",
    "\n",
    "        # Check fit quality and radius\n",
    "        is_good_fit = max_residual < 0.1 * R and mean_residual < 0.05 * R and R <= radius_limit  # Updated radius limit\n",
    "\n",
    "        if is_good_fit:\n",
    "            print(\"The points form a good part of a circle within the specified radius limit.\")\n",
    "        else:\n",
    "            print(\"The points do not form a good part of a circle within the specified radius limit.\")\n",
    "    else:\n",
    "        new_depths = []\n",
    "        is_good_fit = False\n",
    "        print(\"No valid point found for the bump top.\")\n",
    "else:\n",
    "    filtered_points = []\n",
    "    new_depths = []\n",
    "    is_good_fit = False\n",
    "    print(\"No points above the threshold value.\")\n",
    "\n",
    "# Calculate the new final depth value\n",
    "if lowest_point is not None:\n",
    "    new_final_depth = final_depth - (y_surface_level_rotated - lowest_point[1])\n",
    "else:\n",
    "    new_final_depth = final_depth\n",
    "\n",
    "# Print the new final depth value\n",
    "print(f\"New Final Depth: {new_final_depth:.2f} mm\")\n",
    "\n",
    "# Generate and save the plot\n",
    "fig = go.Figure()\n",
    "\n",
    "# Add LiDAR position as a dot\n",
    "fig.add_trace(go.Scatter(\n",
    "    x=[0],  # X-coordinate for LiDAR position\n",
    "    y=[0],  # Y-coordinate for LiDAR position\n",
    "    mode='markers',\n",
    "    marker=dict(size=10, color='red', symbol='circle'),\n",
    "    name='LiDAR Position'\n",
    "))\n",
    "\n",
    "# Filter points within the specified angle ranges for plotting\n",
    "filtered_x_coords_for_plot = []\n",
    "filtered_y_coords_for_plot = []\n",
    "filtered_depths_for_plot = []\n",
    "filtered_new_depths_for_plot = []\n",
    "filtered_angles_for_plot = []\n",
    "\n",
    "for angle, x, y, depth, new_depth in zip(angles_degrees, x_coords_rotated, y_coords_rotated, depths_rotated, new_depths):\n",
    "    if (startAngleRange1 <= angle <= endAngleRange1) or \\\n",
    "       (startAngleRange1 > endAngleRange1 and (angle >= startAngleRange1 or angle <= endAngleRange1)) or \\\n",
    "       (startAngleRange2 <= angle <= endAngleRange2) or \\\n",
    "       (startAngleRange2 > endAngleRange2 and (angle >= startAngleRange2 or angle <= endAngleRange2)):\n",
    "        filtered_x_coords_for_plot.append(x)\n",
    "        filtered_y_coords_for_plot.append(y)\n",
    "        filtered_depths_for_plot.append(depth)\n",
    "        filtered_new_depths_for_plot.append(new_depth)\n",
    "        filtered_angles_for_plot.append(angle)\n",
    "\n",
    "# Updated hover text to include angles, x, y, depths, and new depths\n",
    "hover_texts = [f'Angle: {angle}°<br>X: {x:.2f}mm<br>Y: {y:.2f}mm<br>Initial Depth: {depth:.2f}mm<br>New Depth: {new_depth:.2f}mm' \n",
    "               for angle, x, y, depth, new_depth in zip(filtered_angles_for_plot, filtered_x_coords_for_plot, filtered_y_coords_for_plot, filtered_depths_for_plot, filtered_new_depths_for_plot)]\n",
    "\n",
    "# Plot all LIDAR points within the angle range\n",
    "fig.add_trace(go.Scatter(x=filtered_x_coords_for_plot, y=filtered_y_coords_for_plot, mode='markers',\n",
    "                         marker=dict(size=5, color=filtered_new_depths_for_plot, colorscale='Viridis', colorbar=dict(title='Depth (mm)')),\n",
    "                         text=hover_texts, hoverinfo='text', name='LIDAR Points'))\n",
    "\n",
    "# Highlight the flat surface region on Side 1 if detected\n",
    "if widest_flat_region_side1 is not None:\n",
    "    flat_x_coords_side1 = filtered_x_coords_side1[widest_flat_region_side1[0]:widest_flat_region_side1[1] + 1]\n",
    "    flat_y_coords_side1 = filtered_y_coords_side1[widest_flat_region_side1[0]:widest_flat_region_side1[1] + 1]\n",
    "    flat_hover_texts_side1 = [f'Side 1 Flat Surface<br>Angle: {angle:.2f}°<br>X: {x:.2f}mm<br>Y: {y:.2f}mm' \n",
    "                              for angle, x, y in zip(filtered_angles_side1[widest_flat_region_side1[0]:widest_flat_region_side1[1] + 1], flat_x_coords_side1, flat_y_coords_side1)]\n",
    "    \n",
    "    fig.add_trace(go.Scatter(x=flat_x_coords_side1, y=flat_y_coords_side1, mode='markers',\n",
    "                             marker=dict(size=7, color='blue'), text=flat_hover_texts_side1, hoverinfo='text', name='Flat Surface (Side 1)'))\n",
    "\n",
    "# Highlight the flat surface region on Side 2 if detected\n",
    "if widest_flat_region_side2 is not None:\n",
    "    flat_x_coords_side2 = filtered_x_coords_side2[widest_flat_region_side2[0]:widest_flat_region_side2[1] + 1]\n",
    "    flat_y_coords_side2 = filtered_y_coords_side2[widest_flat_region_side2[0]:widest_flat_region_side2[1] + 1]\n",
    "    flat_hover_texts_side2 = [f'Side 2 Flat Surface<br>Angle: {angle:.2f}°<br>X: {x:.2f}mm<br>Y: {y:.2f}mm' \n",
    "                              for angle, x, y in zip(filtered_angles_side2[widest_flat_region_side2[0]:widest_flat_region_side2[1] + 1], flat_x_coords_side2, flat_y_coords_side2)]\n",
    "    \n",
    "    fig.add_trace(go.Scatter(x=flat_x_coords_side2, y=flat_y_coords_side2, mode='markers',\n",
    "                             marker=dict(size=7, color='orange'), text=flat_hover_texts_side2, hoverinfo='text', name='Flat Surface (Side 2)'))\n",
    "\n",
    "# Plot the bump points with updated hover text to include angle, depth, and new depth\n",
    "if lowest_point is not None:\n",
    "    bump_hover_texts = [f'Angle: {bp[4]}°<br>X: {bp[0]:.2f}mm<br>Y: {bp[1]:.2f}mm<br>Depth: {bp[2]:.2f}mm<br>New Depth: {bp[3]:.2f}mm' \n",
    "                        for bp in bump_points]\n",
    "    bump_points_np = np.array([(bp[0], bp[1]) for bp in bump_points])\n",
    "    fig.add_trace(go.Scatter(x=bump_points_np[:, 0], y=bump_points_np[:, 1], mode='markers',\n",
    "                             marker=dict(size=5, color='red'), text=bump_hover_texts, hoverinfo='text', name='Bump Points'))\n",
    "\n",
    "# Plot the fitted circle if it's a good fit\n",
    "if lowest_point is not None and is_good_fit:\n",
    "    theta = np.linspace(0, 2 * np.pi, 100)\n",
    "    x_circle = xc + R * np.cos(theta)\n",
    "    y_circle = yc - R * np.sin(theta)  # Ensure the circle is oriented correctly (downward)\n",
    "    fig.add_trace(go.Scatter(x=x_circle, y=y_circle, mode='lines', line=dict(color='red'), name='Fitted Circle'))\n",
    "\n",
    "# Draw the horizontal line from the lowest point\n",
    "if lowest_point is not None:\n",
    "    fig.add_shape(type='line',\n",
    "                  x0=min(filtered_x_coords_for_plot), y0=lowest_point[1],\n",
    "                  x1=max(filtered_x_coords_for_plot), y1=lowest_point[1],\n",
    "                  line=dict(color='blue', width=2, dash='dash'),\n",
    "                  name='Lowest Point Level')\n",
    "\n",
    "    # Add annotation for the lowest point line\n",
    "    fig.add_annotation(\n",
    "        x=min(filtered_x_coords_for_plot), y=lowest_point[1],\n",
    "        text=\"New - Trench-Bottom\",\n",
    "        showarrow=False,\n",
    "        yshift=10,\n",
    "        font=dict(size=12, color=\"blue\")\n",
    "    )\n",
    "\n",
    "# Draw the horizontal line from the final depth value\n",
    "fig.add_shape(type='line',\n",
    "              x0=min(filtered_x_coords_for_plot), y0=y_surface_level_rotated - final_depth,\n",
    "              x1=max(filtered_x_coords_for_plot), y1=y_surface_level_rotated - final_depth,\n",
    "              line=dict(color='green', width=2, dash='dash'),\n",
    "              name='Final Depth Level')\n",
    "\n",
    "# Add annotation for the final depth line\n",
    "fig.add_annotation(\n",
    "    x=min(filtered_x_coords_for_plot), y=y_surface_level_rotated - final_depth,\n",
    "    text=\"Earth Surface\",\n",
    "    showarrow=False,\n",
    "    yshift=10,\n",
    "    font=dict(size=12, color=\"green\")\n",
    ")\n",
    "\n",
    "# Draw the horizontal line from the highest y-coordinate value used to calculate the initial depths\n",
    "fig.add_shape(type='line',\n",
    "              x0=min(filtered_x_coords_for_plot), y0=y_surface_level_rotated,\n",
    "              x1=max(filtered_x_coords_for_plot), y1=y_surface_level_rotated,\n",
    "              line=dict(color='purple', width=2, dash='dash'),\n",
    "              name='Initial Highest Point Level')\n",
    "\n",
    "# Add annotation for the highest y-coordinate line\n",
    "fig.add_annotation(\n",
    "    x=min(filtered_x_coords_for_plot), y=y_surface_level_rotated,\n",
    "    text=\"Initial - Trench-Bottom\",\n",
    "    showarrow=False,\n",
    "    yshift=10,\n",
    "    font=dict(size=12, color=\"purple\")\n",
    ")\n",
    "\n",
    "# Determine detection status based on residual values\n",
    "detection_status = \"Pipe Detected\" if lowest_point is not None and is_good_fit else \"No Pipe Detected\"\n",
    "\n",
    "# Add detection status annotation to the plot\n",
    "fig.add_annotation(\n",
    "    xref=\"paper\", yref=\"paper\",\n",
    "    x=0.5, y=1.0,\n",
    "    showarrow=False,\n",
    "    text=detection_status,\n",
    "    font=dict(size=14, color=\"red\" if not is_good_fit else \"green\")\n",
    ")\n",
    "\n",
    "# Adjust the color bar position and the legend position\n",
    "fig.update_layout(\n",
    "    title=f'LiDAR Data Visualization with Circle Fitting | Final Depth: {final_depth:.2f} mm | New Final Depth: {new_final_depth:.2f} mm | Tilt: {tilt}°',\n",
    "    xaxis_title='X Coordinate (mm)',\n",
    "    yaxis_title='Y Coordinate (mm)',\n",
    "    legend=dict(\n",
    "        x=1.1,  # Position the legend more to the right\n",
    "        y=0.5,  # Position the legend slightly lower\n",
    "        orientation='v',\n",
    "    ),\n",
    "    yaxis=dict(autorange='reversed'),\n",
    "    xaxis=dict(scaleanchor='y', scaleratio=1),  # Maintain aspect ratio to ensure the circle is not distorted\n",
    "    coloraxis_colorbar=dict(\n",
    "        x=1.2,  # Move the color bar slightly to the right\n",
    "        y=0.5,   # Center the color bar vertically\n",
    "        len=0.7, # Adjust the length of the color bar\n",
    "    )\n",
    ")\n",
    "\n",
    "fig.show()\n",
    "\n",
    "# Save plot as an interactive HTML file\n",
    "fig.write_html(\"PRFILE_AKSELI.html\")\n"
   ]
  },
  {
   "cell_type": "code",
   "execution_count": null,
   "id": "b8b8050f-9c90-436b-afed-500b8acf986f",
   "metadata": {},
   "outputs": [],
   "source": []
  }
 ],
 "metadata": {
  "kernelspec": {
   "display_name": "Python 3 (ipykernel)",
   "language": "python",
   "name": "python3"
  },
  "language_info": {
   "codemirror_mode": {
    "name": "ipython",
    "version": 3
   },
   "file_extension": ".py",
   "mimetype": "text/x-python",
   "name": "python",
   "nbconvert_exporter": "python",
   "pygments_lexer": "ipython3",
   "version": "3.12.1"
  }
 },
 "nbformat": 4,
 "nbformat_minor": 5
}
